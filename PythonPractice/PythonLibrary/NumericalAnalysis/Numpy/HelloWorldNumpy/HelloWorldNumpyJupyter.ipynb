{
 "cells": [
  {
   "cell_type": "code",
   "execution_count": null,
   "id": "initial_id",
   "metadata": {
    "collapsed": true
   },
   "outputs": [],
   "source": "# Example using numpy"
  },
  {
   "metadata": {
    "ExecuteTime": {
     "end_time": "2025-04-08T19:50:33.351065Z",
     "start_time": "2025-04-08T19:50:33.270667Z"
    }
   },
   "cell_type": "code",
   "source": [
    "# import numpy library\n",
    "import numpy as np"
   ],
   "id": "fc587192ded1fd21",
   "outputs": [],
   "execution_count": 2
  },
  {
   "metadata": {
    "ExecuteTime": {
     "end_time": "2025-04-08T19:50:34.514901Z",
     "start_time": "2025-04-08T19:50:34.511831Z"
    }
   },
   "cell_type": "code",
   "source": "print(\"Numpy version:\", np.__version__) #as of now, I have: Numpy version: 2.2.4",
   "id": "c09b51073916cb50",
   "outputs": [
    {
     "name": "stdout",
     "output_type": "stream",
     "text": [
      "Numpy version: 2.2.4\n"
     ]
    }
   ],
   "execution_count": 3
  },
  {
   "metadata": {
    "ExecuteTime": {
     "end_time": "2025-04-08T19:50:53.924709Z",
     "start_time": "2025-04-08T19:50:53.920787Z"
    }
   },
   "cell_type": "code",
   "source": [
    "# Create a 1D array\n",
    "arr = np.array([1, 2, 3, 4, 5])\n",
    "print(\"Array:\", arr)"
   ],
   "id": "e036fab6f92a72af",
   "outputs": [
    {
     "name": "stdout",
     "output_type": "stream",
     "text": [
      "Array: [1 2 3 4 5]\n"
     ]
    }
   ],
   "execution_count": 4
  },
  {
   "metadata": {
    "ExecuteTime": {
     "end_time": "2025-04-08T19:51:03.054010Z",
     "start_time": "2025-04-08T19:51:03.050011Z"
    }
   },
   "cell_type": "code",
   "source": [
    "# Perform basic operations\n",
    "print(\"Mean:\", np.mean(arr))\n",
    "print(\"Sum:\", np.sum(arr))\n",
    "print(\"Square root:\", np.sqrt(arr))"
   ],
   "id": "98421191b202b92c",
   "outputs": [
    {
     "name": "stdout",
     "output_type": "stream",
     "text": [
      "Mean: 3.0\n",
      "Sum: 15\n",
      "Square root: [1.         1.41421356 1.73205081 2.         2.23606798]\n"
     ]
    }
   ],
   "execution_count": 5
  },
  {
   "metadata": {
    "ExecuteTime": {
     "end_time": "2025-04-08T19:51:10.035826Z",
     "start_time": "2025-04-08T19:51:10.032378Z"
    }
   },
   "cell_type": "code",
   "source": [
    "# Create a 2D array\n",
    "matrix = np.array([[1, 2], [3, 4]])\n",
    "print(\"Matrix:\\n\", matrix)"
   ],
   "id": "d86823afcb0c48df",
   "outputs": [
    {
     "name": "stdout",
     "output_type": "stream",
     "text": [
      "Matrix:\n",
      " [[1 2]\n",
      " [3 4]]\n"
     ]
    }
   ],
   "execution_count": 6
  },
  {
   "metadata": {
    "ExecuteTime": {
     "end_time": "2025-04-08T19:51:16.829274Z",
     "start_time": "2025-04-08T19:51:16.826238Z"
    }
   },
   "cell_type": "code",
   "source": [
    "# Matrix transpose\n",
    "print(\"Transpose:\\n\", matrix.T)"
   ],
   "id": "600217efcb98e946",
   "outputs": [
    {
     "name": "stdout",
     "output_type": "stream",
     "text": [
      "Transpose:\n",
      " [[1 3]\n",
      " [2 4]]\n"
     ]
    }
   ],
   "execution_count": 7
  },
  {
   "metadata": {
    "ExecuteTime": {
     "end_time": "2025-04-08T19:51:23.462705Z",
     "start_time": "2025-04-08T19:51:23.459372Z"
    }
   },
   "cell_type": "code",
   "source": [
    "# Element-wise multiplication\n",
    "print(\"Element-wise multiplication:\\n\", matrix * matrix)"
   ],
   "id": "6f85d09d774b616a",
   "outputs": [
    {
     "name": "stdout",
     "output_type": "stream",
     "text": [
      "Element-wise multiplication:\n",
      " [[ 1  4]\n",
      " [ 9 16]]\n"
     ]
    }
   ],
   "execution_count": 8
  },
  {
   "metadata": {
    "ExecuteTime": {
     "end_time": "2025-04-08T19:51:27.440300Z",
     "start_time": "2025-04-08T19:51:27.436925Z"
    }
   },
   "cell_type": "code",
   "source": [
    "# Dot product\n",
    "print(\"Dot product:\\n\", np.dot(matrix, matrix))"
   ],
   "id": "be169406c8daa087",
   "outputs": [
    {
     "name": "stdout",
     "output_type": "stream",
     "text": [
      "Dot product:\n",
      " [[ 7 10]\n",
      " [15 22]]\n"
     ]
    }
   ],
   "execution_count": 9
  }
 ],
 "metadata": {
  "kernelspec": {
   "display_name": "Python 3",
   "language": "python",
   "name": "python3"
  },
  "language_info": {
   "codemirror_mode": {
    "name": "ipython",
    "version": 2
   },
   "file_extension": ".py",
   "mimetype": "text/x-python",
   "name": "python",
   "nbconvert_exporter": "python",
   "pygments_lexer": "ipython2",
   "version": "2.7.6"
  }
 },
 "nbformat": 4,
 "nbformat_minor": 5
}
