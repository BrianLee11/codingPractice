{
 "cells": [
  {
   "cell_type": "code",
   "execution_count": null,
   "id": "e74c4523-67b6-498f-acd0-58a6ef72af82",
   "metadata": {},
   "outputs": [],
   "source": [
    "\"\"\"\n",
    "# Part 11: class in Python (part 1/4)\n",
    "# source: 'https://wikidocs.net/7035'\n",
    "\"\"\""
   ]
  },
  {
   "cell_type": "code",
   "execution_count": null,
   "id": "03ce5631-6bf3-4ea3-86c7-cb05222044a5",
   "metadata": {},
   "outputs": [],
   "source": [
    "\"\"\"\n",
    "251 Class, Object, Instance  \n",
    "Let’s explain what a class and an object are.\n",
    "\n",
    "A class is like a blueprint — a way to define a type.  \n",
    "It allows you to group together related data and functions.  \n",
    "An object is the result of creating something based on a clas\n",
    "\"\"\""
   ]
  },
  {
   "cell_type": "code",
   "execution_count": null,
   "id": "40463dd0-4c8d-4375-802e-7b0ba4605ee4",
   "metadata": {},
   "outputs": [],
   "source": []
  },
  {
   "cell_type": "code",
   "execution_count": null,
   "id": "9cbf519d-d560-4dea-bae3-0e7d59b58849",
   "metadata": {},
   "outputs": [],
   "source": []
  },
  {
   "cell_type": "code",
   "execution_count": null,
   "id": "461bc5b4-0560-434d-800c-58383c886561",
   "metadata": {},
   "outputs": [],
   "source": []
  },
  {
   "cell_type": "code",
   "execution_count": null,
   "id": "c030eb85-a4de-46fb-9c17-e0a2a40e6ba5",
   "metadata": {},
   "outputs": [],
   "source": []
  },
  {
   "cell_type": "code",
   "execution_count": null,
   "id": "bd5c7c7b-6d21-4f58-a954-99240a046e9d",
   "metadata": {},
   "outputs": [],
   "source": [
    "\"\"\"\n",
    "# Part 11: class in Python (part 2/4)\n",
    "# source: 'https://wikidocs.net/'\n",
    "\"\"\""
   ]
  },
  {
   "cell_type": "code",
   "execution_count": null,
   "id": "a4212d9d-993f-4fb1-8028-02b5c78ea1b0",
   "metadata": {},
   "outputs": [],
   "source": [
    "\"\"\"\n",
    "# Part 11: class in Python (part 3/4)\n",
    "# source: 'https://wikidocs.net/'\n",
    "\"\"\""
   ]
  },
  {
   "cell_type": "code",
   "execution_count": null,
   "id": "3e96d9b4-d200-49d8-948b-bb23d03257ad",
   "metadata": {},
   "outputs": [],
   "source": [
    "\"\"\"\n",
    "# Part 11: class in Python (part 4/4)\n",
    "# source: 'https://wikidocs.net/'\n",
    "\"\"\""
   ]
  },
  {
   "cell_type": "code",
   "execution_count": null,
   "id": "d3eb6210-45ec-447b-a825-f54c61fb2faf",
   "metadata": {},
   "outputs": [],
   "source": []
  }
 ],
 "metadata": {
  "kernelspec": {
   "display_name": "",
   "name": ""
  },
  "language_info": {
   "name": ""
  }
 },
 "nbformat": 4,
 "nbformat_minor": 5
}
