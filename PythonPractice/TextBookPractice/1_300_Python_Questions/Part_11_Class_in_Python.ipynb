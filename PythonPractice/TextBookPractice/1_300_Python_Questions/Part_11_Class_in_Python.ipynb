{
 "cells": [
  {
   "cell_type": "code",
   "execution_count": null,
   "id": "e74c4523-67b6-498f-acd0-58a6ef72af82",
   "metadata": {},
   "outputs": [],
   "source": [
    "\"\"\"\n",
    "# Part 11: class in Python (part 1/4)\n",
    "# source: 'https://wikidocs.net/7035'\n",
    "\"\"\""
   ]
  },
  {
   "cell_type": "code",
   "execution_count": null,
   "id": "03ce5631-6bf3-4ea3-86c7-cb05222044a5",
   "metadata": {},
   "outputs": [],
   "source": [
    "\"\"\"\n",
    "251 Class, Object, Instance  \n",
    "Let’s explain what a class and an object are.\n",
    "\n",
    "A class is like a blueprint — a way to define a type.  \n",
    "It allows you to group together related data and functions.  \n",
    "An object is the result of creating something based on a clas\n",
    "\"\"\""
   ]
  },
  {
   "cell_type": "code",
   "execution_count": null,
   "id": "40463dd0-4c8d-4375-802e-7b0ba4605ee4",
   "metadata": {},
   "outputs": [],
   "source": [
    "\"\"\"\n",
    "252 Class Definition  \n",
    "Define an empty `Human` class.\n",
    "\"\"\""
   ]
  },
  {
   "cell_type": "code",
   "execution_count": 1,
   "id": "9cbf519d-d560-4dea-bae3-0e7d59b58849",
   "metadata": {},
   "outputs": [],
   "source": [
    "class Human:\n",
    "    pass"
   ]
  },
  {
   "cell_type": "code",
   "execution_count": null,
   "id": "461bc5b4-0560-434d-800c-58383c886561",
   "metadata": {},
   "outputs": [],
   "source": [
    "\"\"\"\n",
    "253 Creating an Instance  \n",
    "Create an instance of the `Human` class and bind it to a variable named `areum`.\n",
    "\"\"\""
   ]
  },
  {
   "cell_type": "code",
   "execution_count": 4,
   "id": "c030eb85-a4de-46fb-9c17-e0a2a40e6ba5",
   "metadata": {},
   "outputs": [],
   "source": [
    "class Human:\n",
    "    pass\n",
    "\n",
    "areum = Human()"
   ]
  },
  {
   "cell_type": "code",
   "execution_count": null,
   "id": "1bb74240-2f0f-4c3a-b14a-3f40de4b3787",
   "metadata": {},
   "outputs": [],
   "source": [
    "\"\"\"\n",
    "254 Class Constructor - 1  \n",
    "Add a constructor to the `Human` class that prints \"Waa waa\" when an instance is created.\n",
    "\n",
    ">>> areum = Human()  \n",
    "Waa waa\n",
    "\"\"\""
   ]
  },
  {
   "cell_type": "code",
   "execution_count": 5,
   "id": "3724878f-fe07-4dda-bc52-3e26ca4e4808",
   "metadata": {},
   "outputs": [
    {
     "name": "stdout",
     "output_type": "stream",
     "text": [
      "Waa waa\n"
     ]
    }
   ],
   "source": [
    "class Human:\n",
    "    def __init__(self):\n",
    "        print(\"Waa waa\")\n",
    "\n",
    "areum = Human()"
   ]
  },
  {
   "cell_type": "code",
   "execution_count": null,
   "id": "a3215201-c931-486a-8a49-5c67c3373e14",
   "metadata": {},
   "outputs": [],
   "source": [
    "\"\"\"\n",
    "255 Class Constructor - 2  \n",
    "Add a constructor to the `Human` class that receives (name, age, gender) as parameters.\n",
    "\n",
    ">>> areum = Human(\"Areum\", 25, \"Female\")\n",
    "\"\"\""
   ]
  },
  {
   "cell_type": "code",
   "execution_count": 7,
   "id": "8ced1644-d549-465c-9b43-84eaecfdab6d",
   "metadata": {},
   "outputs": [
    {
     "name": "stdout",
     "output_type": "stream",
     "text": [
      "Areum, 25, Female\n"
     ]
    }
   ],
   "source": [
    "class Human:\n",
    "    def __init__(self, name, age, gender):\n",
    "        self.name = name\n",
    "        self.age = age\n",
    "        self.gender = gender\n",
    "\n",
    "        print(f\"{self.name}, {self.age}, {self.gender}\")\n",
    "        \n",
    "areum = Human(\"Areum\", 25, \"Female\")        "
   ]
  },
  {
   "cell_type": "code",
   "execution_count": null,
   "id": "ce8996a2-701b-475e-80f9-e990bafd81e2",
   "metadata": {},
   "outputs": [],
   "source": [
    "\"\"\"\n",
    "256 Accessing Instance Attributes  \n",
    "Print the name, age, and gender of the instance created in question 255.  \n",
    "Access the instance variables directly to retrieve their values.\n",
    "\n",
    "Name: Jo Areum, Age: 25, Gender: Female  \n",
    "\n",
    "Example of accessing instance variables:\n",
    ">>> areum.age  \n",
    "25\n",
    "\"\"\""
   ]
  },
  {
   "cell_type": "code",
   "execution_count": 8,
   "id": "a0c1ff7b-52a8-43bf-80f1-0fbba7fdc0e2",
   "metadata": {},
   "outputs": [
    {
     "name": "stdout",
     "output_type": "stream",
     "text": [
      "25\n"
     ]
    }
   ],
   "source": [
    "class Human:\n",
    "    def __init__(self, name, age, gender):\n",
    "        self.name = name\n",
    "        self.age = age\n",
    "        self.gender = gender\n",
    "\n",
    "areum = Human(\"Areum\", 25, \"Female\")\n",
    "print(areum.age)"
   ]
  },
  {
   "cell_type": "code",
   "execution_count": null,
   "id": "04b289d2-d63f-4062-855c-ec9ac5487cea",
   "metadata": {},
   "outputs": [],
   "source": [
    "\"\"\"\n",
    "257 Class Method - 1  \n",
    "Add a `who()` method to the `Human` class that prints name, age, and gender.\n",
    "\n",
    ">>> areum.who()  \n",
    "Name: Jo Areum, Age: 25, Gender: Female\n",
    "\"\"\""
   ]
  },
  {
   "cell_type": "code",
   "execution_count": 10,
   "id": "2ee35e1e-ad53-49f2-b317-a00ff1c687a4",
   "metadata": {},
   "outputs": [
    {
     "name": "stdout",
     "output_type": "stream",
     "text": [
      "Jo Areum\n"
     ]
    }
   ],
   "source": [
    "class Human:\n",
    "    def __init__(self, name, age, gender):\n",
    "        self.name = name\n",
    "        self.age = age\n",
    "        self.gender = gender\n",
    "\n",
    "    def who(self):\n",
    "        print(self.name)\n",
    "\n",
    "\n",
    "areum = Human(\"Jo Areum\", 25, \"Female\")\n",
    "areum.who()"
   ]
  },
  {
   "cell_type": "code",
   "execution_count": null,
   "id": "2aa5bebe-98e0-462b-b488-edd00a010aa0",
   "metadata": {},
   "outputs": [],
   "source": [
    "\"\"\"\n",
    "258 Class Method - 2  \n",
    "Add a `setInfo()` method to the `Human` class that receives (name, age, gender) and updates the instance.\n",
    "\n",
    ">>> areum = Human(\"Unknown\", 0, \"Unknown\")  \n",
    ">>> areum.setInfo(\"Areum\", 25, \"Female\")\n",
    "\"\"\""
   ]
  },
  {
   "cell_type": "code",
   "execution_count": 11,
   "id": "2a2d57f7-d434-46f2-b9dd-e6df537c45f4",
   "metadata": {},
   "outputs": [
    {
     "name": "stdout",
     "output_type": "stream",
     "text": [
      "Areum\n"
     ]
    }
   ],
   "source": [
    "class Human:\n",
    "    def __init__(self, name, age, gender):\n",
    "        self.name = name\n",
    "        self.age = age\n",
    "        self.gender = gender\n",
    "\n",
    "    def who(self):\n",
    "        print(self.name)\n",
    "\n",
    "    def setInfo(self, name, age, gender):\n",
    "        self.name = name\n",
    "        self.age = age\n",
    "        self.gender = gender\n",
    "\n",
    "areum = Human(\"Unknown\", 0, \"Unknown\")\n",
    "areum.setInfo(\"Areum\", 25, \"Female\")\n",
    "\n",
    "areum.who()"
   ]
  },
  {
   "cell_type": "code",
   "execution_count": null,
   "id": "e73f0d87-876f-4f3e-8ae7-77ffad4e76ae",
   "metadata": {},
   "outputs": [],
   "source": [
    "\"\"\"\n",
    "259 Class Destructor  \n",
    "Add a destructor to the `Human` class that prints \"Do not announce my death.\"\n",
    "\n",
    ">>> areum = Human(\"Areum\", 25, \"Female\")  \n",
    ">>> del areum  \n",
    "Do not announce my death.\n",
    "\"\"\""
   ]
  },
  {
   "cell_type": "code",
   "execution_count": 14,
   "id": "187d3c0d-c391-4866-9a0c-fb556bc429af",
   "metadata": {},
   "outputs": [
    {
     "name": "stdout",
     "output_type": "stream",
     "text": [
      "Do not announce my death\n"
     ]
    }
   ],
   "source": [
    "class Human:\n",
    "    def __init__(self, name, age, gender):\n",
    "        self.name = name\n",
    "        self.age = age\n",
    "        self.gender = gender\n",
    "\n",
    "    def __del__(self):\n",
    "        print(\"Do not announce my death\")\n",
    "\n",
    "areum = Human(\"Jo\", 25, \"Female\")\n",
    "del(areum)"
   ]
  },
  {
   "cell_type": "code",
   "execution_count": null,
   "id": "69e91995-6bd6-4803-8f5d-43e513b9dd6c",
   "metadata": {},
   "outputs": [],
   "source": [
    "\"\"\"\n",
    "260 Cause of the Error  \n",
    "Explain the cause of the following error:\n",
    "\n",
    "class OMG:  \n",
    "    def print():  \n",
    "        print(\"Oh my god\")\n",
    "\n",
    ">>> myStock = OMG()  \n",
    ">>> myStock.print()\n",
    "\n",
    "TypeError: print() takes 0 positional arguments but 1 was given\n",
    "\n",
    "Explanation:  \n",
    "When calling `myStock.print()`, Python implicitly passes the instance (`self`) as the first argument.  \n",
    "However, the method `print()` was defined without a `self` parameter, so Python raises an error due to the unexpected argument.\n",
    "\"\"\""
   ]
  },
  {
   "cell_type": "code",
   "execution_count": null,
   "id": "d802eaed-94d7-494e-a1f8-64edb80caca0",
   "metadata": {},
   "outputs": [],
   "source": [
    "\"\"\"\n",
    "# Part 11: class in Python (part 2/4)\n",
    "# source: 'https://wikidocs.net/7036'\n",
    "\"\"\""
   ]
  },
  {
   "cell_type": "code",
   "execution_count": null,
   "id": "8b644ad0-471a-4a82-987b-3db546079a00",
   "metadata": {},
   "outputs": [],
   "source": [
    "\"\"\"\n",
    "261 Create Stock Class  \n",
    "Define a `Stock` class that stores information about stock items.  \n",
    "The class does not contain any attributes or methods yet.\n",
    "\"\"\""
   ]
  },
  {
   "cell_type": "code",
   "execution_count": null,
   "id": "5565f927-a356-4821-bd46-6432fb97827a",
   "metadata": {},
   "outputs": [],
   "source": [
    "class Stock:\n",
    "    pass"
   ]
  },
  {
   "cell_type": "code",
   "execution_count": null,
   "id": "d61c129e-a6ac-45ec-863e-0a3c46f512bb",
   "metadata": {},
   "outputs": [],
   "source": [
    "\"\"\"\n",
    "262 Constructor  \n",
    "Define a constructor in the `Stock` class that takes the stock name and stock code as input when an object is created.\n",
    "\n",
    "samsung = Stock(\"Samsung Electronics\", \"005930\")\n",
    "\"\"\""
   ]
  },
  {
   "cell_type": "code",
   "execution_count": 16,
   "id": "ea739eee-dbc4-477a-b89a-3256ef8b4d22",
   "metadata": {},
   "outputs": [],
   "source": [
    "class Stock:\n",
    "    def __init__(self, stock_name, stock_code):\n",
    "        self.stock_name = stock_name\n",
    "        self.stock_code = stock_code\n",
    "\n",
    "samsung = Stock(\"Samsung Electronics\", \"005930\")"
   ]
  },
  {
   "cell_type": "code",
   "execution_count": null,
   "id": "10c778f0-a73f-44c2-9bac-097e1ad5bb08",
   "metadata": {},
   "outputs": [],
   "source": [
    "\"\"\"\n",
    "263 Method  \n",
    "Add a `set_name` method that allows setting the stock name for an object.\n",
    "\"\"\""
   ]
  },
  {
   "cell_type": "code",
   "execution_count": 18,
   "id": "ed54de79-920d-4d8b-b0bf-5af486840969",
   "metadata": {},
   "outputs": [
    {
     "name": "stdout",
     "output_type": "stream",
     "text": [
      "Samsung\n"
     ]
    }
   ],
   "source": [
    "class Stock:\n",
    "    def __init__(self, name, code):\n",
    "        self.name = name\n",
    "        self.code = code\n",
    "\n",
    "    def set_name(self, name):\n",
    "        self.name = name\n",
    "        \n",
    "a = Stock(None, None)\n",
    "a.set_name(\"Samsung\")  \n",
    "print(a.name)"
   ]
  },
  {
   "cell_type": "code",
   "execution_count": null,
   "id": "180594de-bdd2-4e10-8655-946fc30a7291",
   "metadata": {},
   "outputs": [],
   "source": [
    "\"\"\"\n",
    "264 Method  \n",
    "Add a `set_code` method that allows setting the stock code for an object.\n",
    "\n",
    "a = Stock(None, None)  \n",
    "a.set_code(\"005930\")\n",
    "\"\"\""
   ]
  },
  {
   "cell_type": "code",
   "execution_count": 20,
   "id": "88d23306-4f7d-4c59-b401-e9b52a009df8",
   "metadata": {},
   "outputs": [
    {
     "name": "stdout",
     "output_type": "stream",
     "text": [
      "005930\n"
     ]
    }
   ],
   "source": [
    "class Stock:\n",
    "    def __init__(self, name, stock):\n",
    "        self.name = name\n",
    "        self.stock = stock\n",
    "\n",
    "    def set_code(self, code):\n",
    "        self.code = code\n",
    "\n",
    "a = Stock(None, None)  \n",
    "a.set_code(\"005930\")\n",
    "print(a.code)"
   ]
  },
  {
   "cell_type": "code",
   "execution_count": null,
   "id": "b37412ea-2e0b-42ce-9950-a83b08e57efc",
   "metadata": {},
   "outputs": [],
   "source": [
    "\"\"\"\n",
    "265 Method  \n",
    "Add `get_name` and `get_code` methods that return the stock name and stock code, respectively.  \n",
    "Use these methods to retrieve and print the stock name and code.\n",
    "\n",
    "samsung = Stock(\"Samsung Electronics\", \"005930\")\n",
    "\"\"\""
   ]
  },
  {
   "cell_type": "code",
   "execution_count": null,
   "id": "1da87ae3-329f-488c-a643-d5abed2678c8",
   "metadata": {},
   "outputs": [],
   "source": [
    "class Human:\n",
    "    def __init__(self, name, code):\n",
    "        self.name = name\n",
    "        self.code = code\n",
    "\n",
    "    def get_name(self):\n",
    "        return self.name\n",
    "        "
   ]
  },
  {
   "cell_type": "code",
   "execution_count": null,
   "id": "02862a02-ebe2-4923-b99d-08d2e46a65db",
   "metadata": {},
   "outputs": [],
   "source": [
    "\"\"\"\n",
    "266 Update Object Attributes  \n",
    "Modify the constructor to receive stock name, stock code, PER, PBR, and dividend yield.  \n",
    "PER, PBR, and dividend yield should be of type `float`.\n",
    "\"\"\""
   ]
  },
  {
   "cell_type": "code",
   "execution_count": null,
   "id": "ae947753-5f67-46f3-9729-b0592f9ee453",
   "metadata": {},
   "outputs": [],
   "source": [
    "class Stock:\n",
    "    def __init__(self, name, code, PER, PBR, DIV):\n",
    "        self.name = name\n",
    "        self.code = code\n",
    "        self.PER = PER\n",
    "        self.PBR = PBR\n",
    "        self.DIV = DIV"
   ]
  },
  {
   "cell_type": "code",
   "execution_count": null,
   "id": "e76957ed-a12b-46d2-89f1-0dbc64214745",
   "metadata": {},
   "outputs": [],
   "source": [
    "\"\"\"\n",
    "267 Create Object  \n",
    "Using the constructor defined in question 266, create an object with the following information:\n",
    "\n",
    "Field           Value  \n",
    "Stock Name      Samsung Electronics  \n",
    "Stock Code      005930  \n",
    "PER             15.79  \n",
    "PBR             1.33  \n",
    "Dividend Yield  2.83\n",
    "\"\"\""
   ]
  },
  {
   "cell_type": "code",
   "execution_count": 21,
   "id": "5fea5769-6ed3-4daa-9f5b-25e6f38371dc",
   "metadata": {},
   "outputs": [],
   "source": [
    "class Stock:\n",
    "    def __init__(self, name, code, PER, PBR, DIV):\n",
    "        self.name = name\n",
    "        self.code = code\n",
    "        self.PER = PER\n",
    "        self.PBR = PBR\n",
    "        self.DIV = DIV\n",
    "\n",
    "a = Stock(\"Samsung Elec\", \"005930\", 15.79, 1.33, 2.83)"
   ]
  },
  {
   "cell_type": "code",
   "execution_count": null,
   "id": "b1212de8-2c0b-434a-be55-71a89c542286",
   "metadata": {},
   "outputs": [],
   "source": [
    "\"\"\"\n",
    "268 Modify Object Attributes  \n",
    "PER, PBR, and dividend yield are changeable values.  \n",
    "Add `set_per`, `set_pbr`, and `set_dividend` methods to allow modifying these attributes.\n",
    "\"\"\""
   ]
  },
  {
   "cell_type": "code",
   "execution_count": 22,
   "id": "cdd1f296-85f9-4a15-b656-b94f56cd578f",
   "metadata": {},
   "outputs": [],
   "source": [
    "class Stock:\n",
    "    def __init__(self, name, code, PER, PBR, DIV):\n",
    "        self.name = name\n",
    "        self.code = code\n",
    "        self.PER = PER\n",
    "        self.PBR = PBR\n",
    "        self.DIV = DIV\n",
    "\n",
    "    def set_per(self, PER):\n",
    "        self.PER = PER\n",
    "\n",
    "    def set_pbr(self, PBR):\n",
    "        set.PBR = PBR\n",
    "\n",
    "    def set_dividend(self, DIV):\n",
    "        set.DIV = DIV"
   ]
  },
  {
   "cell_type": "code",
   "execution_count": null,
   "id": "bd5c7c7b-6d21-4f58-a954-99240a046e9d",
   "metadata": {},
   "outputs": [],
   "source": [
    "\"\"\"\n",
    "270 Create Multiple Stock Objects  \n",
    "Using the table below, create objects for 3 stocks and store them in a Python list.  \n",
    "Then, using a `for` loop, print the stock code and PER for each stock.\n",
    "\n",
    "Stock Name       Stock Code   PER      PBR    Dividend Yield  \n",
    "Samsung Elec.    005930       15.79    1.33   2.83  \n",
    "Hyundai Motor    005380       8.70     0.35   4.27  \n",
    "LG Electronics   066570       317.34   0.69   1.37\n",
    "\"\"\""
   ]
  },
  {
   "cell_type": "code",
   "execution_count": 24,
   "id": "f64ed871-e026-48ee-a65c-1d7d86a411e9",
   "metadata": {},
   "outputs": [
    {
     "name": "stdout",
     "output_type": "stream",
     "text": [
      "005930 15.79\n",
      "005380 8.7\n",
      "066570 317.34\n"
     ]
    }
   ],
   "source": [
    "items = []\n",
    "\n",
    "Samsung = Stock(\"Samsung\", \"005930\", 15.79, 1.33, 2.83)\n",
    "Hyundai = Stock(\"Hyundai\", \"005380\", 8.70, 0.35, 4.27)\n",
    "LG = Stock(\"LG\", \"066570\", 317.34, 0.69, 1.37)\n",
    "\n",
    "items.append(Samsung)\n",
    "items.append(Hyundai)\n",
    "items.append(LG)\n",
    "\n",
    "for i in items:\n",
    "    print(i.code, i.PER)   "
   ]
  },
  {
   "cell_type": "code",
   "execution_count": null,
   "id": "a4212d9d-993f-4fb1-8028-02b5c78ea1b0",
   "metadata": {},
   "outputs": [],
   "source": [
    "\"\"\"\n",
    "# Part 11: class in Python (part 3/4)\n",
    "# source: 'https://wikidocs.net/7037'\n",
    "\"\"\""
   ]
  },
  {
   "cell_type": "code",
   "execution_count": null,
   "id": "cd7bcdc0-2471-47c0-beeb-6bfc45f1b7f7",
   "metadata": {},
   "outputs": [],
   "source": [
    "\"\"\"\n",
    "271 Account Class  \n",
    "When opening a bank account, the bank name, account holder, account number, and balance are set.  \n",
    "Create an `Account` class and implement its constructor.  \n",
    "The constructor should take only the account holder and initial balance as parameters.  \n",
    "The bank name should be \"SC Bank\", and the account number should be randomly generated in the format XXX-XX-XXXXXX.\n",
    "\n",
    "Bank Name: SC Bank  \n",
    "Account Number: 111-11-111111\n",
    "\"\"\""
   ]
  },
  {
   "cell_type": "code",
   "execution_count": 31,
   "id": "968bc8b2-38b9-4a58-9ec6-1cd4b689c09b",
   "metadata": {},
   "outputs": [
    {
     "name": "stdout",
     "output_type": "stream",
     "text": [
      "kim Daivd\n",
      "100\n",
      "SC Bank\n",
      "351-02-148063\n"
     ]
    }
   ],
   "source": [
    "import random\n",
    "\n",
    "class Account:\n",
    "    def __init__(self, account_holder, initial_balance):\n",
    "        self.account_holder = account_holder\n",
    "        self.balance = initial_balance\n",
    "        self.bank = \"SC Bank\"\n",
    "        num1 = random.randint(0,999)\n",
    "        num2 = random.randint(0,99)\n",
    "        num3 = random.randint(0,999999)\n",
    "\n",
    "        num1 = str(num1)\n",
    "        num2 = str(num2)\n",
    "        num3 = str(num3)\n",
    "\n",
    "        num1 = str(num1).zfill(3)      # 1 -> '1' -> '001'\n",
    "        num2 = str(num2).zfill(2)      # 1 -> '1' -> '01'\n",
    "        num3 = str(num3).zfill(6)      # 1 -> '1' -> '0000001'\n",
    "\n",
    "        self.account_number = num1 + '-' + num2 + '-' + num3\n",
    "\n",
    "kim = Account(\"kim Daivd\", 100)\n",
    "print(kim.account_holder)\n",
    "print(kim.balance)\n",
    "print(kim.bank)\n",
    "print(kim.account_number)"
   ]
  },
  {
   "cell_type": "code",
   "execution_count": null,
   "id": "63f2fd65-d68e-408d-afdd-feb0d31dbc54",
   "metadata": {},
   "outputs": [],
   "source": [
    "\"\"\"\n",
    "272 Class Variable  \n",
    "Use a class variable to store the number of account objects created from the `Account` class.\n",
    "\"\"\""
   ]
  },
  {
   "cell_type": "code",
   "execution_count": 33,
   "id": "8b138362-4fac-403a-a0b4-683844184322",
   "metadata": {},
   "outputs": [
    {
     "name": "stdout",
     "output_type": "stream",
     "text": [
      "0\n",
      "kim Daivd\n",
      "100\n",
      "SC Bank\n",
      "614-69-797164\n",
      "1\n",
      "2\n"
     ]
    }
   ],
   "source": [
    "import random\n",
    "\n",
    "class Account:\n",
    "    # class variable\n",
    "    account_count = 0\n",
    "    \n",
    "    def __init__(self, account_holder, initial_balance):\n",
    "        self.account_holder = account_holder\n",
    "        self.balance = initial_balance\n",
    "        self.bank = \"SC Bank\"\n",
    "        num1 = random.randint(0,999)\n",
    "        num2 = random.randint(0,99)\n",
    "        num3 = random.randint(0,999999)\n",
    "\n",
    "        num1 = str(num1)\n",
    "        num2 = str(num2)\n",
    "        num3 = str(num3)\n",
    "\n",
    "        num1 = str(num1).zfill(3)      # 1 -> '1' -> '001'\n",
    "        num2 = str(num2).zfill(2)      # 1 -> '1' -> '01'\n",
    "        num3 = str(num3).zfill(6)      # 1 -> '1' -> '0000001'\n",
    "\n",
    "        self.account_number = num1 + '-' + num2 + '-' + num3\n",
    "\n",
    "        Account.account_count += 1\n",
    "\n",
    "print(Account.account_count)\n",
    "\n",
    "kim = Account(\"kim Daivd\", 100)\n",
    "print(kim.account_holder)\n",
    "print(kim.balance)\n",
    "print(kim.bank)\n",
    "print(kim.account_number)\n",
    "print(Account.account_count)\n",
    "\n",
    "lee = Account(\"LEE\", 100)\n",
    "print(Account.account_count)"
   ]
  },
  {
   "cell_type": "code",
   "execution_count": null,
   "id": "046b2d27-6dfd-43aa-8a63-c01518d2512f",
   "metadata": {},
   "outputs": [],
   "source": [
    "\"\"\"\n",
    "274 Deposit Method  \n",
    "Add a `deposit()` method to the `Account` class for making deposits.  \n",
    "Deposits must be at least 1 unit or more.\n",
    "\"\"\""
   ]
  },
  {
   "cell_type": "code",
   "execution_count": null,
   "id": "7487ab49-4b2c-4b52-bb4e-159706cda5de",
   "metadata": {},
   "outputs": [],
   "source": [
    "import random\n",
    "\n",
    "class Account:\n",
    "    # class variable\n",
    "    account_count = 0\n",
    "    \n",
    "    def __init__(self, account_holder, initial_balance):\n",
    "        self.account_holder = account_holder\n",
    "        self.balance = initial_balance\n",
    "        self.bank = \"SC Bank\"\n",
    "        num1 = random.randint(0,999)\n",
    "        num2 = random.randint(0,99)\n",
    "        num3 = random.randint(0,999999)\n",
    "\n",
    "        num1 = str(num1)\n",
    "        num2 = str(num2)\n",
    "        num3 = str(num3)\n",
    "\n",
    "        num1 = str(num1).zfill(3)      # 1 -> '1' -> '001'\n",
    "        num2 = str(num2).zfill(2)      # 1 -> '1' -> '01'\n",
    "        num3 = str(num3).zfill(6)      # 1 -> '1' -> '0000001'\n",
    "\n",
    "        self.account_number = num1 + '-' + num2 + '-' + num3\n",
    "\n",
    "        Account.account_count += 1\n",
    "\n",
    "    def deposit(self, amount):\n",
    "        if amount > 0:\n",
    "            self.balance = self.balance + amount\n",
    "\n",
    "print(Account.account_count)\n",
    "\n",
    "kim = Account(\"kim Daivd\", 100)\n",
    "print(kim.account_holder)\n",
    "print(kim.balance)\n",
    "print(kim.bank)\n",
    "print(kim.account_number)\n",
    "print(Account.account_count)\n",
    "\n",
    "lee = Account(\"LEE\", 100)\n",
    "print(Account.account_count)"
   ]
  },
  {
   "cell_type": "code",
   "execution_count": null,
   "id": "1c343828-a779-4550-8e98-cbb6b28b0948",
   "metadata": {},
   "outputs": [],
   "source": [
    "\"\"\"\n",
    "275 Withdrawal Method  \n",
    "Add a `withdraw()` method to the `Account` class for making withdrawals.  \n",
    "Withdrawals cannot exceed the current account balance.\n",
    "\"\"\""
   ]
  },
  {
   "cell_type": "code",
   "execution_count": null,
   "id": "b2afc8ce-ee42-404d-92e3-127d0bff9d69",
   "metadata": {},
   "outputs": [],
   "source": [
    "import random\n",
    "\n",
    "class Account:\n",
    "    # class variable\n",
    "    account_count = 0\n",
    "    \n",
    "    def __init__(self, account_holder, initial_balance):\n",
    "        self.account_holder = account_holder\n",
    "        self.balance = initial_balance\n",
    "        self.bank = \"SC Bank\"\n",
    "        num1 = random.randint(0,999)\n",
    "        num2 = random.randint(0,99)\n",
    "        num3 = random.randint(0,999999)\n",
    "\n",
    "        num1 = str(num1)\n",
    "        num2 = str(num2)\n",
    "        num3 = str(num3)\n",
    "\n",
    "        num1 = str(num1).zfill(3)      # 1 -> '1' -> '001'\n",
    "        num2 = str(num2).zfill(2)      # 1 -> '1' -> '01'\n",
    "        num3 = str(num3).zfill(6)      # 1 -> '1' -> '0000001'\n",
    "\n",
    "        self.account_number = num1 + '-' + num2 + '-' + num3\n",
    "\n",
    "        Account.account_count += 1\n",
    "\n",
    "    def deposit(self, amount):\n",
    "        if amount > 0:\n",
    "            self.balance = self.balance + amount\n",
    "\n",
    "    def withdraw(self, amount):\n",
    "        if amount <= self.balance:\n",
    "            self.balance = self.balance - amount"
   ]
  },
  {
   "cell_type": "code",
   "execution_count": null,
   "id": "95119841-aa4c-458d-8dbe-96ead2f3a0b5",
   "metadata": {},
   "outputs": [],
   "source": [
    "\"\"\"\n",
    "276 Display Info Method  \n",
    "Add a `display_info()` method to the `Account` instance to print stored information.  \n",
    "Use commas to separate every three digits in the balance.\n",
    "\n",
    "Example Output:  \n",
    "Bank Name: SC Bank  \n",
    "Account Holder: Python  \n",
    "Account Number: 111-11-111111  \n",
    "Balance: 10,000 won\n",
    "\"\"\""
   ]
  },
  {
   "cell_type": "code",
   "execution_count": 34,
   "id": "a4118e14-11ac-4b56-85a6-f55e0a6b8817",
   "metadata": {},
   "outputs": [],
   "source": [
    "import random\n",
    "\n",
    "class Account:\n",
    "    # class variable\n",
    "    account_count = 0\n",
    "    \n",
    "    def __init__(self, account_holder, initial_balance):\n",
    "        self.account_holder = account_holder\n",
    "        self.balance = initial_balance\n",
    "        self.bank = \"SC Bank\"\n",
    "\n",
    "        num1 = random.randint(0,999)\n",
    "        num2 = random.randint(0,99)\n",
    "        num3 = random.randint(0,999999)\n",
    "\n",
    "        num1 = str(num1)\n",
    "        num2 = str(num2)\n",
    "        num3 = str(num3)\n",
    "\n",
    "        num1 = str(num1).zfill(3)      # 1 -> '1' -> '001'\n",
    "        num2 = str(num2).zfill(2)      # 1 -> '1' -> '01'\n",
    "        num3 = str(num3).zfill(6)      # 1 -> '1' -> '0000001'\n",
    "\n",
    "        self.account_number = num1 + '-' + num2 + '-' + num3\n",
    "\n",
    "        Account.account_count += 1\n",
    "\n",
    "    def deposit(self, amount):\n",
    "        if amount > 0:\n",
    "            self.balance = self.balance + amount\n",
    "\n",
    "    def withdraw(self, amount):\n",
    "        if amount <= self.balance:\n",
    "            self.balance = self.balance - amount\n",
    "\n",
    "    def display_info(self):\n",
    "        print(f\"Bank Name: {self.bank}\")\n",
    "    "
   ]
  },
  {
   "cell_type": "code",
   "execution_count": null,
   "id": "bd03025e-08ba-4960-a22c-6532f96a0aaa",
   "metadata": {},
   "outputs": [],
   "source": [
    "\"\"\"\n",
    "277 Interest Payment  \n",
    "Modify the code so that after 5 deposits, 1% interest is added to the balance based on the current amount.\n",
    "\"\"\""
   ]
  },
  {
   "cell_type": "code",
   "execution_count": null,
   "id": "57971ba2-4ad3-4ef2-a26d-eb01613bfda1",
   "metadata": {},
   "outputs": [],
   "source": [
    "import random\n",
    "\n",
    "class Account:\n",
    "    # class variable\n",
    "    account_count = 0\n",
    "    \n",
    "    def __init__(self, account_holder, initial_balance):\n",
    "        self.account_holder = account_holder\n",
    "        self.balance = initial_balance\n",
    "        self.bank = \"SC Bank\"\n",
    "        self.deposit_count = 1\n",
    "        num1 = random.randint(0,999)\n",
    "        num2 = random.randint(0,99)\n",
    "        num3 = random.randint(0,999999)\n",
    "\n",
    "        num1 = str(num1)\n",
    "        num2 = str(num2)\n",
    "        num3 = str(num3)\n",
    "\n",
    "        num1 = str(num1).zfill(3)      # 1 -> '1' -> '001'\n",
    "        num2 = str(num2).zfill(2)      # 1 -> '1' -> '01'\n",
    "        num3 = str(num3).zfill(6)      # 1 -> '1' -> '0000001'\n",
    "\n",
    "        self.account_number = num1 + '-' + num2 + '-' + num3\n",
    "\n",
    "        Account.account_count += 1\n",
    "\n",
    "    def deposit(self, amount):\n",
    "        if amount > 0:\n",
    "            self.balance = self.balance + amount\n",
    "            self.deposit_count += 1\n",
    "\n",
    "            if self.deposit_count % 5 == 0:\n",
    "                self.balance = 1.05 * self.balance\n",
    "\n",
    "    def withdraw(self, amount):\n",
    "        if amount <= self.balance:\n",
    "            self.balance = self.balance - amount\n",
    "\n",
    "    def display_info(self):\n",
    "        print(f\"Bank Name: {self.bank}\")\n",
    "\n",
    "    "
   ]
  },
  {
   "cell_type": "code",
   "execution_count": null,
   "id": "ecd2a90d-7933-4d0f-8067-2580642a3256",
   "metadata": {},
   "outputs": [],
   "source": [
    "\"\"\"\n",
    "278 Create Multiple Objects  \n",
    "Create at least 3 instances from the `Account` class and store them in a list.\n",
    "\"\"\""
   ]
  },
  {
   "cell_type": "code",
   "execution_count": 50,
   "id": "ec8b69b0-65f9-4b5e-9c78-b02302184e7e",
   "metadata": {},
   "outputs": [
    {
     "name": "stdout",
     "output_type": "stream",
     "text": [
      "[<__main__.Account object at 0x000001E710A77B60>, <__main__.Account object at 0x000001E7107930B0>, <__main__.Account object at 0x000001E710E1FAD0>]\n"
     ]
    }
   ],
   "source": [
    "import random\n",
    "\n",
    "class Account:\n",
    "    # class variable\n",
    "    account_count = 0\n",
    "    \n",
    "    def __init__(self, account_holder, initial_balance):\n",
    "        self.account_holder = account_holder\n",
    "        self.balance = initial_balance\n",
    "        self.bank = \"SC Bank\"\n",
    "        self.deposit_count = 1\n",
    "        \n",
    "        num1 = random.randint(0,999)\n",
    "        num2 = random.randint(0,99)\n",
    "        num3 = random.randint(0,999999)\n",
    "\n",
    "        num1 = str(num1)\n",
    "        num2 = str(num2)\n",
    "        num3 = str(num3)\n",
    "\n",
    "        num1 = str(num1).zfill(3)      # 1 -> '1' -> '001'\n",
    "        num2 = str(num2).zfill(2)      # 1 -> '1' -> '01'\n",
    "        num3 = str(num3).zfill(6)      # 1 -> '1' -> '0000001'\n",
    "\n",
    "        self.account_number = num1 + '-' + num2 + '-' + num3\n",
    "\n",
    "        Account.account_count += 1\n",
    "\n",
    " \n",
    "    def deposit(self, amount):\n",
    "        if amount > 0:\n",
    "            self.balance = self.balance + amount\n",
    "            self.deposit_count += 1\n",
    "\n",
    "            if self.deposit_count % 5 == 0:\n",
    "                self.balance = 1.05 * self.balance\n",
    "\n",
    "    def withdraw(self, amount):\n",
    "        if amount <= self.balance:\n",
    "            self.balance = self.balance - amount\n",
    "\n",
    "    def display_info(self):\n",
    "        print(f\"Account Holder Name: {self.account_holder}\")\n",
    "        print(f\"Bank Name: {self.bank}\")\n",
    "        print(f\"Balance: {self.balance}\")\n",
    "\n",
    "\n",
    "kim = Account(\"Kim\", 20)\n",
    "lee = Account(\"Lee\", 340)\n",
    "park = Account(\"Park\", 34)\n",
    "\n",
    "data = []\n",
    "data.append(kim)\n",
    "data.append(lee)\n",
    "data.append(park)\n",
    "\n",
    "print(data)"
   ]
  },
  {
   "cell_type": "code",
   "execution_count": 51,
   "id": "feb56110-90cf-444a-b73d-f7f251ae2b84",
   "metadata": {},
   "outputs": [
    {
     "data": {
      "text/plain": [
       "'\\n279 Iterate Over Objects  \\nUse a loop to iterate over the list and print the account information only for customers with a balance of 1,000,000 won or more.\\n'"
      ]
     },
     "execution_count": 51,
     "metadata": {},
     "output_type": "execute_result"
    }
   ],
   "source": [
    "\"\"\"\n",
    "279 Iterate Over Objects  \n",
    "Use a loop to iterate over the list and print the account information only for customers with a balance of 1,000,000 won or more.\n",
    "\"\"\""
   ]
  },
  {
   "cell_type": "code",
   "execution_count": 52,
   "id": "66649ea4-b8b4-4b5d-8e77-3f272a3f9984",
   "metadata": {},
   "outputs": [
    {
     "name": "stdout",
     "output_type": "stream",
     "text": [
      "Account Holder Name: Lee\n",
      "Bank Name: SC Bank\n",
      "Balance: 340\n"
     ]
    }
   ],
   "source": [
    "for datum in data:\n",
    "    if datum.balance > 100:\n",
    "        datum.display_info()"
   ]
  },
  {
   "cell_type": "code",
   "execution_count": null,
   "id": "c66f7fee-05de-4651-a083-f17beda1666d",
   "metadata": {},
   "outputs": [],
   "source": [
    "\"\"\"\n",
    "280 Deposit and Withdrawal History  \n",
    "Update the code to record deposit and withdrawal history.  \n",
    "Add `deposit_history()` and `withdraw_history()` methods to print the history of deposits and withdrawals.\n",
    "\"\"\""
   ]
  },
  {
   "cell_type": "code",
   "execution_count": 54,
   "id": "26417d80-da7d-4f83-b84b-71b1291be6e3",
   "metadata": {},
   "outputs": [],
   "source": [
    "import random\n",
    "\n",
    "class Account:\n",
    "    # class variable\n",
    "    account_count = 0\n",
    "    \n",
    "    def __init__(self, account_holder, initial_balance):\n",
    "        self.account_holder = account_holder\n",
    "        self.balance = initial_balance\n",
    "        self.bank = \"SC Bank\"\n",
    "        self.deposit_count = 1\n",
    "        \n",
    "        self.deposit_log = []\n",
    "        self.withdraw_log = []\n",
    "        \n",
    "        num1 = random.randint(0,999)\n",
    "        num2 = random.randint(0,99)\n",
    "        num3 = random.randint(0,999999)\n",
    "\n",
    "        num1 = str(num1)\n",
    "        num2 = str(num2)\n",
    "        num3 = str(num3)\n",
    "\n",
    "        num1 = str(num1).zfill(3)      # 1 -> '1' -> '001'\n",
    "        num2 = str(num2).zfill(2)      # 1 -> '1' -> '01'\n",
    "        num3 = str(num3).zfill(6)      # 1 -> '1' -> '0000001'\n",
    "\n",
    "        self.account_number = num1 + '-' + num2 + '-' + num3\n",
    "\n",
    "        Account.account_count += 1\n",
    "\n",
    "    def deposit(self, amount):\n",
    "        if amount > 0:\n",
    "            self.balance = self.balance + amount\n",
    "            self.deposit_count += 1\n",
    "\n",
    "            if self.deposit_count % 5 == 0:\n",
    "                self.balance = 1.05 * self.balance\n",
    "\n",
    "    def withdraw(self, amount):\n",
    "        if amount <= self.balance:\n",
    "            self.balance = self.balance - amount\n",
    "\n",
    "    def display_info(self):\n",
    "        print(f\"Account Holder Name: {self.account_holder}\")\n",
    "        print(f\"Bank Name: {self.bank}\")\n",
    "        print(f\"Balance: {self.balance}\")\n",
    "\n",
    "    def withdraw_history(self):\n",
    "        for amount in self.withdraw_log:\n",
    "            print(amount)\n",
    "\n",
    "    def deposit_history(self):\n",
    "        for amount in self.deposit_log:\n",
    "            print(amount)\n",
    "\n",
    "k = Account(\"Kim\", 1000)\n",
    "k.deposit(100)\n",
    "k.deposit(200)\n",
    "k.deposit(300)\n",
    "k.deposit_history()\n",
    "\n",
    "k.withdraw(100)\n",
    "k.withdraw(200)\n",
    "k.withdraw_history()"
   ]
  },
  {
   "cell_type": "code",
   "execution_count": null,
   "id": "3e96d9b4-d200-49d8-948b-bb23d03257ad",
   "metadata": {},
   "outputs": [],
   "source": [
    "\"\"\"\n",
    "# Part 11: class in Python (part 4/4)\n",
    "# source: 'https://wikidocs.net/7041'\n",
    "\"\"\""
   ]
  },
  {
   "cell_type": "code",
   "execution_count": null,
   "id": "d3eb6210-45ec-447b-a825-f54c61fb2faf",
   "metadata": {},
   "outputs": [],
   "source": [
    "\"\"\"\n",
    "281 Define a Class  \n",
    "Define a `Car` class so that the following code runs properly:\n",
    "\n",
    ">> car = Car(2, 1000)  \n",
    ">> car.wheels  \n",
    "2  \n",
    ">> car.price  \n",
    "1000\n",
    "\"\"\""
   ]
  },
  {
   "cell_type": "code",
   "execution_count": 55,
   "id": "69cb2a01-0b51-48fd-8f10-f6747a4f5e51",
   "metadata": {},
   "outputs": [
    {
     "name": "stdout",
     "output_type": "stream",
     "text": [
      "2\n",
      "1000\n"
     ]
    }
   ],
   "source": [
    "class Car:\n",
    "    def __init__(self, wheel, price):\n",
    "        self.wheel = wheel\n",
    "        self.price = price\n",
    "\n",
    "car = Car(2, 1000)\n",
    "print(car.wheel)\n",
    "print(car.price)"
   ]
  },
  {
   "cell_type": "code",
   "execution_count": null,
   "id": "3ec5beee-a308-4441-8459-288cb873018c",
   "metadata": {},
   "outputs": [],
   "source": [
    "\"\"\"\n",
    "282 Class Inheritance  \n",
    "Define a `Bicycle` class that inherits from the `Car` class.\n",
    "\"\"\""
   ]
  },
  {
   "cell_type": "code",
   "execution_count": null,
   "id": "220ab4c4-4e7c-4cca-8e8a-0f91001e8cf5",
   "metadata": {},
   "outputs": [],
   "source": [
    "class Car:\n",
    "    def __init__(self, wheel, price):\n",
    "        self.wheel = wheel\n",
    "        self.price = price\n",
    "\n",
    "class Bicycle(Car):\n",
    "    pass"
   ]
  },
  {
   "cell_type": "code",
   "execution_count": null,
   "id": "7a4d9901-608d-4d51-adae-f1ce76e938b9",
   "metadata": {},
   "outputs": [],
   "source": [
    "\"\"\"\n",
    "283 Class Inheritance  \n",
    "Define a `Bicycle` class so that the following code runs properly.  \n",
    "The `Bicycle` class should inherit from the `Car` class.\n",
    "\n",
    ">> bicycle = Bicycle(2, 100)  \n",
    ">> bicycle.price  \n",
    "100\n",
    "\"\"\""
   ]
  },
  {
   "cell_type": "code",
   "execution_count": 56,
   "id": "8e94444a-d48d-47b5-a2b3-1561128a0644",
   "metadata": {},
   "outputs": [
    {
     "name": "stdout",
     "output_type": "stream",
     "text": [
      "100\n"
     ]
    }
   ],
   "source": [
    "class Car:\n",
    "    def __init__(self, wheel, price):\n",
    "        self.wheel = wheel\n",
    "        self.price = price\n",
    "\n",
    "class Bicycle(Car):\n",
    "    pass\n",
    "\n",
    "bicycle = Bicycle(2,100)\n",
    "print(bicycle.price)"
   ]
  },
  {
   "cell_type": "code",
   "execution_count": null,
   "id": "eca3a171-3eed-40e1-8901-19a5f7dc066a",
   "metadata": {},
   "outputs": [],
   "source": [
    "\"\"\"\n",
    "284 Class Inheritance  \n",
    "Define a `Bicycle` class so that the following code runs properly.  \n",
    "The `Bicycle` class should inherit from the `Car` class.\n",
    "\n",
    ">> bicycle = Bicycle(2, 100, \"Shimano\")  \n",
    ">> bicycle.drivetrain  \n",
    "Shimano\n",
    "\"\"\""
   ]
  },
  {
   "cell_type": "code",
   "execution_count": 57,
   "id": "eb860811-30c0-4a64-93bd-1e7eb8211200",
   "metadata": {},
   "outputs": [
    {
     "name": "stdout",
     "output_type": "stream",
     "text": [
      "Shimano\n"
     ]
    }
   ],
   "source": [
    "class Car:\n",
    "    def __init__(self, wheel, price):\n",
    "        self.wheel = wheel\n",
    "        self.price = price\n",
    "\n",
    "class Bicycle(Car):\n",
    "    def __init__(self, wheel, price, drivetrain):\n",
    "        super().__init__(wheel, price)\n",
    "        self.drivetrain = drivetrain\n",
    "\n",
    "bicycle = Bicycle(2, 100, \"Shimano\") \n",
    "print(bicycle.drivetrain)"
   ]
  },
  {
   "cell_type": "code",
   "execution_count": null,
   "id": "fb5f4811-35a2-4996-ae82-8a52e633ae39",
   "metadata": {},
   "outputs": [],
   "source": [
    "\"\"\"\n",
    "285 Class Inheritance  \n",
    "Define a `Car` class that inherits from a parent class so the following code works:\n",
    "\n",
    ">> bike = Car(4, 1000)  \n",
    ">> bike.info()  \n",
    "Number of wheels: 4  \n",
    "Price: 1000\n",
    "\"\"\""
   ]
  },
  {
   "cell_type": "code",
   "execution_count": 58,
   "id": "8606654c-6bff-499b-8396-0cdfbeb2d0a4",
   "metadata": {},
   "outputs": [
    {
     "name": "stdout",
     "output_type": "stream",
     "text": [
      "Wheels  2\n",
      "Price  100\n"
     ]
    }
   ],
   "source": [
    "class Car:\n",
    "    def __init__(self, wheel, price):\n",
    "        self.wheel = wheel\n",
    "        self.price = price\n",
    "\n",
    "class Bicycle(Car):\n",
    "    def __init__(self, wheel, price, drivetrain):\n",
    "        super().__init__(wheel, price)\n",
    "        self.drivetrain = drivetrain\n",
    "\n",
    "    def info(self):\n",
    "        print(\"Wheels \", self.wheel)\n",
    "        print(\"Price \", self.price)\n",
    "\n",
    "bicycle = Bicycle(2, 100, \"Shimano\") \n",
    "bicycle.info()"
   ]
  },
  {
   "cell_type": "code",
   "execution_count": null,
   "id": "d867ae00-a624-416e-85c3-be1a3cfd878b",
   "metadata": {},
   "outputs": [],
   "source": [
    "\"\"\"\n",
    "286 Call Parent Constructor  \n",
    "Modify the `Car` class so that the following code works properly:\n",
    "\n",
    ">> bicycle = Bicycle(2, 100, \"Shimano\")  \n",
    ">> bicycle.info()  \n",
    "Number of wheels: 2  \n",
    "Price: 100\n",
    "\"\"\""
   ]
  },
  {
   "cell_type": "code",
   "execution_count": 60,
   "id": "061f2be9-0081-46f5-b40e-10080dc4514a",
   "metadata": {},
   "outputs": [
    {
     "name": "stdout",
     "output_type": "stream",
     "text": [
      "Wheels  2\n",
      "Price  100\n"
     ]
    }
   ],
   "source": [
    "class Car:\n",
    "    def __init__(self, wheel, price):\n",
    "        self.wheel = wheel\n",
    "        self.price = price\n",
    "\n",
    "    def info(self):\n",
    "        print(\"Wheels \", self.wheel)\n",
    "        print(\"Price \", self.price)\n",
    "\n",
    "class Bicycle(Car):\n",
    "    def __init__(self, wheel, price, drivetrain):\n",
    "        super().__init__(wheel, price)\n",
    "        self.drivetrain = drivetrain\n",
    "\n",
    "\n",
    "\n",
    "bicycle = Bicycle(2, 100, \"Shimano\") \n",
    "bicycle.info()"
   ]
  },
  {
   "cell_type": "code",
   "execution_count": null,
   "id": "d5b8126b-c4fd-4263-a17b-6749e9b8ae8c",
   "metadata": {},
   "outputs": [],
   "source": [
    "\"\"\"\n",
    "287 Call Parent Method  \n",
    "Modify the `info()` method in `Bicycle` so it also prints drivetrain info:\n",
    "\n",
    ">> bicycle = Bicycle(2, 100, \"Shimano\")  \n",
    ">> bicycle.info()  \n",
    "Number of wheels: 2  \n",
    "Price: 100  \n",
    "Drivetrain: Shimano\n",
    "\"\"\""
   ]
  },
  {
   "cell_type": "code",
   "execution_count": null,
   "id": "09666751-d458-4044-946e-215fcbfbe470",
   "metadata": {},
   "outputs": [],
   "source": [
    "\"\"\"\n",
    "288 Method Overriding  \n",
    "Predict the output of the following code:\n",
    "\n",
    "class Parent:\n",
    "  def call(self):\n",
    "    print(\"Parent call\")\n",
    "\n",
    "class Child(Parent):\n",
    "  def call(self):\n",
    "    print(\"Child call\")\n",
    "\n",
    "me = Child()  \n",
    "me.call()\n",
    "\n",
    "Output:  \n",
    "Child call\n",
    "\"\"\""
   ]
  },
  {
   "cell_type": "code",
   "execution_count": 61,
   "id": "4754fef5-b477-4058-a7ab-9c8592f2c3d1",
   "metadata": {},
   "outputs": [
    {
     "name": "stdout",
     "output_type": "stream",
     "text": [
      "Child call\n"
     ]
    }
   ],
   "source": [
    "class Parent:\n",
    "  def call(self):\n",
    "    print(\"Parent call\")\n",
    "\n",
    "class Child(Parent):\n",
    "  def call(self):\n",
    "    print(\"Child call\")\n",
    "\n",
    "me = Child()  \n",
    "me.call()"
   ]
  },
  {
   "cell_type": "code",
   "execution_count": null,
   "id": "13ca4a62-45e2-4f9d-94ec-c85201a3b28f",
   "metadata": {},
   "outputs": [],
   "source": [
    "\"\"\"\n",
    "289 Constructor  \n",
    "Predict the output of the following code:\n",
    "\n",
    "class Parent:\n",
    "  def __init__(self):\n",
    "    print(\"Parent created\")\n",
    "\n",
    "class Child(Parent):\n",
    "  def __init__(self):\n",
    "    print(\"Child created\")\n",
    "\n",
    "me = Child()\n",
    "\n",
    "Output:  \n",
    "Child created\n",
    "\"\"\""
   ]
  },
  {
   "cell_type": "code",
   "execution_count": 62,
   "id": "54f4043f-ac01-4bab-8a6a-46a218d55e81",
   "metadata": {},
   "outputs": [
    {
     "name": "stdout",
     "output_type": "stream",
     "text": [
      "Child created\n"
     ]
    }
   ],
   "source": [
    "class Parent:\n",
    "  def __init__(self):\n",
    "    print(\"Parent created\")\n",
    "\n",
    "class Child(Parent):\n",
    "  def __init__(self):\n",
    "    print(\"Child created\")\n",
    "\n",
    "me = Child()"
   ]
  },
  {
   "cell_type": "code",
   "execution_count": null,
   "id": "4ba850ea-428d-41c7-a32d-3a8a40044e90",
   "metadata": {},
   "outputs": [],
   "source": [
    "\"\"\"\n",
    "290 Call Parent Constructor  \n",
    "Predict the output of the following code:\n",
    "\n",
    "class Parent:\n",
    "  def __init__(self):\n",
    "    print(\"Parent created\")\n",
    "\n",
    "class Child(Parent):\n",
    "  def __init__(self):\n",
    "    print(\"Child created\")\n",
    "    super().__init__()\n",
    "\n",
    "me = Child()\n",
    "\n",
    "Output:  \n",
    "Child created  \n",
    "Parent created\n",
    "\"\"\""
   ]
  },
  {
   "cell_type": "code",
   "execution_count": 63,
   "id": "f5300163-20cd-44c9-a096-14f424bf819c",
   "metadata": {},
   "outputs": [
    {
     "name": "stdout",
     "output_type": "stream",
     "text": [
      "Child created\n",
      "Parent created\n"
     ]
    }
   ],
   "source": [
    "class Parent:\n",
    "  def __init__(self):\n",
    "    print(\"Parent created\")\n",
    "\n",
    "class Child(Parent):\n",
    "  def __init__(self):\n",
    "    print(\"Child created\")\n",
    "    super().__init__()\n",
    "\n",
    "me = Child()"
   ]
  },
  {
   "cell_type": "code",
   "execution_count": null,
   "id": "0fe03506-fd1a-4a78-b67b-937738cf804c",
   "metadata": {},
   "outputs": [],
   "source": []
  }
 ],
 "metadata": {
  "kernelspec": {
   "display_name": "Python 3 (ipykernel)",
   "language": "python",
   "name": "python3"
  },
  "language_info": {
   "codemirror_mode": {
    "name": "ipython",
    "version": 3
   },
   "file_extension": ".py",
   "mimetype": "text/x-python",
   "name": "python",
   "nbconvert_exporter": "python",
   "pygments_lexer": "ipython3",
   "version": "3.12.6"
  }
 },
 "nbformat": 4,
 "nbformat_minor": 5
}
