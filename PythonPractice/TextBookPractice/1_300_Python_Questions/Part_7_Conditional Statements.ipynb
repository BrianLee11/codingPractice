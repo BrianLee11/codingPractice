{
 "cells": [
  {
   "metadata": {
    "ExecuteTime": {
     "end_time": "2025-04-09T14:01:04.586069Z",
     "start_time": "2025-04-09T14:01:04.581922Z"
    }
   },
   "cell_type": "code",
   "source": [
    "\"\"\"\n",
    "# Part 7: dictionary in Python (part 1/3)\n",
    "# source: 'https://wikidocs.net/7028'\n",
    "\"\"\""
   ],
   "id": "9bd107584b5d63fc",
   "outputs": [
    {
     "data": {
      "text/plain": [
       "\"\\n# Part 7: dictionary in Python (part 1/3)\\n# source: 'https://wikidocs.net/7028'\\n\""
      ]
     },
     "execution_count": 2,
     "metadata": {},
     "output_type": "execute_result"
    }
   ],
   "execution_count": 2
  },
  {
   "metadata": {},
   "cell_type": "code",
   "source": [
    "\"\"\"\n",
    "101\n",
    "What is the data type in Python that holds either True or False?\n",
    "\n",
    "Answer: boolean (True or False)\n",
    "\"\"\""
   ],
   "id": "bb6492de56a71f14",
   "outputs": [],
   "execution_count": null
  },
  {
   "metadata": {},
   "cell_type": "code",
   "outputs": [],
   "execution_count": null,
   "source": [
    "\"\"\"\n",
    "102\n",
    "Predict the output of the code below:\n",
    "\n",
    "print(3 == 5)\n",
    "\"\"\""
   ],
   "id": "ac9e26584cb85186"
  },
  {
   "metadata": {
    "ExecuteTime": {
     "end_time": "2025-04-09T14:05:52.909829Z",
     "start_time": "2025-04-09T14:05:52.906703Z"
    }
   },
   "cell_type": "code",
   "source": [
    "# prediction: False\n",
    "print(3==5)"
   ],
   "id": "42ea654e4ad8d887",
   "outputs": [
    {
     "name": "stdout",
     "output_type": "stream",
     "text": [
      "False\n"
     ]
    }
   ],
   "execution_count": 5
  },
  {
   "metadata": {
    "ExecuteTime": {
     "end_time": "2025-04-09T14:06:10.680303Z",
     "start_time": "2025-04-09T14:06:10.676168Z"
    }
   },
   "cell_type": "code",
   "source": [
    "\"\"\"103\n",
    "Predict the output of the code below:\n",
    "\n",
    "print(3 < 5)\n",
    "\"\"\"\n",
    "print(3 < 5)"
   ],
   "id": "25eb8d694e226750",
   "outputs": [
    {
     "name": "stdout",
     "output_type": "stream",
     "text": [
      "True\n"
     ]
    }
   ],
   "execution_count": 6
  },
  {
   "metadata": {
    "ExecuteTime": {
     "end_time": "2025-04-09T14:06:29.431900Z",
     "start_time": "2025-04-09T14:06:29.428053Z"
    }
   },
   "cell_type": "code",
   "source": [
    "\"\"\"\n",
    "104\n",
    "Predict the result of the following code:\n",
    "\n",
    "x = 4\n",
    "print(1 < x < 5)\n",
    "\"\"\"\n",
    "x = 4\n",
    "print(1 < x < 5)"
   ],
   "id": "2e5d3f41e6b27848",
   "outputs": [
    {
     "name": "stdout",
     "output_type": "stream",
     "text": [
      "True\n"
     ]
    }
   ],
   "execution_count": 7
  },
  {
   "metadata": {
    "ExecuteTime": {
     "end_time": "2025-04-09T14:06:50.196140Z",
     "start_time": "2025-04-09T14:06:50.192638Z"
    }
   },
   "cell_type": "code",
   "source": [
    "\"\"\"\n",
    "105\n",
    "Predict the result of the following code:\n",
    "\n",
    "print((3 == 3) and (4 != 3))\n",
    "\"\"\"\n",
    "\n",
    "print((3 == 3) and (4 != 3)) # True"
   ],
   "id": "3f480373ee4cfe57",
   "outputs": [
    {
     "name": "stdout",
     "output_type": "stream",
     "text": [
      "True\n"
     ]
    }
   ],
   "execution_count": 8
  },
  {
   "metadata": {
    "ExecuteTime": {
     "end_time": "2025-04-09T14:07:02.103474Z",
     "start_time": "2025-04-09T14:07:02.093958Z"
    }
   },
   "cell_type": "code",
   "source": [
    "\"\"\"\n",
    "106\n",
    "Explain the cause of the error in the following code:\n",
    "\n",
    "print(3 => 4)\n",
    "\"\"\"\n",
    "print(3 => 4) # => is not supported in Python"
   ],
   "id": "c33345b6bf9b57f9",
   "outputs": [
    {
     "ename": "SyntaxError",
     "evalue": "expression cannot contain assignment, perhaps you meant \"==\"? (819370471.py, line 7)",
     "output_type": "error",
     "traceback": [
      "  \u001B[36mCell\u001B[39m\u001B[36m \u001B[39m\u001B[32mIn[9]\u001B[39m\u001B[32m, line 7\u001B[39m\n\u001B[31m    \u001B[39m\u001B[31mprint(3 => 4)\u001B[39m\n          ^\n\u001B[31mSyntaxError\u001B[39m\u001B[31m:\u001B[39m expression cannot contain assignment, perhaps you meant \"==\"?\n"
     ]
    }
   ],
   "execution_count": 9
  },
  {
   "metadata": {
    "ExecuteTime": {
     "end_time": "2025-04-09T14:07:31.271833Z",
     "start_time": "2025-04-09T14:07:31.268469Z"
    }
   },
   "cell_type": "code",
   "source": [
    "\"\"\"\n",
    "107\n",
    "Predict the output of the following code:\n",
    "\n",
    "if 4 < 3:\n",
    "    print(\"Hello World\")\n",
    "\"\"\"\n",
    "# nothing is printed\n",
    "if 4 < 3:\n",
    "    print(\"Hello World\")"
   ],
   "id": "47f8e99664e7b55d",
   "outputs": [],
   "execution_count": 10
  },
  {
   "metadata": {
    "ExecuteTime": {
     "end_time": "2025-04-09T14:07:55.067118Z",
     "start_time": "2025-04-09T14:07:55.063864Z"
    }
   },
   "cell_type": "code",
   "source": [
    "\"\"\"\n",
    "108\n",
    "Predict the output of the following code:\n",
    "\n",
    "if 4 < 3:\n",
    "    print(\"Hello World.\")\n",
    "else:\n",
    "    print(\"Hi, there.\")\n",
    "\"\"\"\n",
    "\n",
    "if 4 < 3: # which is not True, this condition is not satisfied\n",
    "    print(\"Hello World.\")\n",
    "else: # this condition is satisfied\n",
    "    print(\"Hi, there.\")"
   ],
   "id": "485c6cd53d9c524d",
   "outputs": [
    {
     "name": "stdout",
     "output_type": "stream",
     "text": [
      "Hi, there.\n"
     ]
    }
   ],
   "execution_count": 11
  },
  {
   "metadata": {},
   "cell_type": "code",
   "outputs": [],
   "execution_count": null,
   "source": [
    "\"\"\"\n",
    "109\n",
    "Predict the output of the following code:\n",
    "\n",
    "if True:\n",
    "    print(\"1\")\n",
    "    print(\"2\")\n",
    "else:\n",
    "    print(\"3\")\n",
    "print(\"4\")\n",
    "\"\"\"\n",
    "# prediction: 1 2 4"
   ],
   "id": "6c36191907861340"
  },
  {
   "metadata": {
    "ExecuteTime": {
     "end_time": "2025-04-09T14:11:24.989558Z",
     "start_time": "2025-04-09T14:11:24.985487Z"
    }
   },
   "cell_type": "code",
   "source": [
    "if True: # this condition is satisfied\n",
    "    print(\"1\") # executed\n",
    "    print(\"2\") # executed\n",
    "else:\n",
    "    print(\"3\")\n",
    "print(\"4\")     # executed"
   ],
   "id": "aae6ab01d44a5219",
   "outputs": [
    {
     "name": "stdout",
     "output_type": "stream",
     "text": [
      "1\n",
      "2\n",
      "4\n"
     ]
    }
   ],
   "execution_count": 12
  },
  {
   "metadata": {},
   "cell_type": "code",
   "outputs": [],
   "execution_count": null,
   "source": [
    "\"\"\"\n",
    "110\n",
    "Predict the output of the following code:\n",
    "\n",
    "if True:\n",
    "    if False:\n",
    "        print(\"1\")\n",
    "        print(\"2\")\n",
    "    else:\n",
    "        print(\"3\")\n",
    "else:\n",
    "    print(\"4\")\n",
    "print(\"5\")\n",
    "\"\"\"\n",
    "# prediction: 3 5"
   ],
   "id": "d78f8f8347ba16bb"
  },
  {
   "metadata": {
    "ExecuteTime": {
     "end_time": "2025-04-09T14:12:30.144748Z",
     "start_time": "2025-04-09T14:12:30.141490Z"
    }
   },
   "cell_type": "code",
   "source": [
    "if True: # this condition is satisfied\n",
    "    if False:\n",
    "        print(\"1\")\n",
    "        print(\"2\")\n",
    "    else: # this condition is satisfied\n",
    "        print(\"3\") # executed\n",
    "else:\n",
    "    print(\"4\")\n",
    "print(\"5\") # this condition is satisfied, executed"
   ],
   "id": "ebb19d32d7bb200f",
   "outputs": [
    {
     "name": "stdout",
     "output_type": "stream",
     "text": [
      "3\n",
      "5\n"
     ]
    }
   ],
   "execution_count": 13
  },
  {
   "metadata": {},
   "cell_type": "code",
   "outputs": [],
   "execution_count": null,
   "source": [
    "\"\"\"\n",
    "# Part 7: dictionary in Python (part 2/3)\n",
    "# source: 'https://wikidocs.net/7030'\n",
    "\"\"\""
   ],
   "id": "35996d6a2e2cb47"
  },
  {
   "metadata": {},
   "cell_type": "code",
   "outputs": [],
   "execution_count": null,
   "source": [
    "\"\"\"\n",
    "111\n",
    "Print the string entered by the user twice.\n",
    "Below is the expected output when the user inputs \"Hello\".\n",
    "\n",
    ">> Hello\n",
    "HelloHello\n",
    "\"\"\""
   ],
   "id": "4719bea5257e9417"
  },
  {
   "metadata": {
    "ExecuteTime": {
     "end_time": "2025-04-09T14:19:07.108326Z",
     "start_time": "2025-04-09T14:19:04.115086Z"
    }
   },
   "cell_type": "code",
   "source": [
    "user_input = input()\n",
    "print(user_input * 2)"
   ],
   "id": "4e1aefba6a118cfd",
   "outputs": [
    {
     "name": "stdout",
     "output_type": "stream",
     "text": [
      "HelloHello\n"
     ]
    }
   ],
   "execution_count": 15
  },
  {
   "metadata": {
    "ExecuteTime": {
     "end_time": "2025-04-09T14:44:09.829603Z",
     "start_time": "2025-04-09T14:44:06.267597Z"
    }
   },
   "cell_type": "code",
   "source": [
    "\"\"\"\n",
    "112\n",
    "Receive a number from the user and print the result after adding 10 to it.\n",
    "\n",
    ">> Enter a number: 30\n",
    "40\n",
    "\"\"\"\n",
    "\n",
    "user_input_number = float(input())\n",
    "print(user_input_number + 10)"
   ],
   "id": "915a6dde0a813694",
   "outputs": [
    {
     "name": "stdout",
     "output_type": "stream",
     "text": [
      "40.0\n"
     ]
    }
   ],
   "execution_count": 16
  },
  {
   "metadata": {},
   "cell_type": "code",
   "outputs": [],
   "execution_count": null,
   "source": [
    "\"\"\"\n",
    "113\n",
    "Receive a number from the user and determine whether it is even or odd.\n",
    "\n",
    ">> 30\n",
    "Even\n",
    "\"\"\""
   ],
   "id": "2ba519fecb40378"
  },
  {
   "metadata": {
    "ExecuteTime": {
     "end_time": "2025-04-09T14:48:50.019595Z",
     "start_time": "2025-04-09T14:48:45.564109Z"
    }
   },
   "cell_type": "code",
   "source": [
    "user_input_number = float(input())\n",
    "\n",
    "if user_input_number % 2 == 0:\n",
    "    print(\"Even\")\n",
    "else:\n",
    "    print(\"Odd\")"
   ],
   "id": "13c4c1333b7124f3",
   "outputs": [
    {
     "name": "stdout",
     "output_type": "stream",
     "text": [
      "Even\n"
     ]
    }
   ],
   "execution_count": 17
  },
  {
   "metadata": {},
   "cell_type": "code",
   "outputs": [],
   "execution_count": null,
   "source": [
    "\"\"\"\n",
    "114\n",
    "Receive a value from the user and add 20 to it.\n",
    "If the result exceeds 255, print 255 instead.\n",
    "\n",
    ">> Input: 200\n",
    "Output: 220\n",
    "\n",
    ">> Input: 240\n",
    "Output: 255\n",
    "\"\"\""
   ],
   "id": "cce07e913a27cead"
  },
  {
   "metadata": {
    "ExecuteTime": {
     "end_time": "2025-04-09T14:49:38.103632Z",
     "start_time": "2025-04-09T14:49:35.810986Z"
    }
   },
   "cell_type": "code",
   "source": [
    "input_value = float(input())\n",
    "\n",
    "input_value = input_value + 20\n",
    "if input_value > 255:\n",
    "    print(255)\n",
    "else:\n",
    "    print(input_value)"
   ],
   "id": "dfc5f68b33371e9",
   "outputs": [
    {
     "name": "stdout",
     "output_type": "stream",
     "text": [
      "220.0\n"
     ]
    }
   ],
   "execution_count": 18
  },
  {
   "metadata": {
    "ExecuteTime": {
     "end_time": "2025-04-09T14:49:48.165657Z",
     "start_time": "2025-04-09T14:49:45.613745Z"
    }
   },
   "cell_type": "code",
   "source": [
    "input_value = float(input())\n",
    "\n",
    "input_value = input_value + 20\n",
    "if input_value > 255:\n",
    "    print(255)\n",
    "else:\n",
    "    print(input_value)"
   ],
   "id": "7bd9a04e3baf2cd6",
   "outputs": [
    {
     "name": "stdout",
     "output_type": "stream",
     "text": [
      "255\n"
     ]
    }
   ],
   "execution_count": 19
  },
  {
   "metadata": {},
   "cell_type": "code",
   "outputs": [],
   "execution_count": null,
   "source": [
    "\"\"\"\n",
    "115\n",
    "Receive a value from the user and subtract 20 from it.\n",
    "The result must be within the range 0–255.\n",
    "If it goes below 0, print 0; if it exceeds 255, print 255.\n",
    "\n",
    ">> Input: 200\n",
    "Output: 180\n",
    ">> Input: 15\n",
    "Output: 0\n",
    "\"\"\""
   ],
   "id": "de77c9cf6d3c01e4"
  },
  {
   "metadata": {
    "ExecuteTime": {
     "end_time": "2025-04-09T14:50:41.163298Z",
     "start_time": "2025-04-09T14:50:38.717974Z"
    }
   },
   "cell_type": "code",
   "source": [
    "input_value = float(input())\n",
    "input_value = input_value - 20\n",
    "\n",
    "if input_value <0:\n",
    "    print(0)\n",
    "elif input_value > 255:\n",
    "    print(255)\n",
    "else:\n",
    "    print(input_value)"
   ],
   "id": "84ea226378614ed",
   "outputs": [
    {
     "name": "stdout",
     "output_type": "stream",
     "text": [
      "180.0\n"
     ]
    }
   ],
   "execution_count": 21
  },
  {
   "metadata": {
    "ExecuteTime": {
     "end_time": "2025-04-09T14:50:50.884075Z",
     "start_time": "2025-04-09T14:50:48.753949Z"
    }
   },
   "cell_type": "code",
   "source": [
    "input_value = float(input())\n",
    "input_value = input_value - 20\n",
    "\n",
    "if input_value <0:\n",
    "    print(0)\n",
    "elif input_value > 255:\n",
    "    print(255)\n",
    "else:\n",
    "    print(input_value)"
   ],
   "id": "1162eccded90752d",
   "outputs": [
    {
     "name": "stdout",
     "output_type": "stream",
     "text": [
      "0\n"
     ]
    }
   ],
   "execution_count": 22
  },
  {
   "metadata": {},
   "cell_type": "code",
   "outputs": [],
   "execution_count": null,
   "source": [
    "\"\"\"\n",
    "116\n",
    "Determine whether the time entered by the user is on the hour (e.g., HH:00).\n",
    "\n",
    ">> Current time: 02:00\n",
    "It is on the hour.\n",
    ">> Current time: 03:10\n",
    "It is not on the hour.\n",
    "\"\"\""
   ],
   "id": "3e94f021e406fa01"
  },
  {
   "metadata": {
    "ExecuteTime": {
     "end_time": "2025-04-09T14:54:37.361819Z",
     "start_time": "2025-04-09T14:54:33.910093Z"
    }
   },
   "cell_type": "code",
   "source": [
    "user_input_time = str(input())\n",
    "minutes = user_input_time.split(':')[-1]\n",
    "\n",
    "print(f\"Based on the input time {user_input_time},\")\n",
    "if minutes != \"00\":\n",
    "    print(\"It is not on the hour.\")\n",
    "else:\n",
    "    print(\"It is on the hour.\")"
   ],
   "id": "508ec038402810da",
   "outputs": [
    {
     "name": "stdout",
     "output_type": "stream",
     "text": [
      "Based on the input time 02:00,\n",
      "It is on the hour.\n"
     ]
    }
   ],
   "execution_count": 27
  },
  {
   "metadata": {
    "ExecuteTime": {
     "end_time": "2025-04-09T14:54:45.080448Z",
     "start_time": "2025-04-09T14:54:42.252818Z"
    }
   },
   "cell_type": "code",
   "source": [
    "user_input_time = str(input())\n",
    "minutes = user_input_time.split(':')[-1]\n",
    "\n",
    "print(f\"Based on the input time {user_input_time},\")\n",
    "if minutes != \"00\":\n",
    "    print(\"It is not on the hour.\")\n",
    "else:\n",
    "    print(\"It is on the hour.\")"
   ],
   "id": "79d492212be6c7f6",
   "outputs": [
    {
     "name": "stdout",
     "output_type": "stream",
     "text": [
      "Based on the input time 03:10,\n",
      "It is not on the hour.\n"
     ]
    }
   ],
   "execution_count": 28
  },
  {
   "metadata": {},
   "cell_type": "code",
   "outputs": [],
   "execution_count": null,
   "source": [
    "\"\"\"\n",
    "117\n",
    "Check whether the word entered by the user is included in the `fruit` list.\n",
    "If it is included, print \"Correct\"; otherwise, print \"Incorrect\".\n",
    "\n",
    "fruit = [\"Apple\", \"Grape\", \"Persimmon\"]\n",
    ">> Favorite fruit? Apple\n",
    "Correct.\n",
    "\"\"\""
   ],
   "id": "2d1b9400bb3af0f4"
  },
  {
   "metadata": {
    "ExecuteTime": {
     "end_time": "2025-04-09T15:10:19.933457Z",
     "start_time": "2025-04-09T15:10:17.454571Z"
    }
   },
   "cell_type": "code",
   "source": [
    "fruit = [\"Apple\", \"Grape\", \"Persimmon\"]\n",
    "input_word = str(input())\n",
    "\n",
    "print(f\"{input_word} is user's choice.\")\n",
    "if input_word in fruit:\n",
    "    print(\"Correct\")\n",
    "else:\n",
    "    print(\"Incorrect\")"
   ],
   "id": "30082a6d41fcdae2",
   "outputs": [
    {
     "name": "stdout",
     "output_type": "stream",
     "text": [
      "Apple is user's choice.\n",
      "Correct\n"
     ]
    }
   ],
   "execution_count": 5
  },
  {
   "metadata": {},
   "cell_type": "code",
   "outputs": [],
   "execution_count": null,
   "source": [
    "\"\"\"\n",
    "118\n",
    "Given a list of investment warning stocks, receive a stock name from the user.\n",
    "If it is in the list, print \"This is an investment warning stock\"; otherwise, print \"This is not an investment warning stock.\"\n",
    "\n",
    "warn_investment_list = [\"Microsoft\", \"Google\", \"Naver\", \"Kakao\", \"SAMSUNG\", \"LG\"]\n",
    "\"\"\""
   ],
   "id": "d25ebbd724348644"
  },
  {
   "metadata": {
    "ExecuteTime": {
     "end_time": "2025-04-09T15:09:56.379859Z",
     "start_time": "2025-04-09T15:09:52.308713Z"
    }
   },
   "cell_type": "code",
   "source": [
    "warn_investment_list = [\"Microsoft\", \"Google\", \"Naver\", \"Kakao\", \"SAMSUNG\", \"LG\"]\n",
    "\n",
    "user_input = str(input())\n",
    "print(f\"{user_input} is user's input\")\n",
    "if user_input in warn_investment_list:\n",
    "    print(\"This is an investment warning stock\")\n",
    "else:\n",
    "    print(\"This is not an investment warning stock.\")"
   ],
   "id": "75ef9b7300b18d1a",
   "outputs": [
    {
     "name": "stdout",
     "output_type": "stream",
     "text": [
      "LG is user's input\n",
      "This is an investment warning stock\n"
     ]
    }
   ],
   "execution_count": 3
  },
  {
   "metadata": {},
   "cell_type": "code",
   "outputs": [],
   "execution_count": null,
   "source": [
    "\"\"\"\n",
    "119\n",
    "Given the dictionary `fruit` below, check if the user's input is one of the keys.\n",
    "If it is, print \"Correct\"; otherwise, print \"Incorrect\".\n",
    "\n",
    "fruit = {\"Spring\": \"Strawberry\", \"Summer\": \"Tomato\", \"Autumn\": \"Apple\"}\n",
    ">> My favorite season: Spring\n",
    "Correct.\n",
    "\"\"\""
   ],
   "id": "5bf809ec3fab1871"
  },
  {
   "metadata": {
    "ExecuteTime": {
     "end_time": "2025-04-09T15:13:30.405945Z",
     "start_time": "2025-04-09T15:13:25.181337Z"
    }
   },
   "cell_type": "code",
   "source": [
    "fruit = {\"Spring\": \"Strawberry\", \"Summer\": \"Tomato\", \"Autumn\": \"Apple\"}\n",
    "\n",
    "user_input = str(input())\n",
    "print(f\"My favorite season: {user_input}\")\n",
    "if user_input in fruit.keys():\n",
    "    print(\"Correct\")\n",
    "else:\n",
    "    print(\"Incorrect\")"
   ],
   "id": "ab7e24918fa2ea24",
   "outputs": [
    {
     "name": "stdout",
     "output_type": "stream",
     "text": [
      "My favorite season: Spring\n",
      "Correct\n"
     ]
    }
   ],
   "execution_count": 6
  },
  {
   "metadata": {},
   "cell_type": "code",
   "outputs": [],
   "execution_count": null,
   "source": [
    "\"\"\"\n",
    "120\n",
    "Given the dictionary `fruit` below, check if the user's input is one of the values.\n",
    "If it is, print \"Correct\"; otherwise, print \"Incorrect\".\n",
    "\n",
    "fruit = {\"Spring\": \"Strawberry\", \"Summer\": \"Tomato\", \"Autumn\": \"Apple\"}\n",
    ">> Favorite fruit? Hallabong\n",
    "Incorrect.\n",
    "\"\"\""
   ],
   "id": "60f5c1ac7b3354fb"
  },
  {
   "metadata": {
    "ExecuteTime": {
     "end_time": "2025-04-09T15:15:55.286654Z",
     "start_time": "2025-04-09T15:15:50.015658Z"
    }
   },
   "cell_type": "code",
   "source": [
    "fruit = {\"Spring\": \"Strawberry\", \"Summer\": \"Tomato\", \"Autumn\": \"Apple\"}\n",
    "\n",
    "user_input = str(input())\n",
    "\n",
    "print(f\"Favorite fruit? {user_input}\")\n",
    "if user_input in fruit.values():\n",
    "    print(\"Correct\")\n",
    "else:\n",
    "    print(\"Incorrect\")"
   ],
   "id": "ebf385661f4d88af",
   "outputs": [
    {
     "name": "stdout",
     "output_type": "stream",
     "text": [
      "Favorite fruit? Hallabong\n",
      "Incorrect\n"
     ]
    }
   ],
   "execution_count": 7
  },
  {
   "metadata": {},
   "cell_type": "code",
   "outputs": [],
   "execution_count": null,
   "source": [
    "\"\"\"\n",
    "# Part 7: dictionary in Python (part 3/3)\n",
    "# source: 'https://wikidocs.net/7031'\n",
    "\"\"\""
   ],
   "id": "27279f5ae9141409"
  },
  {
   "metadata": {},
   "cell_type": "code",
   "outputs": [],
   "execution_count": null,
   "source": [
    "\"\"\"\n",
    "121\n",
    "Receive a single character from the user.\n",
    "If it's a lowercase letter, convert it to uppercase; if it's uppercase, convert it to lowercase.\n",
    "\n",
    ">> a\n",
    "A\n",
    "\n",
    "Hint 1: The `islower()` function checks if a character is lowercase. It returns `True` for lowercase and `False` for uppercase.\n",
    "Hint 2: The `upper()` function converts to uppercase, and `lower()` converts to lowercase.\n",
    "\"\"\""
   ],
   "id": "efbf51ed2aa7b6a3"
  },
  {
   "metadata": {
    "ExecuteTime": {
     "end_time": "2025-04-09T15:27:59.018054Z",
     "start_time": "2025-04-09T15:27:56.336912Z"
    }
   },
   "cell_type": "code",
   "source": [
    "user_input_character = str(input())\n",
    "\n",
    "print(f\"Based on the user's input character: {user_input_character}\")\n",
    "if user_input_character .islower():\n",
    "    print(user_input_character.upper())\n",
    "else:\n",
    "    print(user_input_character.lower())"
   ],
   "id": "61abf54f8a6e483a",
   "outputs": [
    {
     "name": "stdout",
     "output_type": "stream",
     "text": [
      "Based on the user's input character: a\n",
      "A\n"
     ]
    }
   ],
   "execution_count": 11
  },
  {
   "metadata": {},
   "cell_type": "code",
   "outputs": [],
   "execution_count": null,
   "source": [
    "\"\"\"\n",
    "122\n",
    "Grades are defined by the score range as follows.\n",
    "Receive a score from the user and print the corresponding grade.\n",
    "\n",
    "Score    Grade\n",
    "81–100   A\n",
    "61–80    B\n",
    "41–60    C\n",
    "21–40    D\n",
    "0–20     E\n",
    "\n",
    ">> score: 83\n",
    "grade is A\n",
    "\"\"\""
   ],
   "id": "6e9926c4cbf68365"
  },
  {
   "metadata": {
    "ExecuteTime": {
     "end_time": "2025-04-09T15:33:24.838355Z",
     "start_time": "2025-04-09T15:33:22.156064Z"
    }
   },
   "cell_type": "code",
   "source": [
    "user_input_score = int(input())\n",
    "\n",
    "print(f\"score: {user_input_score}\")\n",
    "if 81 <= user_input_score <= 100:\n",
    "    print(f\"grade is A\")\n",
    "elif 61 <= user_input_score <= 80:\n",
    "    print(f\"grade is B\")\n",
    "elif 41 <= user_input_score <= 60:\n",
    "    print(f\"grade is C\")\n",
    "elif 21 <= user_input_score <= 40:\n",
    "    print(f\"grade is D\")\n",
    "elif 0 <= user_input_score <= 20:\n",
    "    print(f\"grade is E\")\n",
    "else:\n",
    "    print(\"Something wrong with input\")\n"
   ],
   "id": "2f7b4670d7443015",
   "outputs": [
    {
     "name": "stdout",
     "output_type": "stream",
     "text": [
      "score: 83\n",
      "grade is A\n"
     ]
    }
   ],
   "execution_count": 14
  },
  {
   "metadata": {},
   "cell_type": "code",
   "outputs": [],
   "execution_count": null,
   "source": [
    "\"\"\"\n",
    "123\n",
    "Write a program that receives an amount and currency\n",
    "from the user (e.g., \"100 USD\") and converts it to Euro.\n",
    "\n",
    "The user inputs the amount and currency name separated by a space.\n",
    "Conversion rates are as follows:\n",
    "\n",
    "Currency   Rate\n",
    "Dollar     1167\n",
    "Yen        1.096\n",
    "Euro       1268\n",
    "Yuan       171\n",
    "\n",
    ">> Input: 100 USD\n",
    "126800.00 Euro\n",
    "\"\"\""
   ],
   "id": "6c637b8172d039f4"
  },
  {
   "metadata": {
    "ExecuteTime": {
     "end_time": "2025-04-09T17:24:37.052661Z",
     "start_time": "2025-04-09T17:24:33.088852Z"
    }
   },
   "cell_type": "code",
   "source": [
    "foreign_exchange_dictionary = {\"Dollar\": 1167, \"Euro\": 171, \"Yen\": 1.096, \"Yuan\": 171}\n",
    "user_input_money = str(input())\n",
    "user_input_money_split = user_input_money.split()\n",
    "\n",
    "money_amount = float(user_input_money_split[0])\n",
    "money_currency = user_input_money_split[1]\n",
    "converted_money_amount = 1\n",
    "currency_exchange_rate = 1\n",
    "\n",
    "if money_currency == \"USD\":\n",
    "    currency_exchange_rate = foreign_exchange_dictionary[\"Dollar\"]\n",
    "elif money_currency == \"Euro\":\n",
    "    currency_exchange_rate = foreign_exchange_dictionary[\"Euro\"]\n",
    "elif money_currency == \"Yen\":\n",
    "    currency_exchange_rate = foreign_exchange_dictionary[\"Yen\"]\n",
    "elif money_currency == \"Yuan\":\n",
    "    currency_exchange_rate = foreign_exchange_dictionary[\"Yuan\"]\n",
    "\n",
    "converted_money_amount = currency_exchange_rate * money_amount\n",
    "\n",
    "print(f\"Input {user_input_money}\")\n",
    "print(f\"{converted_money_amount} {money_currency}\")\n",
    "# https://wikidocs.net/7031"
   ],
   "id": "98e0eb50d9e6b613",
   "outputs": [
    {
     "name": "stdout",
     "output_type": "stream",
     "text": [
      "Input 100 USD\n",
      "116700.0 USD\n"
     ]
    }
   ],
   "execution_count": 4
  },
  {
   "metadata": {},
   "cell_type": "code",
   "outputs": [],
   "execution_count": null,
   "source": [
    "\"\"\"\n",
    "124\n",
    "Receive three numbers from the user and print the largest one.\n",
    "\n",
    ">> input number1: 10\n",
    ">> input number2: 9\n",
    ">> input number3: 20\n",
    "20\n",
    "\"\"\""
   ],
   "id": "d84b7632964d209c"
  },
  {
   "metadata": {
    "ExecuteTime": {
     "end_time": "2025-04-09T19:06:21.325438Z",
     "start_time": "2025-04-09T19:06:15.673299Z"
    }
   },
   "cell_type": "code",
   "source": [
    "input_user_number1 = float(input())\n",
    "input_user_number2 = float(input())\n",
    "input_user_number3 = float(input())\n",
    "\n",
    "larget_number = max([input_user_number1, input_user_number2, input_user_number3])\n",
    "print(f\"largest number: {larget_number}\")"
   ],
   "id": "26269bbaa796d41b",
   "outputs": [
    {
     "name": "stdout",
     "output_type": "stream",
     "text": [
      "largest number: 20.0\n"
     ]
    }
   ],
   "execution_count": 9
  },
  {
   "metadata": {
    "ExecuteTime": {
     "end_time": "2025-04-09T19:04:19.161800Z",
     "start_time": "2025-04-09T19:04:19.158294Z"
    }
   },
   "cell_type": "code",
   "source": [
    "\"\"\"\n",
    "125\n",
    "Mobile carriers are identified by the prefix of the phone number.\n",
    "Receive a mobile phone number from the user and print the corresponding carrier.\n",
    "\n",
    "Prefix   Carrier\n",
    "011      SKT\n",
    "016      KT\n",
    "019      LGU\n",
    "010      Unknown\n",
    "\n",
    ">> Enter your phone number: 011-345-1922\n",
    "You are an SKT user.\n",
    "\"\"\""
   ],
   "id": "bd54164738786a9e",
   "outputs": [
    {
     "name": "stdout",
     "output_type": "stream",
     "text": [
      "3\n"
     ]
    }
   ],
   "execution_count": 5
  },
  {
   "metadata": {
    "ExecuteTime": {
     "end_time": "2025-04-09T19:12:02.611965Z",
     "start_time": "2025-04-09T19:11:57.018709Z"
    }
   },
   "cell_type": "code",
   "source": [
    "user_input_number = str(input())\n",
    "user_input_split = user_input_number.split(\"-\")\n",
    "prefix = user_input_split[0]\n",
    "\n",
    "prefix_dictionary =   {\n",
    "    \"011\": \"SKT\",\n",
    "    \"016\": \"LGU\",\n",
    "    \"019\": \"LGU\",\n",
    "    \"010\": \"SKT\"\n",
    "    }\n",
    "print(f\"Your phone number is: {user_input_number}\")\n",
    "\n",
    "if prefix in prefix_dictionary.keys():\n",
    "    print(f\"You are an {prefix_dictionary[prefix]} user\")\n",
    "else:\n",
    "    print(\"You are an unknown user\")"
   ],
   "id": "8c9c7b47b79092d",
   "outputs": [
    {
     "name": "stdout",
     "output_type": "stream",
     "text": [
      "Your phone number is: 011-345-1922\n",
      "You are an SKT user\n"
     ]
    }
   ],
   "execution_count": 13
  },
  {
   "metadata": {},
   "cell_type": "code",
   "outputs": [],
   "execution_count": null,
   "source": [
    "\"\"\"\n",
    "126\n",
    "Postal codes in Korea consist of 5 digits.\n",
    "The first three digits represent a district (gu).\n",
    "For example, the codes starting with 010, 011, 012 belong to Gangbuk-gu.\n",
    "\n",
    "010, 011, 012: Gangbuk\n",
    "013, 014, 015: Dobong\n",
    "016, 017, 018, 019: Nowon\n",
    "\n",
    "Receive a 5-digit postal code from the user and identify the district.\n",
    "\n",
    ">> Postal code: 01400\n",
    "Dobong-gu\n",
    "\"\"\""
   ],
   "id": "42afb13d58e28676"
  },
  {
   "metadata": {
    "ExecuteTime": {
     "end_time": "2025-04-09T19:31:28.734100Z",
     "start_time": "2025-04-09T19:31:23.030461Z"
    }
   },
   "cell_type": "code",
   "source": [
    "postal_dictionary = {\n",
    "    (\"010\", \"011\", \"012\"): \"Gangbuk\",\n",
    "    (\"013\", \"014\", \"015\"): \"Dobong\",\n",
    "    (\"016\", \"017\", \"018\", \"019\"): \"Nowon\"\n",
    "} # dictionary should take tuple (), not list, because list [] can be changed\n",
    "\n",
    "user_input_postal_code = str(input())\n",
    "three_prefix = user_input_postal_code[:3]\n",
    "\n",
    "print(f\"user postal code: {user_input_postal_code}\")\n",
    "\n",
    "for key in postal_dictionary.keys():\n",
    "    if three_prefix in key:\n",
    "        print(f\"Postal code: {postal_dictionary[key]}\")\n",
    "        break\n",
    "else:\n",
    "    print(\"Postal code not found\")"
   ],
   "id": "ce8d7a407f0fc8e2",
   "outputs": [
    {
     "name": "stdout",
     "output_type": "stream",
     "text": [
      "user postal code: 01400\n",
      "Postal code: Dobong\n"
     ]
    }
   ],
   "execution_count": 18
  },
  {
   "metadata": {},
   "cell_type": "code",
   "outputs": [],
   "execution_count": null,
   "source": [
    "\"\"\"\n",
    "127\n",
    "The first digit of the 7-digit back part of the Korean resident registration number indicates gender:\n",
    "1 or 3 means male, 2 or 4 means female.\n",
    "Receive a 13-digit resident registration number and print the gender.\n",
    "\n",
    ">> Resident Registration Number: 821010-1635210\n",
    "Male\n",
    "\"\"\""
   ],
   "id": "70c38fa89d59cfe4"
  },
  {
   "metadata": {
    "ExecuteTime": {
     "end_time": "2025-04-09T19:36:43.485215Z",
     "start_time": "2025-04-09T19:36:42.274105Z"
    }
   },
   "cell_type": "code",
   "source": [
    "user_input_resident_registration_number = str(input())\n",
    "\n",
    "user_input_resident_registration_number_split = user_input_resident_registration_number.split(\"-\")\n",
    "second_part_with_gender = user_input_resident_registration_number_split[1]\n",
    "gender_code = second_part_with_gender[0]\n",
    "\n",
    "print(f\"Resident Registration Number: {user_input_resident_registration_number}\")\n",
    "\n",
    "if (gender_code == \"1\") or (gender_code == \"3\"):\n",
    "    print(f\"Male\")\n",
    "elif (gender_code == \"2\") or (gender_code == \"4\"):\n",
    "    print(f\"Female\")\n",
    "else:\n",
    "    print(f\"Unknown\")"
   ],
   "id": "d3b0f5d7b9d89aaa",
   "outputs": [
    {
     "name": "stdout",
     "output_type": "stream",
     "text": [
      "Resident Registration Number: 821010-1635210\n",
      "Male\n"
     ]
    }
   ],
   "execution_count": 21
  },
  {
   "metadata": {},
   "cell_type": "code",
   "outputs": [],
   "execution_count": null,
   "source": [
    "\"\"\"\n",
    "128\n",
    "The 2nd and 3rd digits of the back 7 digits of the Korean resident registration number indicate the region code.\n",
    "Check whether the birthplace is Seoul or not based on the code.\n",
    "\n",
    "Region Code   Birthplace\n",
    "00–08         Seoul\n",
    "09–12         Busan\n",
    "\n",
    ">> Resident Registration Number: 821010-1635210\n",
    "Not from Seoul.\n",
    "\n",
    ">> Resident Registration Number: 861010-1015210\n",
    "From Seoul.\n",
    "\"\"\""
   ],
   "id": "62e77d52a01b35d7"
  },
  {
   "metadata": {
    "ExecuteTime": {
     "end_time": "2025-04-09T19:45:33.117212Z",
     "start_time": "2025-04-09T19:45:29.948960Z"
    }
   },
   "cell_type": "code",
   "source": [
    "user_input_resident_number = str(input())\n",
    "user_input_split = user_input_resident_number.split(\"-\")\n",
    "second_part_with_region = user_input_split[1]\n",
    "region_part = int(second_part_with_region[1:3])\n",
    "\n",
    "print(f\"Resident Registration Number: {user_input_resident_number}\")\n",
    "if 0 <= region_part <= 8:\n",
    "    print(f\"From Seoul with {region_part}\")\n",
    "else:\n",
    "    print(f\"Not from Seoul with {region_part}\")"
   ],
   "id": "6510af8f8588a819",
   "outputs": [
    {
     "name": "stdout",
     "output_type": "stream",
     "text": [
      "Resident Registration Number: 821010-1635210\n",
      "Not from Seoul with 63\n"
     ]
    }
   ],
   "execution_count": 26
  },
  {
   "metadata": {
    "ExecuteTime": {
     "end_time": "2025-04-09T19:45:40.884968Z",
     "start_time": "2025-04-09T19:45:37.496681Z"
    }
   },
   "cell_type": "code",
   "source": [
    "user_input_resident_number = str(input())\n",
    "user_input_split = user_input_resident_number.split(\"-\")\n",
    "second_part_with_region = user_input_split[1]\n",
    "region_part = int(second_part_with_region[1:3])\n",
    "\n",
    "print(f\"Resident Registration Number: {user_input_resident_number}\")\n",
    "if 0 <= region_part <= 8:\n",
    "    print(f\"From Seoul with {region_part}\")\n",
    "else:\n",
    "    print(f\"Not from Seoul with {region_part}\")"
   ],
   "id": "5625bdfe6dd4e352",
   "outputs": [
    {
     "name": "stdout",
     "output_type": "stream",
     "text": [
      "Resident Registration Number: 861010-1015210\n",
      "From Seoul with 1\n"
     ]
    }
   ],
   "execution_count": 27
  },
  {
   "metadata": {},
   "cell_type": "code",
   "outputs": [],
   "execution_count": null,
   "source": [
    "\"\"\"\n",
    "129\n",
    "The Korean resident registration number is 13 digits long.\n",
    "The last digit is used for validation.\n",
    "To verify:\n",
    "\n",
    "1. Multiply the first 12 digits by the sequence: 2, 3, 4, 5, 6, 7, 8, 9, 2, 3, 4, 5\n",
    "2. Sum the results\n",
    "3. Get the remainder when divided by 11\n",
    "4. Subtract the remainder from 11\n",
    "5. The result should match the 13th digit\n",
    "\n",
    "Example:\n",
    "821010-1635210\n",
    "\n",
    "Calculation:\n",
    "8*2 + 2*3 + 1*4 + 0*5 + 1*6 + 0*7 + 1*8 + 6*9 + 3*2 + 5*3 + 2*4 + 1*5 = 128\n",
    "128 % 11 = 7\n",
    "11 - 7 = 4\n",
    "\n",
    "The correct last digit should be 4, but in the given number it is 0 → **Invalid**\n",
    "\n",
    ">> Resident Registration Number: 821010-1635210\n",
    "Invalid resident registration number.\n",
    "\"\"\""
   ],
   "id": "b05e93d48a2dac7b"
  },
  {
   "metadata": {
    "ExecuteTime": {
     "end_time": "2025-04-09T19:59:53.156025Z",
     "start_time": "2025-04-09T19:59:43.857187Z"
    }
   },
   "cell_type": "code",
   "source": [
    "user_input_resident_number = str(input())\n",
    "#user_input_resident_number = \"821010-1635210\"\n",
    "user_input_split = user_input_resident_number.split(\"-\")\n",
    "user_input_join = \"\".join(user_input_split)\n",
    "user_input_join_integer = [int(x) for x in user_input_join]\n",
    "first_eight_digits = user_input_join_integer[:8]\n",
    "last_digit = user_input_join_integer[8:]\n",
    "\n",
    "multiple_sequence = [2, 3, 4, 5, 6, 7, 8, 9, 2, 3, 4, 5]\n",
    "product_sequence = [a * b for a,b in zip(first_eight_digits, multiple_sequence)]\n",
    "sum_product = sum(product_sequence)\n",
    "divider = 11\n",
    "remainder_by_divider = sum_product % divider\n",
    "\n",
    "print(f\"Resident Registration Number: {user_input_resident_number}\")\n",
    "\n",
    "if (remainder_by_divider != last_digit):\n",
    "    print(\"Invalid resident registration number.\")\n",
    "else:\n",
    "    print(\"Valid resident registration number.\")\n",
    "\n",
    "\n"
   ],
   "id": "fb9c7d8ac9529030",
   "outputs": [
    {
     "name": "stdout",
     "output_type": "stream",
     "text": [
      "Resident Registration Number: 821010-1635210\n",
      "Invalid resident registration number.\n"
     ]
    }
   ],
   "execution_count": 35
  },
  {
   "metadata": {
    "ExecuteTime": {
     "end_time": "2025-04-09T19:55:50.585958Z",
     "start_time": "2025-04-09T19:55:50.582817Z"
    }
   },
   "cell_type": "code",
   "source": [
    "\"\"\"\n",
    "130\n",
    "The code below retrieves Bitcoin price information into a dictionary:\n",
    "\n",
    "```python\n",
    "import requests\n",
    "btc = requests.get(\"https://api.bithumb.com/public/ticker/\").json()['data']\n",
    "```\n",
    "\n",
    "The `btc` dictionary contains information such as the opening price, closing price, highest price, and lowest price.\n",
    "When defining the fluctuation range as the difference between the highest and lowest prices,\n",
    "if (opening price + fluctuation) is greater than the highest price, print the string \"Bull Market\",\n",
    "otherwise print \"Bear Market\".\n",
    "\n",
    "| Key Name        | Description                            |\n",
    "|-----------------|----------------------------------------|\n",
    "| opening_price   | Opening price in the last 24 hours     |\n",
    "| closing_price   | Closing price in the last 24 hours     |\n",
    "| min_price       | Lowest price in the last 24 hours      |\n",
    "| max_price       | Highest price in the last 24 hours     |\n",
    "\"\"\""
   ],
   "id": "1aefe8d3feeb3ec6",
   "outputs": [
    {
     "name": "stdout",
     "output_type": "stream",
     "text": [
      "2\n"
     ]
    }
   ],
   "execution_count": 30
  },
  {
   "metadata": {
    "ExecuteTime": {
     "end_time": "2025-04-09T20:01:58.076817Z",
     "start_time": "2025-04-09T20:01:56.243294Z"
    }
   },
   "cell_type": "code",
   "source": [
    "import requests\n",
    "btc = requests.get(\"https://api.bithumb.com/public/ticker/\").json()['data']"
   ],
   "id": "1d669a17ae82fe89",
   "outputs": [],
   "execution_count": 36
  },
  {
   "metadata": {
    "ExecuteTime": {
     "end_time": "2025-04-09T20:02:06.516776Z",
     "start_time": "2025-04-09T20:02:06.513584Z"
    }
   },
   "cell_type": "code",
   "source": "print(btc)",
   "id": "491ebda48bfa2b85",
   "outputs": [
    {
     "name": "stdout",
     "output_type": "stream",
     "text": [
      "{'opening_price': '115258000', 'closing_price': '121260000', 'min_price': '115257000', 'max_price': '122150000', 'units_traded': '677.80034618', 'acc_trade_value': '81155899813.72395', 'prev_closing_price': '115299000', 'units_traded_24H': '1939.389448', 'acc_trade_value_24H': '226215056427.31287', 'fluctate_24H': '6064000', 'fluctate_rate_24H': '5.26', 'date': '1744228917989'}\n"
     ]
    }
   ],
   "execution_count": 37
  },
  {
   "metadata": {
    "ExecuteTime": {
     "end_time": "2025-04-09T20:02:25.548538Z",
     "start_time": "2025-04-09T20:02:25.544410Z"
    }
   },
   "cell_type": "code",
   "source": "print(btc.keys())",
   "id": "b829d6cf9a9bc508",
   "outputs": [
    {
     "name": "stdout",
     "output_type": "stream",
     "text": [
      "dict_keys(['opening_price', 'closing_price', 'min_price', 'max_price', 'units_traded', 'acc_trade_value', 'prev_closing_price', 'units_traded_24H', 'acc_trade_value_24H', 'fluctate_24H', 'fluctate_rate_24H', 'date'])\n"
     ]
    }
   ],
   "execution_count": 38
  },
  {
   "metadata": {
    "ExecuteTime": {
     "end_time": "2025-04-09T20:05:00.230323Z",
     "start_time": "2025-04-09T20:05:00.227259Z"
    }
   },
   "cell_type": "code",
   "source": [
    "change_price = float(btc['max_price']) - float(btc['min_price'])\n",
    "\n",
    "if float(btc['opening_price']) + change_price > float(btc['max_price']):\n",
    "    print(\"Bull Market\")\n",
    "else:\n",
    "    print(\"Bear Market\")"
   ],
   "id": "e5104ca822ff58d7",
   "outputs": [
    {
     "name": "stdout",
     "output_type": "stream",
     "text": [
      "Bull Market\n"
     ]
    }
   ],
   "execution_count": 40
  }
 ],
 "metadata": {
  "kernelspec": {
   "display_name": "Python 3",
   "language": "python",
   "name": "python3"
  },
  "language_info": {
   "codemirror_mode": {
    "name": "ipython",
    "version": 2
   },
   "file_extension": ".py",
   "mimetype": "text/x-python",
   "name": "python",
   "nbconvert_exporter": "python",
   "pygments_lexer": "ipython2",
   "version": "2.7.6"
  }
 },
 "nbformat": 4,
 "nbformat_minor": 5
}
