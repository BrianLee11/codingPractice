{
 "cells": [
  {
   "cell_type": "code",
   "execution_count": null,
   "id": "693bd605-d175-479a-8d46-3b71390e60ea",
   "metadata": {},
   "outputs": [],
   "source": [
    "# Part 5: Tuple in Python\n",
    "# source: 'https://wikidocs.net/7027'"
   ]
  },
  {
   "cell_type": "code",
   "execution_count": 1,
   "id": "c8a740ae-adbb-466d-bf28-5355991915f4",
   "metadata": {},
   "outputs": [
    {
     "name": "stdout",
     "output_type": "stream",
     "text": [
      "<class 'tuple'>\n"
     ]
    }
   ],
   "source": [
    "my_variable = ()\n",
    "print(type(my_variable))"
   ]
  },
  {
   "cell_type": "code",
   "execution_count": null,
   "id": "17643b8a-56ff-4adf-99f8-9dd957646957",
   "metadata": {},
   "outputs": [],
   "source": [
    "\"\"\"\n",
    "072\n",
    "Based on the November 2016 movie reservation rankings, store the top 3 movie titles in a tuple named movie_rank. (Do not include the ranking numbers.)\n",
    "\n",
    "Rank    Movie\n",
    "1       Doctor Strange\n",
    "2       Split\n",
    "3       Lucky\n",
    "\"\"\""
   ]
  },
  {
   "cell_type": "code",
   "execution_count": 3,
   "id": "0cb379cc-f56e-4f35-971c-7cd4910df52c",
   "metadata": {},
   "outputs": [
    {
     "name": "stdout",
     "output_type": "stream",
     "text": [
      "('Doctor Strange', 'Split', 'Lucky')\n"
     ]
    }
   ],
   "source": [
    "movie_rank = ('Doctor Strange', 'Split', 'Lucky')\n",
    "print(movie_rank)"
   ]
  },
  {
   "cell_type": "code",
   "execution_count": null,
   "id": "a122662a-5234-4c64-832e-825a1f36bd50",
   "metadata": {},
   "outputs": [],
   "source": [
    "\"\"\"\n",
    "073\n",
    "Create a tuple that contains the number 1.\n",
    "\"\"\""
   ]
  },
  {
   "cell_type": "code",
   "execution_count": 4,
   "id": "0ecc9fd5-5326-4c86-a8e6-de08c8e81eb3",
   "metadata": {},
   "outputs": [
    {
     "name": "stdout",
     "output_type": "stream",
     "text": [
      "<class 'int'>\n"
     ]
    }
   ],
   "source": [
    "number_tuple = (1)\n",
    "print(type(number_tuple))"
   ]
  },
  {
   "cell_type": "code",
   "execution_count": 5,
   "id": "f81c15f6-70e3-4792-9759-7d29722c76b0",
   "metadata": {},
   "outputs": [
    {
     "name": "stdout",
     "output_type": "stream",
     "text": [
      "<class 'tuple'>\n"
     ]
    }
   ],
   "source": [
    "number_tuple = (1, )\n",
    "print(type(number_tuple))"
   ]
  },
  {
   "cell_type": "code",
   "execution_count": null,
   "id": "f852f39b-ba9a-4500-8fa9-74f476425620",
   "metadata": {},
   "outputs": [],
   "source": [
    "\"\"\"\n",
    "074\n",
    "Run the following code and explain the cause of the error.\n",
    "\n",
    ">> t = (1, 2, 3)\n",
    ">> t[0] = 'a'\n",
    "Traceback (most recent call last):\n",
    "  File \"<pyshell#46>\", line 1, in <module>\n",
    "    t[0] = 'a'\n",
    "TypeError: 'tuple' object does not support item assignment\n",
    "\"\"\""
   ]
  },
  {
   "cell_type": "code",
   "execution_count": null,
   "id": "582eea1a-8da1-449a-8347-e1d365bae82a",
   "metadata": {},
   "outputs": [],
   "source": [
    "\"\"\"\n",
    "Explanation:\n",
    "Tuples are immutable in Python, meaning their elements cannot be changed after creation. Attempting to assign a new value to an element of a tuple results in a TypeError.\n",
    "\"\"\""
   ]
  },
  {
   "cell_type": "code",
   "execution_count": null,
   "id": "d881e82b-8c89-4a6e-89f0-c7162d3e69b5",
   "metadata": {},
   "outputs": [],
   "source": [
    "\"\"\"\n",
    "075\n",
    "The variable t is bound to the values 1, 2, 3, 4 as shown below. What is the data type of the value that t is bound to?\n",
    "\n",
    "t = 1, 2, 3, 4\n",
    "\"\"\""
   ]
  },
  {
   "cell_type": "code",
   "execution_count": 6,
   "id": "632de712-fc40-48a2-a9a9-87ef87337d23",
   "metadata": {},
   "outputs": [
    {
     "name": "stdout",
     "output_type": "stream",
     "text": [
      "<class 'tuple'>\n"
     ]
    }
   ],
   "source": [
    "t = 1, 2, 3, 4\n",
    "\n",
    "print(type(t))"
   ]
  },
  {
   "cell_type": "code",
   "execution_count": null,
   "id": "7bc7c617-f3e2-46d4-9be6-c2a0446b792c",
   "metadata": {},
   "outputs": [],
   "source": [
    "\"\"\"\n",
    "Strictly speaking, tuples should be defined with parentheses, but for user convenience, they also work without them.\n",
    "\"\"\""
   ]
  },
  {
   "cell_type": "code",
   "execution_count": null,
   "id": "ed85e0d2-642e-4399-a553-08b1f3e8495f",
   "metadata": {},
   "outputs": [],
   "source": [
    "\"\"\"\n",
    "076\n",
    "The variable t is currently storing the following value. Modify the variable t so that it points to the tuple ('A', 'b', 'c') instead.\n",
    "\n",
    "t = ('a', 'b', 'c')\n",
    "\"\"\""
   ]
  },
  {
   "cell_type": "code",
   "execution_count": 9,
   "id": "6d40b201-c43e-4c41-9e35-907b56634301",
   "metadata": {},
   "outputs": [
    {
     "ename": "TypeError",
     "evalue": "'tuple' object does not support item assignment",
     "output_type": "error",
     "traceback": [
      "\u001b[31m---------------------------------------------------------------------------\u001b[39m",
      "\u001b[31mTypeError\u001b[39m                                 Traceback (most recent call last)",
      "\u001b[36mCell\u001b[39m\u001b[36m \u001b[39m\u001b[32mIn[9]\u001b[39m\u001b[32m, line 2\u001b[39m\n\u001b[32m      1\u001b[39m t = (\u001b[33m'\u001b[39m\u001b[33ma\u001b[39m\u001b[33m'\u001b[39m, \u001b[33m'\u001b[39m\u001b[33mb\u001b[39m\u001b[33m'\u001b[39m, \u001b[33m'\u001b[39m\u001b[33mc\u001b[39m\u001b[33m'\u001b[39m)\n\u001b[32m----> \u001b[39m\u001b[32m2\u001b[39m \u001b[43mt\u001b[49m\u001b[43m[\u001b[49m\u001b[32;43m0\u001b[39;49m\u001b[43m]\u001b[49m = \u001b[33m'\u001b[39m\u001b[33mA\u001b[39m\u001b[33m'\u001b[39m\n",
      "\u001b[31mTypeError\u001b[39m: 'tuple' object does not support item assignment"
     ]
    }
   ],
   "source": [
    "t = ('a', 'b', 'c')\n",
    "t[0] = 'A' # error"
   ]
  },
  {
   "cell_type": "code",
   "execution_count": 10,
   "id": "2436931d-9070-42ca-9295-eba4df5835f5",
   "metadata": {},
   "outputs": [
    {
     "name": "stdout",
     "output_type": "stream",
     "text": [
      "('A', 'b', 'c')\n"
     ]
    }
   ],
   "source": [
    "t = ('A', 'b', 'c')\n",
    "print(t)"
   ]
  },
  {
   "cell_type": "code",
   "execution_count": null,
   "id": "f6c2db91-1056-463a-aa4a-b80e71458f72",
   "metadata": {},
   "outputs": [],
   "source": [
    "\"\"\"\n",
    "077\n",
    "Convert the following tuple into a list.\n",
    "\n",
    "interest = ('Samsung Electronics', 'LG Electronics', 'SK Hynix')\n",
    "\"\"\""
   ]
  },
  {
   "cell_type": "code",
   "execution_count": 14,
   "id": "b6a4d48e-395c-4115-b829-6d168ac258de",
   "metadata": {},
   "outputs": [
    {
     "name": "stdout",
     "output_type": "stream",
     "text": [
      "<class 'list'>\n",
      "['Samsung Electronics', 'LG Electronics', 'SK Hynix']\n"
     ]
    }
   ],
   "source": [
    "interest = ('Samsung Electronics', 'LG Electronics', 'SK Hynix')\n",
    "interest_list = list(interest)\n",
    "print(type(interest_list))\n",
    "print(interest_list)"
   ]
  },
  {
   "cell_type": "code",
   "execution_count": null,
   "id": "e13c6e35-9b5b-4e87-8824-c2edd1aa4087",
   "metadata": {},
   "outputs": [],
   "source": [
    "\"\"\"\n",
    "078\n",
    "Convert the following list into a tuple.\n",
    "\n",
    "interest = ['Samsung Electronics', 'LG Electronics', 'SK Hynix']\n",
    "\"\"\""
   ]
  },
  {
   "cell_type": "code",
   "execution_count": 17,
   "id": "c698abd9-c762-4544-9b8e-e69638e45aa7",
   "metadata": {},
   "outputs": [
    {
     "name": "stdout",
     "output_type": "stream",
     "text": [
      "('Samsung Electronics', 'LG Electronics', 'SK Hynix')\n",
      "<class 'tuple'>\n"
     ]
    }
   ],
   "source": [
    "interest = ['Samsung Electronics', 'LG Electronics', 'SK Hynix']\n",
    "interest_tuple = tuple(interest)\n",
    "print(interest_tuple)\n",
    "print(type(interest_tuple))"
   ]
  },
  {
   "cell_type": "code",
   "execution_count": null,
   "id": "e6299d89-a71b-4b42-836f-6a1d9132397d",
   "metadata": {},
   "outputs": [],
   "source": [
    "\"\"\"\n",
    "079 Tuple Unpacking\n",
    "Predict the output of the following code.\n",
    "\n",
    "temp = ('apple', 'banana', 'cake')\n",
    "a, b, c = temp\n",
    "print(a, b, c)\n",
    "\"\"\""
   ]
  },
  {
   "cell_type": "code",
   "execution_count": 20,
   "id": "741e2b37-be81-40fb-842e-f268933efc22",
   "metadata": {},
   "outputs": [
    {
     "name": "stdout",
     "output_type": "stream",
     "text": [
      "apple banana cake\n"
     ]
    }
   ],
   "source": [
    "temp = ('apple', 'banana', 'cake')\n",
    "a, b, c = temp\n",
    "print(a, b, c)"
   ]
  },
  {
   "cell_type": "code",
   "execution_count": null,
   "id": "38c06373-639f-4b90-851d-08a671cd5b46",
   "metadata": {},
   "outputs": [],
   "source": [
    "\"\"\"\n",
    "080 range function\n",
    "Create a tuple containing only the even numbers from 1 to 99.\n",
    "\n",
    "(2, 4, 6, 8 ... 98)\n",
    "\"\"\""
   ]
  },
  {
   "cell_type": "code",
   "execution_count": 23,
   "id": "d148f8c0-fec7-45c2-aa54-48f31da5dc03",
   "metadata": {},
   "outputs": [
    {
     "name": "stdout",
     "output_type": "stream",
     "text": [
      "(2, 4, 6, 8, 10, 12, 14, 16, 18, 20, 22, 24, 26, 28, 30, 32, 34, 36, 38, 40, 42, 44, 46, 48, 50, 52, 54, 56, 58, 60, 62, 64, 66, 68, 70, 72, 74, 76, 78, 80, 82, 84, 86, 88, 90, 92, 94, 96, 98)\n"
     ]
    }
   ],
   "source": [
    "tuple_even_only = tuple(range(2,100,2))\n",
    "print(tuple_even_only)"
   ]
  },
  {
   "cell_type": "code",
   "execution_count": null,
   "id": "d10125f2-23a4-4fed-b189-4ee0f2d7484d",
   "metadata": {},
   "outputs": [],
   "source": []
  }
 ],
 "metadata": {
  "kernelspec": {
   "display_name": "Python 3 (ipykernel)",
   "language": "python",
   "name": "python3"
  },
  "language_info": {
   "codemirror_mode": {
    "name": "ipython",
    "version": 3
   },
   "file_extension": ".py",
   "mimetype": "text/x-python",
   "name": "python",
   "nbconvert_exporter": "python",
   "pygments_lexer": "ipython3",
   "version": "3.12.6"
  }
 },
 "nbformat": 4,
 "nbformat_minor": 5
}
