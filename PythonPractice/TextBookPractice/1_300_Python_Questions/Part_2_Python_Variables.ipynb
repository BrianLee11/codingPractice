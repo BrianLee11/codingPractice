{
 "cells": [
  {
   "metadata": {},
   "cell_type": "markdown",
   "source": [
    "# Part 2: Python variables\n",
    "source: https: // wikidocs.net / 7014"
   ],
   "id": "8ebe2d6f76abd476"
  },
  {
   "metadata": {},
   "cell_type": "code",
   "source": [
    "\"\"\"\n",
    "011 Using Variables\n",
    "Bind the value 50,000 to a variable named Samsung_Electronics.\n",
    "Print the total valuation when you hold 10 shares of Samsung Electronics stock.\n",
    "\"\"\"\n",
    "Samsung_Electronics = 50000\n",
    "Share_Amount = 10\n",
    "Volume = Samsung_Electronics * Share_Amount\n",
    "print(Volume)"
   ],
   "id": "b4836d1b0b51ae31",
   "outputs": [],
   "execution_count": null
  },
  {
   "metadata": {},
   "cell_type": "code",
   "source": [
    "\"\"\"\n",
    "012 Using Variables\n",
    "The following table shows some investment information about Samsung Electronics.\n",
    "Use variables to bind values such as\n",
    "market capitalization, current price, and PER.\n",
    "\n",
    "Item\t         Value\n",
    "Market Cap\t     298 trillion\n",
    "Current Price\t 50,000 won\n",
    "PER\t             15.79\n",
    "\"\"\""
   ],
   "id": "f3af03acb383f8df",
   "outputs": [],
   "execution_count": null
  },
  {
   "metadata": {},
   "cell_type": "code",
   "source": [
    "trillion = 1000000000000\n",
    "market_capitalization = 298 * trillion\n",
    "current_price = 50000\n",
    "PER = 15.79\n",
    "\n",
    "print(market_capitalization, type(market_capitalization))\n",
    "print(current_price, type(current_price))\n",
    "print(PER, type(PER))"
   ],
   "id": "9e6500a0243b8daa",
   "outputs": [],
   "execution_count": null
  },
  {
   "metadata": {},
   "cell_type": "code",
   "source": [
    "\"\"\"\n",
    "013 Using Variables\n",
    "Variables s and t are each bound to a string.\n",
    ">> s = \"hello\"\n",
    ">> t = \"python\"\n",
    "\n",
    "Using these two variables, print the following:\n",
    "Expected Output:\n",
    "hello! python\n",
    "\"\"\""
   ],
   "id": "fde847c8304d99ed",
   "outputs": [],
   "execution_count": null
  },
  {
   "metadata": {},
   "cell_type": "code",
   "source": [
    "s = \"hello\"\n",
    "t = \"python\"\n",
    "print(s + '!', t)"
   ],
   "id": "7a535f1fe68945dc",
   "outputs": [],
   "execution_count": null
  },
  {
   "metadata": {},
   "cell_type": "code",
   "source": [
    "\"\"\"\n",
    "014 Calculating Values Using Python\n",
    "Try to predict the output of the code below:\n",
    ">> 2 + 2 * 3\n",
    "\"\"\""
   ],
   "id": "ccf597c8e7917d2a",
   "outputs": [],
   "execution_count": null
  },
  {
   "metadata": {},
   "cell_type": "code",
   "source": [
    "# prediction: 2 + 2*3 = 2 + 6 = 8\n",
    "print(2+2*3)"
   ],
   "id": "e4648fa05343d0a4",
   "outputs": [],
   "execution_count": null
  },
  {
   "metadata": {},
   "cell_type": "code",
   "source": [
    "\"\"\"\n",
    "015 type Function\n",
    "The type() function determines the data type.\n",
    "The variable a is bound to the number 128,\n",
    "and the type function tells us\n",
    "that it is of type int (integer).\n",
    "\n",
    ">> a = 128\n",
    ">> print(type(a))\n",
    "<class 'int'>\n",
    "\n",
    "Now, determine the type of the value\n",
    "bound to the variable below:\n",
    ">> a = \"132\"\n",
    "\"\"\""
   ],
   "id": "b47080ca278fbd94",
   "outputs": [],
   "execution_count": null
  },
  {
   "metadata": {},
   "cell_type": "code",
   "source": [
    "a = 128\n",
    "print(type(a))"
   ],
   "id": "9ede2c35925507da",
   "outputs": [],
   "execution_count": null
  },
  {
   "metadata": {},
   "cell_type": "code",
   "source": [
    "a = \"132\"\n",
    "# prediction <class 'string'>\n",
    "print(type(a)) # output: <class 'str'>"
   ],
   "id": "a6c06c3457208e",
   "outputs": [],
   "execution_count": null
  },
  {
   "metadata": {},
   "cell_type": "code",
   "source": [
    "\"\"\"\n",
    "016 Converting a String to an Integer\n",
    "Convert the string '720' to an integer.\n",
    "\n",
    ">> num_str = \"720\"\n",
    "\"\"\""
   ],
   "id": "9ca99fb88ed002a",
   "outputs": [],
   "execution_count": null
  },
  {
   "metadata": {},
   "cell_type": "code",
   "source": [
    "num_str = \"720\"\n",
    "print(type(int(num_str))) # output: <class 'int'>"
   ],
   "id": "f2a089cd11f55053",
   "outputs": [],
   "execution_count": null
  },
  {
   "metadata": {},
   "cell_type": "code",
   "source": [
    "\"\"\"\n",
    "017 Converting the Integer 100 to a String\n",
    "Convert the integer 100 to the string '100'.\n",
    "num = 100\n",
    "\"\"\""
   ],
   "id": "fbdc8678f47c128",
   "outputs": [],
   "execution_count": null
  },
  {
   "metadata": {},
   "cell_type": "code",
   "source": [
    "num = 100\n",
    "string_num = str(num)\n",
    "\n",
    "print(string_num, type(string_num))"
   ],
   "id": "1f729bc8dc1885cc",
   "outputs": [],
   "execution_count": null
  },
  {
   "metadata": {},
   "cell_type": "code",
   "source": [
    "\"\"\"\n",
    "018 Converting a String to a Float\n",
    "Convert the string \"15.79\" to a float type.\n",
    "\"\"\""
   ],
   "id": "4fe3aeecd33f1133",
   "outputs": [],
   "execution_count": null
  },
  {
   "metadata": {},
   "cell_type": "code",
   "source": [
    "num_str = \"15.79\"\n",
    "float_num = float(num_str)\n",
    "\n",
    "print(float_num, type(float_num))"
   ],
   "id": "7b612591c99183c5",
   "outputs": [],
   "execution_count": null
  },
  {
   "metadata": {},
   "cell_type": "code",
   "source": [
    "\"\"\"\n",
    "019 Converting a String to an Integer\n",
    "The variable year is bound to a string representing a year.\n",
    "\n",
    "Convert it to an integer and\n",
    "print the last three years on the screen.\n",
    "\n",
    "year = \"2020\"\n",
    "\"\"\""
   ],
   "id": "8e623a2965a0f49",
   "outputs": [],
   "execution_count": null
  },
  {
   "metadata": {
    "ExecuteTime": {
     "end_time": "2025-04-06T15:10:45.415393Z",
     "start_time": "2025-04-06T15:10:45.410884Z"
    }
   },
   "cell_type": "code",
   "source": [
    "string_year = \"2020\"\n",
    "integer_year = int(string_year)\n",
    "\n",
    "print(integer_year - 1) # \n",
    "print(integer_year - 2)\n",
    "print(integer_year - 3)\n"
   ],
   "id": "23407df5fc1f1d75",
   "outputs": [
    {
     "name": "stdout",
     "output_type": "stream",
     "text": [
      "2019\n",
      "2018\n",
      "2017\n"
     ]
    }
   ],
   "execution_count": 19
  },
  {
   "metadata": {},
   "cell_type": "code",
   "outputs": [],
   "execution_count": null,
   "source": [
    "# 020 Python Calculation\n",
    "\"\"\"An air conditioner is being sold on\n",
    "a home shopping channel for 48,584 KRW per month\n",
    "over 36 months with no interest.\n",
    "\n",
    "Calculate the total amount and\n",
    "display it on the screen. (Use variables)\"\"\""
   ],
   "id": "ec3775b80851bdfa"
  },
  {
   "metadata": {
    "ExecuteTime": {
     "end_time": "2025-04-08T21:08:45.303696Z",
     "start_time": "2025-04-08T21:08:45.299394Z"
    }
   },
   "cell_type": "code",
   "source": [
    "monthly_price = 48584\n",
    "month = 36\n",
    "\n",
    "total_amount = monthly_price * month\n",
    "print(f\"The total amount is {total_amount}\")"
   ],
   "id": "a043cd98a8207f80",
   "outputs": [
    {
     "name": "stdout",
     "output_type": "stream",
     "text": [
      "The total amount is 1749024\n"
     ]
    }
   ],
   "execution_count": 1
  }
 ],
 "metadata": {
  "kernelspec": {
   "display_name": "Python 3",
   "language": "python",
   "name": "python3"
  },
  "language_info": {
   "codemirror_mode": {
    "name": "ipython",
    "version": 2
   },
   "file_extension": ".py",
   "mimetype": "text/x-python",
   "name": "python",
   "nbconvert_exporter": "python",
   "pygments_lexer": "ipython2",
   "version": "2.7.6"
  }
 },
 "nbformat": 4,
 "nbformat_minor": 5
}
