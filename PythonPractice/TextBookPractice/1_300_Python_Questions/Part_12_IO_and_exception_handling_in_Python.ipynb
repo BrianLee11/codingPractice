{
 "cells": [
  {
   "cell_type": "code",
   "id": "initial_id",
   "metadata": {
    "collapsed": true
   },
   "source": [
    "\"\"\"\n",
    "# Part 12: I/O and exception handling in Python\n",
    "# source: 'https://wikidocs.net/7044'\n",
    "# questions 291 - 300\n",
    "\"\"\""
   ],
   "outputs": [],
   "execution_count": null
  },
  {
   "metadata": {},
   "cell_type": "code",
   "source": [
    "\"\"\"\n",
    "291 File Writing\n",
    "Create a file named 'buy_list1.txt' on the desktop and write the following stock codes to it:\n",
    "\n",
    "005930\n",
    "005380\n",
    "035420\n",
    "\"\"\""
   ],
   "id": "9083cb4fdfd2e2f",
   "outputs": [],
   "execution_count": null
  },
  {
   "metadata": {
    "ExecuteTime": {
     "end_time": "2025-04-19T19:05:23.636002Z",
     "start_time": "2025-04-19T19:05:23.631784Z"
    }
   },
   "cell_type": "code",
   "source": [
    "f = open(\"C:/Users/brian/OneDrive/Desktop/buy_list1.txt\", mode=\"wt\", encoding=\"utf-8\")\n",
    "f.write(\"005930\\n\")\n",
    "f.write(\"005380\\n\")\n",
    "f.write(\"035420\")\n",
    "f.close()"
   ],
   "id": "21934892cd35b1b",
   "outputs": [],
   "execution_count": 18
  },
  {
   "metadata": {
    "ExecuteTime": {
     "end_time": "2025-04-10T16:19:57.504966Z",
     "start_time": "2025-04-10T16:19:57.500709Z"
    }
   },
   "cell_type": "code",
   "source": "f = open(\"C:/Users/brian/OneDrive/Desktop/buy_list1.txt\", mode=\"r\", encoding=\"utf-8\")",
   "id": "247d50958da5c227",
   "outputs": [],
   "execution_count": 9
  },
  {
   "metadata": {
    "ExecuteTime": {
     "end_time": "2025-04-10T16:20:03.930169Z",
     "start_time": "2025-04-10T16:20:03.925658Z"
    }
   },
   "cell_type": "code",
   "source": "print(f.read())",
   "id": "766a241aeff0846a",
   "outputs": [
    {
     "name": "stdout",
     "output_type": "stream",
     "text": [
      "005930\n",
      "005380\n",
      "035420\n"
     ]
    }
   ],
   "execution_count": 10
  },
  {
   "metadata": {},
   "cell_type": "code",
   "source": [
    "\"\"\"\n",
    "292 File Writing\n",
    "Create a file named 'buy_list2.txt' on the desktop and write the following stock codes and names:\n",
    "\n",
    "005930 Samsung Electronics\n",
    "005380 Hyundai Motor\n",
    "035420 NAVER\n",
    "\"\"\""
   ],
   "id": "1c690026f6de279b",
   "outputs": [],
   "execution_count": null
  },
  {
   "metadata": {
    "ExecuteTime": {
     "end_time": "2025-04-19T19:33:25.722046Z",
     "start_time": "2025-04-19T19:33:25.717597Z"
    }
   },
   "cell_type": "code",
   "source": [
    "f = open(\"C:/Users/brian/OneDrive/Desktop/buy_list2.txt\", mode=\"wt\", encoding=\"utf-8\")\n",
    "f.write(\"005930 SamsungElectronics\\n\")\n",
    "f.write(\"005380 HyundaiMotor\\n\")\n",
    "f.write(\"035420 NAVER\\n\")\n",
    "f.close()"
   ],
   "id": "a2756d1a1f726489",
   "outputs": [],
   "execution_count": 68
  },
  {
   "metadata": {
    "ExecuteTime": {
     "end_time": "2025-04-19T19:33:26.942702Z",
     "start_time": "2025-04-19T19:33:26.938883Z"
    }
   },
   "cell_type": "code",
   "source": [
    "# checking\n",
    "f = open(\"C:/Users/brian/OneDrive/Desktop/buy_list2.txt\", mode=\"r\", encoding=\"utf-8\")\n",
    "print(f.read())"
   ],
   "id": "eadaf2dae9b78576",
   "outputs": [
    {
     "name": "stdout",
     "output_type": "stream",
     "text": [
      "005930 SamsungElectronics\n",
      "005380 HyundaiMotor\n",
      "035420 NAVER\n",
      "\n"
     ]
    }
   ],
   "execution_count": 69
  },
  {
   "metadata": {},
   "cell_type": "code",
   "source": [
    "\"\"\"\n",
    "293 CSV File Writing\n",
    "Create a file named 'buy_list.csv' on the desktop and write the stock codes and names to it as shown below.\n",
    "Use encoding 'cp949'.\n",
    "\n",
    "A                     |     B                | C\n",
    "------------------------------------------------------------\n",
    "Stock Name            |     Stock Code       | PER\n",
    "Samsung Electronics   |     05930            | 15.79\n",
    "NAVER                 |     035420           | 55.82\n",
    "\"\"\""
   ],
   "id": "aa8c290ee7668bdd",
   "outputs": [],
   "execution_count": null
  },
  {
   "metadata": {
    "ExecuteTime": {
     "end_time": "2025-04-19T19:35:23.847454Z",
     "start_time": "2025-04-19T19:35:23.843448Z"
    }
   },
   "cell_type": "code",
   "source": [
    "import csv # necessary to use csv.write(object)\n",
    "\n",
    "f = open(\"C:/Users/brian/OneDrive/Desktop/buy_list_295.txt\", mode=\"wt\", encoding=\"cp949\", newline=\"\")\n",
    "writer = csv.writer(f)\n",
    "writer.writerow([\"Stock Name\", \"Stock Code\", \"PER\"])\n",
    "writer.writerow([\"SamsungElectronics\", \"05930\", \"15.79\"])\n",
    "writer.writerow([\"NAVER\", \"035420\", \"55.82\"])\n",
    "f.close()"
   ],
   "id": "9e613f71dfac1c59",
   "outputs": [],
   "execution_count": 70
  },
  {
   "metadata": {
    "ExecuteTime": {
     "end_time": "2025-04-19T19:35:25.465926Z",
     "start_time": "2025-04-19T19:35:25.455605Z"
    }
   },
   "cell_type": "code",
   "source": [
    "f = open(\"C:/Users/brian/OneDrive/Desktop/buy_list_295.txt\", mode=\"r\", encoding=\"cp949\", newline=\"\")\n",
    "print(f.read())"
   ],
   "id": "5ea212d95e0f4650",
   "outputs": [
    {
     "name": "stdout",
     "output_type": "stream",
     "text": [
      "Stock Name,Stock Code,PER\r\n",
      "SamsungElectronics,05930,15.79\r\n",
      "NAVER,035420,55.82\r\n",
      "\n"
     ]
    }
   ],
   "execution_count": 71
  },
  {
   "metadata": {},
   "cell_type": "code",
   "source": [
    "\"\"\"\n",
    "294 File Reading\n",
    "Read the 'buy_list1.txt' file from the desktop and store the stock codes in a list.\n",
    "\n",
    "Output:\n",
    "005930\n",
    "005380\n",
    "035420\n",
    "\"\"\""
   ],
   "id": "fcb2130375355c4",
   "outputs": [],
   "execution_count": null
  },
  {
   "metadata": {
    "ExecuteTime": {
     "end_time": "2025-04-19T19:05:39.598938Z",
     "start_time": "2025-04-19T19:05:39.594880Z"
    }
   },
   "cell_type": "code",
   "source": [
    "f = open(\"C:/Users/brian/OneDrive/Desktop/buy_list1.txt\", mode = \"r\", encoding=\"cp949\", newline=\"\")\n",
    "print(f.read())"
   ],
   "id": "6803e3f965f795ff",
   "outputs": [
    {
     "name": "stdout",
     "output_type": "stream",
     "text": [
      "005930\r\n",
      "005380\r\n",
      "035420\n"
     ]
    }
   ],
   "execution_count": 20
  },
  {
   "metadata": {
    "ExecuteTime": {
     "end_time": "2025-04-19T19:05:52.623737Z",
     "start_time": "2025-04-19T19:05:52.619803Z"
    }
   },
   "cell_type": "code",
   "source": [
    "f = open(\"C:/Users/brian/OneDrive/Desktop/buy_list1.txt\", mode = \"r\", encoding=\"cp949\", newline=\"\")\n",
    "lines = f.readlines() # Python list\n",
    "\n",
    "codes = []\n",
    "for line in lines:\n",
    "    code = line.strip() #'\\n'\n",
    "    codes.append(code)\n",
    "\n",
    "print(codes)\n",
    "f.close()"
   ],
   "id": "ef1a10363beb66d3",
   "outputs": [
    {
     "name": "stdout",
     "output_type": "stream",
     "text": [
      "['005930', '005380', '035420']\n"
     ]
    }
   ],
   "execution_count": 21
  },
  {
   "metadata": {},
   "cell_type": "code",
   "outputs": [],
   "execution_count": null,
   "source": [
    "\"\"\"\n",
    "295 File Reading\n",
    "Read the 'buy_list2.txt' file from the desktop and store the data in a dictionary,\n",
    "using stock codes as keys and stock names as values.\n",
    "\n",
    "005930 SamsungElectronics\n",
    "005380 HyundaiMotor\n",
    "035420 NAVER\n",
    "\"\"\""
   ],
   "id": "bbf19be780eff388"
  },
  {
   "metadata": {
    "ExecuteTime": {
     "end_time": "2025-04-19T19:33:05.016381Z",
     "start_time": "2025-04-19T19:33:05.010844Z"
    }
   },
   "cell_type": "code",
   "source": [
    "f = open(\"C:/Users/brian/OneDrive/Desktop/buy_list2.txt\", mode=\"wt\", encoding=\"utf-8\")\n",
    "f.write(\"005930 SamsungElectronics\\n\")\n",
    "f.write(\"005380 HyundaiMotor\\n\")\n",
    "f.write(\"035420 NAVER\\n\")\n",
    "f.close()"
   ],
   "id": "abb11df8d1133be8",
   "outputs": [],
   "execution_count": 65
  },
  {
   "metadata": {
    "ExecuteTime": {
     "end_time": "2025-04-19T19:33:06.402009Z",
     "start_time": "2025-04-19T19:33:06.392499Z"
    }
   },
   "cell_type": "code",
   "source": [
    "f = open(\"C:/Users/brian/OneDrive/Desktop/buy_list2.txt\", mode=\"r\", encoding=\"utf-8\")\n",
    "print(f.read())"
   ],
   "id": "f84798f7086debab",
   "outputs": [
    {
     "name": "stdout",
     "output_type": "stream",
     "text": [
      "005930 SamsungElectronics\n",
      "005380 HyundaiMotor\n",
      "035420 NAVER\n",
      "\n"
     ]
    }
   ],
   "execution_count": 66
  },
  {
   "metadata": {
    "ExecuteTime": {
     "end_time": "2025-04-19T19:33:09.123864Z",
     "start_time": "2025-04-19T19:33:09.118864Z"
    }
   },
   "cell_type": "code",
   "source": [
    "f = open(\"C:/Users/brian/OneDrive/Desktop/buy_list2.txt\", encoding=\"utf-8\")\n",
    "lines = f.readlines()\n",
    "\n",
    "data = {}\n",
    "for line in lines:\n",
    "    line = line.strip()     # '\\n' removal\n",
    "    k, v = line.split()\n",
    "    #print(k, v)\n",
    "    data[k] = v\n",
    "\n",
    "print(data)\n",
    "f.close()"
   ],
   "id": "e317e68e01c42416",
   "outputs": [
    {
     "name": "stdout",
     "output_type": "stream",
     "text": [
      "{'005930': 'SamsungElectronics', '005380': 'HyundaiMotor', '035420': 'NAVER'}\n"
     ]
    }
   ],
   "execution_count": 67
  },
  {
   "metadata": {},
   "cell_type": "code",
   "outputs": [],
   "execution_count": null,
   "source": [
    "\"\"\"\n",
    "296 Exception Handling\n",
    "Converting the PER (Price to Earning Ratio) values to float may raise an error.\n",
    "Use exception handling to print 0 for values that cause errors.\n",
    "\n",
    "per = [\"10.31\", \"\", \"8.00\"]\n",
    "\n",
    "for i in per:\n",
    "    print(float(i))\n",
    "\"\"\""
   ],
   "id": "dca4ac36c8c1e86a"
  },
  {
   "metadata": {
    "ExecuteTime": {
     "end_time": "2025-04-19T19:37:15.144320Z",
     "start_time": "2025-04-19T19:37:15.140814Z"
    }
   },
   "cell_type": "code",
   "source": [
    "per = [\"10.31\", \"\", \"8.00\"]\n",
    "\n",
    "for i in per:\n",
    "    try:\n",
    "        print(float(i))\n",
    "    except:\n",
    "        print(0)"
   ],
   "id": "5eaa94bd4f5bfe93",
   "outputs": [
    {
     "name": "stdout",
     "output_type": "stream",
     "text": [
      "10.31\n",
      "0\n",
      "8.0\n"
     ]
    }
   ],
   "execution_count": 73
  },
  {
   "metadata": {},
   "cell_type": "code",
   "outputs": [],
   "execution_count": null,
   "source": [
    "\"\"\"\n",
    "297 Exception Handling & List Storage\n",
    "Convert PER values from string to float and store them in a new list using exception handling.\n",
    "\n",
    "per = [\"10.31\", \"\", \"8.00\"]\n",
    "\n",
    "for i in per:\n",
    "    print(float(per))\n",
    "\"\"\""
   ],
   "id": "3ce4af1fea573877"
  },
  {
   "metadata": {
    "ExecuteTime": {
     "end_time": "2025-04-19T19:44:03.026314Z",
     "start_time": "2025-04-19T19:44:03.022141Z"
    }
   },
   "cell_type": "code",
   "source": [
    "per = [\"10.31\", \"\", \"8.00\"]\n",
    "new_per_list = []\n",
    "\n",
    "for i in per:\n",
    "    try:\n",
    "        new_per_list.append(float(i))\n",
    "    except:\n",
    "        new_per_list.append(0)\n",
    "\n",
    "print(new_per_list)"
   ],
   "id": "70e7b3c13caea76b",
   "outputs": [
    {
     "name": "stdout",
     "output_type": "stream",
     "text": [
      "[10.31, 0, 8.0]\n"
     ]
    }
   ],
   "execution_count": 74
  },
  {
   "metadata": {},
   "cell_type": "code",
   "outputs": [],
   "execution_count": null,
   "source": [
    "\"\"\"\n",
    "298 Handle Specific Exception Only\n",
    "Dividing a number by 0 raises a `ZeroDivisionError`.\n",
    "Handle only this specific error using try ~ except (not all exceptions).\n",
    "\"\"\""
   ],
   "id": "cb8e25c967863256"
  },
  {
   "metadata": {
    "ExecuteTime": {
     "end_time": "2025-04-19T19:45:19.397224Z",
     "start_time": "2025-04-19T19:45:19.393847Z"
    }
   },
   "cell_type": "code",
   "source": [
    "try:\n",
    "    b = 3/0\n",
    "except ZeroDivisionError:\n",
    "    print(\"Thou shall not divide by 0\")"
   ],
   "id": "2ab331a307e7bbf3",
   "outputs": [
    {
     "name": "stdout",
     "output_type": "stream",
     "text": [
      "Thou shall not divide by 0\n"
     ]
    }
   ],
   "execution_count": 75
  },
  {
   "metadata": {},
   "cell_type": "code",
   "outputs": [],
   "execution_count": null,
   "source": [
    "\"\"\"\n",
    "299 Print Exception Message\n",
    "You can bind the error message to a variable using the following structure:\n",
    "\n",
    "try:\n",
    "    # Code to run\n",
    "except Exception as e:\n",
    "    # Handle error\n",
    "\n",
    "Apply this to print the error when accessing list elements by invalid index:\n",
    "\n",
    "data = [1, 2, 3]\n",
    "\n",
    "for i in range(5):\n",
    "    print(data[i])\n",
    "\"\"\""
   ],
   "id": "5c3710aeaee145a9"
  },
  {
   "metadata": {
    "ExecuteTime": {
     "end_time": "2025-04-19T19:47:41.473714Z",
     "start_time": "2025-04-19T19:47:41.470653Z"
    }
   },
   "cell_type": "code",
   "source": [
    "data = [1, 2, 3]\n",
    "\n",
    "for i in range(5):\n",
    "    try:\n",
    "        print(data[i])\n",
    "    except IndexError as e:\n",
    "        print(e)"
   ],
   "id": "28ffad116f3ca73c",
   "outputs": [
    {
     "name": "stdout",
     "output_type": "stream",
     "text": [
      "1\n",
      "2\n",
      "3\n",
      "list index out of range\n",
      "list index out of range\n"
     ]
    }
   ],
   "execution_count": 76
  },
  {
   "metadata": {},
   "cell_type": "code",
   "outputs": [],
   "execution_count": null,
   "source": [
    "\"\"\"\n",
    "300 Using try, except, else, and finally\n",
    "Python exception handling can use this structure:\n",
    "\n",
    "try:\n",
    "    # Code to run\n",
    "except:\n",
    "    # Code executed when exception occurs\n",
    "else:\n",
    "    # Code executed if no exception occurs\n",
    "finally:\n",
    "    # Code always executed regardless of exception\n",
    "\n",
    "Apply this structure to the following code and use print statements for else and finally blocks:\n",
    "\n",
    "per = [\"10.31\", \"\", \"8.00\"]\n",
    "\n",
    "for i in per:\n",
    "    print(float(per))\n",
    "\"\"\""
   ],
   "id": "dd192de2749e2044"
  },
  {
   "metadata": {
    "ExecuteTime": {
     "end_time": "2025-04-19T19:51:40.896094Z",
     "start_time": "2025-04-19T19:51:40.892097Z"
    }
   },
   "cell_type": "code",
   "source": [
    "per = [\"10.31\", \"\", \"8.00\"]\n",
    "\n",
    "for i in per:\n",
    "    print()\n",
    "    try:\n",
    "        print(float(i))\n",
    "    except:\n",
    "        print(0)\n",
    "    else:\n",
    "        print(\"clean data\")\n",
    "    finally:\n",
    "        print(\"finished conversion to float\")"
   ],
   "id": "9be5ab7011e18ca",
   "outputs": [
    {
     "name": "stdout",
     "output_type": "stream",
     "text": [
      "\n",
      "10.31\n",
      "clean data\n",
      "finished conversion to float\n",
      "\n",
      "0\n",
      "finished conversion to float\n",
      "\n",
      "8.0\n",
      "clean data\n",
      "finished conversion to float\n"
     ]
    }
   ],
   "execution_count": 81
  },
  {
   "metadata": {},
   "cell_type": "code",
   "outputs": [],
   "execution_count": null,
   "source": "",
   "id": "b2799c2b1de5c163"
  },
  {
   "metadata": {},
   "cell_type": "code",
   "outputs": [],
   "execution_count": null,
   "source": "",
   "id": "f5245d8fadc688b"
  }
 ],
 "metadata": {
  "kernelspec": {
   "display_name": "Python 3",
   "language": "python",
   "name": "python3"
  },
  "language_info": {
   "codemirror_mode": {
    "name": "ipython",
    "version": 2
   },
   "file_extension": ".py",
   "mimetype": "text/x-python",
   "name": "python",
   "nbconvert_exporter": "python",
   "pygments_lexer": "ipython2",
   "version": "2.7.6"
  }
 },
 "nbformat": 4,
 "nbformat_minor": 5
}
