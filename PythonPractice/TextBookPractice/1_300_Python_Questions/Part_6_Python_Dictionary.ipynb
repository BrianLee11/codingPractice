{
 "cells": [
  {
   "cell_type": "code",
   "execution_count": null,
   "id": "bc522433-92b2-4a32-8e9c-52d46c363963",
   "metadata": {},
   "outputs": [],
   "source": [
    "# Part 6: dictionary in Python (part 1)\n",
    "# source: 'https://wikidocs.net/22000'"
   ]
  },
  {
   "cell_type": "code",
   "execution_count": null,
   "id": "a4b90d8c-fbb1-4b60-8555-e4f5fabc990c",
   "metadata": {},
   "outputs": [],
   "source": [
    "\"\"\"\n",
    "081 Star Expression\n",
    "By default, data unpacking requires the number of variables on the left side to match the number of elements on the right. \n",
    "However, by using a star expression, you can unpack data even when the number of variables is different. \n",
    "For example, if you only need the first two elements of a tuple, you don’t have to explicitly unpack the remaining values.\n",
    "\n",
    ">> a, b, *c = (0, 1, 2, 3, 4, 5)\n",
    ">> a\n",
    "0\n",
    ">> b\n",
    "1\n",
    ">> c\n",
    "[2, 3, 4, 5]\n",
    "\n",
    "Given a list `scores` with 10 values as below, use a star expression \n",
    "to bind the first 8 values on the left to a variable named `valid_score`.\n",
    "\n",
    "scores = [8.8, 8.9, 8.7, 9.2, 9.3, 9.7, 9.9, 9.5, 7.8, 9.4]\n",
    "\"\"\""
   ]
  },
  {
   "cell_type": "code",
   "execution_count": 3,
   "id": "0d654fc4-90ad-46cb-a6c9-458e81300428",
   "metadata": {},
   "outputs": [
    {
     "name": "stdout",
     "output_type": "stream",
     "text": [
      "[8.8, 8.9, 8.7, 9.2, 9.3, 9.7, 9.9, 9.5]\n"
     ]
    }
   ],
   "source": [
    "scores = [8.8, 8.9, 8.7, 9.2, 9.3, 9.7, 9.9, 9.5, 7.8, 9.4]\n",
    "*valid_score, b, c = scores\n",
    "\n",
    "print(valid_score)"
   ]
  },
  {
   "cell_type": "code",
   "execution_count": null,
   "id": "735bc9e7-a531-44c1-8da4-f7362488e397",
   "metadata": {},
   "outputs": [],
   "source": [
    "\"\"\"\n",
    "082\n",
    "Given a list `scores` containing 10 values as shown below, use a star expression to bind the rightmost 8 values to a variable named `valid_score`.\n",
    "\n",
    "scores = [8.8, 8.9, 8.7, 9.2, 9.3, 9.7, 9.9, 9.5, 7.8, 9.4]\n",
    "\"\"\""
   ]
  },
  {
   "cell_type": "code",
   "id": "9fbdf40b-6900-4ef9-809a-76bdfe636ff5",
   "metadata": {
    "ExecuteTime": {
     "end_time": "2025-04-09T12:54:57.636496Z",
     "start_time": "2025-04-09T12:54:57.629879Z"
    }
   },
   "source": [
    "scores = [8.8, 8.9, 8.7, 9.2, 9.3, 9.7, 9.9, 9.5, 7.8, 9.4]\n",
    "_, _, *valid_score = scores\n",
    "\n",
    "print(valid_score)"
   ],
   "outputs": [
    {
     "name": "stdout",
     "output_type": "stream",
     "text": [
      "[8.7, 9.2, 9.3, 9.7, 9.9, 9.5, 7.8, 9.4]\n"
     ]
    }
   ],
   "execution_count": 1
  },
  {
   "metadata": {},
   "cell_type": "code",
   "outputs": [],
   "execution_count": null,
   "source": [
    "\"\"\"\n",
    "083\n",
    "Given a list `scores` containing 10 values as shown below, use a star expression to bind the middle 8 values to a variable named `valid_score`.\n",
    "\n",
    "scores = [8.8, 8.9, 8.7, 9.2, 9.3, 9.7, 9.9, 9.5, 7.8, 9.4]\n",
    "\"\"\""
   ],
   "id": "f5dbdcf6cdaf0059"
  },
  {
   "metadata": {
    "ExecuteTime": {
     "end_time": "2025-04-09T12:57:52.383311Z",
     "start_time": "2025-04-09T12:57:52.378806Z"
    }
   },
   "cell_type": "code",
   "source": [
    "scores = [8.8, 8.9, 8.7, 9.2, 9.3, 9.7, 9.9, 9.5, 7.8, 9.4]\n",
    "\n",
    "_, *valid_score, _ = scores\n",
    "print(valid_score)"
   ],
   "id": "232b8b39a38b625d",
   "outputs": [
    {
     "name": "stdout",
     "output_type": "stream",
     "text": [
      "[8.9, 8.7, 9.2, 9.3, 9.7, 9.9, 9.5, 7.8]\n"
     ]
    }
   ],
   "execution_count": 2
  },
  {
   "metadata": {},
   "cell_type": "code",
   "outputs": [],
   "execution_count": null,
   "source": [
    "\"\"\"\n",
    "084 Empty Dictionary\n",
    "Create an empty dictionary named `temp`.\n",
    "\"\"\""
   ],
   "id": "6e2261beed1a0403"
  },
  {
   "metadata": {},
   "cell_type": "code",
   "outputs": [],
   "execution_count": null,
   "source": "temp = {}",
   "id": "b200edf054c7c3ae"
  },
  {
   "metadata": {},
   "cell_type": "code",
   "outputs": [],
   "execution_count": null,
   "source": [
    "\"\"\"\n",
    "085\n",
    "Create a dictionary using the following ice cream names and their desired prices.\n",
    "\n",
    "Name       Desired Price\n",
    "Soda        1000\n",
    "Bread       1200\n",
    "Meat        1800\n",
    "\"\"\""
   ],
   "id": "3385b74cb1fc3363"
  },
  {
   "metadata": {
    "ExecuteTime": {
     "end_time": "2025-04-09T13:00:32.308070Z",
     "start_time": "2025-04-09T13:00:32.304070Z"
    }
   },
   "cell_type": "code",
   "source": [
    "food_dictionary = {\"Soda\": 1000, \"Bread\": 1200, \"Meat\": 1800}\n",
    "print(food_dictionary)"
   ],
   "id": "4e808a441e0a6bad",
   "outputs": [
    {
     "name": "stdout",
     "output_type": "stream",
     "text": [
      "{'Soda': 1000, 'Bread': 1200, 'Meat': 1800}\n"
     ]
    }
   ],
   "execution_count": 4
  },
  {
   "metadata": {
    "ExecuteTime": {
     "end_time": "2025-04-09T13:00:52.474593Z",
     "start_time": "2025-04-09T13:00:52.471477Z"
    }
   },
   "cell_type": "code",
   "source": "print(food_dictionary.keys())",
   "id": "e077dcaa899aec4",
   "outputs": [
    {
     "name": "stdout",
     "output_type": "stream",
     "text": [
      "dict_keys(['Soda', 'Bread', 'Meat'])\n"
     ]
    }
   ],
   "execution_count": 5
  },
  {
   "metadata": {
    "ExecuteTime": {
     "end_time": "2025-04-09T13:00:59.433373Z",
     "start_time": "2025-04-09T13:00:59.429550Z"
    }
   },
   "cell_type": "code",
   "source": "print(food_dictionary.values())",
   "id": "a92579feafbf5407",
   "outputs": [
    {
     "name": "stdout",
     "output_type": "stream",
     "text": [
      "dict_values([1000, 1200, 1800])\n"
     ]
    }
   ],
   "execution_count": 6
  },
  {
   "metadata": {},
   "cell_type": "code",
   "outputs": [],
   "execution_count": null,
   "source": [
    "\"\"\"\n",
    "086\n",
    "Add the following ice cream price information to the dictionary from exercise 085.\n",
    "\n",
    "Name       Desired Price\n",
    "Apple       1200\n",
    "Yogurt      1500\n",
    "\"\"\""
   ],
   "id": "12cb2e21d2e83da6"
  },
  {
   "metadata": {
    "ExecuteTime": {
     "end_time": "2025-04-09T13:02:02.159460Z",
     "start_time": "2025-04-09T13:02:02.155460Z"
    }
   },
   "cell_type": "code",
   "source": [
    "food_dictionary[\"Apple\"] = 1200\n",
    "food_dictionary[\"Yogurt\"] = 1500"
   ],
   "id": "5113800c33c8f82d",
   "outputs": [],
   "execution_count": 7
  },
  {
   "metadata": {
    "ExecuteTime": {
     "end_time": "2025-04-09T13:02:08.794591Z",
     "start_time": "2025-04-09T13:02:08.790590Z"
    }
   },
   "cell_type": "code",
   "source": "print(food_dictionary)",
   "id": "f0ce83c6ea0dd9f",
   "outputs": [
    {
     "name": "stdout",
     "output_type": "stream",
     "text": [
      "{'Soda': 1000, 'Bread': 1200, 'Meat': 1800, 'Apple': 1200, 'Yogurt': 1500}\n"
     ]
    }
   ],
   "execution_count": 8
  },
  {
   "metadata": {},
   "cell_type": "code",
   "outputs": [],
   "execution_count": null,
   "source": [
    "\"\"\"\n",
    "087\n",
    "Using the dictionary below, print the price of 'A'.\n",
    "\n",
    "ice = {'A': 1000,\n",
    "       'B': 1200,\n",
    "       'C': 1800,\n",
    "       'D': 1200,\n",
    "       'E': 1500}\n",
    "\n",
    "Example output:\n",
    "A Price: 1000\n",
    "\"\"\""
   ],
   "id": "7432f970ecbb1990"
  },
  {
   "metadata": {
    "ExecuteTime": {
     "end_time": "2025-04-09T13:03:35.004120Z",
     "start_time": "2025-04-09T13:03:35.000201Z"
    }
   },
   "cell_type": "code",
   "source": [
    "ice = {'A': 1000,\n",
    "       'B': 1200,\n",
    "       'C': 1800,\n",
    "       'D': 1200,\n",
    "       'E': 1500}"
   ],
   "id": "916fa651541518a1",
   "outputs": [],
   "execution_count": 9
  },
  {
   "metadata": {
    "ExecuteTime": {
     "end_time": "2025-04-09T13:03:47.410147Z",
     "start_time": "2025-04-09T13:03:47.406641Z"
    }
   },
   "cell_type": "code",
   "source": "print(ice['A'])",
   "id": "48fc68ee5937f883",
   "outputs": [
    {
     "name": "stdout",
     "output_type": "stream",
     "text": [
      "1000\n"
     ]
    }
   ],
   "execution_count": 10
  },
  {
   "metadata": {},
   "cell_type": "code",
   "outputs": [],
   "execution_count": null,
   "source": [
    "\"\"\"\n",
    "088\n",
    "Modify the price of 'A' to 1300 in the following dictionary.\n",
    "\n",
    "ice = {'A': 1000,\n",
    "       'B': 1200,\n",
    "       'C': 1800,\n",
    "       'D': 1200,\n",
    "       'E': 1500}\n",
    "\"\"\""
   ],
   "id": "53e3e5650d67b3ca"
  },
  {
   "metadata": {
    "ExecuteTime": {
     "end_time": "2025-04-09T13:06:14.577853Z",
     "start_time": "2025-04-09T13:06:14.573752Z"
    }
   },
   "cell_type": "code",
   "source": [
    "ice = {'A': 1000,\n",
    "       'B': 1200,\n",
    "       'C': 1800,\n",
    "       'D': 1200,\n",
    "       'E': 1500}"
   ],
   "id": "a0df21967fa934ea",
   "outputs": [],
   "execution_count": 11
  },
  {
   "metadata": {
    "ExecuteTime": {
     "end_time": "2025-04-09T13:06:31.513244Z",
     "start_time": "2025-04-09T13:06:31.510066Z"
    }
   },
   "cell_type": "code",
   "source": [
    "ice['A'] = 1300\n",
    "print(ice)"
   ],
   "id": "f054f3c99fb982d2",
   "outputs": [
    {
     "name": "stdout",
     "output_type": "stream",
     "text": [
      "{'A': 1300, 'B': 1200, 'C': 1800, 'D': 1200, 'E': 1500}\n"
     ]
    }
   ],
   "execution_count": 12
  },
  {
   "metadata": {},
   "cell_type": "code",
   "source": [
    "\"\"\"\n",
    "089\n",
    "Delete 'A' from the following dictionary.\n",
    "\n",
    "ice = {'A': 1000,\n",
    "       'B': 1200,\n",
    "       'C': 1800,\n",
    "       'D': 1200,\n",
    "       'E': 1500}\n",
    "\"\"\""
   ],
   "id": "89908417ebdd721c",
   "outputs": [],
   "execution_count": null
  },
  {
   "metadata": {
    "ExecuteTime": {
     "end_time": "2025-04-09T13:08:00.750616Z",
     "start_time": "2025-04-09T13:08:00.747281Z"
    }
   },
   "cell_type": "code",
   "source": [
    "ice = {'A': 1000,\n",
    "       'B': 1200,\n",
    "       'C': 1800,\n",
    "       'D': 1200,\n",
    "       'E': 1500}"
   ],
   "id": "29c39e3778f8b612",
   "outputs": [],
   "execution_count": 14
  },
  {
   "metadata": {
    "ExecuteTime": {
     "end_time": "2025-04-09T13:08:28.155173Z",
     "start_time": "2025-04-09T13:08:28.152006Z"
    }
   },
   "cell_type": "code",
   "source": "del ice['A']",
   "id": "ebd8a86c72c5ba81",
   "outputs": [],
   "execution_count": 15
  },
  {
   "metadata": {
    "ExecuteTime": {
     "end_time": "2025-04-09T13:11:16.778992Z",
     "start_time": "2025-04-09T13:11:16.775511Z"
    }
   },
   "cell_type": "code",
   "source": "print(ice)",
   "id": "9c896c301661eb72",
   "outputs": [
    {
     "name": "stdout",
     "output_type": "stream",
     "text": [
      "{'B': 1200, 'C': 1800, 'D': 1200, 'E': 1500}\n"
     ]
    }
   ],
   "execution_count": 16
  },
  {
   "metadata": {},
   "cell_type": "code",
   "outputs": [],
   "execution_count": null,
   "source": [
    "\"\"\"\n",
    "090\n",
    "Explain the cause of the error in the following code.\n",
    "\n",
    ">> icecream = {'A': 1200, 'B': 1800, 'C': 1500, 'D': 1000}\n",
    ">> icecream['E']\n",
    "Traceback (most recent call last):\n",
    "  File \"<pyshell#69>\", line 1, in <module>\n",
    "    icecream['E']\n",
    "KeyError: 'E'\n",
    "\"\"\""
   ],
   "id": "9d4ed00882923ca9"
  },
  {
   "metadata": {},
   "cell_type": "code",
   "outputs": [],
   "execution_count": null,
   "source": [
    "\"\"\"\n",
    "Explanation:\n",
    "A KeyError occurred because the key 'E' does not exist in the `icecream` dictionary.\n",
    "\"\"\""
   ],
   "id": "546d5455d6aea54d"
  },
  {
   "metadata": {},
   "cell_type": "code",
   "outputs": [],
   "execution_count": null,
   "source": [
    "\"\"\"\n",
    "# Part 6: dictionary in Python (part 2)\n",
    "# source: 'https://wikidocs.net/78563'\n",
    "\"\"\""
   ],
   "id": "1db62909282be4e6"
  },
  {
   "metadata": {},
   "cell_type": "code",
   "outputs": [],
   "execution_count": null,
   "source": [
    "\"\"\"\n",
    "091 Dictionary Creation\n",
    "Using the table below, create a dictionary named `inventory`\n",
    "where the ice cream name is the key,\n",
    "and the value is a list containing (price, stock).\n",
    "\n",
    "Name     Price   Stock\n",
    "A         300     20\n",
    "B         400     3\n",
    "C         250     100\n",
    "\"\"\""
   ],
   "id": "4699ee9247f6ca81"
  },
  {
   "metadata": {
    "ExecuteTime": {
     "end_time": "2025-04-09T13:26:03.241789Z",
     "start_time": "2025-04-09T13:26:03.238790Z"
    }
   },
   "cell_type": "code",
   "source": [
    "inventory = {\"A\": [300,20], \"B\": [400,30], \"C\": [250,100]}\n",
    "print(inventory)"
   ],
   "id": "62dd44f4b85a0a0f",
   "outputs": [
    {
     "name": "stdout",
     "output_type": "stream",
     "text": [
      "{'A': [300, 20], 'B': [400, 30], 'C': [250, 100]}\n"
     ]
    }
   ],
   "execution_count": 18
  },
  {
   "metadata": {},
   "cell_type": "code",
   "outputs": [],
   "execution_count": null,
   "source": [
    "\"\"\"\n",
    "092 Dictionary Indexing\n",
    "Print the price of 'A' from the `inventory` dictionary.\n",
    "\n",
    "inventory = {\"A\": [300, 20],\n",
    "              \"B\": [400, 3],\n",
    "              \"C\": [250, 100]}\n",
    "\n",
    "Example output:\n",
    "300 USD\n",
    "\"\"\""
   ],
   "id": "59ed4e48fe76650d"
  },
  {
   "metadata": {
    "ExecuteTime": {
     "end_time": "2025-04-09T13:27:42.395003Z",
     "start_time": "2025-04-09T13:27:42.391720Z"
    }
   },
   "cell_type": "code",
   "source": [
    "inventory = {\"A\": [300, 20],\n",
    "              \"B\": [400, 3],\n",
    "              \"C\": [250, 100]}\n",
    "\n",
    "print(inventory[\"A\"][0], \"USD\")"
   ],
   "id": "d335b3203db4d70c",
   "outputs": [
    {
     "name": "stdout",
     "output_type": "stream",
     "text": [
      "300 USD\n"
     ]
    }
   ],
   "execution_count": 20
  },
  {
   "metadata": {},
   "cell_type": "code",
   "outputs": [],
   "execution_count": null,
   "source": [
    "\"\"\"\n",
    "093 Dictionary Indexing\n",
    "Print the stock quantity of 'A' from the `inventory` dictionary.\n",
    "\n",
    "inventory = {\"A\": [300, 20],\n",
    "              \"B\": [400, 3],\n",
    "              \"C\": [250, 100]}\n",
    "Example output:\n",
    "20 amount\n",
    "\"\"\""
   ],
   "id": "aebe797e3b01ed0d"
  },
  {
   "metadata": {
    "ExecuteTime": {
     "end_time": "2025-04-09T13:28:42.013621Z",
     "start_time": "2025-04-09T13:28:42.009542Z"
    }
   },
   "cell_type": "code",
   "source": [
    "inventory = {\"A\": [300, 20],\n",
    "              \"B\": [400, 3],\n",
    "              \"C\": [250, 100]}\n",
    "\n",
    "print(inventory[\"A\"][1], \"amount\")"
   ],
   "id": "2f78b70c042b9545",
   "outputs": [
    {
     "name": "stdout",
     "output_type": "stream",
     "text": [
      "20 amount\n"
     ]
    }
   ],
   "execution_count": 21
  },
  {
   "metadata": {},
   "cell_type": "code",
   "outputs": [],
   "execution_count": null,
   "source": [
    "\"\"\"\n",
    "094 Dictionary Addition\n",
    "Add the following data to the `inventory` dictionary.\n",
    "\n",
    "inventory = {\"A\": [300, 20],\n",
    "              \"B\": [400, 3],\n",
    "              \"C\": [250, 100]}\n",
    "\n",
    "Name     Price   Stock\n",
    "W        500     7\n",
    "\"\"\""
   ],
   "id": "79c74c00a473df32"
  },
  {
   "metadata": {
    "ExecuteTime": {
     "end_time": "2025-04-09T13:29:56.204191Z",
     "start_time": "2025-04-09T13:29:56.200773Z"
    }
   },
   "cell_type": "code",
   "source": [
    "inventory = {\"A\": [300, 20],\n",
    "              \"B\": [400, 3],\n",
    "              \"C\": [250, 100]}\n",
    "\n",
    "inventory[\"W\"] = [500,70]\n",
    "print(inventory)"
   ],
   "id": "8823b3056c1bd4e5",
   "outputs": [
    {
     "name": "stdout",
     "output_type": "stream",
     "text": [
      "{'A': [300, 20], 'B': [400, 3], 'C': [250, 100], 'W': [500, 70]}\n"
     ]
    }
   ],
   "execution_count": 22
  },
  {
   "metadata": {},
   "cell_type": "code",
   "outputs": [],
   "execution_count": null,
   "source": [
    "\"\"\"\n",
    "095 Dictionary keys() Method\n",
    "From the following dictionary, create a list composed of only the key values.\n",
    "\n",
    "icecream = {'A': 1200, 'B': 1200, 'C': 1800, 'D': 1500, 'E': 1000}\n",
    "\"\"\""
   ],
   "id": "83d5e69c85d3aab5"
  },
  {
   "metadata": {
    "ExecuteTime": {
     "end_time": "2025-04-09T13:33:37.674546Z",
     "start_time": "2025-04-09T13:33:37.670537Z"
    }
   },
   "cell_type": "code",
   "source": [
    "icecream = {'A': 1200, 'B': 1200, 'C': 1800, 'D': 1500, 'E': 1000}\n",
    "list_keys_only = list(icecream.keys())\n",
    "\n",
    "print(list_keys_only)"
   ],
   "id": "a9c42f255175592b",
   "outputs": [
    {
     "name": "stdout",
     "output_type": "stream",
     "text": [
      "['A', 'B', 'C', 'D', 'E']\n"
     ]
    }
   ],
   "execution_count": 24
  },
  {
   "metadata": {},
   "cell_type": "code",
   "outputs": [],
   "execution_count": null,
   "source": [
    "\"\"\"\n",
    "096 Dictionary values() Method\n",
    "From the following dictionary, create a list composed of only the values.\n",
    "\n",
    "icecream = {'A': 1200, 'B': 1200, 'C': 1800, 'D': 1500, 'E': 1000}\n",
    "\"\"\""
   ],
   "id": "90629cf42daab0b3"
  },
  {
   "metadata": {
    "ExecuteTime": {
     "end_time": "2025-04-09T13:34:36.636920Z",
     "start_time": "2025-04-09T13:34:36.633046Z"
    }
   },
   "cell_type": "code",
   "source": [
    "icecream = {'A': 1200, 'B': 1200, 'C': 1800, 'D': 1500, 'E': 1000}\n",
    "list_values_only = list(icecream.values())\n",
    "\n",
    "print(list_values_only)"
   ],
   "id": "d508e841e8319a71",
   "outputs": [
    {
     "name": "stdout",
     "output_type": "stream",
     "text": [
      "[1200, 1200, 1800, 1500, 1000]\n"
     ]
    }
   ],
   "execution_count": 26
  },
  {
   "metadata": {},
   "cell_type": "code",
   "outputs": [],
   "execution_count": null,
   "source": [
    "\"\"\"\n",
    "097 Dictionary values() Method\n",
    "Print the total sales amount of ice cream from the `icecream` dictionary.\n",
    "\n",
    "icecream = {'A': 1200, 'B': 1200, 'C': 1800, 'D': 1500, 'E': 1000}\n",
    "\n",
    "Example output:\n",
    "6700\n",
    "\"\"\""
   ],
   "id": "4f76937d50258163"
  },
  {
   "metadata": {
    "ExecuteTime": {
     "end_time": "2025-04-09T13:39:27.719536Z",
     "start_time": "2025-04-09T13:39:27.716579Z"
    }
   },
   "cell_type": "code",
   "source": [
    "icecream = {'A': 1200, 'B': 1200, 'C': 1800, 'D': 1500, 'E': 1000}\n",
    "list_values_only = list(icecream.values())\n",
    "print(sum(list_values_only))"
   ],
   "id": "b9dc78130e41a0e",
   "outputs": [
    {
     "name": "stdout",
     "output_type": "stream",
     "text": [
      "6700\n"
     ]
    }
   ],
   "execution_count": 27
  },
  {
   "metadata": {},
   "cell_type": "code",
   "outputs": [],
   "execution_count": null,
   "source": [
    "\"\"\"\n",
    "098 Dictionary update() Method\n",
    "Add the `new_product` dictionary to the existing `icecream` dictionary using the update() method.\n",
    "\n",
    "icecream = {'A': 1200, 'B': 1200, 'C': 1800, 'D': 1500, 'E': 1000}\n",
    "new_product = {'AA': 2700, 'BB': 1000}\n",
    "\n",
    "Example output:\n",
    ">> print(icecream)\n",
    "{'A': 1200, 'B': 1200, 'C': 1800, 'D': 1500, 'E': 1000, 'AA': 2700, 'BB': 1000}\n",
    "\"\"\""
   ],
   "id": "dd4b45a13fb1faff"
  },
  {
   "metadata": {
    "ExecuteTime": {
     "end_time": "2025-04-09T13:41:17.469093Z",
     "start_time": "2025-04-09T13:41:17.464072Z"
    }
   },
   "cell_type": "code",
   "source": [
    "icecream = {'A': 1200, 'B': 1200, 'C': 1800, 'D': 1500, 'E': 1000}\n",
    "new_product = {'AA': 2700, 'BB': 1000}\n",
    "\n",
    "icecream.update(new_product)\n",
    "print(icecream)"
   ],
   "id": "4477ca48997209bc",
   "outputs": [
    {
     "name": "stdout",
     "output_type": "stream",
     "text": [
      "{'A': 1200, 'B': 1200, 'C': 1800, 'D': 1500, 'E': 1000, 'AA': 2700, 'BB': 1000}\n"
     ]
    }
   ],
   "execution_count": 28
  },
  {
   "metadata": {},
   "cell_type": "code",
   "outputs": [],
   "execution_count": null,
   "source": [
    "\"\"\"\n",
    "099 zip and dict\n",
    "Convert the two tuples below into a single dictionary.\n",
    "Use `keys` as the dictionary keys and `vals` as the values, and store the result in a dictionary named `result`.\n",
    "\n",
    "keys = (\"apple\", \"pear\", \"peach\")\n",
    "vals = (300, 250, 400)\n",
    "\n",
    "Example output:\n",
    ">> print(result)\n",
    "{'apple': 300, 'pear': 250, 'peach': 400}\n",
    "\"\"\""
   ],
   "id": "de5368e2f9d246df"
  },
  {
   "metadata": {
    "ExecuteTime": {
     "end_time": "2025-04-09T13:42:55.645472Z",
     "start_time": "2025-04-09T13:42:55.641526Z"
    }
   },
   "cell_type": "code",
   "source": [
    "keys = (\"apple\", \"pear\", \"peach\")\n",
    "vals = (300, 250, 400)\n",
    "result = dict(zip(keys,vals))\n",
    "\n",
    "print(result)"
   ],
   "id": "8c049dfcd85fa7e1",
   "outputs": [
    {
     "name": "stdout",
     "output_type": "stream",
     "text": [
      "{'apple': 300, 'pear': 250, 'peach': 400}\n"
     ]
    }
   ],
   "execution_count": 29
  },
  {
   "metadata": {},
   "cell_type": "code",
   "outputs": [],
   "execution_count": null,
   "source": [
    "\"\"\"\n",
    "100 zip and dict\n",
    "Create a dictionary named `close_table` using the two lists `date` and `close_price`.\n",
    "\n",
    "date = ['09/05', '09/06', '09/07', '09/08', '09/09']\n",
    "close_price = [10500, 10300, 10100, 10800, 11000]\n",
    "\n",
    "Example output:\n",
    ">> print(close_table)\n",
    "{'09/05': 10500, '09/06': 10300, '09/07': 10100, '09/08': 10800, '09/09': 11000}\n",
    "\"\"\""
   ],
   "id": "f1dd72881e414ae8"
  },
  {
   "metadata": {
    "ExecuteTime": {
     "end_time": "2025-04-09T13:58:27.160468Z",
     "start_time": "2025-04-09T13:58:27.156447Z"
    }
   },
   "cell_type": "code",
   "source": [
    "date = ['09/05', '09/06', '09/07', '09/08', '09/09']\n",
    "close_price = [10500, 10300, 10100, 10800, 11000]\n",
    "\n",
    "close_table = dict(zip(date,close_price))\n",
    "print(close_table)"
   ],
   "id": "fb3a5de509498863",
   "outputs": [
    {
     "name": "stdout",
     "output_type": "stream",
     "text": [
      "{'09/05': 10500, '09/06': 10300, '09/07': 10100, '09/08': 10800, '09/09': 11000}\n"
     ]
    }
   ],
   "execution_count": 30
  }
 ],
 "metadata": {
  "kernelspec": {
   "display_name": "Python 3 (ipykernel)",
   "language": "python",
   "name": "python3"
  },
  "language_info": {
   "codemirror_mode": {
    "name": "ipython",
    "version": 3
   },
   "file_extension": ".py",
   "mimetype": "text/x-python",
   "name": "python",
   "nbconvert_exporter": "python",
   "pygments_lexer": "ipython3",
   "version": "3.12.6"
  }
 },
 "nbformat": 4,
 "nbformat_minor": 5
}
