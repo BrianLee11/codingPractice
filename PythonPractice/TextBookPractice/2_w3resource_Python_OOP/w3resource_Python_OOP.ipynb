{
 "cells": [
  {
   "cell_type": "code",
   "execution_count": null,
   "id": "initial_id",
   "metadata": {
    "collapsed": true
   },
   "outputs": [],
   "source": "# https://www.w3resource.com/python-exercises/oop/index.php"
  },
  {
   "metadata": {},
   "cell_type": "code",
   "outputs": [],
   "execution_count": null,
   "source": [
    "\"\"\"\n",
    "1. Circle Class for Area and Perimeter\n",
    "\n",
    "Write a Python program to create a class representing a Circle.\n",
    "Include methods to calculate its area and perimeter.\n",
    "\n",
    "solution: https://www.w3resource.com/python-exercises/oop/python-oop-exercise-1.php\n",
    "\"\"\""
   ],
   "id": "72586e46fc770e59"
  },
  {
   "metadata": {
    "ExecuteTime": {
     "end_time": "2025-05-03T00:33:32.636038Z",
     "start_time": "2025-05-03T00:33:32.631915Z"
    }
   },
   "cell_type": "code",
   "source": [
    "# Import the math module to access mathematical functions like pi\n",
    "import math\n",
    "\n",
    "class Circle:\n",
    "    def __init__(self, radius):\n",
    "        self.radius = radius\n",
    "\n",
    "    def area(self):\n",
    "        area = self.radius * self.radius * math.pi\n",
    "        return area\n",
    "\n",
    "    def perimeter(self):\n",
    "        perimeter = self.radius * 2 * math.pi\n",
    "        return perimeter"
   ],
   "id": "1fecf62bcecabefb",
   "outputs": [],
   "execution_count": 4
  },
  {
   "metadata": {
    "ExecuteTime": {
     "end_time": "2025-05-03T00:33:33.931355Z",
     "start_time": "2025-05-03T00:33:33.928012Z"
    }
   },
   "cell_type": "code",
   "source": [
    "# testing 1\n",
    "circle = Circle(1)\n",
    "\n",
    "print(circle.area())\n",
    "print(circle.perimeter())"
   ],
   "id": "eb0920afa05c53c4",
   "outputs": [
    {
     "name": "stdout",
     "output_type": "stream",
     "text": [
      "3.141592653589793\n",
      "6.283185307179586\n"
     ]
    }
   ],
   "execution_count": 5
  },
  {
   "metadata": {
    "ExecuteTime": {
     "end_time": "2025-05-03T00:33:35.225109Z",
     "start_time": "2025-05-03T00:33:35.221596Z"
    }
   },
   "cell_type": "code",
   "source": [
    "# testing 2\n",
    "circle = Circle(4)\n",
    "\n",
    "print(circle.area())\n",
    "print(circle.perimeter())"
   ],
   "id": "2a72bf4857ff8da",
   "outputs": [
    {
     "name": "stdout",
     "output_type": "stream",
     "text": [
      "50.26548245743669\n",
      "25.132741228718345\n"
     ]
    }
   ],
   "execution_count": 6
  },
  {
   "metadata": {
    "ExecuteTime": {
     "end_time": "2025-05-03T00:33:46.104437Z",
     "start_time": "2025-05-03T00:33:46.100429Z"
    }
   },
   "cell_type": "code",
   "source": [
    "# testing 3\n",
    "circle = Circle(5.7)\n",
    "\n",
    "print(circle.area())\n",
    "print(circle.perimeter())"
   ],
   "id": "83603011a64c7d98",
   "outputs": [
    {
     "name": "stdout",
     "output_type": "stream",
     "text": [
      "102.07034531513239\n",
      "35.814156250923645\n"
     ]
    }
   ],
   "execution_count": 7
  }
 ],
 "metadata": {
  "kernelspec": {
   "display_name": "Python 3",
   "language": "python",
   "name": "python3"
  },
  "language_info": {
   "codemirror_mode": {
    "name": "ipython",
    "version": 2
   },
   "file_extension": ".py",
   "mimetype": "text/x-python",
   "name": "python",
   "nbconvert_exporter": "python",
   "pygments_lexer": "ipython2",
   "version": "2.7.6"
  }
 },
 "nbformat": 4,
 "nbformat_minor": 5
}
