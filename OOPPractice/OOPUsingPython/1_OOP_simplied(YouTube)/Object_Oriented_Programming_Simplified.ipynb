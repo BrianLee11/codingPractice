{
 "cells": [
  {
   "metadata": {},
   "cell_type": "raw",
   "source": [
    "Based on contents from the YouTube video\n",
    "\"Object-Oriented Programming, Simplified\"\n",
    "https://www.youtube.com/watch?v=pTB0EiLXUC8#%% md\n",
    "\n",
    "1. Encapsulation: reduce complexity + increase reusability\n",
    "2. Abstraction: reduce complexity + isolate impact of changes\n",
    "3. Inheritance: eliminate redundant codes\n",
    "4. Polymorphism: refactor ugly switch/case statements"
   ],
   "id": "c880e688ea3d7373"
  },
  {
   "metadata": {
    "ExecuteTime": {
     "end_time": "2025-05-21T01:54:49.039857Z",
     "start_time": "2025-05-21T01:54:49.036810Z"
    }
   },
   "cell_type": "code",
   "source": [
    "# Example for each concept\n",
    "# 1. Encapsulation: Hiding internal state and\n",
    "# requiring all interaction to be performed through an object’s methods.\n",
    "\n",
    "class BankAccount:\n",
    "    def __init__(self, owner, balance = 0):\n",
    "        self.owner = owner\n",
    "        self.__balance = balance  # private attribute\n",
    "\n",
    "    def deposit(self, amount):\n",
    "        if amount > 0:\n",
    "            self.__balance += amount\n",
    "\n",
    "    def get_balance(self):\n",
    "        return self.__balance"
   ],
   "id": "6c8fcc5485215f09",
   "outputs": [],
   "execution_count": 9
  },
  {
   "metadata": {
    "ExecuteTime": {
     "end_time": "2025-05-21T01:54:50.425644Z",
     "start_time": "2025-05-21T01:54:50.421937Z"
    }
   },
   "cell_type": "code",
   "source": [
    "acct = BankAccount(\"BankAccount\", 300)\n",
    "#print(acct.__balance) # error message: AttributeError: 'BankAccount' object has no attribute '__balance'\n",
    "\n",
    "acct.deposit(100)\n",
    "\n",
    "print(acct.get_balance()) # 400"
   ],
   "id": "4810190d420d1138",
   "outputs": [
    {
     "name": "stdout",
     "output_type": "stream",
     "text": [
      "400\n"
     ]
    }
   ],
   "execution_count": 10
  },
  {
   "metadata": {
    "ExecuteTime": {
     "end_time": "2025-05-21T02:13:42.797597Z",
     "start_time": "2025-05-21T02:13:42.794345Z"
    }
   },
   "cell_type": "code",
   "source": [
    "\"\"\"\n",
    " 2. Abstraction\n",
    " - Hiding complex reality while exposing only the necessary parts.\n",
    "\"\"\"\n",
    "\n",
    "from abc import ABC, abstractmethod\n",
    "\"\"\"\n",
    "abc stands for Abstract Base Classes\n",
    "ABC is a base class from the abc module\n",
    "\n",
    "abstractmethod is a decorator used to mark a method as abstract\n",
    "an abstract method has no implementation in the base class.\n",
    "Any concrete (child) class that inherits from this abstract class\n",
    "must inherit the abstract method - or else it will raise an error.\n",
    "\"\"\"\n",
    "\n",
    "class Vehicle(ABC):\n",
    "    @abstractmethod\n",
    "    def start_engine(self):\n",
    "        pass\n",
    "\n",
    "class Car(Vehicle):\n",
    "    def start_engine(self):\n",
    "        print(\"Car engine starts\")"
   ],
   "id": "25ad9563400e0f94",
   "outputs": [],
   "execution_count": 11
  },
  {
   "metadata": {
    "ExecuteTime": {
     "end_time": "2025-05-21T02:15:24.013460Z",
     "start_time": "2025-05-21T02:15:24.010617Z"
    }
   },
   "cell_type": "code",
   "source": [
    "# test\n",
    "car = Car()\n",
    "car.start_engine()"
   ],
   "id": "fc196f391e648c4e",
   "outputs": [
    {
     "name": "stdout",
     "output_type": "stream",
     "text": [
      "Car engine starts\n"
     ]
    }
   ],
   "execution_count": 12
  },
  {
   "metadata": {
    "ExecuteTime": {
     "end_time": "2025-05-21T07:59:06.994203Z",
     "start_time": "2025-05-21T07:59:06.982618Z"
    }
   },
   "cell_type": "code",
   "source": [
    "\"\"\"\n",
    "3. Inheritance\n",
    "- A class can inherit attributes and methods from another class\n",
    "\"\"\"\n",
    "\n",
    "class Animal:\n",
    "    def __init__(self, name):\n",
    "        self.name = name\n",
    "\n",
    "    def speak(self):\n",
    "        print(f\"{self.name} makes a sound\")\n",
    "\n",
    "    def signal(self):\n",
    "        print(f\"{self.name} signals\")\n",
    "\n",
    "\n",
    "class Dog(Animal):\n",
    "    def speak(self):\n",
    "        print(f\"{self.name} says hello\")"
   ],
   "id": "caca9e0fbef9732a",
   "outputs": [],
   "execution_count": 18
  },
  {
   "metadata": {
    "ExecuteTime": {
     "end_time": "2025-05-21T07:59:16.966915Z",
     "start_time": "2025-05-21T07:59:16.961915Z"
    }
   },
   "cell_type": "code",
   "source": [
    "# test\n",
    "a = Animal(\"Animal\")\n",
    "a.speak()\n",
    "\n",
    "d = Dog(\"Buddy\")\n",
    "d.speak()\n",
    "d.signal()"
   ],
   "id": "66a61f39e4cdb496",
   "outputs": [
    {
     "name": "stdout",
     "output_type": "stream",
     "text": [
      "Animal makes a sound\n",
      "Buddy says hello\n",
      "Buddy signals\n"
     ]
    }
   ],
   "execution_count": 19
  },
  {
   "metadata": {},
   "cell_type": "code",
   "outputs": [],
   "execution_count": null,
   "source": [
    "\"\"\"\n",
    "4. Polymorphism\n",
    "- The same method name behaves differently based on the object calling it.\n",
    "\"\"\""
   ],
   "id": "28ae29135bae041e"
  },
  {
   "metadata": {
    "ExecuteTime": {
     "end_time": "2025-05-21T02:59:58.333630Z",
     "start_time": "2025-05-21T02:59:58.329604Z"
    }
   },
   "cell_type": "code",
   "source": [
    "class Bird:\n",
    "    def make_sound(self):\n",
    "        print(\"Chirp!\")\n",
    "\n",
    "class Cat:\n",
    "    def make_sound(self):\n",
    "        print(\"Meow\")\n",
    "\n",
    "def animal_sound(animal):\n",
    "    animal.make_sound()"
   ],
   "id": "ecf978ace2882239",
   "outputs": [],
   "execution_count": 16
  },
  {
   "metadata": {
    "ExecuteTime": {
     "end_time": "2025-05-21T03:00:23.548665Z",
     "start_time": "2025-05-21T03:00:23.545455Z"
    }
   },
   "cell_type": "code",
   "source": [
    "# Test\n",
    "bird = Bird()\n",
    "cat = Cat()\n",
    "\n",
    "animal_sound(bird)\n",
    "animal_sound(cat)"
   ],
   "id": "467e9815b37b11ce",
   "outputs": [
    {
     "name": "stdout",
     "output_type": "stream",
     "text": [
      "Chirp!\n",
      "Meow\n"
     ]
    }
   ],
   "execution_count": 17
  }
 ],
 "metadata": {
  "kernelspec": {
   "display_name": "Python 3",
   "language": "python",
   "name": "python3"
  },
  "language_info": {
   "codemirror_mode": {
    "name": "ipython",
    "version": 2
   },
   "file_extension": ".py",
   "mimetype": "text/x-python",
   "name": "python",
   "nbconvert_exporter": "python",
   "pygments_lexer": "ipython2",
   "version": "2.7.6"
  }
 },
 "nbformat": 4,
 "nbformat_minor": 5
}
