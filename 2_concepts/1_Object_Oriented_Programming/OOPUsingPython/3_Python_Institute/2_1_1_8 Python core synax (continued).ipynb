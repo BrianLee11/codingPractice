{
 "cells": [
  {
   "cell_type": "code",
   "execution_count": null,
   "id": "initial_id",
   "metadata": {
    "collapsed": true
   },
   "outputs": [],
   "source": [
    "# https://edube.org/learn/python-advanced-1/python-core-syntax-7\n",
    "# list of magic methods"
   ]
  },
  {
   "metadata": {},
   "cell_type": "markdown",
   "source": [
    "### 🔄 Type Conversion Methods\n",
    "\n",
    "Python offers a set of methods responsible for the conversion of built-in data types.\n",
    "\n",
    "| Function   | Magic Method       | Implementation Meaning or Purpose                                |\n",
    "|------------|--------------------|-------------------------------------------------------------------|\n",
    "| `int()`    | `__int__(self)`    | conversion to integer type                                       |\n",
    "| `float()`  | `__float__(self)`  | conversion to float type                                         |\n",
    "| `oct()`    | `__oct__(self)`    | conversion to string, containing an octal representation         |\n",
    "| `hex()`    | `__hex__(self)`    | conversion to string, containing a hexadecimal representation    |"
   ],
   "id": "c0490f09269312b6"
  },
  {
   "metadata": {},
   "cell_type": "markdown",
   "source": [
    "### 🧠 Object Introspection\n",
    "\n",
    "Python offers a set of methods responsible for representing object details using ordinary strings.\n",
    "\n",
    "| Function   | Magic Method                     | Implementation Meaning or Purpose                            |\n",
    "|------------|----------------------------------|---------------------------------------------------------------|\n",
    "| `str()`    | `__str__(self)`                  | responsible for handling `str()` function calls               |\n",
    "| `repr()`   | `__repr__(self)`                 | responsible for handling `repr()` function calls              |\n",
    "| `format()` | `__format__(self, formatstr)`    | called when new-style string formatting is applied to object  |\n",
    "| `hash()`   | `__hash__(self)`                 | responsible for handling `hash()` function calls              |\n",
    "| `dir()`    | `__dir__(self)`                  | responsible for handling `dir()` function calls               |\n",
    "| `bool()`   | `__nonzero__(self)`              | responsible for handling `bool()` function calls              |\n"
   ],
   "id": "31e13193ee68bae8"
  },
  {
   "metadata": {},
   "cell_type": "markdown",
   "source": [
    "### 🔍 Object Retrospection\n",
    "\n",
    "Following the topic of object introspection, there are methods responsible for object reflection.\n",
    "\n",
    "| Function                      | Magic Method                            | Implementation Meaning or Purpose                            |\n",
    "|------------------------------|-----------------------------------------|---------------------------------------------------------------|\n",
    "| `isinstance(object, class)`  | `__instancecheck__(self, object)`       | responsible for handling `isinstance()` function calls         |\n",
    "| `issubclass(subclass, class)`| `__subclasscheck__(self, subclass)`     | responsible for handling `issubclass()` function calls         |"
   ],
   "id": "e3e5221698b83319"
  },
  {
   "metadata": {},
   "cell_type": "markdown",
   "source": [
    "### 🧷 Object Attribute Access\n",
    "\n",
    "Access to object attributes can be controlled via the following magic methods:\n",
    "\n",
    "| Expression Example           | Magic Method                                 | Implementation Meaning or Purpose                               |\n",
    "|-----------------------------|----------------------------------------------|------------------------------------------------------------------|\n",
    "| `object.attribute`          | `__getattr__(self, attribute)`               | responsible for handling access to a non-existing attribute      |\n",
    "| `object.attribute`          | `__getattribute__(self, attribute)`          | responsible for handling access to an existing attribute         |\n",
    "| `object.attribute = value`  | `__setattr__(self, attribute, value)`        | responsible for setting an attribute value                       |\n",
    "| `del object.attribute`      | `__delattr__(self, attribute)`               | responsible for deleting an attribute                            |"
   ],
   "id": "386688a81e66221d"
  },
  {
   "metadata": {},
   "cell_type": "markdown",
   "source": [
    "### 📦 Methods Allowing Access to Containers\n",
    "\n",
    "Containers are any object that holds an arbitrary number of other objects; containers provide a way to access the contained objects and to iterate over them.\n",
    "**Container examples:** `list`, `dictionary`, `tuple`, and `set`.\n",
    "\n",
    "| Expression Example             | Magic Method                          | Implementation Meaning or Purpose                                              |\n",
    "|--------------------------------|---------------------------------------|---------------------------------------------------------------------------------|\n",
    "| `len(container)`              | `__len__(self)`                       | returns the length (number of elements) of the container                       |\n",
    "| `container[key]`             | `__getitem__(self, key)`              | responsible for accessing (fetching) an element identified by the key argument |\n",
    "| `container[key] = value`     | `__setitem__(self, key, value)`       | responsible for setting a value to an element identified by the key argument   |\n",
    "| `del container[key]`         | `__delitem__(self, key)`              | responsible for deleting an element identified by the key argument             |\n",
    "| `for element in container`   | `__iter__(self)`                      | returns an iterator for the container                                          |\n",
    "| `item in container`          | `__contains__(self, item)`            | responds to the question: does the container contain the selected item?        |\n"
   ],
   "id": "14b1c0435cc9e35c"
  }
 ],
 "metadata": {
  "kernelspec": {
   "display_name": "Python 3",
   "language": "python",
   "name": "python3"
  },
  "language_info": {
   "codemirror_mode": {
    "name": "ipython",
    "version": 2
   },
   "file_extension": ".py",
   "mimetype": "text/x-python",
   "name": "python",
   "nbconvert_exporter": "python",
   "pygments_lexer": "ipython2",
   "version": "2.7.6"
  }
 },
 "nbformat": 4,
 "nbformat_minor": 5
}
