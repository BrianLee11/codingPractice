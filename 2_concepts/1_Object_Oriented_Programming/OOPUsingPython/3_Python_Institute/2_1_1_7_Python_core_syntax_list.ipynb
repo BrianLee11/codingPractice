{
 "cells": [
  {
   "cell_type": "code",
   "execution_count": null,
   "id": "initial_id",
   "metadata": {
    "collapsed": true
   },
   "outputs": [],
   "source": [
    "# https://edube.org/learn/python-advanced-1/python-core-syntax-6\n",
    "# list of magic methods"
   ]
  },
  {
   "metadata": {},
   "cell_type": "markdown",
   "source": [
    "### 🔁 Comparison Methods in Python\n",
    "\n",
    "| Function or Operator | Magic Method         | Purpose                              |\n",
    "|----------------------|----------------------|--------------------------------------|\n",
    "| `==`                 | `__eq__(self, other)`| Equality operator                    |\n",
    "| `!=`                 | `__ne__(self, other)`| Inequality operator                  |\n",
    "| `<`                  | `__lt__(self, other)`| Less-than operator                   |\n",
    "| `>`                  | `__gt__(self, other)`| Greater-than operator                |\n",
    "| `<=`                 | `__le__(self, other)`| Less-than-or-equal-to operator       |\n",
    "| `>=`                 | `__ge__(self, other)`| Greater-than-or-equal-to operator    |"
   ],
   "id": "e645783be4f67ab7"
  },
  {
   "metadata": {},
   "cell_type": "markdown",
   "source": [
    "### 🔢 Numeric Methods\n",
    "#### ➕ Unary Operators and Functions\n",
    "\n",
    "| Function or Operator | Magic Method           | Implementation Meaning or Purpose           |\n",
    "|----------------------|------------------------|---------------------------------------------|\n",
    "| `+`                  | `__pos__(self)`        | **unary** positive, like `a = +b`            |\n",
    "| `-`                  | `__neg__(self)`        | **unary** negative, like `a = -b`            |\n",
    "| `abs()`              | `__abs__(self)`        | behavior for `abs()` function                |\n",
    "| `round(a, b)`        | `__round__(self, b)`   | behavior for `round()` function              |"
   ],
   "id": "df55810e036b3d71"
  },
  {
   "metadata": {},
   "cell_type": "markdown",
   "source": [
    "### ➗ Common Binary Operators and Functions\n",
    "\n",
    "| Function or Operator | Magic Method             | Implementation Meaning or Purpose       |\n",
    "|----------------------|--------------------------|------------------------------------------|\n",
    "| `+`                  | `__add__(self, other)`    | addition operator                        |\n",
    "| `-`                  | `__sub__(self, other)`    | subtraction operator                     |\n",
    "| `*`                  | `__mul__(self, other)`    | multiplication operator                  |\n",
    "| `//`                 | `__floordiv__(self, other)`| integer division operator               |\n",
    "| `/`                  | `__div__(self, other)`    | division operator                        |\n",
    "| `%`                  | `__mod__(self, other)`    | modulo operator                          |\n",
    "| `**`                 | `__pow__(self, other)`    | exponential (power) operator             |"
   ],
   "id": "5bce60e4ce8f7370"
  },
  {
   "metadata": {},
   "cell_type": "markdown",
   "source": [
    "### ➕ Augmented Operators and Functions\n",
    "\n",
    "By augmented assignment we should understand a sequence of unary operators and assignments like\n",
    "`a += 20`\n",
    "\n",
    "| Function or Operator | Magic Method                 | Implementation Meaning or Purpose           |\n",
    "| -------------------- | ---------------------------- | ------------------------------------------- |\n",
    "| `+=`                 | `__iadd__(self, other)`      | addition and assignment operator            |\n",
    "| `-=`                 | `__isub__(self, other)`      | subtraction and assignment operator         |\n",
    "| `*=`                 | `__imul__(self, other)`      | multiplication and assignment operator      |\n",
    "| `//=`                | `__ifloordiv__(self, other)` | integer division and assignment operator    |\n",
    "| `/=`                 | `__idiv__(self, other)`      | division and assignment operator            |\n",
    "| `%=`                 | `__imod__(self, other)`      | modulo and assignment operator              |\n",
    "| `**=`                | `__ipow__(self, other)`      | exponential (power) and assignment operator |\n",
    "\n"
   ],
   "id": "f56884cb78e61d7e"
  }
 ],
 "metadata": {
  "kernelspec": {
   "display_name": "Python 3",
   "language": "python",
   "name": "python3"
  },
  "language_info": {
   "codemirror_mode": {
    "name": "ipython",
    "version": 2
   },
   "file_extension": ".py",
   "mimetype": "text/x-python",
   "name": "python",
   "nbconvert_exporter": "python",
   "pygments_lexer": "ipython2",
   "version": "2.7.6"
  }
 },
 "nbformat": 4,
 "nbformat_minor": 5
}
