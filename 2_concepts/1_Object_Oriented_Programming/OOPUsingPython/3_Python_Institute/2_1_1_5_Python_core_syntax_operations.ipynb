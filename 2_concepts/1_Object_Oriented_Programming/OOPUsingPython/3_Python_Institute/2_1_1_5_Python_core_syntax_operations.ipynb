{
 "cells": [
  {
   "metadata": {},
   "cell_type": "code",
   "outputs": [],
   "execution_count": null,
   "source": [
    "# https://edube.org/learn/python-advanced-1/python-core-syntax-4\n",
    "# 2.1.1.5 Python core syntax (continued)"
   ],
   "id": "2d45f9d2e960c436"
  },
  {
   "metadata": {
    "collapsed": true
   },
   "cell_type": "code",
   "outputs": [],
   "execution_count": null,
   "source": [
    "# next task: how can we implement 'addition' for two people? How would we define it?\n",
    "# from the previous exercise, we encountered an error when adding two \"people\"\n",
    "# let us implement customized 'addition' +"
   ],
   "id": "initial_id"
  },
  {
   "metadata": {
    "ExecuteTime": {
     "end_time": "2025-06-10T03:47:58.547910Z",
     "start_time": "2025-06-10T03:47:58.544508Z"
    }
   },
   "cell_type": "code",
   "source": [
    "class Person:\n",
    "    def __init__(self, weight, age, salary):\n",
    "        self.weight = weight\n",
    "        self.age = age\n",
    "        self.salary = salary\n",
    "\n",
    "    # customized addition operation\n",
    "    def __add__(self, other):\n",
    "        return self.weight + other.weight  #"
   ],
   "id": "37a4c9b6055ba209",
   "outputs": [],
   "execution_count": 2
  },
  {
   "metadata": {
    "ExecuteTime": {
     "end_time": "2025-06-10T03:47:59.782099Z",
     "start_time": "2025-06-10T03:47:59.779594Z"
    }
   },
   "cell_type": "code",
   "source": [
    "# create instance\n",
    "p1 = Person(30, 40, 50)\n",
    "p2 = Person(35, 45, 55)"
   ],
   "id": "8290043d13df9183",
   "outputs": [],
   "execution_count": 3
  },
  {
   "metadata": {
    "ExecuteTime": {
     "end_time": "2025-06-10T03:49:22.165836Z",
     "start_time": "2025-06-10T03:49:22.161831Z"
    }
   },
   "cell_type": "code",
   "source": [
    "# add\n",
    "print(p1 + p2)"
   ],
   "id": "b3433327b08061a2",
   "outputs": [
    {
     "name": "stdout",
     "output_type": "stream",
     "text": [
      "65\n"
     ]
    }
   ],
   "execution_count": 4
  }
 ],
 "metadata": {
  "kernelspec": {
   "display_name": "Python 3",
   "language": "python",
   "name": "python3"
  },
  "language_info": {
   "codemirror_mode": {
    "name": "ipython",
    "version": 2
   },
   "file_extension": ".py",
   "mimetype": "text/x-python",
   "name": "python",
   "nbconvert_exporter": "python",
   "pygments_lexer": "ipython2",
   "version": "2.7.6"
  }
 },
 "nbformat": 4,
 "nbformat_minor": 5
}
