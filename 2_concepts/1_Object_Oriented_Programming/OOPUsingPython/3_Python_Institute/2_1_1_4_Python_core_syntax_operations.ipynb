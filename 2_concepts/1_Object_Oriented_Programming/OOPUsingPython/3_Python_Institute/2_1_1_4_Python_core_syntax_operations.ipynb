{
 "cells": [
  {
   "cell_type": "code",
   "execution_count": null,
   "id": "initial_id",
   "metadata": {
    "collapsed": true
   },
   "outputs": [],
   "source": [
    "# https://edube.org/learn/python-advanced-1/python-core-syntax\n",
    "# Python core syntax\n",
    "# 2.1.1.4: example of how two objects' addition is not operated.\n",
    "\"\"\"\n",
    "motivation\n",
    "- Python has core syntax.\n",
    "    - operations: +, -, *, /, %\n",
    "    - operations: ==, <, >, <=, in\n",
    "    - indexing, slicing, subscripting\n",
    "    - built-in functions: str(), len()\n",
    "    - reflexion: isintance(), issubclass()\n",
    "\n",
    "- Can we change how we execute such operations? (i.e. customized operation)\n",
    "\"\"\""
   ]
  },
  {
   "metadata": {
    "ExecuteTime": {
     "end_time": "2025-06-10T01:47:56.994174Z",
     "start_time": "2025-06-10T01:47:56.990124Z"
    }
   },
   "cell_type": "code",
   "source": [
    "# example 1\n",
    "number = 10\n",
    "print(number + 20)         # 30\n",
    "print(number.__add__(20))  # 30"
   ],
   "id": "3a42c6248857bd4e",
   "outputs": [
    {
     "name": "stdout",
     "output_type": "stream",
     "text": [
      "30\n",
      "30\n"
     ]
    }
   ],
   "execution_count": 2
  },
  {
   "metadata": {
    "ExecuteTime": {
     "end_time": "2025-06-10T01:59:05.498681Z",
     "start_time": "2025-06-10T01:59:05.495452Z"
    }
   },
   "cell_type": "code",
   "source": [
    "# example 2: 'how we add weights of people'\n",
    "# First, create a Person class without the method responsible for addition\n",
    "class Person:\n",
    "    def __init__(self, weight, age, salary):\n",
    "        self.weight = weight\n",
    "        self.age = age\n",
    "        self.salary = salary\n",
    "\n",
    "# create intances\n",
    "p1 = Person(30, 40, 50)\n",
    "p2 = Person(35, 45, 55)"
   ],
   "id": "f793c6b8bc37b294",
   "outputs": [],
   "execution_count": 3
  },
  {
   "metadata": {
    "ExecuteTime": {
     "end_time": "2025-06-10T01:59:38.671640Z",
     "start_time": "2025-06-10T01:59:38.441001Z"
    }
   },
   "cell_type": "code",
   "source": [
    "# testing 'adding' two instances\n",
    "print(p1 + p2)\n",
    "# error message: TypeError: unsupported operand type(s) for +: 'Person' and 'Person'"
   ],
   "id": "695f9c40dd468e5c",
   "outputs": [
    {
     "ename": "TypeError",
     "evalue": "unsupported operand type(s) for +: 'Person' and 'Person'",
     "output_type": "error",
     "traceback": [
      "\u001B[31m---------------------------------------------------------------------------\u001B[39m",
      "\u001B[31mTypeError\u001B[39m                                 Traceback (most recent call last)",
      "\u001B[36mCell\u001B[39m\u001B[36m \u001B[39m\u001B[32mIn[4]\u001B[39m\u001B[32m, line 2\u001B[39m\n\u001B[32m      1\u001B[39m \u001B[38;5;66;03m# testing 'adding' two instances\u001B[39;00m\n\u001B[32m----> \u001B[39m\u001B[32m2\u001B[39m \u001B[38;5;28mprint\u001B[39m(\u001B[43mp1\u001B[49m\u001B[43m \u001B[49m\u001B[43m+\u001B[49m\u001B[43m \u001B[49m\u001B[43mp2\u001B[49m)\n",
      "\u001B[31mTypeError\u001B[39m: unsupported operand type(s) for +: 'Person' and 'Person'"
     ]
    }
   ],
   "execution_count": 4
  },
  {
   "metadata": {},
   "cell_type": "code",
   "outputs": [],
   "execution_count": null,
   "source": "# next task: how can we implement 'addition' for two people? How would we define it?",
   "id": "81966fd454b40147"
  }
 ],
 "metadata": {
  "kernelspec": {
   "display_name": "Python 3",
   "language": "python",
   "name": "python3"
  },
  "language_info": {
   "codemirror_mode": {
    "name": "ipython",
    "version": 2
   },
   "file_extension": ".py",
   "mimetype": "text/x-python",
   "name": "python",
   "nbconvert_exporter": "python",
   "pygments_lexer": "ipython2",
   "version": "2.7.6"
  }
 },
 "nbformat": 4,
 "nbformat_minor": 5
}
