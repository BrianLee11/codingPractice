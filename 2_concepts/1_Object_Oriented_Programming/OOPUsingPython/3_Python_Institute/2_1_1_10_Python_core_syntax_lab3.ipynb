{
 "cells": [
  {
   "metadata": {},
   "cell_type": "markdown",
   "source": [
    "## 2.1.1.10 Python core syntax: LAB #1\n",
    "- url: https://edube.org/learn/python-advanced-1/lab-1-implementing-core-syntax\n",
    "- Estimated time: 30-60 minutes\n",
    "- Level of difficulty: medium\n",
    "- Objectives: improving the student's skills in operating with special methods\n",
    "\n",
    "## Scenario\n",
    "- Create a class representing a time interval;\n",
    "- the class should implement its own method for addition, subtraction on time interval class objects;\n",
    "- the class should implement its own method for multiplication of time interval class objects by an integer-type value;\n",
    "- the **__init__** method should be based on keywords to allow accurate and convenient object initialization, but limit it to hours, minutes, and seconds parameters;\n",
    "- the **__str__** method should return an HH:MM:SS string, where HH represents hours, MM represents minutes and SS represents the seconds attributes of the time interval object;\n",
    "- check the argument type, and in case of a mismatch, raise a TypeError exception.\n",
    "\n",
    "## Hint #1\n",
    "- just before doing the math, convert each time interval to a corresponding number of seconds to simplify the algorithm;\n",
    "- for addition and subtraction, you can use one internal method, as subtraction is just ... negative addition.\n",
    "\n",
    "Test data:\n",
    "- the first time interval (fti) is hours=21, minutes=58, seconds=50\n",
    "- the second time interval (sti) is hours=1, minutes=45, seconds=22\n",
    "- the expected result of addition (fti + sti) is 23:44:12\n",
    "- the expected result of subtraction (fti - sti) is 20:13:28\n",
    "- the expected result of multiplication (fti * 2) is 43:57:40\n",
    "\n",
    "## Hint #2\n",
    "- you can use the assert statement to validate if the output of the __str__ method applied to a time interval object equals the expected value."
   ],
   "id": "a0ba77d957991d5e"
  },
  {
   "metadata": {
    "collapsed": true
   },
   "cell_type": "code",
   "outputs": [],
   "execution_count": null,
   "source": [
    "\"\"\"\n",
    "2.1.1.10 Python core syntax: LAB #1\n",
    "url: https://edube.org/learn/python-advanced-1/lab-1-implementing-core-syntax\n",
    "\n",
    "Estimated time: 30-60 minutes\n",
    "Level of difficulty: medium\n",
    "Objectives: improving the student's skills in operating with special methods\n",
    "\n",
    "Scenario\n",
    "- Create a class representing a time interval;\n",
    "- the class should implement its own method for addition, subtraction on time interval class objects;\n",
    "- the class should implement its own method for multiplication of time interval class objects by an integer-type value;\n",
    "- the __init__ method should be based on keywords to allow accurate and convenient object initialization, but limit it to hours, minutes, and seconds parameters;\n",
    "- the __str__ method should return an HH:MM:SS string, where HH represents hours, MM represents minutes and SS represents the seconds attributes of the time interval object;\n",
    "- check the argument type, and in case of a mismatch, raise a TypeError exception.\n",
    "\n",
    "Hint #1\n",
    "- just before doing the math, convert each time interval to a corresponding number of seconds to simplify the algorithm;\n",
    "- for addition and subtraction, you can use one internal method, as subtraction is just ... negative addition.\n",
    "\n",
    "Test data:\n",
    "- the first time interval (fti) is hours=21, minutes=58, seconds=50\n",
    "- the second time interval (sti) is hours=1, minutes=45, seconds=22\n",
    "- the expected result of addition (fti + sti) is 23:44:12\n",
    "- the expected result of subtraction (fti - sti) is 20:13:28\n",
    "- the expected result of multiplication (fti * 2) is 43:57:40\n",
    "\n",
    "Hint #2\n",
    "- you can use the assert statement to validate if the output of the __str__ method applied to a time interval object equals the expected value.\n",
    "\"\"\""
   ],
   "id": "initial_id"
  },
  {
   "metadata": {},
   "cell_type": "code",
   "outputs": [],
   "execution_count": null,
   "source": "dd",
   "id": "f7de6af81d2a3bd0"
  },
  {
   "metadata": {
    "ExecuteTime": {
     "end_time": "2025-05-23T17:29:36.659872Z",
     "start_time": "2025-05-23T17:29:36.654365Z"
    }
   },
   "cell_type": "code",
   "source": [
    "class Time:\n",
    "    def __init__(self, hour, minute, second):\n",
    "        self.hour = hour\n",
    "        self.minute = minute\n",
    "        self.second = second\n",
    "\n",
    "    def convertSecondsToTime(self, seconds):\n",
    "        # input: seconds in integers\n",
    "        # output: time instance with hour, minute, seconds\n",
    "\n",
    "        time_seconds = seconds\n",
    "\n",
    "        time_hour = time_seconds // 60 // 60\n",
    "        time_seconds -= time_hour * 60 * 60\n",
    "\n",
    "        time_minute = time_seconds // 60\n",
    "        time_seconds -= time_minute * 60\n",
    "\n",
    "        # create a time instance\n",
    "        return_time = Time(time_hour, time_minute, time_seconds)\n",
    "\n",
    "        return return_time\n",
    "\n",
    "    def convertTimeToSeconds(self):\n",
    "        # input: time instance with hour, minute, seconds\n",
    "        # output: seconds in integers\n",
    "\n",
    "        return_seconds = self.second + self.minute * 60 + self.hour * 3600\n",
    "        return return_seconds\n",
    "\n",
    "    # a + b -> a.__add__(b)\n",
    "    def __add__(self, otherTime):\n",
    "        # input: Time instance, other time instance\n",
    "        # output: added time instance\n",
    "\n",
    "        time1 = self.convertTimeToSeconds()\n",
    "        time2 = otherTime.convertTimeToSeconds()\n",
    "\n",
    "        seconds_added = time1 + time2\n",
    "        return_time = self.convertSecondsToTime(seconds_added)\n",
    "\n",
    "        return return_time\n",
    "\n",
    "    # a - b --> a.__sub__(b)\n",
    "    def __sub__(self, otherTime):\n",
    "        # input: Time instance, other time instance\n",
    "        # output: added time instance\n",
    "\n",
    "        time1 = self.convertTimeToSeconds()\n",
    "        time2 = otherTime.convertTimeToSeconds()\n",
    "\n",
    "        seconds_added = time1 - time2\n",
    "        return_time = self.convertSecondsToTime(seconds_added)\n",
    "\n",
    "        return return_time\n",
    "\n",
    "    # a * b --> a.__mul__(b)\n",
    "    def __mul__(self, integer):\n",
    "        # input: time instance and an integer\n",
    "        # ouptut: time instance\n",
    "\n",
    "        time_seconds = self.convertTimeToSeconds()\n",
    "        time_multiplied_seconds = time_seconds * integer\n",
    "        return_time = self.convertSecondsToTime(time_multiplied_seconds)\n",
    "\n",
    "        return return_time\n",
    "\n",
    "    def __str__(self):\n",
    "        # related to print() function\n",
    "        # input: time instance\n",
    "        # output: a string HH:MM:SS\n",
    "        return f'{self.hour:02}:{self.minute:02}:{self.second:02}'"
   ],
   "id": "1ecb52b0bad4487",
   "outputs": [],
   "execution_count": 20
  },
  {
   "metadata": {
    "ExecuteTime": {
     "end_time": "2025-05-23T17:29:43.574322Z",
     "start_time": "2025-05-23T17:29:43.570886Z"
    }
   },
   "cell_type": "code",
   "source": [
    "# testing\n",
    "time1 = Time(21, 58, 50)\n",
    "time2 = Time(1, 45, 22)\n",
    "\n",
    "time_added = time1 + time2\n",
    "print(time_added) # 23:44:12\n",
    "\n",
    "time_subtracted = time1 - time2\n",
    "print(time_subtracted)\n",
    "\n",
    "time_multiplied = time1 * 2\n",
    "print(time_multiplied)"
   ],
   "id": "6ac035b65db99f5e",
   "outputs": [
    {
     "name": "stdout",
     "output_type": "stream",
     "text": [
      "23:44:12\n",
      "20:13:28\n",
      "43:57:40\n"
     ]
    }
   ],
   "execution_count": 22
  }
 ],
 "metadata": {
  "kernelspec": {
   "display_name": "Python 3",
   "language": "python",
   "name": "python3"
  },
  "language_info": {
   "codemirror_mode": {
    "name": "ipython",
    "version": 2
   },
   "file_extension": ".py",
   "mimetype": "text/x-python",
   "name": "python",
   "nbconvert_exporter": "python",
   "pygments_lexer": "ipython2",
   "version": "2.7.6"
  }
 },
 "nbformat": 4,
 "nbformat_minor": 5
}
