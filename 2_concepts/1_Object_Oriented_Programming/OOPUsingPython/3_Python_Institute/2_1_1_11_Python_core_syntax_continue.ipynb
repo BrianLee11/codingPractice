{
 "cells": [
  {
   "metadata": {},
   "cell_type": "markdown",
   "source": [
    "# 2.1.1.11 Python core syntax: Lab #2 (continuation of lab #1)\n",
    "- url: https://edube.org/learn/python-advanced-1/python-core-syntax-lab-2\n",
    "- Estimated time: 10-20 minutes\n",
    "- Level of difficulty: medium\n",
    "- Objectives: improving the student's skills in operating with special methods\n",
    "\n",
    "# Scenario\n",
    "- Extend the class implementation prepared in the previous lab to support the addition and subtraction of integers to time interval objects;\n",
    "- to add an integer to a time interval object means to add seconds;\n",
    "- to subtract an integer from a time interval object means to remove seconds.\n",
    "\n",
    "# Hint #1\n",
    "- in the case when a special method receives an integer type argument, instead of a time interval object, create a new time interval object based on the integer value.\n",
    "\n",
    "# Test data:\n",
    "- the time interval (tti) is hours=21, minutes=58, seconds=50\n",
    "- the expected result of addition (tti + 62) is 21:59:52"
   ],
   "id": "440cd2f3c17ad88a"
  },
  {
   "metadata": {
    "collapsed": true
   },
   "cell_type": "code",
   "outputs": [],
   "execution_count": null,
   "source": [
    "\"\"\"\n",
    "2.1.1.11 Python core syntax: Lab #2 (continuation of lab #1)\n",
    "url: https://edube.org/learn/python-advanced-1/python-core-syntax-lab-2\n",
    "\n",
    "Estimated time: 10-20 minutes\n",
    "Level of difficulty: medium\n",
    "Objectives: improving the student's skills in operating with special methods\n",
    "\n",
    "Scenario\n",
    "- Extend the class implementation prepared in the previous lab to support the addition and subtraction of integers to time interval objects;\n",
    "- to add an integer to a time interval object means to add seconds;\n",
    "- to subtract an integer from a time interval object means to remove seconds.\n",
    "\n",
    "Hint #1\n",
    "- in the case when a special method receives an integer type argument, instead of a time interval object, create a new time interval object based on the integer value.\n",
    "\n",
    "Test data:\n",
    "- the time interval (tti) is hours=21, minutes=58, seconds=50\n",
    "- the expected result of addition (tti + 62) is 21:59:52\n",
    "\"\"\""
   ],
   "id": "initial_id"
  },
  {
   "metadata": {
    "ExecuteTime": {
     "end_time": "2025-05-23T19:28:48.927940Z",
     "start_time": "2025-05-23T19:28:48.922971Z"
    }
   },
   "cell_type": "code",
   "source": [
    "class TimeInterval:\n",
    "    # initialization\n",
    "    # hours, minutes, seconds\n",
    "    def __init__(self, hours = 0, minutes = 0, seconds = 0):\n",
    "        self.hours = hours\n",
    "        self.minutes = minutes\n",
    "        self.seconds = seconds\n",
    "\n",
    "    def timeIntervalToSeconds(self):\n",
    "        # input: time interval object (hour, minute, second)\n",
    "        # output: integer (seconds)\n",
    "\n",
    "        return_seconds = self.seconds\n",
    "        return_seconds += self.minutes * 60\n",
    "        return_seconds += self.hours * 60 * 60\n",
    "\n",
    "        return return_seconds\n",
    "\n",
    "    def secondsToTimeInterval(self, seconds):\n",
    "        # input: seconds in integer\n",
    "        # output: time interval object (hour, minute, second)\n",
    "\n",
    "        hour_calc = seconds // 60 // 60\n",
    "        seconds -= hour_calc * 60 * 60\n",
    "\n",
    "        minute_calc = seconds // 60\n",
    "        seconds -= minute_calc * 60\n",
    "\n",
    "        return_time_interval = TimeInterval(hours = hour_calc, minutes = minute_calc, seconds = seconds)\n",
    "        return return_time_interval\n",
    "\n",
    "    def __str__(self):\n",
    "        return f'{self.hours:02}:{self.minutes:02}:{self.seconds:02}'\n",
    "\n",
    "    # a + b -> a.__add__b\n",
    "    # a is a time interval object, b is an integer\n",
    "    def __add__(self, added_seconds):\n",
    "        # input: time interval object, integer\n",
    "        # output: time interval object\n",
    "        # example. 21:58:50 + 62 = 21:59:52\n",
    "\n",
    "        time_interval_seconds = self.timeIntervalToSeconds() + added_seconds\n",
    "        return_tti = self.secondsToTimeInterval(time_interval_seconds)\n",
    "\n",
    "        return return_tti\n",
    "\n",
    "    def __sub__(self, subtracted_seconds):\n",
    "        # input: time interval object, integer\n",
    "        # output: time interval object\n",
    "        # example. 21:58:50 - 62 = 21:57:48\n",
    "\n",
    "        time_interval_seconds = self.timeIntervalToSeconds() - subtracted_seconds\n",
    "        return_tti = self.secondsToTimeInterval(time_interval_seconds)\n",
    "\n",
    "        return return_tti"
   ],
   "id": "fb3b0f93d6ef69a2",
   "outputs": [],
   "execution_count": 15
  },
  {
   "metadata": {
    "ExecuteTime": {
     "end_time": "2025-05-23T19:29:02.139443Z",
     "start_time": "2025-05-23T19:29:02.136573Z"
    }
   },
   "cell_type": "code",
   "source": [
    "time1 = TimeInterval(hours = 21, minutes = 58, seconds = 50)\n",
    "print(time1 + 62) # 21:59:52\n",
    "print(time1 - 62) # 21:57:48"
   ],
   "id": "32d486e22959447f",
   "outputs": [
    {
     "name": "stdout",
     "output_type": "stream",
     "text": [
      "21:59:52\n",
      "21:57:48\n"
     ]
    }
   ],
   "execution_count": 17
  }
 ],
 "metadata": {
  "kernelspec": {
   "display_name": "Python 3",
   "language": "python",
   "name": "python3"
  },
  "language_info": {
   "codemirror_mode": {
    "name": "ipython",
    "version": 2
   },
   "file_extension": ".py",
   "mimetype": "text/x-python",
   "name": "python",
   "nbconvert_exporter": "python",
   "pygments_lexer": "ipython2",
   "version": "2.7.6"
  }
 },
 "nbformat": 4,
 "nbformat_minor": 5
}
