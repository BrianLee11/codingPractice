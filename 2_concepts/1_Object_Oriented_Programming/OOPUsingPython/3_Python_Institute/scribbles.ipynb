{
 "cells": [
  {
   "cell_type": "code",
   "id": "initial_id",
   "metadata": {
    "collapsed": true,
    "ExecuteTime": {
     "end_time": "2025-05-23T04:30:07.941644Z",
     "start_time": "2025-05-23T04:30:07.938559Z"
    }
   },
   "source": [
    "class Person:\n",
    "    def __init__(self, age, salary, weight):\n",
    "        self.age = age\n",
    "        self.salary = salary\n",
    "        self.weight = weight"
   ],
   "outputs": [],
   "execution_count": 3
  },
  {
   "metadata": {
    "ExecuteTime": {
     "end_time": "2025-05-23T04:30:13.208556Z",
     "start_time": "2025-05-23T04:30:13.205404Z"
    }
   },
   "cell_type": "code",
   "source": [
    "person1 = Person(age=20, salary=15000, weight=250)\n",
    "print(person1.age + 100)\n",
    "print(person1.age.__add__(100))\n",
    "\n",
    "# https://edube.org/learn/python-advanced-1/python-core-syntax-1"
   ],
   "id": "9c2ea347dbf46195",
   "outputs": [
    {
     "name": "stdout",
     "output_type": "stream",
     "text": [
      "120\n",
      "120\n"
     ]
    }
   ],
   "execution_count": 5
  },
  {
   "metadata": {
    "ExecuteTime": {
     "end_time": "2025-05-23T16:22:25.506338Z",
     "start_time": "2025-05-23T16:22:25.493913Z"
    }
   },
   "cell_type": "code",
   "source": [
    "variable1 = 3\n",
    "variable1 -= 1\n",
    "print(variable1)"
   ],
   "id": "4d9b2c8d5c07a6bd",
   "outputs": [
    {
     "name": "stdout",
     "output_type": "stream",
     "text": [
      "2\n"
     ]
    }
   ],
   "execution_count": 1
  },
  {
   "metadata": {
    "ExecuteTime": {
     "end_time": "2025-05-23T16:30:15.953985Z",
     "start_time": "2025-05-23T16:30:15.951090Z"
    }
   },
   "cell_type": "code",
   "source": [
    "hour = 2\n",
    "minute = 15\n",
    "seconds = 34\n",
    "\n",
    "hour_seconds = hour * 60 * 60\n",
    "minute_seconds = minute * 60\n",
    "seconds += hour_seconds + minute_seconds\n",
    "\n",
    "print(seconds)"
   ],
   "id": "95e581ed9bbfca4c",
   "outputs": [
    {
     "name": "stdout",
     "output_type": "stream",
     "text": [
      "8134\n"
     ]
    }
   ],
   "execution_count": 13
  },
  {
   "metadata": {
    "ExecuteTime": {
     "end_time": "2025-05-23T16:32:38.180905Z",
     "start_time": "2025-05-23T16:32:38.176864Z"
    }
   },
   "cell_type": "code",
   "source": [
    "hour_calc = seconds // 60 // 60\n",
    "seconds -= hour_calc * 60 * 60\n",
    "print(seconds)\n",
    "\n",
    "minute_calc = seconds // 60\n",
    "seconds -= minute_calc * 60\n",
    "print(seconds)"
   ],
   "id": "36ab16fb0dcd877b",
   "outputs": [
    {
     "name": "stdout",
     "output_type": "stream",
     "text": [
      "934\n",
      "34\n"
     ]
    }
   ],
   "execution_count": 17
  }
 ],
 "metadata": {
  "kernelspec": {
   "display_name": "Python 3",
   "language": "python",
   "name": "python3"
  },
  "language_info": {
   "codemirror_mode": {
    "name": "ipython",
    "version": 2
   },
   "file_extension": ".py",
   "mimetype": "text/x-python",
   "name": "python",
   "nbconvert_exporter": "python",
   "pygments_lexer": "ipython2",
   "version": "2.7.6"
  }
 },
 "nbformat": 4,
 "nbformat_minor": 5
}
