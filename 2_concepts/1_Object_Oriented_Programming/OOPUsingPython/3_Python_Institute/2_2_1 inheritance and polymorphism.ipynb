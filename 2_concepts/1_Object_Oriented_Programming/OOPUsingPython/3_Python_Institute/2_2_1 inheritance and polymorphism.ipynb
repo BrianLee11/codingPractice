{
 "cells": [
  {
   "cell_type": "code",
   "execution_count": null,
   "id": "initial_id",
   "metadata": {
    "collapsed": true
   },
   "outputs": [],
   "source": [
    "\"\"\"\n",
    "2.2.1.1  Inheritance and polymorphism — Inheritance as a pillar of OOP\n",
    "- Inheritance: expresses the fundamental relationships between classes\n",
    "- suplerclasses (parents), and their subclasses (descendants)\n",
    "- Inheritance creates a class hierarchy.\n",
    "\"\"\""
   ]
  },
  {
   "metadata": {},
   "cell_type": "code",
   "outputs": [],
   "execution_count": null,
   "source": [
    "\"\"\"\n",
    "- Any object bound to a specific level of class hierarchy inherits all the traits (methods and attributes) defined inside any of the superclasses.\n",
    "- This means that inheritance is a way of building a new class, not from scratch, but by using an already defined repertoire of traits.\n",
    "- The new class inherits (and this is the key) all the already existing equipment, but is able to add some new features if needed.\n",
    "\"\"\""
   ],
   "id": "9a6e8a873e235bb7"
  },
  {
   "metadata": {},
   "cell_type": "code",
   "outputs": [],
   "execution_count": null,
   "source": [
    "\"\"\"\n",
    "- Each subclass is more specialized (or more specific) than its superclass.\n",
    "- Conversely, each superclass is more general (more abstract) than any of its subclasses.\n",
    "- Note that we've presumed that a class may only have one superclass — this is not always true, but we'll discuss this issue more a bit later.\n",
    "\"\"\""
   ],
   "id": "2d02f996924b25dc"
  },
  {
   "metadata": {},
   "cell_type": "markdown",
   "source": "![inheritance](images\\inheritance_1.png)",
   "id": "d39e94339a4fb885"
  },
  {
   "metadata": {
    "ExecuteTime": {
     "end_time": "2025-05-23T19:53:38.216273Z",
     "start_time": "2025-05-23T19:53:38.212022Z"
    }
   },
   "cell_type": "code",
   "source": [
    "# a very simple example of two-level inheritance:\n",
    "class Vehicle:\n",
    "    def __init__(self, A, B):\n",
    "        self.featureA = A\n",
    "        self.featureB = B\n",
    "\n",
    "class LandVehicle(Vehicle):\n",
    "    def __init__(self, A, B, C):\n",
    "        super().__init__(A, B)\n",
    "        self.featureC = C\n",
    "\n",
    "class TrackedVehicle(LandVehicle):\n",
    "    def __init__(self, A, B, C, D):\n",
    "        super().__init__(A, B, C)\n",
    "        self.featureD = D"
   ],
   "id": "932a497232dfd147",
   "outputs": [],
   "execution_count": 1
  },
  {
   "metadata": {
    "ExecuteTime": {
     "end_time": "2025-05-23T19:54:41.943394Z",
     "start_time": "2025-05-23T19:54:41.938883Z"
    }
   },
   "cell_type": "code",
   "source": [
    "trackedVehicle = TrackedVehicle(\"A\", \"B\", \"C\", \"D\")\n",
    "print(trackedVehicle.featureA) # A\n",
    "print(trackedVehicle.featureB) # B\n",
    "print(trackedVehicle.featureC) # C\n",
    "print(trackedVehicle.featureD) # D"
   ],
   "id": "ebb9df19fbbdb42a",
   "outputs": [
    {
     "name": "stdout",
     "output_type": "stream",
     "text": [
      "A\n",
      "B\n",
      "C\n",
      "D\n"
     ]
    }
   ],
   "execution_count": 3
  },
  {
   "metadata": {},
   "cell_type": "code",
   "outputs": [],
   "execution_count": null,
   "source": [
    "\"\"\"\n",
    "- All the presented classes are empty for now, as we're going to show you how the mutual relations between the super- and subclasses work.\n",
    "- We can say that:\n",
    "    - the Vehicle class is the superclass for both the LandVehicle and TrackedVehicle classes;\n",
    "    - the LandVehicle class is a subclass of Vehicle and a superclass of TrackedVehicle at the same time;\n",
    "    - the TrackedVehicle class is a subclass of both the Vehicle and LandVehicle classes.\n",
    "\"\"\""
   ],
   "id": "f1ad783ee29f58de"
  },
  {
   "metadata": {},
   "cell_type": "code",
   "outputs": [],
   "execution_count": null,
   "source": "# 2.2.1.2 Inheritance and polymorphism — Single inheritance vs. multiple inheritance",
   "id": "2b66dd44e1f6ad7d"
  },
  {
   "metadata": {},
   "cell_type": "code",
   "outputs": [],
   "execution_count": null,
   "source": [
    "\"\"\"\n",
    "- There are no obstacles to using multiple inheritance in Python.\n",
    "- You can derive any new class from more than one previously defined class.\n",
    "\n",
    "\n",
    "\n",
    "\"\"\""
   ],
   "id": "741d9e07fe67135"
  }
 ],
 "metadata": {
  "kernelspec": {
   "display_name": "Python 3",
   "language": "python",
   "name": "python3"
  },
  "language_info": {
   "codemirror_mode": {
    "name": "ipython",
    "version": 2
   },
   "file_extension": ".py",
   "mimetype": "text/x-python",
   "name": "python",
   "nbconvert_exporter": "python",
   "pygments_lexer": "ipython2",
   "version": "2.7.6"
  }
 },
 "nbformat": 4,
 "nbformat_minor": 5
}
