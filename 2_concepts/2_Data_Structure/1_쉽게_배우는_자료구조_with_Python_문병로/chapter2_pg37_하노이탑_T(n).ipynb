{
 "cells": [
  {
   "cell_type": "markdown",
   "id": "9a1fd92b-f071-4591-b3ff-491c6b594b9f",
   "metadata": {},
   "source": [
    "### 주제: \"하노이의 탑\" 원반을 욺직이는 최소 횟수는 $T(n) = 2^n - 1$ 임을 보여라.\n",
    "\n",
    "\"하노이의 탑\"은 아마도 가장 유명한 재귀성을 가진 문제 중 하나일 것이다. a,b,c 3개의 기둥이 있고, 기둥 a에 넓이가 서로 다른 n개의 원반이 있다. 이 n개의 원반을 기둥 b로 옮겨야 하는데, 아래 규칙을 만족시키면서 옮겨야 한다. 기둥 c는 중간에 원반(들)을 임시로 옮겨두는 보조기둥으로 사용한다. 아래는 원반이 5개인 하노이 탑 문제의 예다.\n",
    "\n",
    "- 원반은 한 번에 하나씩 옮길 수 있다.\n",
    "- 큰 원반이 작은 원반 아래에 놓여 있어야 한다. "
   ]
  },
  {
   "cell_type": "markdown",
   "id": "ab7358d1-6b18-43fc-a199-e40202c1ee39",
   "metadata": {},
   "source": [
    "<img src=\"./images/Hanoi_Tower_abc.png\" alt=\"Tower of Hanoi\" width=\"400\"/>\n"
   ]
  },
  {
   "cell_type": "markdown",
   "id": "de49ce23-37ae-40ee-8c00-fd8c6c0eda8c",
   "metadata": {},
   "source": [
    "하노이 탑 문제를 푸는 알고리즘:\n",
    "```\n",
    "기둥 a에 있는 n개의 원반을 기둥 c를 보조 기둥으로 사용해 기둥 b로 옮긴다.\n",
    "\n",
    "move(n, a, b, c):\n",
    "    if (n > 0)                         # 1)\n",
    "        move(n-1, a, c, b)             # 2)\n",
    "        a에 있는 원반을 b로 옮긴다.       # 3)\n",
    "        move(n-1, c, b, a)             # 4)\n",
    "```\n",
    "\n",
    "1) 맨 아래 원반을 제외한 나머지 n-1 개의 원반을 기둥 c로 옮긴다.\n",
    "2) a에 남은 원반 1개를 b로 옮긴다.\n",
    "3) c로 옮겨둔 n-1개의 원반을 b로 옮긴다."
   ]
  },
  {
   "cell_type": "markdown",
   "id": "4c365510-3465-40e0-a916-e933fed380e1",
   "metadata": {},
   "source": [
    "<img src=\"./images/Hanoi_Tower.png\" alt=\"Tower of Hanoi\" width=\"500\"/>\n"
   ]
  },
  {
   "cell_type": "markdown",
   "id": "55b5f0a4-f968-4c50-83b2-41defa1e1301",
   "metadata": {},
   "source": [
    "- 크기 n인 하노이 탑 문제가 크기 n-1인 하노이 탑 문제 2개 2), 4)를 포함하고 있다.\n",
    "- 그 둘 사이에 크기 1인 하노이 탑 문제가 하나 3) 끼어 있다.\n",
    "- 1)은 경계 조건이다.\n",
    "- 크기 n인 문제로 시작해서 점점 작은 문제를 호출해가다가 언젠가는 끝나야 한다.\n",
    "- 이 중 1) 은 크기가 0이 되면 끝내라는 뜻이다. 크기 0인 문제는 실제로 존재하지 않는 문제인데, 위와 같은 경계 조건이라면 크기 0일 때는 아무 일도 하지 않고 move (0, ...) 이 호출되자마자 바로 끝난다."
   ]
  },
  {
   "cell_type": "markdown",
   "id": "d1e8bada-6b2c-41b5-828b-6fe63aa75a2a",
   "metadata": {},
   "source": [
    "- 원반을 움직여야 하는 최소 회수는 $T(n) = 2^n - 1$\n",
    "\n",
    "| n  | T(n)                | $2^n - 1$              |\n",
    "|----|---------------------|--------------------------|\n",
    "| 1  | 1                   | $2^1 - 1 = 1$           |\n",
    "| 2  | T(1) + 1 + T(1)     | $2^2 - 1 = 3$           |\n",
    "| 3  | T(2) + 1 + T(2)     | $2^3 - 1 = 7$           |\n",
    "\n",
    "---\n",
    "\n",
    "### 📐 증명 (수학적 귀납법)\n",
    "\n",
    "- $ n = 1 $일 때:\n",
    "\n",
    "  $T(1) = 2^1 - 1 = 2 - 1 = 1$\n",
    "\n",
    "  성립함.\n",
    "\n",
    "- 귀납 가정: $T(n) = 2^n - 1$ 이라고 하자.\n",
    "\n",
    "- 귀납 단계: $T(n+1)$을 계산하면,\n",
    "\n",
    "  $T(n+1) = T(n) + 1 + T(n)$\n",
    "\n",
    "  - 첫 번째 \\( T(n) \\): n개의 원반을 a에서 c로 이동\n",
    "  - 1: 가장 큰 원반 1개를 a에서 b로 이동\n",
    "  - 두 번째 \\( T(n) \\): n개의 원반을 c에서 b로 이동\n",
    "\n",
    "  따라서,\n",
    "\n",
    "  $T(n+1) = (2^n - 1) + 1 + (2^n - 1) = 2 \\cdot 2^n - 1 = 2^{n+1} - 1$\n",
    "\n",
    "- 결론: $T(n) = 2^n - 1$ 은 모든 자연수 $n \\geq 1$에 대해 성립한다. □"
   ]
  }
 ],
 "metadata": {
  "kernelspec": {
   "display_name": "Python 3 (ipykernel)",
   "language": "python",
   "name": "python3"
  },
  "language_info": {
   "codemirror_mode": {
    "name": "ipython",
    "version": 3
   },
   "file_extension": ".py",
   "mimetype": "text/x-python",
   "name": "python",
   "nbconvert_exporter": "python",
   "pygments_lexer": "ipython3",
   "version": "3.12.6"
  }
 },
 "nbformat": 4,
 "nbformat_minor": 5
}
