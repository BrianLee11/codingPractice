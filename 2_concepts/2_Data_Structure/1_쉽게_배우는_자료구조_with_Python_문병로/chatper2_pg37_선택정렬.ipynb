{
 "cells": [
  {
   "cell_type": "markdown",
   "id": "b1ef3bca2e473554",
   "metadata": {},
   "source": [
    "### 선택정렬\n",
    "\n",
    "배열 `A[0, ..., n-1]`에 n개의 원소가 주어지고, 이를 크기순으로 정렬하려고 한다. 여러 정렬 알고리즘 중 가장 기초적인 알고리즘인 선택 정렬의 예를 살펴보자.\n",
    "\n",
    "알고리즘[2-5] 선택 정렬\n",
    "```\n",
    "selectionSort(A[], n): <- 배열 A[0,...,n-1]을 정렬한다.\n",
    "    for last <- n-1 down to 1 ... 1번\n",
    "        A[0...last] 중 가장 큰 수 A[k]를 찾는다 ... 2번\n",
    "        A[k] <--> A[last] <- A[k]와 A[last]의 값을 교환한다 ... 3번\n",
    "```\n",
    "\n",
    "알고리즘[2-5]의 선택 정렬 알고리즘에서는 먼저 전체를 한 번 훑어 가장 큰 원소를 찾는다 (2번). 이 원소를 제일 오른쪽 원소와 밪바꾼다 (3번). 그러면 맨 오른쪽에 제일 큰 원소를 자리하게 되고, 이 원소는 더 이상 자리를 바꿀 필요가 없다. 즉, 제일 큰 원소에 관한 한 정렬이 끝난 것이다. 이제 맨 오른쪽 원소를 관심 대상에서 제외한다. 그러면 `A[0,..,n-2]` 에 `n-1`개짜리 정렬 문제가 남는다. 즉, 가장 큰 원소를 찾아 맨 오른쪽 원소와 맞바꾸는 수고를 하고 나면 `자신과 성격이 똑같지만 크기가 하나만큼 작은 정렬 문제`를 만나게 된다. `재귀적 구조`다. \n",
    "\n",
    "알고리즘에서 1의 for 루프가 한 바퀴 돌 때마다 문제의 크기가 하나씩 작아진다. `n`개짜리 문제로 시작해서 총 `n-1` 바퀴를 돌고 나면 1개짜리 문제가 남는다. 즉, `A[0]`만 남는다. 1개짜리 문제는 원소가 하나뿐이라 정렬할 것이 없다."
   ]
  },
  {
   "cell_type": "markdown",
   "id": "32177f54-d0a0-45e1-b385-518491b6582e",
   "metadata": {},
   "source": [
    "<img src = \"images/SelectionSort.png\">"
   ]
  },
  {
   "cell_type": "code",
   "execution_count": 63,
   "id": "e62fe686-136f-45cd-84c8-e868de5f0ab5",
   "metadata": {},
   "outputs": [],
   "source": [
    "# 알고리즘[2-5]을 파이선으로 구현해 보자.\n",
    "\n",
    "import math\n",
    "\n",
    "def selectionElementsIntuitive(array, n):\n",
    "    # lastIndex 는 n-1 에서 시작한다\n",
    "    lastIndex = n - 1\n",
    "\n",
    "    # lastIndex 는 1에서 멈춘다. 0보다 큰 정수면 실행시킨다.\n",
    "    while lastIndex > 0:\n",
    "        maxIndex = 0\n",
    "        maxNumber = -float('inf')\n",
    "\n",
    "        for index in range(lastIndex + 1):\n",
    "            #A[0, ... lastIndex] 중 가장 큰 수 A[k]를 찾는다.\n",
    "            if maxNumber < array[index]:\n",
    "                # update maxNumber\n",
    "                maxNumber = array[index]\n",
    "                maxIndex = index\n",
    "\n",
    "        # swap the last element with the max number\n",
    "        array[lastIndex], array[maxIndex] = array[maxIndex], array[lastIndex]\n",
    "\n",
    "        \n",
    "        # Reduce the unsorted portion\n",
    "        lastIndex -= 1\n",
    "        \n",
    "    return array"
   ]
  },
  {
   "cell_type": "code",
   "execution_count": 64,
   "id": "408798e6-20b2-4549-a6a6-253abbcca40a",
   "metadata": {},
   "outputs": [
    {
     "name": "stdout",
     "output_type": "stream",
     "text": [
      "[1, 2, 3, 3, 4, 5, 9]\n"
     ]
    }
   ],
   "source": [
    "myArrayTest = [4,1,3,5,9,2,3]\n",
    "myArrayTest = selectionElementsIntuitive(myArrayTest, len(myArrayTest))\n",
    "print(myArrayTest)"
   ]
  },
  {
   "cell_type": "markdown",
   "id": "287dfdbb-47d7-43ad-96fb-6433052038fd",
   "metadata": {},
   "source": [
    "[알고리즘 2-5]는 재귀 알고리즘은 아니지만 앞에서 설명했듯이 논리 구조상 재귀성이 포함되어 있다. 이를 명시적으로 재귀를 포함하는 알고리즘으로 바꾼 것이 [알고리즘 2-6]이다."
   ]
  },
  {
   "cell_type": "markdown",
   "id": "ec063b67-1701-4fc4-ae57-0e1ac7921981",
   "metadata": {},
   "source": [
    "[알고리즘 2-6] 선택 정렬 (재귀 버전)\n",
    "```\n",
    "selectionSort(A[], n): # 배열 A[0, 1, ... , n-1]을 정렬한다.\n",
    "    if (n > 1)          # 1번\n",
    "        A[0, 1, ... n-1] 중 가장 큰 수 A[k]를 찾는다 # 2번\n",
    "        A[k] <--> A[n-1]  # A[k]와 A[n-1]의 값을 교환한다\n",
    "        selectionSort(A, n-1) # 배열 A[0, ... n-2]를 정렬한다.\n",
    "```\n",
    "재귀 버전 선택 정렬 알고리즘에서는 2,3에서 가장 큰 원소를 찾아 맨 오른쪽 원소와 맞바꾸는 작업을 한다. 그리고 4에서 자기보다 하나 작은 선택 정렬 문제를 호출한다. 크기 `n`인 선택 정렬 문제가 크기 `n-1`인 선택 정렬 문제를 호출한다. 즉, 배열 `A[0, ...., n-1]`을 대상으로 한 정렬 문제가 배열 `A[0,...,n-2]`를 대상으로 하는 정렬 문제를 호출한다. 이렇게 자기호출을 반복하다가 언젠가는 끝내야 한다. 1은 경계 조건이다. 1은 문제의 크기가 1보다 클 때만 자기호출을 하라는 뜻이다. 즉, 문제의 크기가 1이 되면 자기호출의 반복을 멈춘다."
   ]
  },
  {
   "cell_type": "code",
   "execution_count": 35,
   "id": "58e6de2d-0a4a-4a76-8045-e60be650513c",
   "metadata": {},
   "outputs": [],
   "source": [
    "# 알고리즘[2-6]을 파이선으로 구현해 보자.\n",
    "\n",
    "import math\n",
    "def selectionElements(array, n):\n",
    "\n",
    "    # base case: if the subarray has 1 or fewer elements, it is already sorted\n",
    "    if n <= 1:\n",
    "        return array\n",
    "\n",
    "    # Initialize maximum value and its index    \n",
    "    maxNumber = - float('inf')\n",
    "    maxNumberIndex = -1 \n",
    "    \n",
    "    # Find the maximum element in the first n elements\n",
    "    for index in range(n):\n",
    "        if maxNumber < array[index]:\n",
    "            maxNumber = array[index]\n",
    "            maxNumberIndex = index\n",
    "            \n",
    "    # Swap the found maximum with the last element in the subarray\n",
    "    array[maxNumberIndex], array[n-1] = array[n-1], array[maxNumberIndex]\n",
    "\n",
    "    # Recur on the rest of the array\n",
    "    return selectionElements(array, n-1)"
   ]
  },
  {
   "cell_type": "code",
   "execution_count": 36,
   "id": "b6f13643-4188-4a47-a7ae-d50812d49d86",
   "metadata": {},
   "outputs": [
    {
     "name": "stdout",
     "output_type": "stream",
     "text": [
      "[1, 2, 3, 3, 4, 5, 9]\n"
     ]
    }
   ],
   "source": [
    "myArray = [4,1,3,5,9,2,3]\n",
    "myArray = selectionElements(myArray, len(myArray))\n",
    "print(myArray)"
   ]
  }
 ],
 "metadata": {
  "kernelspec": {
   "display_name": "Python 3 (ipykernel)",
   "language": "python",
   "name": "python3"
  },
  "language_info": {
   "codemirror_mode": {
    "name": "ipython",
    "version": 3
   },
   "file_extension": ".py",
   "mimetype": "text/x-python",
   "name": "python",
   "nbconvert_exporter": "python",
   "pygments_lexer": "ipython3",
   "version": "3.12.6"
  }
 },
 "nbformat": 4,
 "nbformat_minor": 5
}
