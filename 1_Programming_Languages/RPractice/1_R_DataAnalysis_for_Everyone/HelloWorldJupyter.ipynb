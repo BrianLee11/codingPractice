{
 "cells": [
  {
   "cell_type": "code",
   "execution_count": 1,
   "id": "396d590c",
   "metadata": {},
   "outputs": [
    {
     "name": "stdout",
     "output_type": "stream",
     "text": [
      "[1] \"Hello World\"\n"
     ]
    }
   ],
   "source": [
    "print(\"Hello World\")"
   ]
  },
  {
   "cell_type": "code",
   "execution_count": 1,
   "id": "e10e7b3e",
   "metadata": {},
   "outputs": [
    {
     "data": {
      "text/html": [
       "'Hello World!'"
      ],
      "text/latex": [
       "'Hello World!'"
      ],
      "text/markdown": [
       "'Hello World!'"
      ],
      "text/plain": [
       "[1] \"Hello World!\""
      ]
     },
     "metadata": {},
     "output_type": "display_data"
    }
   ],
   "source": [
    "\"Hello World!\""
   ]
  },
  {
   "cell_type": "code",
   "execution_count": 2,
   "id": "dc51e5ca",
   "metadata": {},
   "outputs": [],
   "source": [
    "my_function <- function(){\n",
    "    print(\"Hello World!\")\n",
    "}"
   ]
  },
  {
   "cell_type": "code",
   "execution_count": 4,
   "id": "89f3d615",
   "metadata": {},
   "outputs": [
    {
     "name": "stdout",
     "output_type": "stream",
     "text": [
      "[1] \"Hello World!\"\n"
     ]
    }
   ],
   "source": [
    "my_function()"
   ]
  },
  {
   "cell_type": "code",
   "execution_count": null,
   "id": "17f2a3e1",
   "metadata": {},
   "outputs": [],
   "source": [
    "\"\"\" \n",
    "R is a functional language\n",
    "Let me show you how R embraces functional programming \n",
    "in a way that is both expressive and powerful.\n",
    "\"\"\""
   ]
  },
  {
   "cell_type": "code",
   "execution_count": 5,
   "id": "dd492924",
   "metadata": {},
   "outputs": [
    {
     "data": {
      "text/html": [
       "8"
      ],
      "text/latex": [
       "8"
      ],
      "text/markdown": [
       "8"
      ],
      "text/plain": [
       "[1] 8"
      ]
     },
     "metadata": {},
     "output_type": "display_data"
    }
   ],
   "source": [
    "# 1. define functions\n",
    "add <- function(x,y){\n",
    "    return (x + y)\n",
    "}\n",
    "\n",
    "add(3,5) # returns 8"
   ]
  },
  {
   "cell_type": "code",
   "execution_count": 6,
   "id": "6f336503",
   "metadata": {},
   "outputs": [
    {
     "data": {
      "text/html": [
       "16"
      ],
      "text/latex": [
       "16"
      ],
      "text/markdown": [
       "16"
      ],
      "text/plain": [
       "[1] 16"
      ]
     },
     "metadata": {},
     "output_type": "display_data"
    }
   ],
   "source": [
    "# 2. You can define and use a function without giving it a name:\n",
    "# 💡 This is called a lambda or anonymous function — used in-line.\n",
    "\n",
    "(function(x) x^2)(4)"
   ]
  },
  {
   "cell_type": "code",
   "execution_count": 18,
   "id": "94c48a94",
   "metadata": {},
   "outputs": [
    {
     "data": {
      "text/html": [
       "3"
      ],
      "text/latex": [
       "3"
      ],
      "text/markdown": [
       "3"
      ],
      "text/plain": [
       "[1] 3"
      ]
     },
     "metadata": {},
     "output_type": "display_data"
    }
   ],
   "source": [
    "# 3. Passing functions as arguments\n",
    "apply_twice <- function(f, x) {\n",
    "  return(f(f(x)))\n",
    "}\n",
    "\n",
    "apply_twice(sqrt, 81)  # sqrt(sqrt(81)) → sqrt(9) → 3"
   ]
  },
  {
   "cell_type": "code",
   "execution_count": 13,
   "id": "8f10f909",
   "metadata": {},
   "outputs": [],
   "source": [
    "\"\"\"\n",
    "4. Returning functions from functions\n",
    "💡 This is called a closure — the inner function 'remembers' the factor.\n",
    "\"\"\"\n",
    "\n",
    "make_multiplier <- function(factor) {\n",
    "  function(x) \n",
    "      {\n",
    "      x * factor\n",
    "      }\n",
    "}"
   ]
  },
  {
   "cell_type": "code",
   "execution_count": 16,
   "id": "73fe0cf4",
   "metadata": {},
   "outputs": [],
   "source": [
    "times3 <- make_multiplier(3)"
   ]
  },
  {
   "cell_type": "code",
   "execution_count": 17,
   "id": "ffe0a11e",
   "metadata": {},
   "outputs": [
    {
     "data": {
      "text/html": [
       "30"
      ],
      "text/latex": [
       "30"
      ],
      "text/markdown": [
       "30"
      ],
      "text/plain": [
       "[1] 30"
      ]
     },
     "metadata": {},
     "output_type": "display_data"
    }
   ],
   "source": [
    "times3(10) # 10 * 3 = 30"
   ]
  },
  {
   "cell_type": "code",
   "execution_count": 29,
   "id": "5d5602b3",
   "metadata": {
    "scrolled": true
   },
   "outputs": [],
   "source": [
    "# 5. Using *apply() functions\n",
    "# The lapply(), sapply(), vapply() functions in R embrace functional-style loops\n",
    "# These are functional-style alternatives to for-loops."
   ]
  },
  {
   "cell_type": "code",
   "execution_count": 33,
   "id": "b8051031",
   "metadata": {},
   "outputs": [],
   "source": [
    "squared <- lapply(1:5, function(x) x^2)\n",
    "# It returns a list, where each element is the result of the function"
   ]
  },
  {
   "cell_type": "code",
   "execution_count": 31,
   "id": "45ff015c",
   "metadata": {},
   "outputs": [
    {
     "name": "stdout",
     "output_type": "stream",
     "text": [
      "[[1]]\n",
      "[1] 1\n",
      "\n",
      "[[2]]\n",
      "[1] 4\n",
      "\n",
      "[[3]]\n",
      "[1] 9\n",
      "\n",
      "[[4]]\n",
      "[1] 16\n",
      "\n",
      "[[5]]\n",
      "[1] 25\n",
      "\n"
     ]
    }
   ],
   "source": [
    "print(squared)"
   ]
  },
  {
   "cell_type": "code",
   "execution_count": null,
   "id": "071d7200",
   "metadata": {},
   "outputs": [],
   "source": [
    "\"\"\"\n",
    "The result is: \n",
    "list(\n",
    "  [1] -> c(1),   # 1^2 = 1\n",
    "  [2] -> c(4),   # 2^2 = 4\n",
    "  [3] -> c(9),   # 3^2 = 9\n",
    "  [4] -> c(16),  # 4^2 = 16\n",
    "  [5] -> c(25)   # 5^2 = 25\n",
    ")\n",
    "\"\"\""
   ]
  },
  {
   "cell_type": "code",
   "execution_count": 32,
   "id": "19dcd3fd",
   "metadata": {},
   "outputs": [
    {
     "data": {
      "text/html": [
       "<style>\n",
       ".list-inline {list-style: none; margin:0; padding: 0}\n",
       ".list-inline>li {display: inline-block}\n",
       ".list-inline>li:not(:last-child)::after {content: \"\\00b7\"; padding: 0 .5ex}\n",
       "</style>\n",
       "<ol class=list-inline><li>1</li><li>4</li><li>9</li><li>16</li><li>25</li></ol>\n"
      ],
      "text/latex": [
       "\\begin{enumerate*}\n",
       "\\item 1\n",
       "\\item 4\n",
       "\\item 9\n",
       "\\item 16\n",
       "\\item 25\n",
       "\\end{enumerate*}\n"
      ],
      "text/markdown": [
       "1. 1\n",
       "2. 4\n",
       "3. 9\n",
       "4. 16\n",
       "5. 25\n",
       "\n",
       "\n"
      ],
      "text/plain": [
       "[1]  1  4  9 16 25"
      ]
     },
     "metadata": {},
     "output_type": "display_data"
    }
   ],
   "source": [
    "sapply(1:5, function(x) x^2)\n",
    "# sapply() tries to simplify the result to a vector or matrix."
   ]
  },
  {
   "cell_type": "code",
   "execution_count": 35,
   "id": "87b178c1",
   "metadata": {},
   "outputs": [
    {
     "data": {
      "text/html": [
       "<style>\n",
       ".list-inline {list-style: none; margin:0; padding: 0}\n",
       ".list-inline>li {display: inline-block}\n",
       ".list-inline>li:not(:last-child)::after {content: \"\\00b7\"; padding: 0 .5ex}\n",
       "</style>\n",
       "<ol class=list-inline><li>1</li><li>4</li><li>9</li><li>16</li><li>25</li></ol>\n"
      ],
      "text/latex": [
       "\\begin{enumerate*}\n",
       "\\item 1\n",
       "\\item 4\n",
       "\\item 9\n",
       "\\item 16\n",
       "\\item 25\n",
       "\\end{enumerate*}\n"
      ],
      "text/markdown": [
       "1. 1\n",
       "2. 4\n",
       "3. 9\n",
       "4. 16\n",
       "5. 25\n",
       "\n",
       "\n"
      ],
      "text/plain": [
       "[1]  1  4  9 16 25"
      ]
     },
     "metadata": {},
     "output_type": "display_data"
    }
   ],
   "source": [
    "# vapply(), which is a stricter, safer version of sapply() in R\n",
    "vapply(1:5, function(x) x^2, FUN.VALUE = numeric(1))"
   ]
  },
  {
   "cell_type": "code",
   "execution_count": null,
   "id": "1b388113",
   "metadata": {},
   "outputs": [],
   "source": []
  }
 ],
 "metadata": {
  "kernelspec": {
   "display_name": "R",
   "language": "R",
   "name": "ir"
  },
  "language_info": {
   "codemirror_mode": "r",
   "file_extension": ".r",
   "mimetype": "text/x-r-source",
   "name": "R",
   "pygments_lexer": "r",
   "version": "4.4.3"
  }
 },
 "nbformat": 4,
 "nbformat_minor": 5
}
