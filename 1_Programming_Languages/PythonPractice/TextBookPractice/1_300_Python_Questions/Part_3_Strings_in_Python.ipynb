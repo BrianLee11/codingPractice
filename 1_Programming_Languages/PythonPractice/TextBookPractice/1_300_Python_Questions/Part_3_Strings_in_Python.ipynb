{
 "cells": [
  {
   "cell_type": "code",
   "execution_count": 2,
   "id": "initial_id",
   "metadata": {
    "ExecuteTime": {
     "end_time": "2025-04-08T21:14:02.745798Z",
     "start_time": "2025-04-08T21:14:02.741798Z"
    },
    "collapsed": true,
    "jupyter": {
     "outputs_hidden": true
    }
   },
   "outputs": [],
   "source": [
    "# Part 3: Strings in Python\n",
    "# source: 'https://wikidocs.net/7022'"
   ]
  },
  {
   "cell_type": "code",
   "execution_count": null,
   "id": "5c732e42e337bf45",
   "metadata": {},
   "outputs": [],
   "source": [
    "\"\"\"\n",
    "021 String Indexing\n",
    "Print the first and third characters from the string that letters is bound to.\n",
    ">> letters = 'python'\n",
    "\n",
    "Example of execution\n",
    "p t\n",
    "\"\"\""
   ]
  },
  {
   "cell_type": "code",
   "execution_count": 1,
   "id": "aead465e02caea21",
   "metadata": {
    "ExecuteTime": {
     "end_time": "2025-04-08T22:57:19.598018Z",
     "start_time": "2025-04-08T22:57:19.591020Z"
    }
   },
   "outputs": [
    {
     "name": "stdout",
     "output_type": "stream",
     "text": [
      "p\n",
      "t\n"
     ]
    }
   ],
   "source": [
    "letters = 'python'\n",
    "print(letters[0])\n",
    "print(letters[2])"
   ]
  },
  {
   "cell_type": "code",
   "execution_count": 2,
   "id": "5154453b659052e7",
   "metadata": {
    "ExecuteTime": {
     "end_time": "2025-04-08T22:58:28.169249Z",
     "start_time": "2025-04-08T22:58:28.164350Z"
    }
   },
   "outputs": [
    {
     "data": {
      "text/plain": [
       "'\\n022 String Slicing\\nWhen the car license plate number is as follows, print only the last 4 digits.\\n>> license_plate = \"24A 2210\"\\n\\n'"
      ]
     },
     "execution_count": 2,
     "metadata": {},
     "output_type": "execute_result"
    }
   ],
   "source": [
    "\"\"\"\n",
    "022 String Slicing\n",
    "When the car license plate number is as follows, print only the last 4 digits.\n",
    ">> license_plate = \"24A 2210\"\n",
    "Example output: 2210\n",
    "\"\"\""
   ]
  },
  {
   "cell_type": "code",
   "execution_count": 3,
   "id": "c17ce3b04aa4c01d",
   "metadata": {
    "ExecuteTime": {
     "end_time": "2025-04-08T22:58:43.458392Z",
     "start_time": "2025-04-08T22:58:43.455323Z"
    }
   },
   "outputs": [],
   "source": [
    "license_plate = \"24A 2210\""
   ]
  },
  {
   "cell_type": "code",
   "execution_count": 11,
   "id": "6d02cfc191aad4dd",
   "metadata": {
    "ExecuteTime": {
     "end_time": "2025-04-08T23:01:13.296289Z",
     "start_time": "2025-04-08T23:01:13.292917Z"
    }
   },
   "outputs": [
    {
     "name": "stdout",
     "output_type": "stream",
     "text": [
      "2210\n"
     ]
    }
   ],
   "source": [
    "print(license_plate[-4:])"
   ]
  },
  {
   "cell_type": "code",
   "execution_count": null,
   "id": "b51b86428d69cc14",
   "metadata": {},
   "outputs": [],
   "source": [
    "\"\"\"\n",
    "023 String Indexing\n",
    "Print only the characters 'A' from the string below.\n",
    ">> string = \"ABABAB\"\n",
    "Example output: AAA\n",
    "\"\"\""
   ]
  },
  {
   "cell_type": "code",
   "execution_count": 3,
   "id": "7bae97288c473ba4",
   "metadata": {
    "ExecuteTime": {
     "end_time": "2025-04-08T23:06:14.369365Z",
     "start_time": "2025-04-08T23:06:14.365177Z"
    }
   },
   "outputs": [
    {
     "name": "stdout",
     "output_type": "stream",
     "text": [
      "AAA\n"
     ]
    }
   ],
   "source": [
    "string = \"ABABAB\"\n",
    "print(string[::2])"
   ]
  },
  {
   "cell_type": "code",
   "execution_count": 28,
   "id": "922597b2d9b18596",
   "metadata": {
    "ExecuteTime": {
     "end_time": "2025-04-08T23:06:55.975344Z",
     "start_time": "2025-04-08T23:06:55.970425Z"
    }
   },
   "outputs": [
    {
     "name": "stdout",
     "output_type": "stream",
     "text": [
      "AB\n"
     ]
    }
   ],
   "source": [
    "print(string[::3])"
   ]
  },
  {
   "cell_type": "markdown",
   "id": "7f76a0654a3c5c92",
   "metadata": {},
   "source": [
    "Explanation:\n",
    "string[::3] uses Python slicing with three parts:\n",
    "string[start:stop:step]\n",
    "- start: where to begin (default is 0 if omitted)\n",
    "- stop: where to end (default is end of string if omitted)\n",
    "- step: how many characters to skip each time (here, 3)\n"
   ]
  },
  {
   "cell_type": "code",
   "execution_count": 1,
   "id": "689b67d7-1a75-4149-848b-1571a51eb1b4",
   "metadata": {},
   "outputs": [
    {
     "data": {
      "text/plain": [
       "'\\nIndex:   0 1 2 3 4 5  \\nString:  A B A B A B\\n'"
      ]
     },
     "execution_count": 1,
     "metadata": {},
     "output_type": "execute_result"
    }
   ],
   "source": [
    "\"\"\"\n",
    "Index:   0 1 2 3 4 5  \n",
    "String:  A B A B A B\n",
    "\n",
    "Taking every 3rd character starting from index 0:\n",
    "Index 0 → 'A'\n",
    "Index 3 → 'B'\n",
    "\n",
    "So the result is AB\n",
    "\"\"\""
   ]
  },
  {
   "cell_type": "code",
   "execution_count": 4,
   "id": "1f94b7be5ca650c3",
   "metadata": {
    "ExecuteTime": {
     "end_time": "2025-04-08T23:06:59.968365Z",
     "start_time": "2025-04-08T23:06:59.965489Z"
    }
   },
   "outputs": [
    {
     "name": "stdout",
     "output_type": "stream",
     "text": [
      "AA\n"
     ]
    }
   ],
   "source": [
    "print(string[::4])"
   ]
  },
  {
   "cell_type": "code",
   "execution_count": null,
   "id": "a370f2db-4803-4a23-bf16-5c9e3bd22cfd",
   "metadata": {},
   "outputs": [],
   "source": [
    "\"\"\"\n",
    "025 String Replacement\n",
    "\n",
    "Remove the hyphens ('-') from the phone number below and print the result.\n",
    ">> phone_number = \"010-1111-2222\"\n",
    "\n",
    "Example output:\n",
    "010 1111 2222\n",
    "\"\"\""
   ]
  },
  {
   "cell_type": "code",
   "execution_count": 5,
   "id": "33a517c3-63c3-495a-a1ea-bdcdb777f5f3",
   "metadata": {},
   "outputs": [],
   "source": [
    "phone_number = \"010-1111-2222\""
   ]
  },
  {
   "cell_type": "code",
   "execution_count": 9,
   "id": "a629f0a8-fde6-40e2-b0ed-8704c976fba8",
   "metadata": {},
   "outputs": [
    {
     "name": "stdout",
     "output_type": "stream",
     "text": [
      "010 1111 2222\n"
     ]
    }
   ],
   "source": [
    "print(phone_number.replace('-', ' '))"
   ]
  },
  {
   "cell_type": "code",
   "execution_count": 10,
   "id": "275e6543-5aca-46f1-9cee-b43ec0c666e1",
   "metadata": {},
   "outputs": [
    {
     "name": "stdout",
     "output_type": "stream",
     "text": [
      "010-1111-2222\n"
     ]
    }
   ],
   "source": [
    "print(phone_number)"
   ]
  },
  {
   "cell_type": "code",
   "execution_count": null,
   "id": "913ead56-5fc1-4012-b100-7c533d242ea9",
   "metadata": {},
   "outputs": [],
   "source": [
    "\"\"\"\n",
    "026 String Manipulation\n",
    "Take the phone number from problem 25 and print it as a single, continuous string as shown below.\n",
    "\n",
    "Example Output:\n",
    "01011112222\"\"\"\n"
   ]
  },
  {
   "cell_type": "code",
   "execution_count": 8,
   "id": "28429d35-e97f-4aa5-a304-eca3885bdb03",
   "metadata": {},
   "outputs": [],
   "source": [
    "phone_number = \"010-1111-2222\""
   ]
  },
  {
   "cell_type": "code",
   "execution_count": 11,
   "id": "c161707d-8e5b-4dae-afa0-f6f1e417550f",
   "metadata": {},
   "outputs": [
    {
     "name": "stdout",
     "output_type": "stream",
     "text": [
      "01011112222\n"
     ]
    }
   ],
   "source": [
    "print(phone_number.replace('-', ''))"
   ]
  },
  {
   "cell_type": "code",
   "execution_count": null,
   "id": "132e7573-cab4-4775-b1b4-c3fd86c7de18",
   "metadata": {},
   "outputs": [],
   "source": [
    "\"\"\"\n",
    "027 String Manipulation\n",
    "Print the domain from the web page address stored in the variable `url`.\n",
    "\n",
    ">> url = \"http://sharebook.kr\"\n",
    "\n",
    "Example Output:\n",
    "kr\n",
    "\"\"\""
   ]
  },
  {
   "cell_type": "code",
   "execution_count": 12,
   "id": "f47ebc17-3e04-4949-9833-fa1c2acdec48",
   "metadata": {},
   "outputs": [],
   "source": [
    "url = \"http://sharebook.kr\""
   ]
  },
  {
   "cell_type": "code",
   "execution_count": 13,
   "id": "0f3102ed-e376-4204-8e91-f239ae02418c",
   "metadata": {},
   "outputs": [
    {
     "name": "stdout",
     "output_type": "stream",
     "text": [
      "['http://sharebook', 'kr']\n"
     ]
    }
   ],
   "source": [
    "url_split = url.split('.')\n",
    "print(url_split)"
   ]
  },
  {
   "cell_type": "code",
   "execution_count": 14,
   "id": "1c542602-0c00-4521-a397-945bfd26cc61",
   "metadata": {},
   "outputs": [
    {
     "name": "stdout",
     "output_type": "stream",
     "text": [
      "kr\n"
     ]
    }
   ],
   "source": [
    "print(url_split[-1])"
   ]
  },
  {
   "cell_type": "code",
   "execution_count": null,
   "id": "7b3e4dd5-a2a2-4a51-97f3-d6ffffef0475",
   "metadata": {},
   "outputs": [],
   "source": [
    "\"\"\"\n",
    "028 Strings are immutable\n",
    "Predict the result of running the code below.\n",
    "\n",
    ">> lang = 'python'\n",
    ">> lang[0] = 'P'\n",
    ">> print(lang)\n",
    "\"\"\""
   ]
  },
  {
   "cell_type": "code",
   "execution_count": 16,
   "id": "8875b77c-d4e4-433b-a0e2-940404ba5f5e",
   "metadata": {},
   "outputs": [
    {
     "ename": "TypeError",
     "evalue": "'str' object does not support item assignment",
     "output_type": "error",
     "traceback": [
      "\u001B[31m---------------------------------------------------------------------------\u001B[39m",
      "\u001B[31mTypeError\u001B[39m                                 Traceback (most recent call last)",
      "\u001B[36mCell\u001B[39m\u001B[36m \u001B[39m\u001B[32mIn[16]\u001B[39m\u001B[32m, line 2\u001B[39m\n\u001B[32m      1\u001B[39m lang = \u001B[33m'\u001B[39m\u001B[33mpython\u001B[39m\u001B[33m'\u001B[39m\n\u001B[32m----> \u001B[39m\u001B[32m2\u001B[39m \u001B[43mlang\u001B[49m\u001B[43m[\u001B[49m\u001B[32;43m0\u001B[39;49m\u001B[43m]\u001B[49m = \u001B[33m'\u001B[39m\u001B[33mP\u001B[39m\u001B[33m'\u001B[39m\n\u001B[32m      3\u001B[39m \u001B[38;5;28mprint\u001B[39m(lang)\n",
      "\u001B[31mTypeError\u001B[39m: 'str' object does not support item assignment"
     ]
    }
   ],
   "source": [
    "lang = 'python'\n",
    "lang[0] = 'P'\n",
    "print(lang)"
   ]
  },
  {
   "cell_type": "code",
   "execution_count": null,
   "id": "c45b3b68-d7c8-400a-a0ac-89b28b0b8f13",
   "metadata": {},
   "outputs": [],
   "source": [
    "\"\"\"\n",
    "029 replace method\n",
    "In the string below, replace all lowercase 'a' characters with uppercase 'A'.\n",
    "\n",
    ">> string = 'abcdfe2a354a32a'\n",
    "\n",
    "Example Output:\n",
    "Abcdfe2A354A32A\n",
    "\"\"\""
   ]
  },
  {
   "cell_type": "code",
   "execution_count": 17,
   "id": "983c17ce-e0e4-45b4-b2db-a51a36975c6d",
   "metadata": {},
   "outputs": [
    {
     "name": "stdout",
     "output_type": "stream",
     "text": [
      "Abcdfe2A354A32A\n"
     ]
    }
   ],
   "source": [
    "string = 'abcdfe2a354a32a'\n",
    "string = string.replace('a', 'A')\n",
    "print(string)"
   ]
  },
  {
   "cell_type": "code",
   "execution_count": null,
   "id": "4c9651b0-2466-42f3-9bff-06fcec346f43",
   "metadata": {},
   "outputs": [],
   "source": [
    "\"\"\"\n",
    "030 replace method\n",
    "Predict the result of running the code below.\n",
    "\n",
    ">> string = 'abcd'\n",
    ">> string.replace('b', 'B')\n",
    ">> print(string)\n",
    "\"\"\""
   ]
  },
  {
   "cell_type": "code",
   "execution_count": 18,
   "id": "65e5c208-89b3-444a-8e45-2894d662b158",
   "metadata": {},
   "outputs": [
    {
     "name": "stdout",
     "output_type": "stream",
     "text": [
      "abcd\n"
     ]
    }
   ],
   "source": [
    "string = 'abcd'\n",
    "string.replace('b', 'B')\n",
    "print(string)"
   ]
  },
  {
   "cell_type": "code",
   "execution_count": null,
   "id": "9936ae54-ffda-4a16-ba06-16838b06d365",
   "metadata": {},
   "outputs": [],
   "source": [
    "\"\"\"\n",
    "031 String Concatenation\n",
    "Predict the result of running the code below.\n",
    "\n",
    ">> a = \"3\"\n",
    ">> b = \"4\"\n",
    ">> print(a + b)\n",
    "\"\"\""
   ]
  },
  {
   "cell_type": "code",
   "execution_count": 20,
   "id": "bb443b53-68ee-4eb6-a4c3-ab2824eea9e6",
   "metadata": {},
   "outputs": [
    {
     "name": "stdout",
     "output_type": "stream",
     "text": [
      "34\n"
     ]
    }
   ],
   "source": [
    "a = \"3\"\n",
    "b = \"4\"\n",
    "print(a+b)"
   ]
  },
  {
   "cell_type": "code",
   "execution_count": null,
   "id": "a743b1da-e97d-4b83-b1bd-2253d402c28c",
   "metadata": {},
   "outputs": [],
   "source": [
    "\"\"\"\n",
    "032 String Multiplication\n",
    "Predict the result of running the code below.\n",
    "\n",
    ">> print(\"Hi\" * 3)\n",
    "\"\"\""
   ]
  },
  {
   "cell_type": "code",
   "execution_count": 21,
   "id": "0420e9b9-0126-4ee1-bc7f-998a2aad4059",
   "metadata": {},
   "outputs": [
    {
     "name": "stdout",
     "output_type": "stream",
     "text": [
      "HiHiHi\n"
     ]
    }
   ],
   "source": [
    "print(\"Hi\" * 3)"
   ]
  },
  {
   "cell_type": "code",
   "execution_count": null,
   "id": "9960ad8b-b7f9-44f5-8f33-ee0ccb88efe7",
   "metadata": {},
   "outputs": [],
   "source": [
    "\"\"\"\n",
    "033 String Multiplication\n",
    "Print 80 hyphens ('-') on the screen.\n",
    "\n",
    "Example Output:\n",
    "--------------------------------------------------------------------------------\n",
    "\"\"\""
   ]
  },
  {
   "cell_type": "code",
   "execution_count": 22,
   "id": "d0a3dc31-0a8a-4155-8d4f-a9f88c2d4a67",
   "metadata": {},
   "outputs": [
    {
     "name": "stdout",
     "output_type": "stream",
     "text": [
      "--------------------------------------------------------------------------------\n"
     ]
    }
   ],
   "source": [
    "print('-' * 80)"
   ]
  },
  {
   "cell_type": "code",
   "execution_count": null,
   "id": "fa77d767-e776-44f9-b7e0-5e8e9a08516d",
   "metadata": {},
   "outputs": [],
   "source": [
    "\"\"\"\n",
    "034 String Multiplication\n",
    "The following strings are bound to variables:\n",
    "\n",
    ">>> t1 = 'python'\n",
    ">>> t2 = 'java'\n",
    "\n",
    "Using string concatenation and string multiplication, print the following:\n",
    "\n",
    "Example Output:\n",
    "python java python java python java python java\n",
    "\"\"\""
   ]
  },
  {
   "cell_type": "code",
   "execution_count": 24,
   "id": "a886b6d8-e82a-45be-a9ff-fdb7295b2a17",
   "metadata": {},
   "outputs": [],
   "source": [
    "t1 = 'python'\n",
    "t2 = 'java'"
   ]
  },
  {
   "cell_type": "code",
   "execution_count": 25,
   "id": "3e919ccf-4208-4f0e-9e3f-1ddc6ad0770a",
   "metadata": {},
   "outputs": [
    {
     "name": "stdout",
     "output_type": "stream",
     "text": [
      "python java python java python java \n"
     ]
    }
   ],
   "source": [
    "print( (t1 + ' ' + t2 + ' ') * 3) "
   ]
  },
  {
   "cell_type": "code",
   "execution_count": null,
   "id": "77d63d6a-4e95-4b57-9db0-a58199d1f8c3",
   "metadata": {},
   "outputs": [],
   "source": [
    "\"\"\"\n",
    "035 String Output\n",
    "Given the following variables bound to a string and an integer, use % formatting to produce the output shown below.\n",
    "\n",
    "name1 = \"David\" \n",
    "age1 = 10\n",
    "name2 = \"Ellie\"\n",
    "age2 = 13\n",
    "\n",
    "Expected Output:\n",
    "Name: David Age: 10\n",
    "Name: Ellie Age: 13\n",
    "\"\"\""
   ]
  },
  {
   "cell_type": "code",
   "execution_count": 31,
   "id": "58ab6cc3-b604-4a0a-a2ba-71e528466f26",
   "metadata": {},
   "outputs": [],
   "source": [
    "name1 = \"David\" \n",
    "age1 = 10\n",
    "name2 = \"Ellie\"\n",
    "age2 = 13"
   ]
  },
  {
   "cell_type": "code",
   "execution_count": 34,
   "id": "6e182742-8166-4b6c-b69d-c1ad390e17d9",
   "metadata": {},
   "outputs": [
    {
     "name": "stdout",
     "output_type": "stream",
     "text": [
      "Name: David Age: 10\n",
      "Name: Ellie Age: 13\n"
     ]
    }
   ],
   "source": [
    "print(\"Name: %s Age: %d\" % (name1, age1))\n",
    "print(\"Name: %s Age: %d\" % (name2, age2))"
   ]
  },
  {
   "cell_type": "code",
   "execution_count": null,
   "id": "684aee42-ae48-4d83-8d26-9e10be508f7c",
   "metadata": {},
   "outputs": [],
   "source": [
    "\"\"\"\n",
    "036 String Output\n",
    "Solve problem 035 again using the string's format() method.\n",
    "\"\"\""
   ]
  },
  {
   "cell_type": "code",
   "execution_count": 36,
   "id": "47178bc2-0116-47e0-9426-300328f157d3",
   "metadata": {},
   "outputs": [
    {
     "name": "stdout",
     "output_type": "stream",
     "text": [
      "Name: David Age: 10\n",
      "Name: Ellie Age: 13\n"
     ]
    }
   ],
   "source": [
    "print(\"Name: {} Age: {}\".format(name1, age1))\n",
    "print(\"Name: {} Age: {}\".format(name2, age2))"
   ]
  },
  {
   "cell_type": "code",
   "execution_count": null,
   "id": "35d4c3bf-7350-489d-aca6-74f66c0b8282",
   "metadata": {},
   "outputs": [],
   "source": [
    "\"\"\"\n",
    "037 String Output\n",
    "Solve problem 035 again using f-strings, which are supported starting from Python 3.6.\n",
    "\"\"\""
   ]
  },
  {
   "cell_type": "code",
   "execution_count": 38,
   "id": "25d16baf-5e8f-4a34-971a-e226ac9bed15",
   "metadata": {},
   "outputs": [
    {
     "name": "stdout",
     "output_type": "stream",
     "text": [
      "Name: David, Age: 10\n",
      "Name: Ellie, Age: 13\n"
     ]
    }
   ],
   "source": [
    "print(f\"Name: {name1}, Age: {age1}\")\n",
    "print(f\"Name: {name2}, Age: {age2}\")"
   ]
  },
  {
   "cell_type": "code",
   "execution_count": null,
   "id": "f19fda59-e038-4419-b01f-7657b556cca6",
   "metadata": {},
   "outputs": [],
   "source": [
    "\"\"\"\n",
    "038 Removing Commas\n",
    "The number of listed shares for Samsung Electronics is given below. Remove the commas and convert it to an integer type.\n",
    "\n",
    "numberShares = \"5,969,782,550\"\n",
    "\"\"\""
   ]
  },
  {
   "cell_type": "code",
   "execution_count": 39,
   "id": "b5c4f772-d325-4cf7-bbad-f993c2d7a57c",
   "metadata": {},
   "outputs": [],
   "source": [
    "numberShares = \"5,969,782,550\"\n",
    "numberShares = int(numberShares.replace(',', ''))"
   ]
  },
  {
   "cell_type": "code",
   "execution_count": 41,
   "id": "d1cfc6ed-abd5-4298-b10c-02e2dc4426c6",
   "metadata": {},
   "outputs": [
    {
     "name": "stdout",
     "output_type": "stream",
     "text": [
      "5969782550 <class 'int'>\n"
     ]
    }
   ],
   "source": [
    "print(numberShares, type(numberShares))"
   ]
  },
  {
   "cell_type": "code",
   "execution_count": null,
   "id": "ae0080c2-984f-4135-b1ec-4df8a09e28aa",
   "metadata": {},
   "outputs": [],
   "source": [
    "\"\"\"\n",
    "039 String Slicing\n",
    "From the following string, print only '2020/03'.\n",
    "\n",
    "quarter = \"2020/03(E) (IFRS - related)\"\n",
    "\"\"\""
   ]
  },
  {
   "cell_type": "code",
   "execution_count": 44,
   "id": "02bbcbe6-4526-41ca-820f-a1928ffb9905",
   "metadata": {},
   "outputs": [
    {
     "name": "stdout",
     "output_type": "stream",
     "text": [
      "2020/03\n"
     ]
    }
   ],
   "source": [
    "quarter = \"2020/03(E) (IFRS - related)\"\n",
    "print(quarter[:7])"
   ]
  },
  {
   "cell_type": "code",
   "execution_count": null,
   "id": "e01e2615-bf21-4179-9e96-a691ab897373",
   "metadata": {},
   "outputs": [],
   "source": [
    "\"\"\"\n",
    "040 strip method\n",
    "When a string has whitespace on both sides, remove it.\n",
    "\n",
    "data = \"   삼성전자    \"\n",
    "\"\"\""
   ]
  },
  {
   "cell_type": "code",
   "execution_count": 49,
   "id": "1c680207-d889-42ce-bb2a-9fbfc5ec6d5a",
   "metadata": {},
   "outputs": [
    {
     "name": "stdout",
     "output_type": "stream",
     "text": [
      "['삼성전자']\n"
     ]
    }
   ],
   "source": [
    "data = \"   삼성전자    \"\n",
    "data1 = data.split()\n",
    "print(data1)"
   ]
  },
  {
   "cell_type": "code",
   "execution_count": null,
   "id": "eb01355b-f9db-433e-9c7b-6a1b9c5e920f",
   "metadata": {},
   "outputs": [],
   "source": [
    "\"\"\"\n",
    "041 upper method\n",
    "Given the following string, convert it to uppercase as BTC_KRW.\n",
    "\n",
    "ticker = \"btc_krw\"\n",
    "\"\"\""
   ]
  },
  {
   "cell_type": "code",
   "execution_count": 50,
   "id": "45c8b953-667a-4f43-b4f1-a0ec169d314c",
   "metadata": {},
   "outputs": [],
   "source": [
    "ticker = \"btc_krw\"\n",
    "ticker_upper = ticker.upper()"
   ]
  },
  {
   "cell_type": "code",
   "execution_count": 51,
   "id": "c1356103-cdf4-4bb7-8d44-8a993ae4f745",
   "metadata": {},
   "outputs": [
    {
     "name": "stdout",
     "output_type": "stream",
     "text": [
      "BTC_KRW\n"
     ]
    }
   ],
   "source": [
    "print(ticker_upper)"
   ]
  },
  {
   "cell_type": "code",
   "execution_count": null,
   "id": "36f8ebae-0ca9-4093-a7f6-a4b2db843f49",
   "metadata": {},
   "outputs": [],
   "source": [
    "\"\"\"\n",
    "042 lower method\n",
    "Given the following string, convert it to lowercase as btc_krw.\n",
    "\n",
    "ticker = \"BTC_KRW\"\n",
    "\"\"\""
   ]
  },
  {
   "cell_type": "code",
   "execution_count": 52,
   "id": "289e6155-b31a-406e-a21e-8a23f9a87329",
   "metadata": {},
   "outputs": [
    {
     "name": "stdout",
     "output_type": "stream",
     "text": [
      "btc_krw\n"
     ]
    }
   ],
   "source": [
    "ticker = \"BTC_KRW\"\n",
    "ticker_lower = ticker.lower()\n",
    "\n",
    "print(ticker_lower)"
   ]
  },
  {
   "cell_type": "code",
   "execution_count": null,
   "id": "32db82e3-9a65-4fe8-bfc6-8fc6098403db",
   "metadata": {},
   "outputs": [],
   "source": [
    "\"\"\"\n",
    "043 capitalize method\n",
    "Given the string 'hello', convert it to 'Hello'.\n",
    "\"\"\""
   ]
  },
  {
   "cell_type": "code",
   "execution_count": 53,
   "id": "3dc08078-09f6-4d04-b175-62611249ce7c",
   "metadata": {},
   "outputs": [
    {
     "name": "stdout",
     "output_type": "stream",
     "text": [
      "Hello\n"
     ]
    }
   ],
   "source": [
    "string = 'hello'\n",
    "string_capital = string.capitalize()\n",
    "print(string_capital)"
   ]
  },
  {
   "cell_type": "code",
   "execution_count": null,
   "id": "c059cd58-8a99-45fa-b1c6-4a692403ebf3",
   "metadata": {},
   "outputs": [],
   "source": [
    "\"\"\"\n",
    "044 endswith method\n",
    "When a file name is stored as a string, use the endswith method to check whether the file name ends with 'xlsx'.\n",
    "\n",
    "file_name = \"보고서.xlsx\"\n",
    "\"\"\""
   ]
  },
  {
   "cell_type": "code",
   "execution_count": 54,
   "id": "488a9a82-b900-438c-8736-a31cc140a45e",
   "metadata": {},
   "outputs": [
    {
     "name": "stdout",
     "output_type": "stream",
     "text": [
      "True\n"
     ]
    }
   ],
   "source": [
    "file_name = \"보고서.xlsx\"\n",
    "print(file_name.endswith(\"xlsx\"))"
   ]
  },
  {
   "cell_type": "code",
   "execution_count": null,
   "id": "6c8b787d-90e7-4ac1-890d-3f2518bebe73",
   "metadata": {},
   "outputs": [],
   "source": [
    "\"\"\"\n",
    "045 endswith method\n",
    "When a file name is stored as a string, use the endswith method to check whether the file name ends with 'xlsx' or 'xls'.\n",
    "\n",
    "file_name = \"보고서.xlsx\"\n",
    "\"\"\""
   ]
  },
  {
   "cell_type": "code",
   "execution_count": 56,
   "id": "e18d7337-350c-431a-9cec-a7734b6e9653",
   "metadata": {},
   "outputs": [
    {
     "name": "stdout",
     "output_type": "stream",
     "text": [
      "True\n"
     ]
    }
   ],
   "source": [
    "file_name = \"보고서.xlsx\"\n",
    "print(file_name.endswith((\"xlsx\", \"xls\")))"
   ]
  },
  {
   "cell_type": "code",
   "execution_count": null,
   "id": "6506be55-33ae-465e-863a-1130a2852053",
   "metadata": {},
   "outputs": [],
   "source": [
    "\"\"\"\n",
    "046 startswith method\n",
    "When a file name is stored as a string, use the startswith method to check whether the file name starts with '2020'.\n",
    "\n",
    "file_name = \"2020_보고서.xlsx\"\n",
    "\"\"\""
   ]
  },
  {
   "cell_type": "code",
   "execution_count": 57,
   "id": "2d7792a4-b9ad-4e0a-bd0a-daa212887b72",
   "metadata": {},
   "outputs": [
    {
     "name": "stdout",
     "output_type": "stream",
     "text": [
      "True\n"
     ]
    }
   ],
   "source": [
    "file_name = \"2020_보고서.xlsx\"\n",
    "print(file_name.startswith('2020'))"
   ]
  },
  {
   "cell_type": "code",
   "execution_count": null,
   "id": "ece8fe3a-b44c-4422-b745-ebe277a759fb",
   "metadata": {},
   "outputs": [],
   "source": [
    "\"\"\"\n",
    "047 split method\n",
    "Given the following string, split it based on spaces.\n",
    "\n",
    "a = \"hello world\"\n",
    "\"\"\""
   ]
  },
  {
   "cell_type": "code",
   "execution_count": 59,
   "id": "443047da-8158-4c77-8a78-06977acd4e63",
   "metadata": {},
   "outputs": [
    {
     "name": "stdout",
     "output_type": "stream",
     "text": [
      "['hello', 'world']\n"
     ]
    }
   ],
   "source": [
    "a = \"hello world\"\n",
    "a_split_space = a.split()\n",
    "print(a_split_space)"
   ]
  },
  {
   "cell_type": "code",
   "execution_count": null,
   "id": "f73ba6ad-3f04-4046-962b-059a4aa3e804",
   "metadata": {},
   "outputs": [],
   "source": [
    "\"\"\"\n",
    "048 split method\n",
    "Given the following string, split it into 'btc' and 'krw'.\n",
    "\n",
    "ticker = \"btc_krw\"\n",
    "\"\"\""
   ]
  },
  {
   "cell_type": "code",
   "execution_count": 60,
   "id": "70d79585-d048-4155-ac89-4f787b68a370",
   "metadata": {},
   "outputs": [
    {
     "name": "stdout",
     "output_type": "stream",
     "text": [
      "['btc', 'krw']\n"
     ]
    }
   ],
   "source": [
    "ticker = \"btc_krw\"\n",
    "ticker_split = ticker.split('_')\n",
    "print(ticker_split)"
   ]
  },
  {
   "cell_type": "code",
   "execution_count": null,
   "id": "f1bdbd18-f217-4bbd-ba8c-50faf81d13b8",
   "metadata": {},
   "outputs": [],
   "source": [
    "\"\"\"\n",
    "049 split method\n",
    "Given the following string representing a date, split it into year, month, and day.\n",
    "\n",
    "date = \"2020-05-01\"\n",
    "\"\"\""
   ]
  },
  {
   "cell_type": "code",
   "execution_count": 61,
   "id": "f71542b3-906c-40c0-9f90-4f435ef6d734",
   "metadata": {},
   "outputs": [
    {
     "name": "stdout",
     "output_type": "stream",
     "text": [
      "['2020', '05', '01']\n"
     ]
    }
   ],
   "source": [
    "date = \"2020-05-01\"\n",
    "date_split = date.split('-')\n",
    "print(date_split)"
   ]
  },
  {
   "cell_type": "code",
   "execution_count": null,
   "id": "647da0b6-f4c4-4d42-b99c-68a568705e17",
   "metadata": {},
   "outputs": [],
   "source": [
    "\"\"\"\n",
    "050 rstrip method\n",
    "When there is whitespace on the right side of a string, remove it.\n",
    "\n",
    "data = \"039490   \"\n",
    "\"\"\""
   ]
  },
  {
   "cell_type": "code",
   "execution_count": 62,
   "id": "f88b11d5-6430-4470-97b5-d4584a85879a",
   "metadata": {},
   "outputs": [
    {
     "name": "stdout",
     "output_type": "stream",
     "text": [
      "039490\n"
     ]
    }
   ],
   "source": [
    "data = \"039490   \"\n",
    "data_rstrip = data.rstrip()\n",
    "print(data_rstrip)"
   ]
  }
 ],
 "metadata": {
  "kernelspec": {
   "display_name": "Python 3 (ipykernel)",
   "language": "python",
   "name": "python3"
  },
  "language_info": {
   "codemirror_mode": {
    "name": "ipython",
    "version": 3
   },
   "file_extension": ".py",
   "mimetype": "text/x-python",
   "name": "python",
   "nbconvert_exporter": "python",
   "pygments_lexer": "ipython3",
   "version": "3.12.6"
  }
 },
 "nbformat": 4,
 "nbformat_minor": 5
}
