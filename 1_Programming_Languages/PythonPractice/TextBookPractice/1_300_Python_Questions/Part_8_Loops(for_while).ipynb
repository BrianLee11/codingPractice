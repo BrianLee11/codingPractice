{
 "cells": [
  {
   "cell_type": "code",
   "execution_count": null,
   "id": "initial_id",
   "metadata": {
    "collapsed": true,
    "jupyter": {
     "outputs_hidden": true
    }
   },
   "outputs": [],
   "source": [
    "\"\"\"\n",
    "# Part 8: loops (for, while) in Python (part 1/7)\n",
    "# source: 'https://wikidocs.net/78562'\n",
    "\"\"\""
   ]
  },
  {
   "cell_type": "code",
   "execution_count": null,
   "id": "8b238f4258d319e8",
   "metadata": {},
   "outputs": [],
   "source": [
    "\"\"\"\n",
    "131\n",
    "Predict the output of the following for loop.\n",
    "\n",
    "fruits = [\"apple\", \"tangerine\", \"watermelon\"]\n",
    "for item in fruits:\n",
    "    print(item)\n",
    "\"\"\""
   ]
  },
  {
   "cell_type": "code",
   "execution_count": 1,
   "id": "f65030e1983220e9",
   "metadata": {
    "ExecuteTime": {
     "end_time": "2025-04-09T20:10:36.568910Z",
     "start_time": "2025-04-09T20:10:36.563909Z"
    }
   },
   "outputs": [
    {
     "name": "stdout",
     "output_type": "stream",
     "text": [
      "apple\n",
      "tangerine\n",
      "watermelon\n"
     ]
    }
   ],
   "source": [
    "fruits = [\"apple\", \"tangerine\", \"watermelon\"]\n",
    "for item in fruits:\n",
    "    print(item)"
   ]
  },
  {
   "cell_type": "code",
   "execution_count": null,
   "id": "d23dd266d776a883",
   "metadata": {},
   "outputs": [],
   "source": [
    "\"\"\"\n",
    "132\n",
    "Predict the output of the following for loop.\n",
    "\n",
    "fruits = [\"apple\", \"tangerine\", \"watermelon\"]\n",
    "for item in fruits:\n",
    "    print(\"#####\")\n",
    "\"\"\""
   ]
  },
  {
   "cell_type": "code",
   "execution_count": 2,
   "id": "4b3d89c0049ee342",
   "metadata": {
    "ExecuteTime": {
     "end_time": "2025-04-09T20:38:12.975421Z",
     "start_time": "2025-04-09T20:38:12.972139Z"
    }
   },
   "outputs": [
    {
     "name": "stdout",
     "output_type": "stream",
     "text": [
      "#####\n",
      "#####\n",
      "#####\n"
     ]
    }
   ],
   "source": [
    "fruits = [\"apple\", \"tangerine\", \"watermelon\"]\n",
    "for item in fruits:\n",
    "    print(\"#####\")"
   ]
  },
  {
   "cell_type": "code",
   "execution_count": null,
   "id": "58eb25df1c60b768",
   "metadata": {},
   "outputs": [],
   "source": [
    "\"\"\"\n",
    "133\n",
    "Write code that performs the same function as the following for loop.\n",
    "\n",
    "for item in [\"A\", \"B\", \"C\"]:\n",
    "    print(item)\n",
    "\"\"\""
   ]
  },
  {
   "cell_type": "code",
   "execution_count": 6,
   "id": "88af2e44a4c04325",
   "metadata": {
    "ExecuteTime": {
     "end_time": "2025-04-09T20:40:18.446066Z",
     "start_time": "2025-04-09T20:40:18.442637Z"
    }
   },
   "outputs": [
    {
     "name": "stdout",
     "output_type": "stream",
     "text": [
      "A\n",
      "B\n",
      "C\n"
     ]
    }
   ],
   "source": [
    "variable = \"A\"\n",
    "print(variable)\n",
    "\n",
    "variable = \"B\"\n",
    "print(variable)\n",
    "\n",
    "variable = \"C\"\n",
    "print(variable)"
   ]
  },
  {
   "cell_type": "code",
   "execution_count": 5,
   "id": "c7c4fcde0a9f815b",
   "metadata": {
    "ExecuteTime": {
     "end_time": "2025-04-09T20:40:16.781609Z",
     "start_time": "2025-04-09T20:40:16.777890Z"
    }
   },
   "outputs": [
    {
     "name": "stdout",
     "output_type": "stream",
     "text": [
      "A\n",
      "B\n",
      "C\n"
     ]
    }
   ],
   "source": [
    "for item in [\"A\", \"B\", \"C\"]:\n",
    "    print(item)"
   ]
  },
  {
   "cell_type": "code",
   "execution_count": null,
   "id": "5c308cf41dd66d27",
   "metadata": {},
   "outputs": [],
   "source": [
    "\"\"\"\n",
    "134\n",
    "Rewrite the following for loop using individual statements that perform the same action.\n",
    "\n",
    "for item in [\"A\", \"B\", \"C\"]:\n",
    "    print(\"Output:\", item)\n",
    "\"\"\""
   ]
  },
  {
   "cell_type": "code",
   "execution_count": 7,
   "id": "69f3506f5899615e",
   "metadata": {
    "ExecuteTime": {
     "end_time": "2025-04-09T20:40:44.615956Z",
     "start_time": "2025-04-09T20:40:44.611716Z"
    }
   },
   "outputs": [
    {
     "name": "stdout",
     "output_type": "stream",
     "text": [
      "Output: A\n",
      "Output: B\n",
      "Output: C\n"
     ]
    }
   ],
   "source": [
    "variable = \"A\"\n",
    "print(\"Output:\", variable)\n",
    "\n",
    "variable = \"B\"\n",
    "print(\"Output:\", variable)\n",
    "\n",
    "variable = \"C\"\n",
    "print(\"Output:\", variable)"
   ]
  },
  {
   "cell_type": "code",
   "execution_count": 8,
   "id": "a97418ec8e84e029",
   "metadata": {
    "ExecuteTime": {
     "end_time": "2025-04-09T20:40:46.022338Z",
     "start_time": "2025-04-09T20:40:46.018437Z"
    }
   },
   "outputs": [
    {
     "name": "stdout",
     "output_type": "stream",
     "text": [
      "Output: A\n",
      "Output: B\n",
      "Output: C\n"
     ]
    }
   ],
   "source": [
    "for item in [\"A\", \"B\", \"C\"]:\n",
    "    print(\"Output:\", item)"
   ]
  },
  {
   "cell_type": "code",
   "execution_count": null,
   "id": "f22e144c7f54d1fb",
   "metadata": {},
   "outputs": [],
   "source": [
    "\"\"\"\n",
    "135\n",
    "Rewrite the following for loop using individual statements that perform the same action.\n",
    "\n",
    "for item in [\"A\", \"B\", \"C\"]:\n",
    "    b = item.lower()\n",
    "    print(\"Converted:\", b)\n",
    "\"\"\""
   ]
  },
  {
   "cell_type": "code",
   "execution_count": 9,
   "id": "6de9d6268ae15335",
   "metadata": {
    "ExecuteTime": {
     "end_time": "2025-04-09T20:41:24.790605Z",
     "start_time": "2025-04-09T20:41:24.787105Z"
    }
   },
   "outputs": [
    {
     "name": "stdout",
     "output_type": "stream",
     "text": [
      "Converted: a\n",
      "Converted: b\n",
      "Converted: c\n"
     ]
    }
   ],
   "source": [
    "item = \"A\"\n",
    "b = item.lower()\n",
    "print(\"Converted:\", b)\n",
    "\n",
    "item = \"B\"\n",
    "b = item.lower()\n",
    "print(\"Converted:\", b)\n",
    "\n",
    "item = \"C\"\n",
    "b = item.lower()\n",
    "print(\"Converted:\", b)"
   ]
  },
  {
   "cell_type": "code",
   "execution_count": 10,
   "id": "e5890557020682a4",
   "metadata": {
    "ExecuteTime": {
     "end_time": "2025-04-09T20:41:26.240433Z",
     "start_time": "2025-04-09T20:41:26.236929Z"
    }
   },
   "outputs": [
    {
     "name": "stdout",
     "output_type": "stream",
     "text": [
      "Converted: a\n",
      "Converted: b\n",
      "Converted: c\n"
     ]
    }
   ],
   "source": [
    "for item in [\"A\", \"B\", \"C\"]:\n",
    "    b = item.lower()\n",
    "    print(\"Converted:\", b)"
   ]
  },
  {
   "cell_type": "code",
   "execution_count": null,
   "id": "87d02d764127274",
   "metadata": {},
   "outputs": [],
   "source": [
    "\"\"\"\n",
    "136\n",
    "Rewrite the following code using a for loop.\n",
    "\n",
    "value = 10\n",
    "print(value)\n",
    "value = 20\n",
    "print(value)\n",
    "value = 30\n",
    "print(value)\n",
    "\"\"\""
   ]
  },
  {
   "cell_type": "code",
   "execution_count": 12,
   "id": "f48fd03ffec9fc85",
   "metadata": {
    "ExecuteTime": {
     "end_time": "2025-04-09T20:41:56.933636Z",
     "start_time": "2025-04-09T20:41:56.929694Z"
    }
   },
   "outputs": [
    {
     "name": "stdout",
     "output_type": "stream",
     "text": [
      "10\n",
      "20\n",
      "30\n"
     ]
    }
   ],
   "source": [
    "for value in [10,20,30]:\n",
    "    print(value)"
   ]
  },
  {
   "cell_type": "code",
   "execution_count": 11,
   "id": "d74cdefcae865f1c",
   "metadata": {
    "ExecuteTime": {
     "end_time": "2025-04-09T20:41:45.966913Z",
     "start_time": "2025-04-09T20:41:45.962913Z"
    }
   },
   "outputs": [
    {
     "name": "stdout",
     "output_type": "stream",
     "text": [
      "10\n",
      "20\n",
      "30\n"
     ]
    }
   ],
   "source": [
    "value = 10\n",
    "print(value)\n",
    "value = 20\n",
    "print(value)\n",
    "value = 30\n",
    "print(value)"
   ]
  },
  {
   "cell_type": "code",
   "execution_count": null,
   "id": "70c270bd9409252e",
   "metadata": {},
   "outputs": [],
   "source": [
    "\"\"\"\n",
    "137\n",
    "Rewrite the following code using a for loop.\n",
    "\n",
    "print(10)\n",
    "print(20)\n",
    "print(30)\n",
    "\"\"\""
   ]
  },
  {
   "cell_type": "code",
   "execution_count": 13,
   "id": "80096dcc5494d33f",
   "metadata": {
    "ExecuteTime": {
     "end_time": "2025-04-09T20:42:28.233566Z",
     "start_time": "2025-04-09T20:42:28.230644Z"
    }
   },
   "outputs": [
    {
     "name": "stdout",
     "output_type": "stream",
     "text": [
      "10\n",
      "20\n",
      "30\n"
     ]
    }
   ],
   "source": [
    "for integer in [10,20,30]:\n",
    "    print(integer)"
   ]
  },
  {
   "cell_type": "code",
   "execution_count": 14,
   "id": "42a22f8b83168e25",
   "metadata": {
    "ExecuteTime": {
     "end_time": "2025-04-09T20:42:32.805487Z",
     "start_time": "2025-04-09T20:42:32.801528Z"
    }
   },
   "outputs": [
    {
     "name": "stdout",
     "output_type": "stream",
     "text": [
      "10\n",
      "20\n",
      "30\n"
     ]
    }
   ],
   "source": [
    "print(10)\n",
    "print(20)\n",
    "print(30)"
   ]
  },
  {
   "cell_type": "code",
   "execution_count": null,
   "id": "277c18d774b1e324",
   "metadata": {},
   "outputs": [],
   "source": [
    "\"\"\"\n",
    "138\n",
    "Rewrite the following code using a for loop.\n",
    "\n",
    "print(10)\n",
    "print(\"-------\")\n",
    "print(20)\n",
    "print(\"-------\")\n",
    "print(30)\n",
    "print(\"-------\")\n",
    "\"\"\""
   ]
  },
  {
   "cell_type": "code",
   "execution_count": 15,
   "id": "fbb4bc376631adf8",
   "metadata": {
    "ExecuteTime": {
     "end_time": "2025-04-09T20:43:06.687692Z",
     "start_time": "2025-04-09T20:43:06.684419Z"
    }
   },
   "outputs": [
    {
     "name": "stdout",
     "output_type": "stream",
     "text": [
      "10\n",
      "-------\n",
      "20\n",
      "-------\n",
      "30\n",
      "-------\n"
     ]
    }
   ],
   "source": [
    "for integer in [10,20,30]:\n",
    "    print(integer)\n",
    "    print(\"-------\")"
   ]
  },
  {
   "cell_type": "code",
   "execution_count": 16,
   "id": "e60345d0d5da61a0",
   "metadata": {
    "ExecuteTime": {
     "end_time": "2025-04-09T20:43:11.226359Z",
     "start_time": "2025-04-09T20:43:11.222446Z"
    }
   },
   "outputs": [
    {
     "name": "stdout",
     "output_type": "stream",
     "text": [
      "10\n",
      "-------\n",
      "20\n",
      "-------\n",
      "30\n",
      "-------\n"
     ]
    }
   ],
   "source": [
    "print(10)\n",
    "print(\"-------\")\n",
    "print(20)\n",
    "print(\"-------\")\n",
    "print(30)\n",
    "print(\"-------\")"
   ]
  },
  {
   "cell_type": "code",
   "execution_count": null,
   "id": "99ecf760e08cbc9e",
   "metadata": {},
   "outputs": [],
   "source": [
    "\"\"\"\n",
    "139\n",
    "Rewrite the following code using a for loop.\n",
    "\n",
    "print(\"++++\")\n",
    "print(10)\n",
    "print(20)\n",
    "print(30)\n",
    "\"\"\""
   ]
  },
  {
   "cell_type": "code",
   "execution_count": 17,
   "id": "86703b7637aa7414",
   "metadata": {
    "ExecuteTime": {
     "end_time": "2025-04-09T20:43:37.100297Z",
     "start_time": "2025-04-09T20:43:37.096894Z"
    }
   },
   "outputs": [
    {
     "name": "stdout",
     "output_type": "stream",
     "text": [
      "++++\n",
      "10\n",
      "20\n",
      "30\n"
     ]
    }
   ],
   "source": [
    "print(\"++++\")\n",
    "for integer in [10,20,30]:\n",
    "    print(integer)"
   ]
  },
  {
   "cell_type": "code",
   "execution_count": 18,
   "id": "4b237c31276d3407",
   "metadata": {
    "ExecuteTime": {
     "end_time": "2025-04-09T20:43:40.559131Z",
     "start_time": "2025-04-09T20:43:40.555625Z"
    }
   },
   "outputs": [
    {
     "name": "stdout",
     "output_type": "stream",
     "text": [
      "++++\n",
      "10\n",
      "20\n",
      "30\n"
     ]
    }
   ],
   "source": [
    "print(\"++++\")\n",
    "print(10)\n",
    "print(20)\n",
    "print(30)"
   ]
  },
  {
   "cell_type": "code",
   "execution_count": null,
   "id": "65730f34a0ba8e36",
   "metadata": {},
   "outputs": [],
   "source": [
    "\"\"\"\n",
    "140\n",
    "Rewrite the following code using a for loop.\n",
    "\n",
    "print(\"-------\")\n",
    "print(\"-------\")\n",
    "print(\"-------\")\n",
    "print(\"-------\")\n",
    "\"\"\""
   ]
  },
  {
   "cell_type": "code",
   "execution_count": 19,
   "id": "4b8c98723e731260",
   "metadata": {
    "ExecuteTime": {
     "end_time": "2025-04-09T20:45:44.199094Z",
     "start_time": "2025-04-09T20:45:44.196212Z"
    }
   },
   "outputs": [
    {
     "name": "stdout",
     "output_type": "stream",
     "text": [
      "-------\n",
      "-------\n",
      "-------\n",
      "-------\n"
     ]
    }
   ],
   "source": [
    "for integer in range(0,4):\n",
    "    print(\"-------\")"
   ]
  },
  {
   "cell_type": "code",
   "execution_count": 20,
   "id": "850fc764a15854a1",
   "metadata": {
    "ExecuteTime": {
     "end_time": "2025-04-09T20:45:48.465998Z",
     "start_time": "2025-04-09T20:45:48.462584Z"
    }
   },
   "outputs": [
    {
     "name": "stdout",
     "output_type": "stream",
     "text": [
      "-------\n",
      "-------\n",
      "-------\n",
      "-------\n"
     ]
    }
   ],
   "source": [
    "print(\"-------\")\n",
    "print(\"-------\")\n",
    "print(\"-------\")\n",
    "print(\"-------\")"
   ]
  },
  {
   "cell_type": "code",
   "execution_count": null,
   "id": "354777773f7ff3d4",
   "metadata": {},
   "outputs": [],
   "source": [
    "\"\"\"\n",
    "# Part 8: loops (for, while) in Python (part 2/7)\n",
    "# source: 'https://wikidocs.net/7020'\n",
    "\"\"\""
   ]
  },
  {
   "cell_type": "code",
   "execution_count": null,
   "id": "48b3e5d38552dd27",
   "metadata": {},
   "outputs": [],
   "source": [
    "\"\"\"\n",
    "141\n",
    "Given a list of sales prices,\n",
    "use a for loop to print each price including tax.\n",
    "Assume tax is 10 units.\n",
    "\n",
    "list = [100, 200, 300]\n",
    "110\n",
    "210\n",
    "310\n",
    "\"\"\""
   ]
  },
  {
   "cell_type": "code",
   "execution_count": 22,
   "id": "369a94be85d07309",
   "metadata": {
    "ExecuteTime": {
     "end_time": "2025-04-09T20:47:57.595672Z",
     "start_time": "2025-04-09T20:47:57.592672Z"
    }
   },
   "outputs": [
    {
     "name": "stdout",
     "output_type": "stream",
     "text": [
      "110\n",
      "210\n",
      "310\n"
     ]
    }
   ],
   "source": [
    "list = [100, 200, 300]\n",
    "for price in list:\n",
    "    print(price + 10)"
   ]
  },
  {
   "cell_type": "code",
   "execution_count": null,
   "id": "1989c42328139602",
   "metadata": {},
   "outputs": [],
   "source": [
    "\"\"\"\n",
    "142\n",
    "Use a for loop to print the values in the list as follows:\n",
    "\n",
    "list = [\"Kimbap\", \"Ramen\", \"Fried Food\"]\n",
    "Today's menu: Kimbap\n",
    "Today's menu: Ramen\n",
    "Today's menu: Fried Food\n",
    "\"\"\""
   ]
  },
  {
   "cell_type": "code",
   "execution_count": 23,
   "id": "a35d08e8ffa00b7b",
   "metadata": {
    "ExecuteTime": {
     "end_time": "2025-04-09T20:48:51.547314Z",
     "start_time": "2025-04-09T20:48:51.543261Z"
    }
   },
   "outputs": [
    {
     "name": "stdout",
     "output_type": "stream",
     "text": [
      "Today's menu: Kimbap\n",
      "Today's menu: Ramen\n",
      "Today's menu: Fried Food\n"
     ]
    }
   ],
   "source": [
    "list = [\"Kimbap\", \"Ramen\", \"Fried Food\"]\n",
    "\n",
    "for food in list:\n",
    "    print(f\"Today's menu: {food}\")"
   ]
  },
  {
   "cell_type": "code",
   "execution_count": null,
   "id": "b2e41b0557cf515e",
   "metadata": {},
   "outputs": [],
   "source": [
    "\"\"\"\n",
    "143\n",
    "A list contains stock names.\n",
    "Print the length of each string in the list as shown below:\n",
    "\n",
    "list = [\"SK Hynix\", \"Samsung Electronics\", \"LG Electronics\"]\n",
    "6\n",
    "4\n",
    "4\n",
    "\"\"\""
   ]
  },
  {
   "cell_type": "code",
   "execution_count": 24,
   "id": "dc1110aaea0adf22",
   "metadata": {
    "ExecuteTime": {
     "end_time": "2025-04-09T20:49:28.341440Z",
     "start_time": "2025-04-09T20:49:28.338279Z"
    }
   },
   "outputs": [
    {
     "name": "stdout",
     "output_type": "stream",
     "text": [
      "The length of this word SK Hynix is 8\n",
      "The length of this word Samsung Electronics is 19\n",
      "The length of this word LG Electronics is 14\n"
     ]
    }
   ],
   "source": [
    "list = [\"SK Hynix\", \"Samsung Electronics\", \"LG Electronics\"]\n",
    "\n",
    "for company in list:\n",
    "    print(f\"The length of this word {company} is {len(company)}\")"
   ]
  },
  {
   "cell_type": "code",
   "execution_count": null,
   "id": "7c50447e7643156b",
   "metadata": {},
   "outputs": [],
   "source": [
    "\"\"\"\n",
    "144\n",
    "A list contains animal names as strings.\n",
    "Print the animal name along with the number of characters in each string:\n",
    "\n",
    "list = ['dog', 'cat', 'parrot']\n",
    "dog 3\n",
    "cat 3\n",
    "parrot 6\n",
    "\"\"\""
   ]
  },
  {
   "cell_type": "code",
   "execution_count": 25,
   "id": "8ff756b0882210dd",
   "metadata": {
    "ExecuteTime": {
     "end_time": "2025-04-09T20:50:07.644241Z",
     "start_time": "2025-04-09T20:50:07.640234Z"
    }
   },
   "outputs": [
    {
     "name": "stdout",
     "output_type": "stream",
     "text": [
      "dog 3\n",
      "cat 3\n",
      "parrot 6\n"
     ]
    }
   ],
   "source": [
    "list = ['dog', 'cat', 'parrot']\n",
    "\n",
    "for animal in list:\n",
    "    print(f\"{animal} {len(animal)}\")"
   ]
  },
  {
   "cell_type": "code",
   "execution_count": null,
   "id": "17468ecb825c9ee9",
   "metadata": {},
   "outputs": [],
   "source": [
    "\"\"\"\n",
    "145\n",
    "A list contains animal names.\n",
    "Use a for loop to print only the first letter of each animal name:\n",
    "\n",
    "d\n",
    "c\n",
    "p\n",
    "\"\"\""
   ]
  },
  {
   "cell_type": "code",
   "execution_count": 26,
   "id": "e0ab2f9d7cb8b762",
   "metadata": {
    "ExecuteTime": {
     "end_time": "2025-04-09T20:50:36.885351Z",
     "start_time": "2025-04-09T20:50:36.881953Z"
    }
   },
   "outputs": [
    {
     "name": "stdout",
     "output_type": "stream",
     "text": [
      "d\n",
      "c\n",
      "p\n"
     ]
    }
   ],
   "source": [
    "list = ['dog', 'cat', 'parrot']\n",
    "\n",
    "for animal in list:\n",
    "    print(animal[0])"
   ]
  },
  {
   "cell_type": "code",
   "execution_count": null,
   "id": "a3015c1d7f0207df",
   "metadata": {},
   "outputs": [],
   "source": [
    "\"\"\"\n",
    "146\n",
    "A list contains three numbers.\n",
    "Use a for loop to print as follows:\n",
    "\n",
    "list = [1, 2, 3]\n",
    "3 x 1\n",
    "3 x 2\n",
    "3 x 3\n",
    "\"\"\""
   ]
  },
  {
   "cell_type": "code",
   "execution_count": 27,
   "id": "418c55529ca50c25",
   "metadata": {
    "ExecuteTime": {
     "end_time": "2025-04-09T20:52:01.626414Z",
     "start_time": "2025-04-09T20:52:01.622936Z"
    }
   },
   "outputs": [
    {
     "name": "stdout",
     "output_type": "stream",
     "text": [
      "3 x 1\n",
      "3 x 2\n",
      "3 x 3\n"
     ]
    }
   ],
   "source": [
    "list = [1, 2, 3]\n",
    "\n",
    "for number in list:\n",
    "    print(f\"3 x {number}\")"
   ]
  },
  {
   "cell_type": "code",
   "execution_count": null,
   "id": "153a54d11eec8ba2",
   "metadata": {},
   "outputs": [],
   "source": [
    "\"\"\"\n",
    "147\n",
    "A list contains three numbers.\n",
    "Use a for loop to print the result of multiplying each number by 3:\n",
    "\n",
    "list = [1, 2, 3]\n",
    "3 x 1 = 3\n",
    "3 x 2 = 6\n",
    "3 x 3 = 9\n",
    "\"\"\""
   ]
  },
  {
   "cell_type": "code",
   "execution_count": 28,
   "id": "dd07966feb4d6c7d",
   "metadata": {
    "ExecuteTime": {
     "end_time": "2025-04-09T20:52:36.551396Z",
     "start_time": "2025-04-09T20:52:36.548317Z"
    }
   },
   "outputs": [
    {
     "name": "stdout",
     "output_type": "stream",
     "text": [
      "3 x 1 = 3\n",
      "3 x 2 = 6\n",
      "3 x 3 = 9\n"
     ]
    }
   ],
   "source": [
    "list = [1, 2, 3]\n",
    "\n",
    "for number in list:\n",
    "    print(f\"3 x {number} = {3 * number}\")"
   ]
  },
  {
   "cell_type": "code",
   "execution_count": null,
   "id": "53530f4e4f488649",
   "metadata": {},
   "outputs": [],
   "source": [
    "\"\"\"\n",
    "148\n",
    "A list contains four strings.\n",
    "Use a for loop to print as follows:\n",
    "\n",
    "list = [\"Ga\", \"Na\", \"Da\", \"Ra\"]\n",
    "Na\n",
    "Da\n",
    "Ra\n",
    "\"\"\""
   ]
  },
  {
   "cell_type": "code",
   "execution_count": 29,
   "id": "c0868f8a26d80b43",
   "metadata": {
    "ExecuteTime": {
     "end_time": "2025-04-09T20:54:03.366395Z",
     "start_time": "2025-04-09T20:54:03.361864Z"
    }
   },
   "outputs": [
    {
     "name": "stdout",
     "output_type": "stream",
     "text": [
      "Na\n",
      "Da\n",
      "Ra\n"
     ]
    }
   ],
   "source": [
    "list = [\"Ga\", \"Na\", \"Da\", \"Ra\"]\n",
    "\n",
    "for string in list[1:]:\n",
    "    print(string)"
   ]
  },
  {
   "cell_type": "code",
   "execution_count": null,
   "id": "132557f62ff2dad5",
   "metadata": {},
   "outputs": [],
   "source": [
    "\"\"\"\n",
    "149\n",
    "A list contains four strings.\n",
    "Use a for loop to print as follows:\n",
    "\n",
    "list = [\"Ga\", \"Na\", \"Da\", \"Ra\"]\n",
    "Ga\n",
    "Da\n",
    "\"\"\""
   ]
  },
  {
   "cell_type": "code",
   "execution_count": 30,
   "id": "5787570dca229120",
   "metadata": {
    "ExecuteTime": {
     "end_time": "2025-04-09T20:54:43.044768Z",
     "start_time": "2025-04-09T20:54:43.041245Z"
    }
   },
   "outputs": [
    {
     "name": "stdout",
     "output_type": "stream",
     "text": [
      "Ga\n",
      "Da\n"
     ]
    }
   ],
   "source": [
    "list = [\"Ga\", \"Na\", \"Da\", \"Ra\"]\n",
    "\n",
    "for string in list[::2]:\n",
    "    print(string)"
   ]
  },
  {
   "cell_type": "code",
   "execution_count": null,
   "id": "3c7335a7b1194df1",
   "metadata": {},
   "outputs": [],
   "source": [
    "\"\"\"\n",
    "150\n",
    "A list contains four strings.\n",
    "Use a for loop to print as follows:\n",
    "\n",
    "list = [\"Ga\", \"Na\", \"Da\", \"Ra\"]\n",
    "Ra\n",
    "Da\n",
    "Na\n",
    "Ga\n",
    "\"\"\""
   ]
  },
  {
   "cell_type": "code",
   "execution_count": 31,
   "id": "4a71ca46d64d91c7",
   "metadata": {
    "ExecuteTime": {
     "end_time": "2025-04-09T20:55:11.417987Z",
     "start_time": "2025-04-09T20:55:11.414052Z"
    }
   },
   "outputs": [
    {
     "name": "stdout",
     "output_type": "stream",
     "text": [
      "Ra\n",
      "Da\n",
      "Na\n",
      "Ga\n"
     ]
    }
   ],
   "source": [
    "list = [\"Ga\", \"Na\", \"Da\", \"Ra\"]\n",
    "\n",
    "for string in list[::-1]:\n",
    "    print(string)"
   ]
  },
  {
   "cell_type": "code",
   "execution_count": null,
   "id": "236e35a4bde922a",
   "metadata": {},
   "outputs": [],
   "source": [
    "\"\"\"\n",
    "# Part 8: loops (for, while) in Python (part 3/7)\n",
    "# source: 'https://wikidocs.net/78768'\n",
    "\"\"\""
   ]
  },
  {
   "cell_type": "code",
   "execution_count": null,
   "id": "2d6f115a0699ce97",
   "metadata": {},
   "outputs": [],
   "source": [
    "\"\"\"\n",
    "151\n",
    "A list contains four integers.\n",
    "\n",
    "list = [3, -20, -3, 44]\n",
    "Use a for loop to print only the negative numbers from the list:\n",
    "\n",
    "-20\n",
    "-3\n",
    "\"\"\""
   ]
  },
  {
   "cell_type": "code",
   "execution_count": 32,
   "id": "83d7356f1fa48221",
   "metadata": {
    "ExecuteTime": {
     "end_time": "2025-04-09T21:06:57.326183Z",
     "start_time": "2025-04-09T21:06:57.322146Z"
    }
   },
   "outputs": [
    {
     "name": "stdout",
     "output_type": "stream",
     "text": [
      "-20\n",
      "-3\n"
     ]
    }
   ],
   "source": [
    "list = [3, -20, -3, 44]\n",
    "\n",
    "for number in list:\n",
    "    if number < 0:\n",
    "        print(number)\n",
    "    else:\n",
    "        pass"
   ]
  },
  {
   "cell_type": "code",
   "execution_count": null,
   "id": "98859cd78a640257",
   "metadata": {},
   "outputs": [],
   "source": [
    "\"\"\"\n",
    "152\n",
    "Use a for loop to print only the multiples of 3:\n",
    "\n",
    "list = [3, 100, 23, 44]\n",
    "3\n",
    "\"\"\""
   ]
  },
  {
   "cell_type": "code",
   "execution_count": 33,
   "id": "85028af37cb326e6",
   "metadata": {
    "ExecuteTime": {
     "end_time": "2025-04-09T21:08:23.010547Z",
     "start_time": "2025-04-09T21:08:23.006620Z"
    }
   },
   "outputs": [
    {
     "name": "stdout",
     "output_type": "stream",
     "text": [
      "3\n"
     ]
    }
   ],
   "source": [
    "list = [3, 100, 23, 44]\n",
    "\n",
    "for number in list:\n",
    "    if number % 3 == 0:\n",
    "        print(number)\n",
    "    else:\n",
    "        pass"
   ]
  },
  {
   "cell_type": "code",
   "execution_count": null,
   "id": "d211db7c01d01c7b",
   "metadata": {},
   "outputs": [],
   "source": [
    "\"\"\"\n",
    "153\n",
    "From the list, print the multiples of 3 that are less than 20:\n",
    "\n",
    "list = [13, 21, 12, 14, 30, 18]\n",
    "12\n",
    "18\n",
    "\"\"\""
   ]
  },
  {
   "cell_type": "code",
   "execution_count": 34,
   "id": "ebd6b74747c1c27b",
   "metadata": {
    "ExecuteTime": {
     "end_time": "2025-04-09T21:09:04.546481Z",
     "start_time": "2025-04-09T21:09:04.543068Z"
    }
   },
   "outputs": [
    {
     "name": "stdout",
     "output_type": "stream",
     "text": [
      "12\n",
      "18\n"
     ]
    }
   ],
   "source": [
    "list = [13, 21, 12, 14, 30, 18]\n",
    "\n",
    "for number in list:\n",
    "    if (number % 3 == 0) and (number < 20):\n",
    "        print(number)"
   ]
  },
  {
   "cell_type": "code",
   "execution_count": null,
   "id": "fce20429d59f5c68",
   "metadata": {},
   "outputs": [],
   "source": [
    "\"\"\"\n",
    "154\n",
    "From the list, print the strings that are 3 characters or longer:\n",
    "\n",
    "list = [\"I\", \"study\", \"python\", \"language\", \"!\"]\n",
    "study\n",
    "python\n",
    "language\n",
    "\"\"\""
   ]
  },
  {
   "cell_type": "code",
   "execution_count": 35,
   "id": "a1d87f5f4149444a",
   "metadata": {
    "ExecuteTime": {
     "end_time": "2025-04-09T21:09:59.892459Z",
     "start_time": "2025-04-09T21:09:59.889362Z"
    }
   },
   "outputs": [
    {
     "name": "stdout",
     "output_type": "stream",
     "text": [
      "study\n",
      "python\n",
      "language\n"
     ]
    }
   ],
   "source": [
    "list = [\"I\", \"study\", \"python\", \"language\", \"!\"]\n",
    "\n",
    "for string in list:\n",
    "    if (len(string) >= 3):\n",
    "        print(string)"
   ]
  },
  {
   "cell_type": "code",
   "execution_count": null,
   "id": "d78198c4ee6a2b0c",
   "metadata": {},
   "outputs": [],
   "source": [
    "\"\"\"\n",
    "155\n",
    "From the list, print only the uppercase letters:\n",
    "\n",
    "list = [\"A\", \"b\", \"c\", \"D\"]\n",
    "A\n",
    "D\n",
    "\n",
    "(Note) The `isupper()` method checks if a character is uppercase.\n",
    "\n",
    ">> var = \"A\"\n",
    ">> var.isupper()\n",
    "True\n",
    ">> var = \"a\"\n",
    ">> var.isupper()\n",
    "False\n",
    "\"\"\""
   ]
  },
  {
   "cell_type": "code",
   "execution_count": 36,
   "id": "1dfc70732c798ce8",
   "metadata": {
    "ExecuteTime": {
     "end_time": "2025-04-09T21:11:49.085528Z",
     "start_time": "2025-04-09T21:11:49.082200Z"
    }
   },
   "outputs": [
    {
     "name": "stdout",
     "output_type": "stream",
     "text": [
      "A\n",
      "D\n"
     ]
    }
   ],
   "source": [
    "list = [\"A\", \"b\", \"c\", \"D\"]\n",
    "\n",
    "for character in list:\n",
    "    if character.isupper():\n",
    "        print(character)"
   ]
  },
  {
   "cell_type": "code",
   "execution_count": null,
   "id": "f544416d4621406b",
   "metadata": {},
   "outputs": [],
   "source": [
    "\"\"\"\n",
    "156\n",
    "From the list, print only the lowercase letters:\n",
    "\n",
    "list = [\"A\", \"b\", \"c\", \"D\"]\n",
    "b\n",
    "c\n",
    "\"\"\""
   ]
  },
  {
   "cell_type": "code",
   "execution_count": 38,
   "id": "eed0db4e35805cfe",
   "metadata": {
    "ExecuteTime": {
     "end_time": "2025-04-09T21:12:50.369179Z",
     "start_time": "2025-04-09T21:12:50.365670Z"
    }
   },
   "outputs": [
    {
     "name": "stdout",
     "output_type": "stream",
     "text": [
      "b\n",
      "c\n"
     ]
    }
   ],
   "source": [
    "list = [\"A\", \"b\", \"c\", \"D\"]\n",
    "for character in list:\n",
    "    if character.islower():\n",
    "        print(character)"
   ]
  },
  {
   "cell_type": "code",
   "execution_count": null,
   "id": "713042366ceb2909",
   "metadata": {},
   "outputs": [],
   "source": [
    "\"\"\"\n",
    "157\n",
    "Capitalize the first letter of each name and print them:\n",
    "\n",
    "list = ['dog', 'cat', 'parrot']\n",
    "Dog\n",
    "Cat\n",
    "Parrot\n",
    "\n",
    "(Note) The `upper()` method converts a string to uppercase.\n",
    "\n",
    ">> var = \"a\"\n",
    ">> var.upper()\n",
    "A\n",
    ">> var = \"abc\"\n",
    ">> var.upper()\n",
    "ABC\n",
    "\"\"\""
   ]
  },
  {
   "cell_type": "code",
   "execution_count": 39,
   "id": "c2c9d43dc5219dbb",
   "metadata": {
    "ExecuteTime": {
     "end_time": "2025-04-09T21:15:35.375023Z",
     "start_time": "2025-04-09T21:15:35.371023Z"
    }
   },
   "outputs": [
    {
     "name": "stdout",
     "output_type": "stream",
     "text": [
      "Dog\n",
      "Cat\n",
      "Parrot\n"
     ]
    }
   ],
   "source": [
    "list = ['dog', 'cat', 'parrot']\n",
    "\n",
    "for animal in list:\n",
    "    print(animal.capitalize())"
   ]
  },
  {
   "cell_type": "code",
   "execution_count": null,
   "id": "2a1cbc20105cc395",
   "metadata": {},
   "outputs": [],
   "source": [
    "\"\"\"\n",
    "158\n",
    "From a list of file names, remove the file extension and print only the file name.\n",
    "(Hint: use the `split()` method)\n",
    "\n",
    "list = ['hello.py', 'ex01.py', 'intro.hwp']\n",
    "hello\n",
    "ex01\n",
    "intro\n",
    "\"\"\""
   ]
  },
  {
   "cell_type": "code",
   "execution_count": 40,
   "id": "3b448e7493a2c7e4",
   "metadata": {
    "ExecuteTime": {
     "end_time": "2025-04-09T21:19:51.711620Z",
     "start_time": "2025-04-09T21:19:51.708657Z"
    }
   },
   "outputs": [
    {
     "name": "stdout",
     "output_type": "stream",
     "text": [
      "hello\n",
      "ex01\n",
      "intro\n"
     ]
    }
   ],
   "source": [
    "list = ['hello.py', 'ex01.py', 'intro.hwp']\n",
    "for fileName in list:\n",
    "    fileName_split = fileName.split('.')\n",
    "    print(fileName_split[0])\n",
    "\n"
   ]
  },
  {
   "cell_type": "code",
   "execution_count": null,
   "id": "c8f324e337d74cbe",
   "metadata": {},
   "outputs": [],
   "source": [
    "\"\"\"\n",
    "159\n",
    "From a list of file names, print only the files with the `.h` extension:\n",
    "\n",
    "list = ['intra.h', 'intra.c', 'define.h', 'run.py']\n",
    "intra.h\n",
    "define.h\n",
    "\"\"\""
   ]
  },
  {
   "cell_type": "code",
   "execution_count": 43,
   "id": "e74b3cd6eccc2425",
   "metadata": {
    "ExecuteTime": {
     "end_time": "2025-04-09T21:24:46.864666Z",
     "start_time": "2025-04-09T21:24:46.860156Z"
    }
   },
   "outputs": [
    {
     "name": "stdout",
     "output_type": "stream",
     "text": [
      "intra.h\n",
      "define.h\n"
     ]
    }
   ],
   "source": [
    "for fileName in list:\n",
    "    fileName_split = fileName.split('.')\n",
    "    if fileName_split[1] == 'h':\n",
    "        print(fileName)"
   ]
  },
  {
   "cell_type": "code",
   "execution_count": null,
   "id": "1e17471accc28312",
   "metadata": {},
   "outputs": [],
   "source": []
  },
  {
   "cell_type": "code",
   "execution_count": null,
   "id": "b1839b78b513acef",
   "metadata": {},
   "outputs": [],
   "source": [
    "\"\"\"\n",
    "160\n",
    "From a list of file names, print the files with either `.h` or `.c` extensions:\n",
    "\n",
    "list = ['intra.h', 'intra.c', 'define.h', 'run.py']\n",
    "intra.h\n",
    "intra.c\n",
    "define.h\n",
    "\"\"\""
   ]
  },
  {
   "cell_type": "code",
   "execution_count": 42,
   "id": "a7ea1d0c7f0e9251",
   "metadata": {
    "ExecuteTime": {
     "end_time": "2025-04-09T21:24:11.298491Z",
     "start_time": "2025-04-09T21:24:11.295070Z"
    }
   },
   "outputs": [
    {
     "name": "stdout",
     "output_type": "stream",
     "text": [
      "intra.h\n",
      "intra.c\n",
      "define.h\n"
     ]
    }
   ],
   "source": [
    "list = ['intra.h', 'intra.c', 'define.h', 'run.py']\n",
    "\n",
    "for fileName in list:\n",
    "    fileName_split = fileName.split('.')\n",
    "    if (fileName_split[1] == 'h') or (fileName_split[1] == 'c'):\n",
    "        print(fileName)"
   ]
  },
  {
   "cell_type": "code",
   "execution_count": null,
   "id": "fd4052c20429f9e1",
   "metadata": {},
   "outputs": [],
   "source": [
    "\"\"\"\n",
    "# Part 8: loops (for, while) in Python (part 4/7)\n",
    "# source: 'https://wikidocs.net/7033'\n",
    "\"\"\""
   ]
  },
  {
   "cell_type": "code",
   "execution_count": null,
   "id": "b0cd10b55dc71b9e",
   "metadata": {},
   "outputs": [],
   "source": [
    "\"\"\"\n",
    "161\n",
    "Using a for loop and the range function,\n",
    "write a program that prints numbers from 0 to 99, one per line.\n",
    "\"\"\""
   ]
  },
  {
   "cell_type": "code",
   "execution_count": 44,
   "id": "9edbb4af75fbb1ca",
   "metadata": {
    "ExecuteTime": {
     "end_time": "2025-04-09T21:33:18.269299Z",
     "start_time": "2025-04-09T21:33:18.265977Z"
    }
   },
   "outputs": [
    {
     "name": "stdout",
     "output_type": "stream",
     "text": [
      "0\n",
      "1\n",
      "2\n",
      "3\n",
      "4\n",
      "5\n",
      "6\n",
      "7\n",
      "8\n",
      "9\n",
      "10\n",
      "11\n",
      "12\n",
      "13\n",
      "14\n",
      "15\n",
      "16\n",
      "17\n",
      "18\n",
      "19\n",
      "20\n",
      "21\n",
      "22\n",
      "23\n",
      "24\n",
      "25\n",
      "26\n",
      "27\n",
      "28\n",
      "29\n",
      "30\n",
      "31\n",
      "32\n",
      "33\n",
      "34\n",
      "35\n",
      "36\n",
      "37\n",
      "38\n",
      "39\n",
      "40\n",
      "41\n",
      "42\n",
      "43\n",
      "44\n",
      "45\n",
      "46\n",
      "47\n",
      "48\n",
      "49\n",
      "50\n",
      "51\n",
      "52\n",
      "53\n",
      "54\n",
      "55\n",
      "56\n",
      "57\n",
      "58\n",
      "59\n",
      "60\n",
      "61\n",
      "62\n",
      "63\n",
      "64\n",
      "65\n",
      "66\n",
      "67\n",
      "68\n",
      "69\n",
      "70\n",
      "71\n",
      "72\n",
      "73\n",
      "74\n",
      "75\n",
      "76\n",
      "77\n",
      "78\n",
      "79\n",
      "80\n",
      "81\n",
      "82\n",
      "83\n",
      "84\n",
      "85\n",
      "86\n",
      "87\n",
      "88\n",
      "89\n",
      "90\n",
      "91\n",
      "92\n",
      "93\n",
      "94\n",
      "95\n",
      "96\n",
      "97\n",
      "98\n",
      "99\n"
     ]
    }
   ],
   "source": [
    "for number in range(0, 100):\n",
    "    print(number)"
   ]
  },
  {
   "cell_type": "code",
   "execution_count": null,
   "id": "7240e1e811652065",
   "metadata": {},
   "outputs": [],
   "source": [
    "\"\"\"\n",
    "162\n",
    "The World Cup is held every 4 years.\n",
    "Using `range()`, print all the years from 2002 to 2050 when the World Cup takes place.\n",
    "\n",
    "2002\n",
    "2006\n",
    "2010\n",
    "...\n",
    "2042\n",
    "2046\n",
    "2050\n",
    "\n",
    "(Note) The third parameter of `range()` determines the step size.\n",
    "\n",
    ">> print(list(range(0, 10, 2)))\n",
    "[0, 2, 4, 6, 8]\n",
    "\"\"\""
   ]
  },
  {
   "cell_type": "code",
   "execution_count": 2,
   "id": "677648ceea0709c5",
   "metadata": {
    "ExecuteTime": {
     "end_time": "2025-04-10T01:43:35.601359Z",
     "start_time": "2025-04-10T01:43:35.563547Z"
    }
   },
   "outputs": [
    {
     "name": "stdout",
     "output_type": "stream",
     "text": [
      "2002\n",
      "2006\n",
      "2010\n",
      "2014\n",
      "2018\n",
      "2022\n",
      "2026\n",
      "2030\n",
      "2034\n",
      "2038\n",
      "2042\n",
      "2046\n",
      "2050\n"
     ]
    }
   ],
   "source": [
    "for year in range(2002,2051,4):\n",
    "    print(year)"
   ]
  },
  {
   "cell_type": "code",
   "execution_count": null,
   "id": "31a66ed2ca5e792c",
   "metadata": {},
   "outputs": [],
   "source": [
    "\"\"\"\n",
    "163\n",
    "Print the multiples of 3 from numbers between 1 and 30.\n",
    "\n",
    "3\n",
    "6\n",
    "9\n",
    "12\n",
    "15\n",
    "18\n",
    "21\n",
    "24\n",
    "27\n",
    "30\n",
    "\"\"\""
   ]
  },
  {
   "cell_type": "code",
   "execution_count": 3,
   "id": "b9bcd250aab93f15",
   "metadata": {
    "ExecuteTime": {
     "end_time": "2025-04-10T01:43:44.145670Z",
     "start_time": "2025-04-10T01:43:44.142594Z"
    }
   },
   "outputs": [
    {
     "name": "stdout",
     "output_type": "stream",
     "text": [
      "3\n",
      "6\n",
      "9\n",
      "12\n",
      "15\n",
      "18\n",
      "21\n",
      "24\n",
      "27\n",
      "30\n"
     ]
    }
   ],
   "source": [
    "for number in range(1, 31):\n",
    "    if number % 3 == 0:\n",
    "        print(number)"
   ]
  },
  {
   "cell_type": "code",
   "execution_count": null,
   "id": "3919f2ee34b5249a",
   "metadata": {},
   "outputs": [],
   "source": [
    "\"\"\"\n",
    "164\n",
    "Print numbers from 99 down to 0, decreasing by 1, one per line.\n",
    "\"\"\""
   ]
  },
  {
   "cell_type": "code",
   "execution_count": 4,
   "id": "e69bc83e331a133a",
   "metadata": {
    "ExecuteTime": {
     "end_time": "2025-04-10T01:43:57.211425Z",
     "start_time": "2025-04-10T01:43:57.207972Z"
    }
   },
   "outputs": [
    {
     "name": "stdout",
     "output_type": "stream",
     "text": [
      "99\n",
      "98\n",
      "97\n",
      "96\n",
      "95\n",
      "94\n",
      "93\n",
      "92\n",
      "91\n",
      "90\n",
      "89\n",
      "88\n",
      "87\n",
      "86\n",
      "85\n",
      "84\n",
      "83\n",
      "82\n",
      "81\n",
      "80\n",
      "79\n",
      "78\n",
      "77\n",
      "76\n",
      "75\n",
      "74\n",
      "73\n",
      "72\n",
      "71\n",
      "70\n",
      "69\n",
      "68\n",
      "67\n",
      "66\n",
      "65\n",
      "64\n",
      "63\n",
      "62\n",
      "61\n",
      "60\n",
      "59\n",
      "58\n",
      "57\n",
      "56\n",
      "55\n",
      "54\n",
      "53\n",
      "52\n",
      "51\n",
      "50\n",
      "49\n",
      "48\n",
      "47\n",
      "46\n",
      "45\n",
      "44\n",
      "43\n",
      "42\n",
      "41\n",
      "40\n",
      "39\n",
      "38\n",
      "37\n",
      "36\n",
      "35\n",
      "34\n",
      "33\n",
      "32\n",
      "31\n",
      "30\n",
      "29\n",
      "28\n",
      "27\n",
      "26\n",
      "25\n",
      "24\n",
      "23\n",
      "22\n",
      "21\n",
      "20\n",
      "19\n",
      "18\n",
      "17\n",
      "16\n",
      "15\n",
      "14\n",
      "13\n",
      "12\n",
      "11\n",
      "10\n",
      "9\n",
      "8\n",
      "7\n",
      "6\n",
      "5\n",
      "4\n",
      "3\n",
      "2\n",
      "1\n",
      "0\n"
     ]
    }
   ],
   "source": [
    "for number in range(99,-1, -1):\n",
    "    print(number)"
   ]
  },
  {
   "cell_type": "code",
   "execution_count": null,
   "id": "4d452fd603270d55",
   "metadata": {},
   "outputs": [],
   "source": [
    "\"\"\"\n",
    "165\n",
    "Use a for loop to print as follows:\n",
    "\n",
    "0.0\n",
    "0.1\n",
    "0.2\n",
    "0.3\n",
    "0.4\n",
    "0.5\n",
    "...\n",
    "0.9\n",
    "\"\"\""
   ]
  },
  {
   "cell_type": "code",
   "execution_count": 5,
   "id": "e439b3725c78e7af",
   "metadata": {
    "ExecuteTime": {
     "end_time": "2025-04-10T01:44:07.382899Z",
     "start_time": "2025-04-10T01:44:07.379533Z"
    }
   },
   "outputs": [
    {
     "name": "stdout",
     "output_type": "stream",
     "text": [
      "0.0\n",
      "0.1\n",
      "0.2\n",
      "0.3\n",
      "0.4\n",
      "0.5\n",
      "0.6\n",
      "0.7\n",
      "0.8\n",
      "0.9\n"
     ]
    }
   ],
   "source": [
    "for number in range(0,10):\n",
    "    print(number/10)"
   ]
  },
  {
   "cell_type": "code",
   "execution_count": null,
   "id": "cc47124f54bf9b9d",
   "metadata": {},
   "outputs": [],
   "source": [
    "\"\"\"\n",
    "166\n",
    "Print the 3-times multiplication table:\n",
    "\n",
    "3x1 = 3\n",
    "3x2 = 6\n",
    "3x3 = 9\n",
    "3x4 = 12\n",
    "3x5 = 15\n",
    "3x6 = 18\n",
    "3x7 = 21\n",
    "3x8 = 24\n",
    "3x9 = 27\n",
    "\"\"\""
   ]
  },
  {
   "cell_type": "code",
   "execution_count": 6,
   "id": "f8c98f1a5502d9e6",
   "metadata": {
    "ExecuteTime": {
     "end_time": "2025-04-10T01:44:18.667869Z",
     "start_time": "2025-04-10T01:44:18.663871Z"
    }
   },
   "outputs": [
    {
     "name": "stdout",
     "output_type": "stream",
     "text": [
      "3*1 = 3\n",
      "3*2 = 6\n",
      "3*3 = 9\n",
      "3*4 = 12\n",
      "3*5 = 15\n",
      "3*6 = 18\n",
      "3*7 = 21\n",
      "3*8 = 24\n",
      "3*9 = 27\n"
     ]
    }
   ],
   "source": [
    "for number in range(1,10):\n",
    "    print(f\"3*{number} = {number*3}\")"
   ]
  },
  {
   "cell_type": "code",
   "execution_count": null,
   "id": "4f07e477a32bc6de",
   "metadata": {},
   "outputs": [],
   "source": [
    "\"\"\"\n",
    "167\n",
    "Print the 3-times multiplication table, but only for odd numbers:\n",
    "\n",
    "3x1 = 3\n",
    "3x3 = 9\n",
    "3x5 = 15\n",
    "3x7 = 21\n",
    "3x9 = 27\n",
    "\"\"\""
   ]
  },
  {
   "cell_type": "code",
   "execution_count": 7,
   "id": "7fe59f37516a7e40",
   "metadata": {
    "ExecuteTime": {
     "end_time": "2025-04-10T01:44:26.157006Z",
     "start_time": "2025-04-10T01:44:26.154101Z"
    }
   },
   "outputs": [
    {
     "name": "stdout",
     "output_type": "stream",
     "text": [
      "3*1 = 3\n",
      "3*3 = 9\n",
      "3*5 = 15\n",
      "3*7 = 21\n",
      "3*9 = 27\n"
     ]
    }
   ],
   "source": [
    "for number in range(1,10):\n",
    "    if number % 2 == 1:\n",
    "        print(f\"3*{number} = {number*3}\")"
   ]
  },
  {
   "cell_type": "code",
   "execution_count": null,
   "id": "b7aba2d07a463e97",
   "metadata": {},
   "outputs": [],
   "source": [
    "\"\"\"\n",
    "168\n",
    "Write a program using a for loop to print the sum of all numbers from 1 to 10.\n",
    "Sum: 55\n",
    "\"\"\""
   ]
  },
  {
   "cell_type": "code",
   "execution_count": 8,
   "id": "ca91ec4b7fd08539",
   "metadata": {
    "ExecuteTime": {
     "end_time": "2025-04-10T01:44:35.660489Z",
     "start_time": "2025-04-10T01:44:35.657249Z"
    }
   },
   "outputs": [
    {
     "name": "stdout",
     "output_type": "stream",
     "text": [
      "55\n"
     ]
    }
   ],
   "source": [
    "Sum = 0\n",
    "for number in range(1,11):\n",
    "    Sum = Sum + number\n",
    "\n",
    "print(Sum)"
   ]
  },
  {
   "cell_type": "code",
   "execution_count": null,
   "id": "6eb1df335edf002",
   "metadata": {},
   "outputs": [],
   "source": [
    "\"\"\"\n",
    "170\n",
    "Write a program using a for loop to print the product of all numbers from 1 to 10.\n",
    "\"\"\""
   ]
  },
  {
   "cell_type": "code",
   "execution_count": 9,
   "id": "7ab85aca2737f4e7",
   "metadata": {
    "ExecuteTime": {
     "end_time": "2025-04-10T01:44:45.744787Z",
     "start_time": "2025-04-10T01:44:45.741278Z"
    }
   },
   "outputs": [
    {
     "name": "stdout",
     "output_type": "stream",
     "text": [
      "3628800\n"
     ]
    }
   ],
   "source": [
    "Product = 1\n",
    "\n",
    "for number in range(1,11):\n",
    "    Product = Product * number\n",
    "\n",
    "print(Product)"
   ]
  },
  {
   "cell_type": "code",
   "execution_count": null,
   "id": "eb2ca6f0eb8c1acd",
   "metadata": {},
   "outputs": [],
   "source": [
    "\"\"\"\n",
    "# Part 8: loops (for, while) in Python (part 5/7)\n",
    "# source: 'https://wikidocs.net/25315'\n",
    "\"\"\""
   ]
  },
  {
   "cell_type": "code",
   "execution_count": null,
   "id": "fd1e7592e5dacbf2",
   "metadata": {},
   "outputs": [],
   "source": [
    "\"\"\"\n",
    "171\n",
    "Print the data in the list as shown below using a for loop and the range function.\n",
    "\n",
    "price_list = [32100, 32150, 32000, 32500]\n",
    "32100\n",
    "32150\n",
    "32000\n",
    "32500\n",
    "\"\"\""
   ]
  },
  {
   "cell_type": "code",
   "execution_count": 10,
   "id": "13aa8a1cd9d81045",
   "metadata": {
    "ExecuteTime": {
     "end_time": "2025-04-10T01:45:36.167759Z",
     "start_time": "2025-04-10T01:45:36.164615Z"
    }
   },
   "outputs": [
    {
     "name": "stdout",
     "output_type": "stream",
     "text": [
      "32100\n",
      "32150\n",
      "32000\n",
      "32500\n"
     ]
    }
   ],
   "source": [
    "price_list = [32100, 32150, 32000, 32500]\n",
    "\n",
    "for price in price_list:\n",
    "    print(price)"
   ]
  },
  {
   "cell_type": "code",
   "execution_count": null,
   "id": "467ac41b8d45b7d1",
   "metadata": {},
   "outputs": [],
   "source": [
    "\"\"\"\n",
    "172\n",
    "Print the data in the list as shown below using a for loop and the range function.\n",
    "\n",
    "price_list = [32100, 32150, 32000, 32500]\n",
    "0 32100\n",
    "1 32150\n",
    "2 32000\n",
    "3 32500\n",
    "\"\"\""
   ]
  },
  {
   "cell_type": "code",
   "execution_count": 11,
   "id": "65c1bdaef657875a",
   "metadata": {
    "ExecuteTime": {
     "end_time": "2025-04-10T01:45:43.817494Z",
     "start_time": "2025-04-10T01:45:43.814051Z"
    }
   },
   "outputs": [
    {
     "name": "stdout",
     "output_type": "stream",
     "text": [
      "4\n"
     ]
    }
   ],
   "source": [
    "price_list = [32100, 32150, 32000, 32500]\n",
    "print(len(price_list))"
   ]
  },
  {
   "cell_type": "code",
   "execution_count": 12,
   "id": "3d2ddf36cfc7d966",
   "metadata": {
    "ExecuteTime": {
     "end_time": "2025-04-10T01:45:51.173300Z",
     "start_time": "2025-04-10T01:45:51.170478Z"
    }
   },
   "outputs": [
    {
     "name": "stdout",
     "output_type": "stream",
     "text": [
      "32100\n",
      "32150\n",
      "32000\n",
      "32500\n"
     ]
    }
   ],
   "source": [
    "for index in range(0, len(price_list)):\n",
    "    print(price_list[index])"
   ]
  },
  {
   "cell_type": "code",
   "execution_count": null,
   "id": "17eb57cb4675a1f0",
   "metadata": {},
   "outputs": [],
   "source": [
    "\"\"\"\n",
    "173\n",
    "Print the data in the list as shown below using a for loop and the range function.\n",
    "\n",
    "price_list = [32100, 32150, 32000, 32500]\n",
    "3 32100\n",
    "2 32150\n",
    "1 32000\n",
    "0 32500\n",
    "\"\"\""
   ]
  },
  {
   "cell_type": "code",
   "execution_count": 13,
   "id": "ce2716f7f6dd13de",
   "metadata": {
    "ExecuteTime": {
     "end_time": "2025-04-10T01:46:06.163869Z",
     "start_time": "2025-04-10T01:46:06.160868Z"
    }
   },
   "outputs": [
    {
     "name": "stdout",
     "output_type": "stream",
     "text": [
      "3 32100\n",
      "2 32150\n",
      "1 32000\n",
      "0 32500\n"
     ]
    }
   ],
   "source": [
    "for index in range(len(price_list)):\n",
    "    print(3 - index, price_list[index])"
   ]
  },
  {
   "cell_type": "code",
   "execution_count": null,
   "id": "1c393c5af5cdee32",
   "metadata": {},
   "outputs": [],
   "source": [
    "\"\"\"\n",
    "174\n",
    "Print the data in the list as shown below using a for loop and the range function.\n",
    "\n",
    "price_list = [32100, 32150, 32000, 32500]\n",
    "100 32150\n",
    "110 32000\n",
    "120 32500\n",
    "\"\"\""
   ]
  },
  {
   "cell_type": "code",
   "execution_count": 14,
   "id": "eb1d651bf972f9e0",
   "metadata": {
    "ExecuteTime": {
     "end_time": "2025-04-10T01:46:12.892950Z",
     "start_time": "2025-04-10T01:46:12.889896Z"
    }
   },
   "outputs": [
    {
     "name": "stdout",
     "output_type": "stream",
     "text": [
      "100 32150\n",
      "110 32000\n",
      "120 32500\n"
     ]
    }
   ],
   "source": [
    "for index in range(1, len(price_list)):\n",
    "    print(90 + (index * 10), price_list[index])"
   ]
  },
  {
   "cell_type": "code",
   "execution_count": null,
   "id": "d304d81d4057c705",
   "metadata": {},
   "outputs": [],
   "source": [
    "\"\"\"\n",
    "175\n",
    "Print `my_list` as shown below:\n",
    "\n",
    "my_list = [\"Ga\", \"Na\", \"Da\", \"Ra\"]\n",
    "Ga Na\n",
    "Na Da\n",
    "Da Ra\n",
    "\"\"\""
   ]
  },
  {
   "cell_type": "code",
   "execution_count": 15,
   "id": "57df8464520673b8",
   "metadata": {
    "ExecuteTime": {
     "end_time": "2025-04-10T01:46:20.003721Z",
     "start_time": "2025-04-10T01:46:19.999756Z"
    }
   },
   "outputs": [
    {
     "name": "stdout",
     "output_type": "stream",
     "text": [
      "Ga Na\n",
      "Na Da\n",
      "Da Ra\n"
     ]
    }
   ],
   "source": [
    "my_list = [\"Ga\", \"Na\", \"Da\", \"Ra\"]\n",
    "\n",
    "for index in range(len(my_list) - 1):\n",
    "    print(my_list[index], my_list[index+1])"
   ]
  },
  {
   "cell_type": "code",
   "execution_count": null,
   "id": "c6d4512dd4adde60",
   "metadata": {},
   "outputs": [],
   "source": [
    "\"\"\"\n",
    "176\n",
    "Print the list as shown below:\n",
    "\n",
    "my_list = [\"Ga\", \"Na\", \"Da\", \"Ra\", \"Ma\"]\n",
    "Ga Na Da\n",
    "Na Da Ra\n",
    "Da Ra Ma\n",
    "\"\"\""
   ]
  },
  {
   "cell_type": "code",
   "execution_count": 16,
   "id": "d45a9ee70ae80be8",
   "metadata": {
    "ExecuteTime": {
     "end_time": "2025-04-10T01:46:27.093626Z",
     "start_time": "2025-04-10T01:46:27.089626Z"
    }
   },
   "outputs": [
    {
     "name": "stdout",
     "output_type": "stream",
     "text": [
      "Ga Na Da\n",
      "Na Da Ra\n",
      "Da Ra Ma\n"
     ]
    }
   ],
   "source": [
    "my_list = [\"Ga\", \"Na\", \"Da\", \"Ra\", \"Ma\"]\n",
    "\n",
    "for index in range(len(my_list) - 2):\n",
    "    print(my_list[index], my_list[index+1], my_list[index+2])"
   ]
  },
  {
   "cell_type": "code",
   "execution_count": null,
   "id": "93a4b6caaf00be9",
   "metadata": {},
   "outputs": [],
   "source": [
    "\"\"\"\n",
    "177\n",
    "Use a loop and the `range()` function to print `my_list` as shown below:\n",
    "\n",
    "my_list = [\"Ga\", \"Na\", \"Da\", \"Ra\"]\n",
    "Ra Da\n",
    "Da Na\n",
    "Na Ga\n",
    "\"\"\""
   ]
  },
  {
   "cell_type": "code",
   "execution_count": 17,
   "id": "d056be813f63fde6",
   "metadata": {
    "ExecuteTime": {
     "end_time": "2025-04-10T01:46:34.741748Z",
     "start_time": "2025-04-10T01:46:34.737524Z"
    }
   },
   "outputs": [
    {
     "name": "stdout",
     "output_type": "stream",
     "text": [
      "Ra Da\n",
      "Da Na\n",
      "Na Ga\n"
     ]
    }
   ],
   "source": [
    "my_list = [\"Ga\", \"Na\", \"Da\", \"Ra\"]\n",
    "\n",
    "for index in range(len(my_list) - 1, 0, -1):\n",
    "    print(my_list[index], my_list[index -1])"
   ]
  },
  {
   "cell_type": "code",
   "execution_count": null,
   "id": "182600ed61dede01",
   "metadata": {},
   "outputs": [],
   "source": [
    "\"\"\"\n",
    "178\n",
    "The list contains four integers.\n",
    "For each element, print the difference between it and the value to its right.\n",
    "\n",
    "my_list = [100, 200, 400, 800]\n",
    "For example, take 100 and subtract it from 200, then 200 and 400, and so on.\n",
    "\n",
    "100\n",
    "200\n",
    "400\n",
    "\"\"\""
   ]
  },
  {
   "cell_type": "code",
   "execution_count": 18,
   "id": "5a766251eb0978a1",
   "metadata": {
    "ExecuteTime": {
     "end_time": "2025-04-10T01:46:42.638062Z",
     "start_time": "2025-04-10T01:46:42.634062Z"
    }
   },
   "outputs": [
    {
     "name": "stdout",
     "output_type": "stream",
     "text": [
      "100\n",
      "200\n",
      "400\n"
     ]
    }
   ],
   "source": [
    "my_list = [100, 200, 400, 800]\n",
    "\n",
    "for index in range(len(my_list) - 1):\n",
    "    print(my_list[index + 1] - my_list[index])"
   ]
  },
  {
   "cell_type": "code",
   "execution_count": null,
   "id": "28e4c760d65225e8",
   "metadata": {},
   "outputs": [],
   "source": [
    "\"\"\"\n",
    "179\n",
    "The list contains closing prices for six days.\n",
    "Calculate the 3-day moving average and print each result line by line.\n",
    "\n",
    "my_list = [100, 200, 400, 800, 1000, 1300]\n",
    "\n",
    "233.33333333333334\n",
    "466.6666666666667\n",
    "733.3333333333334\n",
    "1033.3333333333333\n",
    "\"\"\""
   ]
  },
  {
   "cell_type": "code",
   "execution_count": 19,
   "id": "7bdbe6fb050c6288",
   "metadata": {
    "ExecuteTime": {
     "end_time": "2025-04-10T01:46:53.795028Z",
     "start_time": "2025-04-10T01:46:53.791565Z"
    }
   },
   "outputs": [
    {
     "name": "stdout",
     "output_type": "stream",
     "text": [
      "233.33333333333334\n",
      "466.6666666666667\n",
      "733.3333333333334\n",
      "1033.3333333333333\n"
     ]
    }
   ],
   "source": [
    "my_list = [100, 200, 400, 800, 1000, 1300]\n",
    "\n",
    "for index in range(len(my_list) - 2):\n",
    "    print(sum(my_list[index:index+3]) / 3)"
   ]
  },
  {
   "cell_type": "code",
   "execution_count": null,
   "id": "9b9efc0f2fd77bbb",
   "metadata": {},
   "outputs": [],
   "source": [
    "\"\"\"\n",
    "180\n",
    "The list stores low and high prices for five days.\n",
    "Define \"volatility\" as the difference between high and low prices.\n",
    "Using two lists, `low_prices` and `high_prices`, store the 5-day volatility in a new list called `volatility`.\n",
    "\n",
    "low_prices  = [100, 200, 400, 800, 1000]\n",
    "high_prices = [150, 300, 430, 880, 1000]\n",
    "\"\"\""
   ]
  },
  {
   "cell_type": "code",
   "execution_count": 20,
   "id": "6054b641bff10a88",
   "metadata": {
    "ExecuteTime": {
     "end_time": "2025-04-10T01:47:04.627631Z",
     "start_time": "2025-04-10T01:47:04.623520Z"
    }
   },
   "outputs": [
    {
     "name": "stdout",
     "output_type": "stream",
     "text": [
      "[50, 100, 30, 80, 0]\n"
     ]
    }
   ],
   "source": [
    "low_prices  = [100, 200, 400, 800, 1000]\n",
    "high_prices = [150, 300, 430, 880, 1000]\n",
    "volatility = []\n",
    "\n",
    "for index in range(len(low_prices)):\n",
    "    volatility.append(high_prices[index] - low_prices[index])\n",
    "\n",
    "print(volatility)"
   ]
  },
  {
   "cell_type": "code",
   "execution_count": 21,
   "id": "629786e148ff95f2",
   "metadata": {
    "ExecuteTime": {
     "end_time": "2025-04-10T01:47:06.041097Z",
     "start_time": "2025-04-10T01:47:06.037717Z"
    }
   },
   "outputs": [
    {
     "name": "stdout",
     "output_type": "stream",
     "text": [
      "[50, 100, 30, 80, 0]\n"
     ]
    }
   ],
   "source": [
    "low_prices  = [100, 200, 400, 800, 1000]\n",
    "high_prices = [150, 300, 430, 880, 1000]\n",
    "volatility = []\n",
    "\n",
    "for low, high in zip(low_prices, high_prices):\n",
    "    volatility.append(high-low)\n",
    "\n",
    "print(volatility)"
   ]
  },
  {
   "cell_type": "code",
   "execution_count": null,
   "id": "582245698d69c021",
   "metadata": {},
   "outputs": [],
   "source": [
    "\"\"\"\n",
    "# Part 8: loops (for, while) in Python (part 6/7)\n",
    "# source: 'https://wikidocs.net/78564'\n",
    "\"\"\""
   ]
  },
  {
   "cell_type": "code",
   "execution_count": null,
   "id": "2dc392facbb16425",
   "metadata": {},
   "outputs": [],
   "source": [
    "\"\"\"\n",
    "181\n",
    "From the table below, define a 2D list `apartment` with each row as a separate list, totaling 3 lists.\n",
    "\n",
    "RM101  RM102\n",
    "RM201  RM202\n",
    "RM301  RM302\n",
    "\"\"\""
   ]
  },
  {
   "cell_type": "code",
   "execution_count": 22,
   "id": "4f86669ceb04ac36",
   "metadata": {
    "ExecuteTime": {
     "end_time": "2025-04-10T01:47:26.157605Z",
     "start_time": "2025-04-10T01:47:26.154583Z"
    }
   },
   "outputs": [
    {
     "name": "stdout",
     "output_type": "stream",
     "text": [
      "[['RM101', 'RM102'], ['RM201', 'RM202'], ['RM301', 'RM302']]\n"
     ]
    }
   ],
   "source": [
    "apartment = [[\"RM101\", \"RM102\"], [\"RM201\", \"RM202\"], [\"RM301\", \"RM302\"]]\n",
    "print(apartment)"
   ]
  },
  {
   "cell_type": "code",
   "execution_count": null,
   "id": "eaf8d2e3518801bf",
   "metadata": {},
   "outputs": [],
   "source": [
    "\"\"\"\n",
    "182\n",
    "From the table below, define a 2D list `stock` with each column as a separate list, totaling 2 lists.\n",
    "\n",
    "Opening Price  Closing Price\n",
    "100            80\n",
    "200            210\n",
    "300            330\n",
    "\"\"\""
   ]
  },
  {
   "cell_type": "code",
   "execution_count": 23,
   "id": "ec7ef88185573fc9",
   "metadata": {
    "ExecuteTime": {
     "end_time": "2025-04-10T01:47:33.371280Z",
     "start_time": "2025-04-10T01:47:33.367862Z"
    }
   },
   "outputs": [
    {
     "name": "stdout",
     "output_type": "stream",
     "text": [
      "[[100, 200, 300], [80, 210, 330]]\n"
     ]
    }
   ],
   "source": [
    "stock = [[100, 200, 300], [80, 210, 330]]\n",
    "print(stock)"
   ]
  },
  {
   "cell_type": "code",
   "execution_count": null,
   "id": "ac203429fbb18361",
   "metadata": {},
   "outputs": [],
   "source": [
    "\"\"\"\n",
    "183\n",
    "Express the table below as a dictionary named `stock`.\n",
    "Store the \"Opening Price\" as a key with the values from that column in a list.\n",
    "Do the same for the \"Closing Price\".\n",
    "\n",
    "Opening Price  Closing Price\n",
    "100            80\n",
    "200            210\n",
    "300            330\n",
    "\"\"\""
   ]
  },
  {
   "cell_type": "code",
   "execution_count": 24,
   "id": "db21fe94d0c3e3f1",
   "metadata": {
    "ExecuteTime": {
     "end_time": "2025-04-10T01:47:43.805456Z",
     "start_time": "2025-04-10T01:47:43.802317Z"
    }
   },
   "outputs": [
    {
     "name": "stdout",
     "output_type": "stream",
     "text": [
      "{'Opening Price': [100, 200, 300], 'Closing Price': [80, 210, 330]}\n"
     ]
    }
   ],
   "source": [
    "stock = {\"Opening Price\": [100, 200, 300], \"Closing Price\": [80, 210, 330]}\n",
    "print(stock)"
   ]
  },
  {
   "cell_type": "code",
   "execution_count": null,
   "id": "e1ab985e56e472e9",
   "metadata": {},
   "outputs": [],
   "source": [
    "\"\"\"\n",
    "184\n",
    "Express the table below as a dictionary named `stock`.\n",
    "Use the date as the key, and store the remaining values in each row as a list.\n",
    "\n",
    "10/10  80  110  70  90\n",
    "10/11  210 230 190 200\n",
    "\"\"\""
   ]
  },
  {
   "cell_type": "code",
   "execution_count": 25,
   "id": "b9639637af02c210",
   "metadata": {
    "ExecuteTime": {
     "end_time": "2025-04-10T01:47:50.900290Z",
     "start_time": "2025-04-10T01:47:50.897017Z"
    }
   },
   "outputs": [
    {
     "name": "stdout",
     "output_type": "stream",
     "text": [
      "{'10/10': [80, 110, 70, 90], '10/11': [210, 230, 190, 200]}\n"
     ]
    }
   ],
   "source": [
    "stock = {\"10/10\": [80, 110, 70, 90], \"10/11\": [210, 230, 190, 200]}\n",
    "print(stock)"
   ]
  },
  {
   "cell_type": "code",
   "execution_count": null,
   "id": "1a8aac47995ff06c",
   "metadata": {},
   "outputs": [],
   "source": [
    "\"\"\"\n",
    "185\n",
    "Print the data stored in the list as shown below:\n",
    "\n",
    "apart = [ [101, 102], [201, 202], [301, 302] ]\n",
    "\n",
    "101 RM\n",
    "102 RM\n",
    "201 RM\n",
    "202 RM\n",
    "301 RM\n",
    "302 RM\n",
    "\"\"\""
   ]
  },
  {
   "cell_type": "code",
   "execution_count": 26,
   "id": "998c741e2641ae06",
   "metadata": {
    "ExecuteTime": {
     "end_time": "2025-04-10T01:47:57.614622Z",
     "start_time": "2025-04-10T01:47:57.611302Z"
    }
   },
   "outputs": [
    {
     "name": "stdout",
     "output_type": "stream",
     "text": [
      "101 RM\n",
      "102 RM\n",
      "201 RM\n",
      "202 RM\n",
      "301 RM\n",
      "302 RM\n"
     ]
    }
   ],
   "source": [
    "apart = [ [101, 102], [201, 202], [301, 302] ]\n",
    "\n",
    "for row in apart:\n",
    "    for number in row:\n",
    "        print(number, \"RM\")"
   ]
  },
  {
   "cell_type": "code",
   "execution_count": null,
   "id": "b72d6661d13f5931",
   "metadata": {},
   "outputs": [],
   "source": [
    "\"\"\"\n",
    "186\n",
    "Print the data stored in the list as shown below:\n",
    "\n",
    "apart = [ [101, 102], [201, 202], [301, 302] ]\n",
    "301 RM\n",
    "302 RM\n",
    "201 RM\n",
    "202 RM\n",
    "101 RM\n",
    "102 RM\n",
    "\"\"\""
   ]
  },
  {
   "cell_type": "code",
   "execution_count": 27,
   "id": "2d49803b47f66803",
   "metadata": {
    "ExecuteTime": {
     "end_time": "2025-04-10T01:48:05.300600Z",
     "start_time": "2025-04-10T01:48:05.297164Z"
    }
   },
   "outputs": [
    {
     "name": "stdout",
     "output_type": "stream",
     "text": [
      "301 RM\n",
      "302 RM\n",
      "201 RM\n",
      "202 RM\n",
      "101 RM\n",
      "102 RM\n"
     ]
    }
   ],
   "source": [
    "apart = [ [101, 102], [201, 202], [301, 302] ]\n",
    "\n",
    "for index in range(len(apart) - 1, -1, -1):\n",
    "    for number in apart[index]:\n",
    "        print(number, \"RM\")"
   ]
  },
  {
   "cell_type": "code",
   "execution_count": null,
   "id": "1fb6d2b8e3fa9482",
   "metadata": {},
   "outputs": [],
   "source": [
    "\"\"\"\n",
    "187\n",
    "Print the data stored in the list as shown below:\n",
    "\n",
    "apart = [ [101, 102], [201, 202], [301, 302] ]\n",
    "302 RM\n",
    "301 RM\n",
    "202 RM\n",
    "201 RM\n",
    "102 RM\n",
    "101 RM\n",
    "\"\"\""
   ]
  },
  {
   "cell_type": "code",
   "execution_count": 28,
   "id": "46a4d0952a398ddb",
   "metadata": {
    "ExecuteTime": {
     "end_time": "2025-04-10T01:48:14.536444Z",
     "start_time": "2025-04-10T01:48:14.533444Z"
    }
   },
   "outputs": [],
   "source": [
    "apart = [ [101, 102], [201, 202], [301, 302] ]"
   ]
  },
  {
   "cell_type": "code",
   "execution_count": 29,
   "id": "5eaa1f1c8ceb3d10",
   "metadata": {
    "ExecuteTime": {
     "end_time": "2025-04-10T01:48:18.033448Z",
     "start_time": "2025-04-10T01:48:18.030007Z"
    }
   },
   "outputs": [
    {
     "name": "stdout",
     "output_type": "stream",
     "text": [
      "302 RM\n",
      "301 RM\n",
      "202 RM\n",
      "201 RM\n",
      "102 RM\n",
      "101 RM\n"
     ]
    }
   ],
   "source": [
    "for index in range(len(apart) - 1, -1, -1):\n",
    "    for number in range(len(apart[index]) - 1, -1, -1):\n",
    "        print(apart[index][number], \"RM\")"
   ]
  },
  {
   "cell_type": "code",
   "execution_count": null,
   "id": "9191afd15ef639f",
   "metadata": {},
   "outputs": [],
   "source": [
    "\"\"\"\n",
    "188\n",
    "Print the data stored in the list as shown below:\n",
    "\n",
    "apart = [ [101, 102], [201, 202], [301, 302] ]\n",
    "101 ho\n",
    "-----\n",
    "102 ho\n",
    "-----\n",
    "201 ho\n",
    "-----\n",
    "202 ho\n",
    "-----\n",
    "301 ho\n",
    "-----\n",
    "302 ho\n",
    "-----\n",
    "\"\"\""
   ]
  },
  {
   "cell_type": "code",
   "execution_count": 30,
   "id": "43efd49796897073",
   "metadata": {
    "ExecuteTime": {
     "end_time": "2025-04-10T01:48:26.942630Z",
     "start_time": "2025-04-10T01:48:26.939622Z"
    }
   },
   "outputs": [
    {
     "name": "stdout",
     "output_type": "stream",
     "text": [
      "101 ho\n",
      "-----\n",
      "102 ho\n",
      "-----\n",
      "201 ho\n",
      "-----\n",
      "202 ho\n",
      "-----\n",
      "301 ho\n",
      "-----\n",
      "302 ho\n",
      "-----\n"
     ]
    }
   ],
   "source": [
    "apart = [ [101, 102], [201, 202], [301, 302] ]\n",
    "\n",
    "for row in apart:\n",
    "    for number in row:\n",
    "        print(number, \"ho\")\n",
    "        print(\"-----\")"
   ]
  },
  {
   "cell_type": "code",
   "execution_count": null,
   "id": "3f40207c4a73e25e",
   "metadata": {},
   "outputs": [],
   "source": [
    "\"\"\"\n",
    "189\n",
    "Print the data stored in the list as shown below:\n",
    "\n",
    "apart = [ [101, 102], [201, 202], [301, 302] ]\n",
    "101 ho\n",
    "102 ho\n",
    "-----\n",
    "201 ho\n",
    "202 ho\n",
    "-----\n",
    "301 ho\n",
    "302 ho\n",
    "-----\n",
    "\"\"\""
   ]
  },
  {
   "cell_type": "code",
   "execution_count": 31,
   "id": "6e8ece2666d966d2",
   "metadata": {
    "ExecuteTime": {
     "end_time": "2025-04-10T01:48:38.007236Z",
     "start_time": "2025-04-10T01:48:38.004272Z"
    }
   },
   "outputs": [
    {
     "name": "stdout",
     "output_type": "stream",
     "text": [
      "101 ho\n",
      "102 ho\n",
      "-----\n",
      "201 ho\n",
      "202 ho\n",
      "-----\n",
      "301 ho\n",
      "302 ho\n",
      "-----\n"
     ]
    }
   ],
   "source": [
    "apart = [ [101, 102], [201, 202], [301, 302] ]\n",
    "\n",
    "for row in apart:\n",
    "    for number in row:\n",
    "        print(number, \"ho\")\n",
    "    print(\"-----\")"
   ]
  },
  {
   "cell_type": "code",
   "execution_count": null,
   "id": "9654b034b4c898b9",
   "metadata": {},
   "outputs": [],
   "source": [
    "\"\"\"\n",
    "190\n",
    "Print the data stored in the list as shown below:\n",
    "\n",
    "apart = [ [101, 102], [201, 202], [301, 302] ]\n",
    "101 RM\n",
    "102 RM\n",
    "201 RM\n",
    "202 RM\n",
    "301 RM\n",
    "302 RM\n",
    "-----\n",
    "\"\"\""
   ]
  },
  {
   "cell_type": "code",
   "execution_count": 32,
   "id": "4ecf449cc61778f4",
   "metadata": {
    "ExecuteTime": {
     "end_time": "2025-04-10T01:48:45.568019Z",
     "start_time": "2025-04-10T01:48:45.564018Z"
    }
   },
   "outputs": [
    {
     "name": "stdout",
     "output_type": "stream",
     "text": [
      "101 RM\n",
      "102 RM\n",
      "201 RM\n",
      "202 RM\n",
      "301 RM\n",
      "302 RM\n"
     ]
    }
   ],
   "source": [
    "apart = [ [101, 102], [201, 202], [301, 302] ]\n",
    "for row in apart:\n",
    "    for room in row:\n",
    "        print(room, \"RM\")"
   ]
  },
  {
   "cell_type": "code",
   "execution_count": null,
   "id": "4d0f8ee3b5db60f9",
   "metadata": {},
   "outputs": [],
   "source": [
    "\"\"\"\n",
    "# Part 8: loops (for, while) in Python (part 7/7)\n",
    "# source: 'https://wikidocs.net/78565'\n",
    "\"\"\""
   ]
  },
  {
   "cell_type": "code",
   "execution_count": null,
   "id": "c233a6cdbc5c2937",
   "metadata": {},
   "outputs": [],
   "source": [
    "\"\"\"\n",
    "191\n",
    "The variable `data` contains OHLC (open/high/low/close)\n",
    "price information for purchased stocks.\n",
    "\n",
    "data = [\n",
    "    [2000, 3050, 2050, 1980],\n",
    "    [7500, 2050, 2050, 1980],\n",
    "    [15450, 15050, 15550, 14900]\n",
    "]\n",
    "\n",
    "Assuming a commission rate of 0.014%,\n",
    "print each price including the commission on a separate line.\n",
    "\n",
    "2000.28\n",
    "3050.427\n",
    "2050.2870000000003\n",
    "...\n",
    "\"\"\""
   ]
  },
  {
   "cell_type": "code",
   "execution_count": 33,
   "id": "6a59e3ba9989c0f9",
   "metadata": {
    "ExecuteTime": {
     "end_time": "2025-04-10T01:58:39.653375Z",
     "start_time": "2025-04-10T01:58:39.650882Z"
    }
   },
   "outputs": [],
   "source": [
    "data = [\n",
    "    [2000, 3050, 2050, 1980],\n",
    "    [7500, 2050, 2050, 1980],\n",
    "    [15450, 15050, 15550, 14900]\n",
    "]"
   ]
  },
  {
   "cell_type": "code",
   "execution_count": 41,
   "id": "ca705c4386c59d10",
   "metadata": {
    "ExecuteTime": {
     "end_time": "2025-04-10T02:08:51.678611Z",
     "start_time": "2025-04-10T02:08:51.675612Z"
    }
   },
   "outputs": [
    {
     "name": "stdout",
     "output_type": "stream",
     "text": [
      "2000.28\n",
      "3050.427\n",
      "2050.2870000000003\n",
      "1980.2772\n",
      "7501.05\n",
      "2050.2870000000003\n",
      "2050.2870000000003\n",
      "1980.2772\n",
      "15452.163\n",
      "15052.107\n",
      "15552.177\n",
      "14902.086000000001\n"
     ]
    }
   ],
   "source": [
    "commission_rate = 0.014 / 100\n",
    "for row in data:\n",
    "    for price in row:\n",
    "        print(float(price * (1+commission_rate)))"
   ]
  },
  {
   "cell_type": "code",
   "execution_count": null,
   "id": "8f1cf95cb5e7b902",
   "metadata": {},
   "outputs": [],
   "source": [
    "\"\"\"\n",
    "192\n",
    "Add a row separator \"----\" after each row of output from question 191.\n",
    "\n",
    "2000.28\n",
    "3050.427\n",
    "2050.2870000000003\n",
    "1980.2772\n",
    "----\n",
    "7501.05\n",
    "2050.2870000000003\n",
    "2050.2870000000003\n",
    "1980.2772\n",
    "----\n",
    "15452.163\n",
    "15052.107\n",
    "15552.177\n",
    "14902.086000000001\n",
    "----\n",
    "\"\"\""
   ]
  },
  {
   "cell_type": "code",
   "execution_count": 1,
   "id": "983bcce9963094f9",
   "metadata": {
    "ExecuteTime": {
     "end_time": "2025-04-10T02:09:31.280069Z",
     "start_time": "2025-04-10T02:09:31.277060Z"
    }
   },
   "outputs": [],
   "source": [
    "data = [\n",
    "    [2000, 3050, 2050, 1980],\n",
    "    [7500, 2050, 2050, 1980],\n",
    "    [15450, 15050, 15550, 14900]\n",
    "]"
   ]
  },
  {
   "cell_type": "code",
   "execution_count": 2,
   "id": "6dc734751e423263",
   "metadata": {},
   "outputs": [
    {
     "name": "stdout",
     "output_type": "stream",
     "text": [
      "2000.28\n",
      "3050.427\n",
      "2050.2870000000003\n",
      "1980.2772\n",
      "----\n",
      "7501.05\n",
      "2050.2870000000003\n",
      "2050.2870000000003\n",
      "1980.2772\n",
      "----\n",
      "15452.163\n",
      "15052.107\n",
      "15552.177\n",
      "14902.086000000001\n",
      "----\n"
     ]
    }
   ],
   "source": [
    "commission_rate = 0.014 / 100\n",
    "total_rate = 1 + commission_rate\n",
    "\n",
    "for row in data:\n",
    "    for column in row:\n",
    "        print(column * total_rate)\n",
    "    print(\"-\" * 4)"
   ]
  },
  {
   "cell_type": "code",
   "execution_count": null,
   "id": "7d2a41ab4534d073",
   "metadata": {},
   "outputs": [],
   "source": [
    "\"\"\"\n",
    "193  \n",
    "Store the output values from question 192 into a 1-dimensional list named `result`.\n",
    "\n",
    ">> print(result)  \n",
    "[2000.28, 3050.427, 2050.2870000000003, 1980.2772, 7501.05, 2050.2870000000003, 2050.2870000000003, ...]\n",
    "\"\"\""
   ]
  },
  {
   "cell_type": "code",
   "execution_count": 3,
   "id": "75a7dc0017160336",
   "metadata": {},
   "outputs": [],
   "source": [
    "data = [\n",
    "    [2000, 3050, 2050, 1980],\n",
    "    [7500, 2050, 2050, 1980],\n",
    "    [15450, 15050, 15550, 14900]\n",
    "]"
   ]
  },
  {
   "cell_type": "code",
   "execution_count": 4,
   "id": "e5f6057fc8eeea76",
   "metadata": {},
   "outputs": [],
   "source": [
    "commission_rate = 0.014 / 100\n",
    "total_rate = 1 + commission_rate\n",
    "\n",
    "result = []\n",
    "\n",
    "for row in data:\n",
    "    for column in row:\n",
    "        total_amount = column * total_rate\n",
    "        result.append(total_amount)"
   ]
  },
  {
   "cell_type": "code",
   "execution_count": 5,
   "id": "58c8a17c2763a022",
   "metadata": {},
   "outputs": [
    {
     "name": "stdout",
     "output_type": "stream",
     "text": [
      "[2000.28, 3050.427, 2050.2870000000003, 1980.2772, 7501.05, 2050.2870000000003, 2050.2870000000003, 1980.2772, 15452.163, 15052.107, 15552.177, 14902.086000000001]\n"
     ]
    }
   ],
   "source": [
    "print(result)"
   ]
  },
  {
   "cell_type": "code",
   "execution_count": null,
   "id": "e0fd58e9e96a6021",
   "metadata": {},
   "outputs": [],
   "source": [
    "\"\"\"\n",
    "194  \n",
    "Store the output values from question 191 into a 2-dimensional list named `result`.  \n",
    "Each row of data should be stored as a separate list.\n",
    "\n",
    ">> print(result)  \n",
    "[\n",
    " [2000.28, 3050.427, 2050.2870000000003, 1980.2772],\n",
    " [7501.05, 2050.2870000000003, 2050.2870000000003, 1980.2772],\n",
    " [15452.163, 15052.107, 15552.177, 14902.086000000001]\n",
    "]\n",
    "\"\"\""
   ]
  },
  {
   "cell_type": "code",
   "execution_count": 6,
   "id": "125860765441670c",
   "metadata": {},
   "outputs": [],
   "source": [
    "data = [\n",
    "    [2000, 3050, 2050, 1980],\n",
    "    [7500, 2050, 2050, 1980],\n",
    "    [15450, 15050, 15550, 14900]\n",
    "]"
   ]
  },
  {
   "cell_type": "code",
   "execution_count": 11,
   "id": "14d78da1-590d-4848-897d-9f7864b1720d",
   "metadata": {},
   "outputs": [],
   "source": [
    "commission_rate = 0.014 / 100\n",
    "total_rate = 1 + commission_rate\n",
    "\n",
    "result = []\n",
    "\n",
    "for row in data:\n",
    "    row_result = []\n",
    "    \n",
    "    for column in row:\n",
    "        total_amount = column * total_rate\n",
    "        row_result.append(total_amount)\n",
    "\n",
    "    result.append(row_result)    "
   ]
  },
  {
   "cell_type": "code",
   "execution_count": 12,
   "id": "731cb020-4e12-4779-b473-1d1f81dddcc4",
   "metadata": {},
   "outputs": [
    {
     "name": "stdout",
     "output_type": "stream",
     "text": [
      "[[2000.28, 3050.427, 2050.2870000000003, 1980.2772], [7501.05, 2050.2870000000003, 2050.2870000000003, 1980.2772], [15452.163, 15052.107, 15552.177, 14902.086000000001]]\n"
     ]
    }
   ],
   "source": [
    "print(result)"
   ]
  },
  {
   "cell_type": "code",
   "execution_count": null,
   "id": "ac6f359a-1370-4f12-9330-027a15530040",
   "metadata": {},
   "outputs": [],
   "source": [
    "\"\"\"\n",
    "195  \n",
    "The `ohlc` list stores OHLC (open, high, low, close) data by date.  \n",
    "Print the closing prices on the screen.\n",
    "\n",
    "ohlc = [[\"open\", \"high\", \"low\", \"close\"],  \n",
    "        [100, 110, 70, 100],  \n",
    "        [200, 210, 180, 190],  \n",
    "        [300, 310, 300, 310]]\n",
    "\n",
    "Output:  \n",
    "100  \n",
    "190  \n",
    "310\n",
    "\"\"\""
   ]
  },
  {
   "cell_type": "code",
   "execution_count": 13,
   "id": "504d178a-b4ea-4b01-87a1-2139ed4a0777",
   "metadata": {},
   "outputs": [],
   "source": [
    "ohlc = [[\"open\", \"high\", \"low\", \"close\"],  \n",
    "        [100, 110, 70, 100],  \n",
    "        [200, 210, 180, 190],  \n",
    "        [300, 310, 300, 310]]"
   ]
  },
  {
   "cell_type": "code",
   "execution_count": 14,
   "id": "15668460-a7c1-4e85-9852-7c700ece0342",
   "metadata": {},
   "outputs": [
    {
     "name": "stdout",
     "output_type": "stream",
     "text": [
      "100\n",
      "190\n",
      "310\n"
     ]
    }
   ],
   "source": [
    "for row in ohlc[1:]:\n",
    "    print(row[3])"
   ]
  },
  {
   "cell_type": "code",
   "execution_count": null,
   "id": "55c1021f-7fa6-4a29-b7a0-9e42f224325e",
   "metadata": {},
   "outputs": [],
   "source": [
    "\"\"\"\n",
    "196  \n",
    "The `ohlc` list stores OHLC data by date.  \n",
    "Only print closing prices greater than 150.\n",
    "\n",
    "Output:  \n",
    "190  \n",
    "310\n",
    "\"\"\""
   ]
  },
  {
   "cell_type": "code",
   "execution_count": 15,
   "id": "134162e1-2b71-458e-a9c5-adf69807b6a5",
   "metadata": {},
   "outputs": [],
   "source": [
    "ohlc = [[\"open\", \"high\", \"low\", \"close\"],  \n",
    "        [100, 110, 70, 100],  \n",
    "        [200, 210, 180, 190],  \n",
    "        [300, 310, 300, 310]]"
   ]
  },
  {
   "cell_type": "code",
   "execution_count": 17,
   "id": "833ba80d-935c-40ee-8ca3-104546fa03ed",
   "metadata": {},
   "outputs": [
    {
     "name": "stdout",
     "output_type": "stream",
     "text": [
      "190\n",
      "310\n"
     ]
    }
   ],
   "source": [
    "for row in ohlc[1:]:\n",
    "    closing_price = row[3]\n",
    "    if closing_price > 150:\n",
    "        print(closing_price)        "
   ]
  },
  {
   "cell_type": "code",
   "execution_count": null,
   "id": "8bf7048b-fddd-41a7-995a-47e75910e1b2",
   "metadata": {},
   "outputs": [],
   "source": [
    "\"\"\"\n",
    "197  \n",
    "The `ohlc` list stores OHLC data by date.  \n",
    "Only print the closing price if it is greater than or equal to the opening price.\n",
    "\n",
    "Output:  \n",
    "100  \n",
    "310\n",
    "\"\"\""
   ]
  },
  {
   "cell_type": "code",
   "execution_count": 18,
   "id": "b8acc1c2-4edb-4e5c-861c-1ec06d19f83d",
   "metadata": {},
   "outputs": [],
   "source": [
    "ohlc = [[\"open\", \"high\", \"low\", \"close\"],  \n",
    "        [100, 110, 70, 100],  \n",
    "        [200, 210, 180, 190],  \n",
    "        [300, 310, 300, 310]]"
   ]
  },
  {
   "cell_type": "code",
   "execution_count": 19,
   "id": "ebd2af8c-6445-4410-b68a-40c466093e52",
   "metadata": {},
   "outputs": [
    {
     "name": "stdout",
     "output_type": "stream",
     "text": [
      "100\n",
      "310\n"
     ]
    }
   ],
   "source": [
    "for row in ohlc[1:]:\n",
    "    closing_price = row[3]\n",
    "    opening_price = row[0]\n",
    "\n",
    "    if closing_price >= opening_price:\n",
    "        print(closing_price)"
   ]
  },
  {
   "cell_type": "code",
   "execution_count": null,
   "id": "f7aa4272-ee6f-47e5-aa80-785a3870e1a5",
   "metadata": {},
   "outputs": [],
   "source": [
    "\"\"\"\n",
    "198  \n",
    "The `ohlc` list stores OHLC data by date.  \n",
    "Define volatility as the difference between high and low prices.  \n",
    "Store the volatility values in a list named `volatility`.\n",
    "\n",
    ">> print(volatility)  \n",
    "[40, 30, 10]\n",
    "\"\"\""
   ]
  },
  {
   "cell_type": "code",
   "execution_count": 20,
   "id": "a7e722ce-680c-4f18-b138-4534fac4a8f3",
   "metadata": {},
   "outputs": [],
   "source": [
    "ohlc = [[\"open\", \"high\", \"low\", \"close\"],  \n",
    "        [100, 110, 70, 100],  \n",
    "        [200, 210, 180, 190],  \n",
    "        [300, 310, 300, 310]]"
   ]
  },
  {
   "cell_type": "code",
   "execution_count": 22,
   "id": "438676a4-efbd-4ef8-a3a2-f170f62da67e",
   "metadata": {},
   "outputs": [
    {
     "name": "stdout",
     "output_type": "stream",
     "text": [
      "[40, 30, 10]\n"
     ]
    }
   ],
   "source": [
    "volatility = []\n",
    "\n",
    "for row in ohlc[1:]:\n",
    "    high = row[1]\n",
    "    low = row[2]\n",
    "    vol = high - low\n",
    "    \n",
    "    volatility.append(vol)\n",
    "\n",
    "print(volatility)    "
   ]
  },
  {
   "cell_type": "code",
   "execution_count": null,
   "id": "49f72c82-b87c-4421-88d6-a709ea7f7e79",
   "metadata": {},
   "outputs": [],
   "source": [
    "\"\"\"\n",
    "199  \n",
    "The list stores 3 days of OHLC data.  \n",
    "Print the volatility (high - low) for days where the closing price is higher than the opening price.\n",
    "\n",
    "Only [300, 310, 300, 310] meets this condition.  \n",
    "So the volatility is 10 (310 - 300).\n",
    "\n",
    "Output:  \n",
    "10\n",
    "\"\"\""
   ]
  },
  {
   "cell_type": "code",
   "execution_count": 23,
   "id": "4f2c49c8-376a-435e-8831-6b0c967a4ccf",
   "metadata": {},
   "outputs": [],
   "source": [
    "ohlc = [[\"open\", \"high\", \"low\", \"close\"],  \n",
    "        [100, 110, 70, 100],  \n",
    "        [200, 210, 180, 190],  \n",
    "        [300, 310, 300, 310]]"
   ]
  },
  {
   "cell_type": "code",
   "execution_count": 24,
   "id": "913b374f-a983-4800-b377-0e4b0b23eb49",
   "metadata": {},
   "outputs": [
    {
     "name": "stdout",
     "output_type": "stream",
     "text": [
      "10\n"
     ]
    }
   ],
   "source": [
    "for row in ohlc[1:]:\n",
    "    open_price = row[0]\n",
    "    high_price = row[1]\n",
    "    low_price = row[2]\n",
    "    close_price = row[3]\n",
    "    volatility = high_price - low_price\n",
    "\n",
    "    if close_price > open_price:\n",
    "        print(volatility)"
   ]
  },
  {
   "cell_type": "code",
   "execution_count": null,
   "id": "aa30000a-96d8-40f1-8429-a005ba14799f",
   "metadata": {},
   "outputs": [],
   "source": [
    "\"\"\"\n",
    "200  \n",
    "The list stores 3 days of OHLC data.  \n",
    "Calculate the total profit if a stock was bought at the opening price and sold at the closing price each day.\n",
    "\n",
    "Day 1 profit: 0 (100 - 100)  \n",
    "Day 2 profit: -10 (190 - 200)  \n",
    "Day 3 profit: 10 (310 - 300)\n",
    "\n",
    "Total:  \n",
    "0\n",
    "\"\"\""
   ]
  },
  {
   "cell_type": "code",
   "execution_count": 25,
   "id": "056cac3e-d7fa-45b4-9e51-09e562f998bf",
   "metadata": {},
   "outputs": [],
   "source": [
    "ohlc = [[\"open\", \"high\", \"low\", \"close\"],  \n",
    "        [100, 110, 70, 100],  \n",
    "        [200, 210, 180, 190],  \n",
    "        [300, 310, 300, 310]]"
   ]
  },
  {
   "cell_type": "code",
   "execution_count": 26,
   "id": "8e1020b2-5174-4f04-ae1d-99c19a64a583",
   "metadata": {},
   "outputs": [
    {
     "name": "stdout",
     "output_type": "stream",
     "text": [
      "0\n"
     ]
    }
   ],
   "source": [
    "profit = 0\n",
    "\n",
    "for row in ohlc[1:]:\n",
    "    open_price = row[0]\n",
    "    close_price = row[3]\n",
    "    daily_profit = close_price - open_price\n",
    "\n",
    "    profit = profit + daily_profit\n",
    "\n",
    "print(profit)"
   ]
  }
 ],
 "metadata": {
  "kernelspec": {
   "display_name": "Python 3 (ipykernel)",
   "language": "python",
   "name": "python3"
  },
  "language_info": {
   "codemirror_mode": {
    "name": "ipython",
    "version": 3
   },
   "file_extension": ".py",
   "mimetype": "text/x-python",
   "name": "python",
   "nbconvert_exporter": "python",
   "pygments_lexer": "ipython3",
   "version": "3.12.6"
  }
 },
 "nbformat": 4,
 "nbformat_minor": 5
}
