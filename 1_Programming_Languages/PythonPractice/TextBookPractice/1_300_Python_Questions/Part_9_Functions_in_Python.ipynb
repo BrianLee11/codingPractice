{
 "cells": [
  {
   "cell_type": "code",
   "execution_count": null,
   "id": "initial_id",
   "metadata": {
    "collapsed": true,
    "jupyter": {
     "outputs_hidden": true
    }
   },
   "outputs": [],
   "source": [
    "\"\"\"\n",
    "# Part 9: functions in Python (part 1/4)\n",
    "# source: 'https://wikidocs.net/23906'\n",
    "\"\"\""
   ]
  },
  {
   "cell_type": "code",
   "execution_count": null,
   "id": "e17ff33d26b97908",
   "metadata": {},
   "outputs": [],
   "source": [
    "\"\"\"\n",
    "201\n",
    "Define a function `print_coin()` that prints the string \"Bitcoin\" to the screen.\n",
    "\"\"\""
   ]
  },
  {
   "cell_type": "code",
   "execution_count": 4,
   "id": "79a0eb91cc6c03e1",
   "metadata": {},
   "outputs": [
    {
     "name": "stdout",
     "output_type": "stream",
     "text": [
      "Bitcoin\n"
     ]
    }
   ],
   "source": [
    "def print_coin():\n",
    "    print(\"Bitcoin\")\n",
    "\n",
    "print_coin()"
   ]
  },
  {
   "cell_type": "code",
   "execution_count": null,
   "id": "5e94e6831612bc47",
   "metadata": {},
   "outputs": [],
   "source": [
    "\"\"\"\n",
    "202  \n",
    "Call the function defined in question 201.\n",
    "\"\"\""
   ]
  },
  {
   "cell_type": "code",
   "execution_count": 5,
   "id": "715e2b938e58d931",
   "metadata": {},
   "outputs": [
    {
     "name": "stdout",
     "output_type": "stream",
     "text": [
      "Bitcoin\n"
     ]
    }
   ],
   "source": [
    "print_coin()"
   ]
  },
  {
   "cell_type": "code",
   "execution_count": null,
   "id": "6d47affb-ff6f-4205-9779-66faedfdb12a",
   "metadata": {},
   "outputs": [],
   "source": [
    "\"\"\"\n",
    "203  \n",
    "Call the `print_coin()` function from question 201 a total of 100 times.\n",
    "\"\"\""
   ]
  },
  {
   "cell_type": "code",
   "execution_count": 7,
   "id": "be1aacbf-beeb-4642-9587-9f95f9890db5",
   "metadata": {},
   "outputs": [
    {
     "name": "stdout",
     "output_type": "stream",
     "text": [
      "Bitcoin\n",
      "Bitcoin\n",
      "Bitcoin\n",
      "Bitcoin\n",
      "Bitcoin\n",
      "Bitcoin\n",
      "Bitcoin\n",
      "Bitcoin\n",
      "Bitcoin\n",
      "Bitcoin\n",
      "Bitcoin\n",
      "Bitcoin\n",
      "Bitcoin\n",
      "Bitcoin\n",
      "Bitcoin\n",
      "Bitcoin\n",
      "Bitcoin\n",
      "Bitcoin\n",
      "Bitcoin\n",
      "Bitcoin\n",
      "Bitcoin\n",
      "Bitcoin\n",
      "Bitcoin\n",
      "Bitcoin\n",
      "Bitcoin\n",
      "Bitcoin\n",
      "Bitcoin\n",
      "Bitcoin\n",
      "Bitcoin\n",
      "Bitcoin\n",
      "Bitcoin\n",
      "Bitcoin\n",
      "Bitcoin\n",
      "Bitcoin\n",
      "Bitcoin\n",
      "Bitcoin\n",
      "Bitcoin\n",
      "Bitcoin\n",
      "Bitcoin\n",
      "Bitcoin\n",
      "Bitcoin\n",
      "Bitcoin\n",
      "Bitcoin\n",
      "Bitcoin\n",
      "Bitcoin\n",
      "Bitcoin\n",
      "Bitcoin\n",
      "Bitcoin\n",
      "Bitcoin\n",
      "Bitcoin\n",
      "Bitcoin\n",
      "Bitcoin\n",
      "Bitcoin\n",
      "Bitcoin\n",
      "Bitcoin\n",
      "Bitcoin\n",
      "Bitcoin\n",
      "Bitcoin\n",
      "Bitcoin\n",
      "Bitcoin\n",
      "Bitcoin\n",
      "Bitcoin\n",
      "Bitcoin\n",
      "Bitcoin\n",
      "Bitcoin\n",
      "Bitcoin\n",
      "Bitcoin\n",
      "Bitcoin\n",
      "Bitcoin\n",
      "Bitcoin\n",
      "Bitcoin\n",
      "Bitcoin\n",
      "Bitcoin\n",
      "Bitcoin\n",
      "Bitcoin\n",
      "Bitcoin\n",
      "Bitcoin\n",
      "Bitcoin\n",
      "Bitcoin\n",
      "Bitcoin\n",
      "Bitcoin\n",
      "Bitcoin\n",
      "Bitcoin\n",
      "Bitcoin\n",
      "Bitcoin\n",
      "Bitcoin\n",
      "Bitcoin\n",
      "Bitcoin\n",
      "Bitcoin\n",
      "Bitcoin\n",
      "Bitcoin\n",
      "Bitcoin\n",
      "Bitcoin\n",
      "Bitcoin\n",
      "Bitcoin\n",
      "Bitcoin\n",
      "Bitcoin\n",
      "Bitcoin\n",
      "Bitcoin\n",
      "Bitcoin\n"
     ]
    }
   ],
   "source": [
    "for _ in range(100):\n",
    "    print_coin()"
   ]
  },
  {
   "cell_type": "code",
   "execution_count": null,
   "id": "b09c90e8-b596-4bb1-a091-1ce59b5f1ddc",
   "metadata": {},
   "outputs": [],
   "source": [
    "\"\"\"\n",
    "204  \n",
    "Define a function `print_coins()` that prints the string \"Bitcoin\" 100 times to the screen.\n",
    "\"\"\""
   ]
  },
  {
   "cell_type": "code",
   "execution_count": 9,
   "id": "46032ced-a262-4c09-96b8-a3fd6bb2f165",
   "metadata": {},
   "outputs": [],
   "source": [
    "def print_coins():\n",
    "    for _ in range(100):\n",
    "        print(\"Bitcoin\")"
   ]
  },
  {
   "cell_type": "code",
   "execution_count": 10,
   "id": "bb0d37cc-a533-4ae5-8181-a1048956dcc2",
   "metadata": {},
   "outputs": [
    {
     "name": "stdout",
     "output_type": "stream",
     "text": [
      "Bitcoin\n",
      "Bitcoin\n",
      "Bitcoin\n",
      "Bitcoin\n",
      "Bitcoin\n",
      "Bitcoin\n",
      "Bitcoin\n",
      "Bitcoin\n",
      "Bitcoin\n",
      "Bitcoin\n",
      "Bitcoin\n",
      "Bitcoin\n",
      "Bitcoin\n",
      "Bitcoin\n",
      "Bitcoin\n",
      "Bitcoin\n",
      "Bitcoin\n",
      "Bitcoin\n",
      "Bitcoin\n",
      "Bitcoin\n",
      "Bitcoin\n",
      "Bitcoin\n",
      "Bitcoin\n",
      "Bitcoin\n",
      "Bitcoin\n",
      "Bitcoin\n",
      "Bitcoin\n",
      "Bitcoin\n",
      "Bitcoin\n",
      "Bitcoin\n",
      "Bitcoin\n",
      "Bitcoin\n",
      "Bitcoin\n",
      "Bitcoin\n",
      "Bitcoin\n",
      "Bitcoin\n",
      "Bitcoin\n",
      "Bitcoin\n",
      "Bitcoin\n",
      "Bitcoin\n",
      "Bitcoin\n",
      "Bitcoin\n",
      "Bitcoin\n",
      "Bitcoin\n",
      "Bitcoin\n",
      "Bitcoin\n",
      "Bitcoin\n",
      "Bitcoin\n",
      "Bitcoin\n",
      "Bitcoin\n",
      "Bitcoin\n",
      "Bitcoin\n",
      "Bitcoin\n",
      "Bitcoin\n",
      "Bitcoin\n",
      "Bitcoin\n",
      "Bitcoin\n",
      "Bitcoin\n",
      "Bitcoin\n",
      "Bitcoin\n",
      "Bitcoin\n",
      "Bitcoin\n",
      "Bitcoin\n",
      "Bitcoin\n",
      "Bitcoin\n",
      "Bitcoin\n",
      "Bitcoin\n",
      "Bitcoin\n",
      "Bitcoin\n",
      "Bitcoin\n",
      "Bitcoin\n",
      "Bitcoin\n",
      "Bitcoin\n",
      "Bitcoin\n",
      "Bitcoin\n",
      "Bitcoin\n",
      "Bitcoin\n",
      "Bitcoin\n",
      "Bitcoin\n",
      "Bitcoin\n",
      "Bitcoin\n",
      "Bitcoin\n",
      "Bitcoin\n",
      "Bitcoin\n",
      "Bitcoin\n",
      "Bitcoin\n",
      "Bitcoin\n",
      "Bitcoin\n",
      "Bitcoin\n",
      "Bitcoin\n",
      "Bitcoin\n",
      "Bitcoin\n",
      "Bitcoin\n",
      "Bitcoin\n",
      "Bitcoin\n",
      "Bitcoin\n",
      "Bitcoin\n",
      "Bitcoin\n",
      "Bitcoin\n",
      "Bitcoin\n"
     ]
    }
   ],
   "source": [
    "print_coins()"
   ]
  },
  {
   "cell_type": "code",
   "execution_count": null,
   "id": "269155bd-b9ae-4d19-b110-773e7ba81f0a",
   "metadata": {},
   "outputs": [],
   "source": [
    "\"\"\"\n",
    "205  \n",
    "Explain the reason for the following error:\n",
    "\n",
    "hello()\n",
    "def hello():\n",
    "    print(\"Hi\")\n",
    "\n",
    "Runtime output:  \n",
    "NameError: name 'hello' is not defined\n",
    "\n",
    "Explanation:  \n",
    "The function `hello()` was called before it was defined, so Python does not recognize it yet.  \n",
    "In Python, functions must be defined before they are called.\n",
    "\n",
    "\"\"\""
   ]
  },
  {
   "cell_type": "code",
   "execution_count": null,
   "id": "b43a199e-8b98-45d0-8ee9-e46cd0314990",
   "metadata": {},
   "outputs": [],
   "source": [
    "\"\"\"\n",
    "206  \n",
    "Predict the output of the following code:\n",
    "\n",
    "def message():\n",
    "    print(\"A\")\n",
    "    print(\"B\")\n",
    "\n",
    "message()\n",
    "print(\"C\")\n",
    "message()\n",
    "\"\"\""
   ]
  },
  {
   "cell_type": "code",
   "execution_count": null,
   "id": "5f0f8d6a-4d63-45dd-8437-825611a18c3b",
   "metadata": {},
   "outputs": [],
   "source": [
    "\"\"\"\n",
    "Prediction\n",
    "A\n",
    "B\n",
    "C\n",
    "A\n",
    "B\n",
    "\"\"\""
   ]
  },
  {
   "cell_type": "code",
   "execution_count": 12,
   "id": "edf6125b-e06a-4ab7-bf63-3940dbb9f93b",
   "metadata": {},
   "outputs": [
    {
     "name": "stdout",
     "output_type": "stream",
     "text": [
      "A\n",
      "C\n",
      "B\n"
     ]
    }
   ],
   "source": [
    "\"\"\"\n",
    "207  \n",
    "Predict the output of the following code. (An example of poorly readable code.)\n",
    "\n",
    "print(\"A\")\n",
    "\n",
    "def message():\n",
    "    print(\"B\")\n",
    "\n",
    "print(\"C\")\n",
    "message()\n",
    "\n",
    "Output:  \n",
    "A  \n",
    "C  \n",
    "B\n",
    "\"\"\""
   ]
  },
  {
   "cell_type": "code",
   "execution_count": null,
   "id": "d89890ae-c999-40b4-a3e0-ef979109c614",
   "metadata": {},
   "outputs": [],
   "source": [
    "\"\"\"\n",
    "208  \n",
    "Predict the output of the following code. (An example of poorly readable code.)\n",
    "\n",
    "print(\"A\")\n",
    "\n",
    "def message1():\n",
    "    print(\"B\")\n",
    "\n",
    "print(\"C\")\n",
    "\n",
    "def message2():\n",
    "    print(\"D\")\n",
    "\n",
    "message1()\n",
    "print(\"E\")\n",
    "message2()\n",
    "\n",
    "Output:  \n",
    "A  \n",
    "C  \n",
    "B  \n",
    "E  \n",
    "D\n",
    "\"\"\""
   ]
  },
  {
   "cell_type": "code",
   "execution_count": null,
   "id": "f10f535d-112d-4b82-8f0c-7f587755fb91",
   "metadata": {},
   "outputs": [],
   "source": [
    "\"\"\"\n",
    "209  \n",
    "Predict the output of the following code:\n",
    "\n",
    "def message1():\n",
    "    print(\"A\")\n",
    "\n",
    "def message2():\n",
    "    print(\"B\")\n",
    "    message1()\n",
    "\n",
    "message2()\n",
    "\n",
    "Output:  \n",
    "B  \n",
    "A\n",
    "\"\"\""
   ]
  },
  {
   "cell_type": "code",
   "execution_count": null,
   "id": "0aba5764-7f67-49c7-b474-98eaba5330d7",
   "metadata": {},
   "outputs": [],
   "source": [
    "\"\"\"\n",
    "210  \n",
    "Predict the output of the following code:\n",
    "\n",
    "def message1():\n",
    "    print(\"A\")\n",
    "\n",
    "def message2():\n",
    "    print(\"B\")\n",
    "\n",
    "def message3():\n",
    "    for i in range(3):\n",
    "        message2()\n",
    "        print(\"C\")\n",
    "    message1()\n",
    "\n",
    "message3()\n",
    "\n",
    "Output:  \n",
    "B  \n",
    "C  \n",
    "B  \n",
    "C  \n",
    "B  \n",
    "C  \n",
    "A\n",
    "\"\"\""
   ]
  },
  {
   "cell_type": "code",
   "execution_count": null,
   "id": "130ec289-8b89-4560-816d-44591a89c664",
   "metadata": {},
   "outputs": [],
   "source": [
    "\"\"\"\n",
    "# Part 9: functions in Python (part 2/4)\n",
    "# source: 'https://wikidocs.net/23907'\n",
    "\"\"\""
   ]
  },
  {
   "cell_type": "code",
   "execution_count": null,
   "id": "5b3b8419-c29d-4691-8525-14ee0bafa970",
   "metadata": {},
   "outputs": [],
   "source": [
    "\"\"\"\n",
    "Predict the result of the following function calls:\n",
    "\n",
    "def function(string):\n",
    "    print(string)\n",
    "\n",
    "function(\"Hello\")  \n",
    "function(\"Hi\")\n",
    "\"\"\""
   ]
  },
  {
   "cell_type": "code",
   "execution_count": 13,
   "id": "fdea4f76-3a29-4029-b7a9-e2562d0d9e5f",
   "metadata": {},
   "outputs": [
    {
     "name": "stdout",
     "output_type": "stream",
     "text": [
      "Hello\n",
      "Hi\n"
     ]
    }
   ],
   "source": [
    "def function(string):\n",
    "    print(string)\n",
    "\n",
    "function(\"Hello\")\n",
    "function(\"Hi\")"
   ]
  },
  {
   "cell_type": "code",
   "execution_count": null,
   "id": "f7873453-4ad2-4526-8c4f-1b1b0f384633",
   "metadata": {},
   "outputs": [],
   "source": [
    "\"\"\"\n",
    "212  \n",
    "Predict the result of the following function calls:\n",
    "\n",
    "def function(a, b):\n",
    "    print(a + b)\n",
    "\n",
    "function(3, 4)  \n",
    "function(7, 8)\n",
    "\"\"\""
   ]
  },
  {
   "cell_type": "code",
   "execution_count": 14,
   "id": "8a85cac7-289a-49b0-a661-b07bb997fb9b",
   "metadata": {},
   "outputs": [
    {
     "name": "stdout",
     "output_type": "stream",
     "text": [
      "7\n",
      "15\n"
     ]
    }
   ],
   "source": [
    "def function(a,b):\n",
    "    print(a+b)\n",
    "\n",
    "function(3,4)\n",
    "function(7,8)"
   ]
  },
  {
   "cell_type": "code",
   "execution_count": null,
   "id": "ece3afec-343a-4bb3-920a-0783152b1667",
   "metadata": {},
   "outputs": [],
   "source": [
    "\"\"\"\n",
    "213  \n",
    "Explain the cause of the following error:\n",
    "\n",
    "def function(string):\n",
    "    print(string)\n",
    "\n",
    "function()\n",
    "\n",
    "Error:  \n",
    "TypeError: function() missing 1 required positional argument: 'string'\n",
    "\n",
    "Explanation:  \n",
    "The function was defined to take one argument but was called without any. Therefore, Python raises an error for the missing argument.\n",
    "\"\"\""
   ]
  },
  {
   "cell_type": "code",
   "execution_count": null,
   "id": "c9130bf2-2ed9-4fca-b45c-d0c62d5c490d",
   "metadata": {},
   "outputs": [],
   "source": [
    "\"\"\"\n",
    "214  \n",
    "Explain the cause of the following error:\n",
    "\n",
    "def function(a, b):\n",
    "    print(a + b)\n",
    "\n",
    "function(\"Hello\", 3)\n",
    "\n",
    "Error:  \n",
    "TypeError: must be str, not int\n",
    "\n",
    "Explanation:  \n",
    "You are trying to add a string and an integer, which is not allowed in Python without explicit conversion.\n",
    "\"\"\""
   ]
  },
  {
   "cell_type": "code",
   "execution_count": null,
   "id": "33ae3a5b-0d4c-4e36-8004-1fca4c6c5514",
   "metadata": {},
   "outputs": [],
   "source": [
    "\"\"\"\n",
    "215  \n",
    "Define a function `print_with_smile` that takes a single string and appends the smiley \":D\" to the end before printing it.\n",
    "\n",
    "Example:  \n",
    "Input: \"Hello\"  \n",
    "Output: Hello:D\n",
    "\"\"\""
   ]
  },
  {
   "cell_type": "code",
   "execution_count": 18,
   "id": "d9fb04d3-cbe7-4e09-bd41-86c027ec1f35",
   "metadata": {},
   "outputs": [
    {
     "name": "stdout",
     "output_type": "stream",
     "text": [
      "Hello:D\n"
     ]
    }
   ],
   "source": [
    "def print_with_smile(string):\n",
    "    added_string = string + \":D\"\n",
    "    return added_string\n",
    "\n",
    "print(print_with_smile(\"Hello\"))"
   ]
  },
  {
   "cell_type": "code",
   "execution_count": null,
   "id": "1f5feeaa-2493-40d5-bcb6-9a6f9422cc90",
   "metadata": {},
   "outputs": [],
   "source": [
    "\"\"\"\n",
    "216  \n",
    "Call the function defined in question 215 with the parameter `\"Hello\"`.\n",
    "\"\"\""
   ]
  },
  {
   "cell_type": "code",
   "execution_count": 19,
   "id": "bcb7a196-00dd-49c1-bd81-8e52215806e4",
   "metadata": {},
   "outputs": [
    {
     "name": "stdout",
     "output_type": "stream",
     "text": [
      "Hello:D\n"
     ]
    }
   ],
   "source": [
    "print(print_with_smile(\"Hello\"))"
   ]
  },
  {
   "cell_type": "code",
   "execution_count": null,
   "id": "961beb47-400d-413d-b0bd-5a0b37ded66c",
   "metadata": {},
   "outputs": [],
   "source": [
    "\"\"\"\n",
    "217  \n",
    "Define a function `print_upper_price` \n",
    "that receives the current price and prints the upper limit price (30% increase).\n",
    "\"\"\""
   ]
  },
  {
   "cell_type": "code",
   "execution_count": 21,
   "id": "fd113b77-719f-4397-9a1c-6cfd063ea8cc",
   "metadata": {},
   "outputs": [],
   "source": [
    "def print_upper_price(current_price):\n",
    "    upper_limit_price = 1.3 * current_price\n",
    "    print(upper_limit_price)"
   ]
  },
  {
   "cell_type": "code",
   "execution_count": 22,
   "id": "c2eb734e-e6dc-41c8-a3fe-ecb122bc9514",
   "metadata": {},
   "outputs": [
    {
     "name": "stdout",
     "output_type": "stream",
     "text": [
      "169.0\n"
     ]
    }
   ],
   "source": [
    "print_upper_price(130)"
   ]
  },
  {
   "cell_type": "code",
   "execution_count": null,
   "id": "cdd942bb-b40c-45c0-b716-4c29d3055a0e",
   "metadata": {},
   "outputs": [],
   "source": [
    "\"\"\"\n",
    "218  \n",
    "Define a function `print_sum` that takes two numbers as input and prints their sum.\n",
    "\"\"\""
   ]
  },
  {
   "cell_type": "code",
   "execution_count": null,
   "id": "ddcf014f-833d-463c-98a5-568721a45a45",
   "metadata": {},
   "outputs": [],
   "source": [
    "def print_sum(num1, num2):\n",
    "    print(num1 + num2)"
   ]
  },
  {
   "cell_type": "code",
   "execution_count": null,
   "id": "aaf3be9c-a230-422f-bd8a-a56c313afdb8",
   "metadata": {},
   "outputs": [],
   "source": [
    "\"\"\"\n",
    "219  \n",
    "Define a function `print_arithmetic_operation` that takes two numbers and \n",
    "prints the result of addition, subtraction, multiplication, and division.\n",
    "\n",
    "Example:  \n",
    "print_arithmetic_operation(3, 4)  \n",
    "3 + 4 = 7  \n",
    "3 - 4 = -1  \n",
    "3 * 4 = 12  \n",
    "3 / 4 = 0.75\n",
    "\"\"\""
   ]
  },
  {
   "cell_type": "code",
   "execution_count": 24,
   "id": "2766e77e-0d44-4416-a98a-fde36c65cfa1",
   "metadata": {},
   "outputs": [
    {
     "name": "stdout",
     "output_type": "stream",
     "text": [
      "3  +  4  =  7\n",
      "3  -  4  =  -1\n",
      "3  *  4  =  12\n",
      "3  /  4  =  0.75\n"
     ]
    }
   ],
   "source": [
    "def print_arithmetic_operation(num1, num2):\n",
    "    print(num1, \" + \", num2, \" = \", num1 + num2)\n",
    "    print(num1, \" - \", num2, \" = \", num1 - num2)\n",
    "    print(num1, \" * \", num2, \" = \", num1 * num2)\n",
    "    print(num1, \" / \", num2, \" = \", num1 / num2)\n",
    "\n",
    "print_arithmetic_operation(3,4)"
   ]
  },
  {
   "cell_type": "code",
   "execution_count": null,
   "id": "7ecb2cb7-8697-4538-a9a8-ca401718403e",
   "metadata": {},
   "outputs": [],
   "source": [
    "\"\"\"\n",
    "220  \n",
    "Define a function `print_max` that takes three numbers as input and prints the largest number using if statements.\n",
    "\"\"\""
   ]
  },
  {
   "cell_type": "code",
   "execution_count": null,
   "id": "cb69ad37-27f5-42b4-b94a-2910ff4d637b",
   "metadata": {},
   "outputs": [],
   "source": [
    "def print_max(num1, num2, num3):\n",
    "    if num1 >= num2 and num1 >= num3:\n",
    "        print(num1)\n",
    "    elif num2 >= num1 and num2 >= num3:\n",
    "        return(num2)\n",
    "    elif num3 >= num1 and num3 >= num1:\n",
    "        return(num3)"
   ]
  },
  {
   "cell_type": "code",
   "execution_count": null,
   "id": "b9d93d458561a4ba",
   "metadata": {},
   "outputs": [],
   "source": [
    "\"\"\"\n",
    "# Part 9: functions in Python (part 3/4)\n",
    "# source: 'https://wikidocs.net/7039'\n",
    "\"\"\""
   ]
  },
  {
   "cell_type": "code",
   "execution_count": null,
   "id": "9fe7260d-3e78-4259-9c11-63c2a9f1ed6a",
   "metadata": {},
   "outputs": [],
   "source": [
    "\"\"\"\n",
    "221  \n",
    "Define a function `print_reverse` that prints the reverse of the input string.\n",
    "\n",
    "print_reverse(\"python\")  \n",
    "Output: nohtyp\n",
    "\"\"\""
   ]
  },
  {
   "cell_type": "code",
   "execution_count": 28,
   "id": "300ee254-b18f-4d96-b148-2fb7a858eb78",
   "metadata": {},
   "outputs": [
    {
     "name": "stdout",
     "output_type": "stream",
     "text": [
      "nohtyp\n"
     ]
    }
   ],
   "source": [
    "def print_reverse(string):\n",
    "    reversed_string = string[::-1]\n",
    "    return reversed_string\n",
    "\n",
    "print(print_reverse(\"python\"))"
   ]
  },
  {
   "cell_type": "code",
   "execution_count": null,
   "id": "e08f42df-0451-41ad-9739-1a27da7b1e8e",
   "metadata": {},
   "outputs": [],
   "source": [
    "\"\"\"\n",
    "222  \n",
    "Define a function `print_score` that takes a list of scores and prints the average.\n",
    "\n",
    "print_score([1, 2, 3])  \n",
    "Output: 2.0\n",
    "\"\"\""
   ]
  },
  {
   "cell_type": "code",
   "execution_count": 31,
   "id": "35e9411c-931f-4566-af6d-c9072e8f935a",
   "metadata": {},
   "outputs": [],
   "source": [
    "def print_score(list_scores):\n",
    "    list_sum = sum(list_scores)\n",
    "    list_average = list_sum / len(list_scores)\n",
    "    print(list_average)"
   ]
  },
  {
   "cell_type": "code",
   "execution_count": 32,
   "id": "c180e8a0-8a9d-4d44-90e7-d4b279051550",
   "metadata": {},
   "outputs": [
    {
     "name": "stdout",
     "output_type": "stream",
     "text": [
      "2.0\n"
     ]
    }
   ],
   "source": [
    "print_score([1,2,3])"
   ]
  },
  {
   "cell_type": "code",
   "execution_count": null,
   "id": "eab971d9-fdcd-4393-8c2a-a5463fe9ec61",
   "metadata": {},
   "outputs": [],
   "source": [
    "\"\"\"\n",
    "223  \n",
    "Define a function `print_even` that takes a list and prints only the even numbers.\n",
    "\n",
    "print_even([1, 3, 2, 10, 12, 11, 15])  \n",
    "\n",
    "Output:  \n",
    "2  \n",
    "10  \n",
    "12\n",
    "\"\"\""
   ]
  },
  {
   "cell_type": "code",
   "execution_count": 34,
   "id": "364bc272-3e8e-49b2-9fd8-3ab547739860",
   "metadata": {},
   "outputs": [
    {
     "name": "stdout",
     "output_type": "stream",
     "text": [
      "2\n",
      "10\n",
      "12\n"
     ]
    }
   ],
   "source": [
    "def print_even(list_nums):\n",
    "    for number in list_nums:\n",
    "        if number % 2 == 0:\n",
    "            print(number)\n",
    "\n",
    "print_even([1, 3, 2, 10, 12, 11, 15])  "
   ]
  },
  {
   "cell_type": "code",
   "execution_count": null,
   "id": "dce28dba-4ba4-480c-abf4-6034cca3703e",
   "metadata": {},
   "outputs": [],
   "source": [
    "\"\"\"\n",
    "224  \n",
    "Define a function `print_keys` that takes a dictionary and prints its keys.\n",
    "\n",
    "print_keys({\"name\":\"Kim Maltong\", \"age\":30, \"gender\":0})  \n",
    "Output:  \n",
    "name  \n",
    "age  \n",
    "gender\n",
    "\"\"\""
   ]
  },
  {
   "cell_type": "code",
   "execution_count": 4,
   "id": "79021905-cc16-4ddd-9ba7-acfadbaf3b27",
   "metadata": {},
   "outputs": [],
   "source": [
    "def print_keys(dictionary):\n",
    "    result = dictionary.keys()\n",
    "    for key in result:\n",
    "        print(key)"
   ]
  },
  {
   "cell_type": "code",
   "execution_count": 5,
   "id": "ad491e8c-556d-431d-8cf3-ef3cce9ec816",
   "metadata": {},
   "outputs": [
    {
     "name": "stdout",
     "output_type": "stream",
     "text": [
      "name\n",
      "age\n",
      "gender\n"
     ]
    }
   ],
   "source": [
    "print_keys({\"name\":\"Kim Maltong\", \"age\":30, \"gender\":0})  "
   ]
  },
  {
   "cell_type": "code",
   "execution_count": null,
   "id": "0250836a-f856-43dd-854c-934be48599c1",
   "metadata": {},
   "outputs": [],
   "source": [
    "\"\"\"\n",
    "225  \n",
    "`my_dict` stores OHLC values in a list with dates as keys.  \n",
    "Define a function `print_value_by_key` that takes `my_dict` and a date key, and prints the OHLC list.\n",
    "\n",
    "print_value_by_key(my_dict, \"10/26\")  \n",
    "Output:  \n",
    "[100, 130, 100, 100]\n",
    "\"\"\""
   ]
  },
  {
   "cell_type": "code",
   "execution_count": 7,
   "id": "4f53c8db-1a68-46bd-9e50-c279d0ddff4f",
   "metadata": {},
   "outputs": [],
   "source": [
    "def print_value_by_key(my_dict, date_key):\n",
    "    value_result = my_dict[date_key]\n",
    "    print(value_result)"
   ]
  },
  {
   "cell_type": "code",
   "execution_count": 8,
   "id": "ce967c75-7015-4917-97d7-a182cb76cdb9",
   "metadata": {},
   "outputs": [
    {
     "name": "stdout",
     "output_type": "stream",
     "text": [
      "[100, 130, 100, 100]\n"
     ]
    }
   ],
   "source": [
    "test_dict = {\"10/26\": [100, 130, 100, 100]}\n",
    "\n",
    "print_value_by_key(test_dict, \"10/26\")"
   ]
  },
  {
   "cell_type": "code",
   "execution_count": null,
   "id": "95968ce2-ce90-43a8-8026-f66b15c23c60",
   "metadata": {},
   "outputs": [],
   "source": [
    "\"\"\"\n",
    "226  \n",
    "Write a function `print_5xn(string)` that prints the input string in chunks of 5 characters per line.\n",
    "\n",
    "print_5xn(\"IAmABoyYouAreAGirl\")  \n",
    "Output:  \n",
    "IAmAB  \n",
    "oyYou  \n",
    "AreAG  \n",
    "irl\n",
    "\"\"\""
   ]
  },
  {
   "cell_type": "code",
   "execution_count": 21,
   "id": "7c9a8673-d244-4690-8ebd-24383ad28706",
   "metadata": {},
   "outputs": [],
   "source": [
    "def print_5xn(string):\n",
    "#string = \"IAmABoyYouAreAGirl\"\n",
    "    divisor = 5\n",
    "    length = len(string)\n",
    "    end_index = len(string) // divisor + 1\n",
    "    \n",
    "    for index in range(end_index):\n",
    "        #print(index)\n",
    "        if (5 * index + 1) >= (length - 1):\n",
    "            print(string[index * 5 + 1: length - 1])\n",
    "        else:\n",
    "            print(string[index * 5: index * 5 + 5])"
   ]
  },
  {
   "cell_type": "code",
   "execution_count": 22,
   "id": "795607b0-f463-4920-b8a8-587739e46610",
   "metadata": {},
   "outputs": [
    {
     "name": "stdout",
     "output_type": "stream",
     "text": [
      "IAmAB\n",
      "oyYou\n",
      "AreAG\n",
      "irl\n"
     ]
    }
   ],
   "source": [
    "print_5xn(\"IAmABoyYouAreAGirl\")  "
   ]
  },
  {
   "cell_type": "code",
   "execution_count": 68,
   "id": "88d1b08c-e2eb-4e40-a8fe-244470881495",
   "metadata": {},
   "outputs": [],
   "source": [
    "def print_5xn(string):\n",
    "    for index in range(0, len(string), 5):\n",
    "        print(string[index:index+5])"
   ]
  },
  {
   "cell_type": "code",
   "execution_count": 69,
   "id": "0e294321-3369-4258-957b-eca1e6934cad",
   "metadata": {},
   "outputs": [
    {
     "name": "stdout",
     "output_type": "stream",
     "text": [
      "IAmAB\n",
      "oyYou\n",
      "AreAG\n",
      "irl\n"
     ]
    }
   ],
   "source": [
    "print_5xn(\"IAmABoyYouAreAGirl\")  "
   ]
  },
  {
   "cell_type": "code",
   "execution_count": 65,
   "id": "6ea00999-da84-40fe-9b0e-cd668990d170",
   "metadata": {},
   "outputs": [
    {
     "data": {
      "text/plain": [
       "'\\n227  \\nWrite a function `print_mxn(string, num)` that prints the input string in lines with `num` characters per line.\\n\\nprint_mxn(\"IAmABoyYouAreAGirl\", 3)  \\nOutput:  \\nIA  \\nmAB  \\noyY  \\nouA  \\nreA  \\nGir  \\nl\\n'"
      ]
     },
     "execution_count": 65,
     "metadata": {},
     "output_type": "execute_result"
    }
   ],
   "source": [
    "\"\"\"\n",
    "227  \n",
    "Write a function `print_mxn(string, num)` that prints the input string in lines with `num` characters per line.\n",
    "\n",
    "print_mxn(\"IAmABoyYouAreAGirl\", 3)  \n",
    "Output:  \n",
    "IA  \n",
    "mAB  \n",
    "oyY  \n",
    "ouA  \n",
    "reA  \n",
    "Gir  \n",
    "l\n",
    "\"\"\""
   ]
  },
  {
   "cell_type": "code",
   "execution_count": 66,
   "id": "65e8502a-54eb-4787-95b5-b0dde97dcd01",
   "metadata": {},
   "outputs": [],
   "source": [
    "def print_mxn(string, num):\n",
    "    length = len(string)\n",
    "    for i in range(0, length, num):\n",
    "        print(string[i:i+num])"
   ]
  },
  {
   "cell_type": "code",
   "execution_count": 62,
   "id": "4b172ed4-a1b1-48e4-9997-254595e5ff02",
   "metadata": {},
   "outputs": [
    {
     "name": "stdout",
     "output_type": "stream",
     "text": [
      "IAm\n",
      "ABo\n",
      "yYo\n",
      "uAr\n",
      "eAG\n",
      "irl\n",
      "Her\n",
      "e\n"
     ]
    }
   ],
   "source": [
    "print_mxn(\"IAmABoyYouAreAGirlHere\", 3)  "
   ]
  },
  {
   "cell_type": "code",
   "execution_count": null,
   "id": "ac5af028-14cc-4306-8c80-cb2de61762ac",
   "metadata": {},
   "outputs": [],
   "source": [
    "\"\"\"\n",
    "228  \n",
    "Define a function `calc_monthly_salary(annual_salary)` that calculates and returns monthly salary by dividing the annual salary by 12 and truncating any fraction less than 1.\n",
    "\n",
    "calc_monthly_salary(12000000)  \n",
    "Output: 1000000\n",
    "\"\"\""
   ]
  },
  {
   "cell_type": "code",
   "execution_count": 74,
   "id": "7f9b4437-4776-41eb-bef4-63810b5427f2",
   "metadata": {},
   "outputs": [],
   "source": [
    "def calc_monthly_salary(annual_salary):\n",
    "    return int(annual_salary // 12)"
   ]
  },
  {
   "cell_type": "code",
   "execution_count": 75,
   "id": "b744bf1f-a125-4f4b-9e43-e2ed824e8159",
   "metadata": {},
   "outputs": [
    {
     "name": "stdout",
     "output_type": "stream",
     "text": [
      "1000000\n"
     ]
    }
   ],
   "source": [
    "print(calc_monthly_salary(12000000))"
   ]
  },
  {
   "cell_type": "code",
   "execution_count": null,
   "id": "c622354a-c93b-4c95-87aa-1624e059f58c",
   "metadata": {},
   "outputs": [],
   "source": [
    "\"\"\"\n",
    "229  \n",
    "Predict the output of the following code:\n",
    "\n",
    "def my_print(a, b):\n",
    "    print(\"Left:\", a)\n",
    "    print(\"Right:\", b)\n",
    "\n",
    "my_print(a=100, b=200)\n",
    "\n",
    "Output:  \n",
    "Left: 100  \n",
    "Right: 200\n",
    "\"\"\""
   ]
  },
  {
   "cell_type": "code",
   "execution_count": null,
   "id": "d85123d3-bb7e-4ab3-b777-18efbc0fe9ac",
   "metadata": {},
   "outputs": [],
   "source": [
    "\"\"\"\n",
    "230  \n",
    "Predict the output of the following code:\n",
    "\n",
    "def my_print(a, b):\n",
    "    print(\"Left:\", a)\n",
    "    print(\"Right:\", b)\n",
    "\n",
    "my_print(b=100, a=200)\n",
    "\n",
    "Output:  \n",
    "Left: 200  \n",
    "Right: 100\n",
    "\"\"\""
   ]
  },
  {
   "cell_type": "code",
   "execution_count": null,
   "id": "8e1bfa0a-586a-4f5f-9745-890a76b379c5",
   "metadata": {},
   "outputs": [],
   "source": [
    "\"\"\"\n",
    "# Part 9: functions in Python (part 4/4)\n",
    "# source: 'https://wikidocs.net/78556'\n",
    "# questions 231 - 240\n",
    "\"\"\""
   ]
  },
  {
   "cell_type": "code",
   "execution_count": null,
   "id": "15893b63-1cc0-4af0-af45-41fae40d890a",
   "metadata": {},
   "outputs": [],
   "source": [
    "\"\"\"\n",
    "231  \n",
    "Predict the output of the following code:\n",
    "\n",
    "def n_plus_1(n):\n",
    "    result = n + 1\n",
    "\n",
    "n_plus_1(3)\n",
    "print(result)\n",
    "\n",
    "Output:  \n",
    "NameError: name 'result' is not defined  \n",
    "\n",
    "Explanation:  \n",
    "The variable `result` is defined inside the function `n_plus_1`, so it's not accessible outside the function scope.\n",
    "\"\"\""
   ]
  },
  {
   "cell_type": "code",
   "execution_count": null,
   "id": "2460974f-010b-416e-ab43-dd24f7c1a1b9",
   "metadata": {},
   "outputs": [],
   "source": [
    "\"\"\"\n",
    "232  \n",
    "Define a function `make_url` that takes a string and returns an internet address.\n",
    "\n",
    "make_url(\"naver\")  \n",
    "Output: www.naver.com\n",
    "\"\"\""
   ]
  },
  {
   "cell_type": "code",
   "execution_count": 76,
   "id": "a9c20d3e-35ee-499c-b80f-127159d963ef",
   "metadata": {},
   "outputs": [],
   "source": [
    "def make_url(url):\n",
    "    result = \"www.\" + url + \".com\"\n",
    "    return result"
   ]
  },
  {
   "cell_type": "code",
   "execution_count": 77,
   "id": "623d5144-32d2-4a5b-b158-8759ed0803b0",
   "metadata": {},
   "outputs": [
    {
     "name": "stdout",
     "output_type": "stream",
     "text": [
      "www.naver.com\n"
     ]
    }
   ],
   "source": [
    "print(make_url(\"naver\"))"
   ]
  },
  {
   "cell_type": "code",
   "execution_count": null,
   "id": "d187fa27-fc47-48db-89e5-1fb8efbcd18a",
   "metadata": {},
   "outputs": [],
   "source": [
    "\"\"\"\n",
    "233  \n",
    "Define a function `make_list` that takes a string and returns a list consisting of its characters.\n",
    "\n",
    "make_list(\"abcd\")  \n",
    "Output: ['a', 'b', 'c', 'd']\n",
    "\"\"\""
   ]
  },
  {
   "cell_type": "code",
   "execution_count": 79,
   "id": "1e610354-545f-4c0f-a9f7-a11940e940a9",
   "metadata": {},
   "outputs": [],
   "source": [
    "def make_list(string):\n",
    "    char_list = []\n",
    "    for character in string:\n",
    "        char_list.append(character)\n",
    "\n",
    "    return char_list"
   ]
  },
  {
   "cell_type": "code",
   "execution_count": 80,
   "id": "e75e19a5-c159-4a59-b856-565751f5b9b4",
   "metadata": {},
   "outputs": [
    {
     "name": "stdout",
     "output_type": "stream",
     "text": [
      "['a', 'b', 'c', 'd']\n"
     ]
    }
   ],
   "source": [
    "print(make_list(\"abcd\"))"
   ]
  },
  {
   "cell_type": "code",
   "execution_count": null,
   "id": "1cbc2c28-4561-4f26-a078-f31e70d11c78",
   "metadata": {},
   "outputs": [],
   "source": [
    "\"\"\"\n",
    "234  \n",
    "Implement a function `pickup_even` that takes a list of numbers and returns a list containing only the even numbers.\n",
    "\n",
    "pickup_even([3, 4, 5, 6, 7, 8])  \n",
    "Output: [4, 6, 8]\n",
    "\"\"\""
   ]
  },
  {
   "cell_type": "code",
   "execution_count": 81,
   "id": "5be1e503-1d11-4f5a-9d3b-69bdf989c314",
   "metadata": {},
   "outputs": [],
   "source": [
    "def pickup_even(list_nums):\n",
    "    even_list = []\n",
    "    for number in list_nums:\n",
    "        if number % 2 == 0:\n",
    "            even_list.append(number)\n",
    "\n",
    "    return even_list        "
   ]
  },
  {
   "cell_type": "code",
   "execution_count": 82,
   "id": "3a4b1428-fa98-4282-af17-990e04fba896",
   "metadata": {},
   "outputs": [
    {
     "name": "stdout",
     "output_type": "stream",
     "text": [
      "[4, 6, 8]\n"
     ]
    }
   ],
   "source": [
    "print(pickup_even([3, 4, 5, 6, 7, 8]))"
   ]
  },
  {
   "cell_type": "code",
   "execution_count": null,
   "id": "26dabdf1-dd8b-48e5-b88b-b3ee97a53fa6",
   "metadata": {},
   "outputs": [],
   "source": [
    "\"\"\"\n",
    "235  \n",
    "Define a function `convert_int` that takes a string containing commas and returns it as an integer.\n",
    "\n",
    "convert_int(\"1,234,567\")  \n",
    "Output: 1234567\n",
    "\"\"\""
   ]
  },
  {
   "cell_type": "code",
   "execution_count": 83,
   "id": "e1f39284-1521-4eb1-9c6b-2f0d4143050e",
   "metadata": {},
   "outputs": [],
   "source": [
    "def convert_int(string):\n",
    "    comma_removed_string = string.replace(',','')\n",
    "    integer_string = int(comma_removed_string)\n",
    "    return integer_string"
   ]
  },
  {
   "cell_type": "code",
   "execution_count": 84,
   "id": "97a45faf-b113-44e1-a16e-8c30a0449c7c",
   "metadata": {},
   "outputs": [
    {
     "name": "stdout",
     "output_type": "stream",
     "text": [
      "1234567\n"
     ]
    }
   ],
   "source": [
    "print(convert_int(\"1,234,567\"))"
   ]
  },
  {
   "cell_type": "code",
   "execution_count": null,
   "id": "960d9202-a6a2-41be-aa92-84e27615d3d9",
   "metadata": {},
   "outputs": [],
   "source": [
    "\"\"\"\n",
    "236  \n",
    "Predict the output of the following code:\n",
    "\n",
    "def func(num):\n",
    "    return num + 4\n",
    "\n",
    "a = func(10)   # 14  \n",
    "b = func(a)    # 18  \n",
    "c = func(b)    # 22  \n",
    "print(c)\n",
    "\n",
    "Output: 22\n",
    "\"\"\""
   ]
  },
  {
   "cell_type": "code",
   "execution_count": 85,
   "id": "83ddc162-a87f-4749-89f3-bc90a912627a",
   "metadata": {},
   "outputs": [
    {
     "name": "stdout",
     "output_type": "stream",
     "text": [
      "22\n"
     ]
    }
   ],
   "source": [
    "def func(num):\n",
    "    return num + 4\n",
    "\n",
    "a = func(10)   # 14  \n",
    "b = func(a)    # 18  \n",
    "c = func(b)    # 22  \n",
    "print(c)"
   ]
  },
  {
   "cell_type": "code",
   "execution_count": null,
   "id": "ded6e009-6b1e-46d7-bcdd-22a249d8d53a",
   "metadata": {},
   "outputs": [],
   "source": [
    "\"\"\"\n",
    "237  \n",
    "Predict the output of the following code:\n",
    "\n",
    "def func(num):\n",
    "    return num + 4\n",
    "\n",
    "c = func(func(func(10)))  \n",
    "# func(10) → 14  \n",
    "# func(14) → 18  \n",
    "# func(18) → 22  \n",
    "print(c)\n",
    "\n",
    "Output: 22\n",
    "\"\"\""
   ]
  },
  {
   "cell_type": "code",
   "execution_count": null,
   "id": "f5876965-77ee-43ad-8b0e-5d72bd8c274e",
   "metadata": {},
   "outputs": [],
   "source": [
    "\"\"\"\n",
    "238  \n",
    "Predict the output of the following code:\n",
    "\n",
    "def func1(num):\n",
    "    return num + 4\n",
    "\n",
    "def func2(num):\n",
    "    return num * 10\n",
    "\n",
    "a = func1(10)  # 14  \n",
    "c = func2(a)   # 140  \n",
    "print(c)\n",
    "\n",
    "Output: 140\n",
    "\"\"\""
   ]
  },
  {
   "cell_type": "code",
   "execution_count": null,
   "id": "553dc976-5df1-4786-a938-46180b26d0a5",
   "metadata": {},
   "outputs": [],
   "source": [
    "\"\"\"\n",
    "239  \n",
    "Predict the output of the following code:\n",
    "\n",
    "def func1(num):\n",
    "    return num + 4\n",
    "\n",
    "def func2(num):\n",
    "    num = num + 2\n",
    "    return func1(num)\n",
    "\n",
    "c = func2(10)  # func1(12) → 16  \n",
    "print(c)\n",
    "\n",
    "Output: 16\n",
    "\"\"\""
   ]
  },
  {
   "cell_type": "code",
   "execution_count": null,
   "id": "259071e0-ea39-422e-873e-b10a0974a92c",
   "metadata": {},
   "outputs": [],
   "source": [
    "\"\"\"\n",
    "240  \n",
    "Predict the output of the following code:\n",
    "\n",
    "def func0(num):\n",
    "    return num * 2\n",
    "\n",
    "def func1(num):\n",
    "    return func0(num + 2)\n",
    "\n",
    "def func2(num):\n",
    "    num = num + 10\n",
    "    return func1(num)\n",
    "\n",
    "c = func2(2)  \n",
    "# func2(2) → func1(12) → func0(14) → 28  \n",
    "print(c)\n",
    "\n",
    "Output: 28\n",
    "\"\"\""
   ]
  }
 ],
 "metadata": {
  "kernelspec": {
   "display_name": "Python 3 (ipykernel)",
   "language": "python",
   "name": "python3"
  },
  "language_info": {
   "codemirror_mode": {
    "name": "ipython",
    "version": 3
   },
   "file_extension": ".py",
   "mimetype": "text/x-python",
   "name": "python",
   "nbconvert_exporter": "python",
   "pygments_lexer": "ipython3",
   "version": "3.12.6"
  }
 },
 "nbformat": 4,
 "nbformat_minor": 5
}
