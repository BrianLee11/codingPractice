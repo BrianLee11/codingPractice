{
 "cells": [
  {
   "metadata": {},
   "cell_type": "markdown",
   "source": [
    "# Part 1: Begin Python\n",
    "source: https: // wikidocs.net / 7014"
   ],
   "id": "9fae3860-574d-41a7-8adf-cdd359ce8637"
  },
  {
   "metadata": {
    "ExecuteTime": {
     "end_time": "2025-04-05T16:22:32.830818Z",
     "start_time": "2025-04-05T16:22:32.827377Z"
    }
   },
   "cell_type": "code",
   "source": [
    "# 001 print basic\n",
    "# on screen, print \"Hello World\"\n",
    "print(\"Hello World\")"
   ],
   "id": "initial_id",
   "outputs": [
    {
     "name": "stdout",
     "output_type": "stream",
     "text": [
      "Hello World\n"
     ]
    }
   ],
   "execution_count": 4
  },
  {
   "metadata": {
    "ExecuteTime": {
     "end_time": "2025-04-05T16:22:32.845214Z",
     "start_time": "2025-04-05T16:22:32.841947Z"
    }
   },
   "cell_type": "code",
   "source": [
    "# 002 print basic\n",
    "# on screen, print Mary's cosmetics. Note that there is ' in the middle\n",
    "print(\"Mary's costmetics\")"
   ],
   "id": "970fada1-6ff1-4f3a-9cac-f13ae9265cf0",
   "outputs": [
    {
     "name": "stdout",
     "output_type": "stream",
     "text": [
      "Mary's costmetics\n"
     ]
    }
   ],
   "execution_count": 5
  },
  {
   "cell_type": "code",
   "id": "6d6be5d2-8575-4ed7-8d6f-28379783b1c5",
   "metadata": {
    "ExecuteTime": {
     "end_time": "2025-04-05T16:22:32.862911Z",
     "start_time": "2025-04-05T16:22:32.860106Z"
    }
   },
   "source": [
    "# 003 print basic\n",
    "# on screen, print this sentence. Note that there is \" in the middle\n",
    "# Mr.Cosmos shouted. \"Thief.\"\n",
    "print('Mr.Cosmos shouted. \"Thief\"')"
   ],
   "outputs": [
    {
     "name": "stdout",
     "output_type": "stream",
     "text": [
      "Mr.Cosmos shouted. \"Thief\"\n"
     ]
    }
   ],
   "execution_count": 6
  },
  {
   "cell_type": "code",
   "id": "7aac48c7-9a73-486e-9d6a-aecef5ed39d6",
   "metadata": {
    "ExecuteTime": {
     "end_time": "2025-04-05T16:22:32.883078Z",
     "start_time": "2025-04-05T16:22:32.880451Z"
    }
   },
   "source": [
    "# 004 print basic\n",
    "# on screen, print C:\\Windows\n",
    "print(\"C:\\\\Windows\")\n",
    "\n",
    "# note if C:\\Windows is used\n",
    "# SyntaxWarning: invalid escape sequence '\\W'"
   ],
   "outputs": [
    {
     "name": "stdout",
     "output_type": "stream",
     "text": [
      "C:\\Windows\n"
     ]
    }
   ],
   "execution_count": 7
  },
  {
   "cell_type": "code",
   "id": "1f066bc1-395c-4177-9e3f-d6bddaddaafc",
   "metadata": {
    "ExecuteTime": {
     "end_time": "2025-04-05T16:22:32.898581Z",
     "start_time": "2025-04-05T16:22:32.895093Z"
    }
   },
   "source": [
    "# 005 print tab and change line\n",
    "# run the code below and explain the roles of \\t and \\n \n",
    "print(\"Hello.\\nNice\\t\\tto meet you.\")"
   ],
   "outputs": [
    {
     "name": "stdout",
     "output_type": "stream",
     "text": [
      "Hello.\n",
      "Nice\t\tto meet you.\n"
     ]
    }
   ],
   "execution_count": 8
  },
  {
   "cell_type": "code",
   "id": "4aaf7fa1-6b2d-48d0-a29b-2856bb6407a1",
   "metadata": {
    "ExecuteTime": {
     "end_time": "2025-04-05T16:22:32.913215Z",
     "start_time": "2025-04-05T16:22:32.910264Z"
    }
   },
   "source": [
    "# 006 print many data\n",
    "# this is an example to input two words in the function print\n",
    "# anticipate the result of this code\n",
    "print(\"Today is\", \"Saturday\")"
   ],
   "outputs": [
    {
     "name": "stdout",
     "output_type": "stream",
     "text": [
      "Today is Saturday\n"
     ]
    }
   ],
   "execution_count": 9
  },
  {
   "cell_type": "code",
   "id": "8021d26c-2351-483a-8514-2c1971dfc314",
   "metadata": {
    "ExecuteTime": {
     "end_time": "2025-04-05T16:22:32.929959Z",
     "start_time": "2025-04-05T16:22:32.925960Z"
    }
   },
   "source": [
    "# 007 print basic\n",
    "# using print() to print below\n",
    "# naver;kakao;sk;samsung\n",
    "print(\"naver;\", \"kakao;\", \"sk;\", \"samsung\")"
   ],
   "outputs": [
    {
     "name": "stdout",
     "output_type": "stream",
     "text": [
      "naver; kakao; sk; samsung\n"
     ]
    }
   ],
   "execution_count": 10
  },
  {
   "cell_type": "code",
   "id": "74cd3c72-294c-4a5b-8f8e-2e05b11ad685",
   "metadata": {
    "ExecuteTime": {
     "end_time": "2025-04-05T16:22:32.947363Z",
     "start_time": "2025-04-05T16:22:32.943907Z"
    }
   },
   "source": [
    "# 008 print basic\n",
    "# use print() to print below\n",
    "# naver/kakao/sk/samsung\n",
    "print(\"naver\", \"kakao\", \"sk\", \"samsung\", sep=\"/\")"
   ],
   "outputs": [
    {
     "name": "stdout",
     "output_type": "stream",
     "text": [
      "naver/kakao/sk/samsung\n"
     ]
    }
   ],
   "execution_count": 11
  },
  {
   "cell_type": "code",
   "id": "98be2457-cdae-400c-a908-359de8bf1435",
   "metadata": {
    "ExecuteTime": {
     "end_time": "2025-04-05T16:22:32.956192Z",
     "start_time": "2025-04-05T16:22:32.953187Z"
    }
   },
   "source": [
    "# 009 print change line\n",
    "# Modify the following code to print without a line break. (Hint: use end='') \n",
    "# Use the print function twice.\n",
    "# A semicolon (;) is used to write multiple statements on one line.\n",
    "# print(\"first\");print(\"second\")\n",
    "print(\"first\", end = \"\");print(\"second\")"
   ],
   "outputs": [
    {
     "name": "stdout",
     "output_type": "stream",
     "text": [
      "firstsecond\n"
     ]
    }
   ],
   "execution_count": 12
  },
  {
   "cell_type": "code",
   "id": "2a1791f5-50c2-408b-a2ec-ba42c30f8093",
   "metadata": {
    "ExecuteTime": {
     "end_time": "2025-04-05T16:22:32.970718Z",
     "start_time": "2025-04-05T16:22:32.966718Z"
    }
   },
   "source": [
    "\"\"\"\n",
    "010 Print the result of an operation\n",
    "Display the result of 5/3 on the screen.\n",
    "\"\"\"\n",
    "print(5/3)"
   ],
   "outputs": [
    {
     "name": "stdout",
     "output_type": "stream",
     "text": [
      "1.6666666666666667\n"
     ]
    }
   ],
   "execution_count": 13
  },
  {
   "cell_type": "code",
   "id": "c43c9d14-ba44-4e62-a0dc-564e56eecdbd",
   "metadata": {
    "ExecuteTime": {
     "end_time": "2025-04-05T16:22:32.990877Z",
     "start_time": "2025-04-05T16:22:32.987878Z"
    }
   },
   "source": [],
   "outputs": [],
   "execution_count": null
  }
 ],
 "metadata": {
  "kernelspec": {
   "display_name": "Python 3 (ipykernel)",
   "language": "python",
   "name": "python3"
  },
  "language_info": {
   "codemirror_mode": {
    "name": "ipython",
    "version": 3
   },
   "file_extension": ".py",
   "mimetype": "text/x-python",
   "name": "python",
   "nbconvert_exporter": "python",
   "pygments_lexer": "ipython3",
   "version": "3.12.6"
  }
 },
 "nbformat": 4,
 "nbformat_minor": 5
}
