{
 "cells": [
  {
   "cell_type": "code",
   "execution_count": null,
   "id": "8059a4a7-3441-4320-87e6-b6ffaa81ec71",
   "metadata": {},
   "outputs": [],
   "source": [
    "\"\"\"\n",
    "# Part 10: modules in Python (part 1/4)\n",
    "# source: 'https://wikidocs.net/7040'\n",
    "\"\"\""
   ]
  },
  {
   "cell_type": "code",
   "execution_count": null,
   "id": "720a1163-b3ec-4566-996e-8d1ade27ee3b",
   "metadata": {},
   "outputs": [],
   "source": [
    "\"\"\"\n",
    "241 Current Time  \n",
    "Use the `datetime` module to print the current time on the screen.\n",
    "\"\"\""
   ]
  },
  {
   "cell_type": "code",
   "execution_count": 1,
   "id": "64374845-f012-41d3-a97f-2e4d7b01d69c",
   "metadata": {},
   "outputs": [
    {
     "name": "stdout",
     "output_type": "stream",
     "text": [
      "2025-04-10 09:03:03.184821\n"
     ]
    }
   ],
   "source": [
    "import datetime\n",
    "\n",
    "now = datetime.datetime.now()\n",
    "print(now)"
   ]
  },
  {
   "cell_type": "code",
   "execution_count": null,
   "id": "b0fa5efa-3d8b-43f2-bc45-34aa9fdd8cbf",
   "metadata": {},
   "outputs": [],
   "source": [
    "\"\"\"\n",
    "242 Type of Current Time  \n",
    "Use the `now` function from the `datetime` module and print the type of its return value.\n",
    "\"\"\""
   ]
  },
  {
   "cell_type": "code",
   "execution_count": 2,
   "id": "10ccd302-33ac-4d04-91c9-2aecb4111284",
   "metadata": {},
   "outputs": [
    {
     "name": "stdout",
     "output_type": "stream",
     "text": [
      "2025-04-10 09:04:20.586699 <class 'datetime.datetime'>\n"
     ]
    }
   ],
   "source": [
    "now = datetime.datetime.now()\n",
    "print(now, type(now))"
   ]
  },
  {
   "cell_type": "code",
   "execution_count": null,
   "id": "f09d8962-5e02-43b1-9b54-ece69eb135a1",
   "metadata": {},
   "outputs": [],
   "source": [
    "\"\"\"\n",
    "243 timedelta  \n",
    "Using `timedelta` from the `datetime` module, print the dates 5, 4, 3, 2, and 1 days before today.\n",
    "\"\"\""
   ]
  },
  {
   "cell_type": "code",
   "execution_count": 5,
   "id": "ddad8295-d474-42b9-b024-817c040ee948",
   "metadata": {},
   "outputs": [
    {
     "name": "stdout",
     "output_type": "stream",
     "text": [
      "2025-04-05 09:08:53.532996\n",
      "2025-04-06 09:08:53.532996\n",
      "2025-04-07 09:08:53.532996\n",
      "2025-04-08 09:08:53.532996\n",
      "2025-04-09 09:08:53.532996\n"
     ]
    }
   ],
   "source": [
    "import datetime\n",
    "\n",
    "now = datetime.datetime.now()\n",
    "\n",
    "for day in range (5, 0, -1):\n",
    "    delta = datetime.timedelta(days = day)\n",
    "    date = now - delta\n",
    "    print(date)"
   ]
  },
  {
   "cell_type": "code",
   "execution_count": null,
   "id": "7196bc39-4286-467c-a6b7-496021e559be",
   "metadata": {},
   "outputs": [],
   "source": [
    "\"\"\"\n",
    "244 strftime  \n",
    "After obtaining the current time, print it in the following format using the `strftime` method:\n",
    "\n",
    "18:35:01\n",
    "\"\"\""
   ]
  },
  {
   "cell_type": "code",
   "execution_count": 6,
   "id": "89958676-f79e-4df3-ae4b-211bb6cef44e",
   "metadata": {},
   "outputs": [
    {
     "name": "stdout",
     "output_type": "stream",
     "text": [
      "09:13:34\n"
     ]
    }
   ],
   "source": [
    "import datetime\n",
    "now = datetime.datetime.now()\n",
    "\n",
    "print(now.strftime(\"%H:%M:%S\"))"
   ]
  },
  {
   "cell_type": "code",
   "execution_count": null,
   "id": "4c6950a5-2a82-4a6f-b2b6-507747beb4fd",
   "metadata": {},
   "outputs": [],
   "source": [
    "\"\"\"\n",
    "245 strptime  \n",
    "The `datetime.datetime.strptime` method allows conversion of a string-formatted time into a `datetime.datetime` object.  \n",
    "Convert the string \"2020-05-04\" into a datetime object.\n",
    "\"\"\""
   ]
  },
  {
   "cell_type": "code",
   "execution_count": 7,
   "id": "3227f8cb-8113-402d-bb99-36ce46e20b37",
   "metadata": {},
   "outputs": [
    {
     "name": "stdout",
     "output_type": "stream",
     "text": [
      "2020-05-04 00:00:00 <class 'datetime.datetime'>\n"
     ]
    }
   ],
   "source": [
    "import datetime\n",
    "day = \"2020-05-04\"\n",
    "\n",
    "ret = datetime.datetime.strptime(day, \"%Y-%m-%d\")\n",
    "\n",
    "print(ret, type(ret))"
   ]
  },
  {
   "cell_type": "code",
   "execution_count": null,
   "id": "3288cc9c-cb89-4f1d-8875-a997bbb9926b",
   "metadata": {},
   "outputs": [],
   "source": [
    "\"\"\"\n",
    "246 sleep function  \n",
    "Using the `time` and `datetime` modules, write code that prints the current time once every second.\n",
    "\"\"\""
   ]
  },
  {
   "cell_type": "code",
   "execution_count": 8,
   "id": "8d2d62c4-94aa-4938-ba9c-c8cf13ac4856",
   "metadata": {},
   "outputs": [
    {
     "name": "stdout",
     "output_type": "stream",
     "text": [
      "2025-04-10 09:16:20.837230\n",
      "2025-04-10 09:16:21.838167\n",
      "2025-04-10 09:16:22.838761\n",
      "2025-04-10 09:16:23.839176\n",
      "2025-04-10 09:16:24.839611\n",
      "2025-04-10 09:16:25.840451\n",
      "2025-04-10 09:16:26.840848\n",
      "2025-04-10 09:16:27.841289\n",
      "2025-04-10 09:16:28.841890\n",
      "2025-04-10 09:16:29.842632\n"
     ]
    }
   ],
   "source": [
    "import time\n",
    "import datetime\n",
    "\n",
    "for elapsed_time in range(10):\n",
    "    now = datetime.datetime.now()\n",
    "    print(now)\n",
    "    time.sleep(1)\n",
    "    elapsed_time += 1    "
   ]
  },
  {
   "cell_type": "code",
   "execution_count": null,
   "id": "1f2e8eaa-754e-43d1-a813-d32fc3125fb2",
   "metadata": {},
   "outputs": [],
   "source": [
    "\"\"\"\n",
    "247 Importing Modules  \n",
    "Describe the four different ways to import a module.\n",
    "\"\"\""
   ]
  },
  {
   "cell_type": "code",
   "execution_count": null,
   "id": "b9a92512-dfd2-4b09-8624-85456e3da1f3",
   "metadata": {},
   "outputs": [],
   "source": [
    "\"\"\"\n",
    "248 os module  \n",
    "Call the `getcwd` function from the `os` module and print the current directory path.\n",
    "\"\"\""
   ]
  },
  {
   "cell_type": "code",
   "execution_count": 9,
   "id": "4178f330-2bc8-4fbc-a83b-b9da1e9b0ced",
   "metadata": {},
   "outputs": [
    {
     "name": "stdout",
     "output_type": "stream",
     "text": [
      "D:\\Brian\\PythonLab\\codingPractice <class 'str'>\n"
     ]
    }
   ],
   "source": [
    "import os\n",
    "ret = os.getcwd()\n",
    "\n",
    "print(ret, type(ret))"
   ]
  },
  {
   "cell_type": "code",
   "execution_count": null,
   "id": "94b5a439-8cce-4ea5-9530-b49ed8f03f0e",
   "metadata": {},
   "outputs": [],
   "source": [
    "\"\"\"\n",
    "249 rename function  \n",
    "Create a text file on the desktop, then use the `rename` function from the `os` module to rename the file.\n",
    "\"\"\""
   ]
  },
  {
   "cell_type": "code",
   "execution_count": 10,
   "id": "1830e629-0b8c-4a09-9bf3-f7018d01f0ec",
   "metadata": {},
   "outputs": [],
   "source": [
    "import os\n",
    "\n",
    "os.rename(\"C:/Users/brian/OneDrive/Desktop/before.txt\", \"C:/Users/brian/OneDrive/Desktop/after.txt\")"
   ]
  },
  {
   "cell_type": "code",
   "execution_count": null,
   "id": "6cd0b6cf-9050-4986-94b5-4da8bfddd225",
   "metadata": {},
   "outputs": [],
   "source": [
    "\"\"\"\n",
    "250 numpy  \n",
    "Using the `arange` function from the `numpy` module, print values from 0.0 to 5.0 with an increment of 0.1.\n",
    "\"\"\""
   ]
  },
  {
   "cell_type": "code",
   "execution_count": 12,
   "id": "f21ebff6-8dee-41ba-ba30-8131cb2806dc",
   "metadata": {},
   "outputs": [
    {
     "name": "stdout",
     "output_type": "stream",
     "text": [
      "0.0\n",
      "0.1\n",
      "0.2\n",
      "0.30000000000000004\n",
      "0.4\n",
      "0.5\n",
      "0.6000000000000001\n",
      "0.7000000000000001\n",
      "0.8\n",
      "0.9\n",
      "1.0\n",
      "1.1\n",
      "1.2000000000000002\n",
      "1.3\n",
      "1.4000000000000001\n",
      "1.5\n",
      "1.6\n",
      "1.7000000000000002\n",
      "1.8\n",
      "1.9000000000000001\n",
      "2.0\n",
      "2.1\n",
      "2.2\n",
      "2.3000000000000003\n",
      "2.4000000000000004\n",
      "2.5\n",
      "2.6\n",
      "2.7\n",
      "2.8000000000000003\n",
      "2.9000000000000004\n",
      "3.0\n",
      "3.1\n",
      "3.2\n",
      "3.3000000000000003\n",
      "3.4000000000000004\n",
      "3.5\n",
      "3.6\n",
      "3.7\n",
      "3.8000000000000003\n",
      "3.9000000000000004\n",
      "4.0\n",
      "4.1000000000000005\n",
      "4.2\n",
      "4.3\n",
      "4.4\n",
      "4.5\n",
      "4.6000000000000005\n",
      "4.7\n",
      "4.800000000000001\n",
      "4.9\n"
     ]
    }
   ],
   "source": [
    "import numpy as np\n",
    "\n",
    "for value in np.arange(0.0, 5.0, 0.1):\n",
    "    print(value)"
   ]
  }
 ],
 "metadata": {
  "kernelspec": {
   "display_name": "Python 3 (ipykernel)",
   "language": "python",
   "name": "python3"
  },
  "language_info": {
   "codemirror_mode": {
    "name": "ipython",
    "version": 3
   },
   "file_extension": ".py",
   "mimetype": "text/x-python",
   "name": "python",
   "nbconvert_exporter": "python",
   "pygments_lexer": "ipython3",
   "version": "3.12.6"
  }
 },
 "nbformat": 4,
 "nbformat_minor": 5
}
