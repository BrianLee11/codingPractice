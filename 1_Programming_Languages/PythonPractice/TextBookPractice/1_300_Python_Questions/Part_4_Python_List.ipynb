{
 "cells": [
  {
   "cell_type": "code",
   "execution_count": null,
   "id": "69641945-8260-42e0-ab30-6c51532f663f",
   "metadata": {},
   "outputs": [],
   "source": [
    "# Part 4: Lists in Python\n",
    "# source: 'https://wikidocs.net/7023'"
   ]
  },
  {
   "cell_type": "code",
   "execution_count": null,
   "id": "3d6e26cd-1db1-44f5-8fd4-10c4c47f99b9",
   "metadata": {},
   "outputs": [],
   "source": [
    "\"\"\"\n",
    "051 Creating a List\n",
    "Based on the November 2016 movie reservation rankings, store the top 3 movie titles in a list named movie_rank. (Do not include the ranking numbers.)\n",
    "\n",
    "Rank    Movie\n",
    "1       Doctor Strange\n",
    "2       Split\n",
    "3       Lucky\n",
    "\"\"\""
   ]
  },
  {
   "cell_type": "code",
   "execution_count": 8,
   "id": "3e601488-4531-4ddd-acfe-fa7024d3e253",
   "metadata": {},
   "outputs": [
    {
     "name": "stdout",
     "output_type": "stream",
     "text": [
      "['Doctor Strange', 'Split', 'Lucky']\n"
     ]
    }
   ],
   "source": [
    "movie_rank = list(('Doctor Strange', 'Split', 'Lucky'))\n",
    "print(movie_rank)"
   ]
  },
  {
   "cell_type": "code",
   "execution_count": null,
   "id": "de5ee56f-87b4-4a7b-9eaf-82b6e734886a",
   "metadata": {},
   "outputs": [],
   "source": [
    "\"\"\"\n",
    "052 Add an Element to a List\n",
    "Add \"Batman\" to the movie_rank list from problem 051.\n",
    "\"\"\""
   ]
  },
  {
   "cell_type": "code",
   "execution_count": 9,
   "id": "5b972e9e-6f8f-4ae2-8e85-ce033ea21de9",
   "metadata": {},
   "outputs": [
    {
     "name": "stdout",
     "output_type": "stream",
     "text": [
      "['Doctor Strange', 'Split', 'Lucky', 'Batman']\n"
     ]
    }
   ],
   "source": [
    "movie_rank.append(\"Batman\")\n",
    "print(movie_rank)"
   ]
  },
  {
   "cell_type": "code",
   "execution_count": null,
   "id": "94924e58-3416-4633-b41d-9a1bb8d1194e",
   "metadata": {},
   "outputs": [],
   "source": [
    "\"\"\"\n",
    "053\n",
    "The movie_rank list is currently bound to the following four movie titles. Add \"Superman\" between \"Doctor Strange\" and \"Split\".\n",
    "\n",
    "movie_rank = ['Doctor Strange', 'Split', 'Lucky', 'Batman']\n",
    "\"\"\""
   ]
  },
  {
   "cell_type": "code",
   "execution_count": 14,
   "id": "2e23cdae-9a64-4ef2-aab4-7ab57e8f9a14",
   "metadata": {},
   "outputs": [
    {
     "name": "stdout",
     "output_type": "stream",
     "text": [
      "['Doctor Strange', 'SuperMan', 'Split', 'Lucky', 'Batman']\n"
     ]
    }
   ],
   "source": [
    "movie_rank = ['Doctor Strange', 'Split', 'Lucky', 'Batman']\n",
    "movie_rank.insert(1, \"SuperMan\")\n",
    "print(movie_rank)"
   ]
  },
  {
   "cell_type": "code",
   "execution_count": null,
   "id": "6a500df8-e804-4c2d-830f-4165a53ade0b",
   "metadata": {},
   "outputs": [],
   "source": [
    "\"\"\"\n",
    "053\n",
    "Delete 'Lucky' from the movie_rank list.\n",
    "\n",
    "movie_rank = ['Doctor Strange', 'Split', 'Lucky', 'Batman']\n",
    "\"\"\""
   ]
  },
  {
   "cell_type": "code",
   "execution_count": 16,
   "id": "8b3e965b-fbd4-4dec-a8a8-13e81982145d",
   "metadata": {},
   "outputs": [
    {
     "name": "stdout",
     "output_type": "stream",
     "text": [
      "['Doctor Strange', 'Split', 'Batman']\n"
     ]
    }
   ],
   "source": [
    "movie_rank = ['Doctor Strange', 'Split', 'Lucky', 'Batman']\n",
    "movie_rank.remove(\"Lucky\")\n",
    "print(movie_rank)"
   ]
  },
  {
   "cell_type": "code",
   "execution_count": null,
   "id": "176efce9-427b-47bf-be85-d16ed7531634",
   "metadata": {},
   "outputs": [],
   "source": [
    "\"\"\"\n",
    "054\n",
    "Delete 'Split' and 'Batman' from the movie_rank list.\n",
    "\n",
    "movie_rank = ['Doctor Strange', 'Split', 'Lucky', 'Batman']\n",
    "\"\"\""
   ]
  },
  {
   "cell_type": "code",
   "execution_count": 20,
   "id": "b35ebfb3-1a4f-482f-a5eb-31aa83b796da",
   "metadata": {},
   "outputs": [
    {
     "name": "stdout",
     "output_type": "stream",
     "text": [
      "['Doctor Strange', 'Lucky']\n"
     ]
    }
   ],
   "source": [
    "movie_rank = ['Doctor Strange', 'Split', 'Lucky', 'Batman']\n",
    "movie_rank.remove(\"Split\")\n",
    "movie_rank.remove(\"Batman\")\n",
    "print(movie_rank)"
   ]
  },
  {
   "cell_type": "code",
   "execution_count": null,
   "id": "0239ac54-d1be-4588-8564-da88c984a6bb",
   "metadata": {},
   "outputs": [],
   "source": [
    "\"\"\"\n",
    "056\n",
    "Given the lists lang1 and lang2, create a new list langs that contains all the elements from both lang1 and lang2.\n",
    "\n",
    ">> lang1 = [\"C\", \"C++\", \"JAVA\"]\n",
    ">> lang2 = [\"Python\", \"Go\", \"C#\"]\n",
    "\n",
    "Example Output:\n",
    ">> langs\n",
    "['C', 'C++', 'JAVA', 'Python', 'Go', 'C#']\n",
    "\"\"\""
   ]
  },
  {
   "cell_type": "code",
   "execution_count": 21,
   "id": "f35e7469-dfea-4f54-a3b9-6a7adaa645af",
   "metadata": {},
   "outputs": [],
   "source": [
    "lang1 = [\"C\", \"C++\", \"JAVA\"]\n",
    "lang2 = [\"Python\", \"Go\", \"C#\"]"
   ]
  },
  {
   "cell_type": "code",
   "execution_count": 24,
   "id": "3c48fd5b-0764-41bb-ba98-49111a976bc7",
   "metadata": {},
   "outputs": [
    {
     "name": "stdout",
     "output_type": "stream",
     "text": [
      "['C', 'C++', 'JAVA', 'Python', 'Go', 'C#']\n"
     ]
    }
   ],
   "source": [
    "lang = lang1 + lang2\n",
    "print(lang)"
   ]
  },
  {
   "cell_type": "code",
   "execution_count": null,
   "id": "eddfb79a-c7e1-4a44-88c9-49a4225c4e07",
   "metadata": {},
   "outputs": [],
   "source": [
    "\"\"\"\n",
    "057\n",
    "Print the maximum and minimum values from the following list. (Hint: use the min() and max() functions)\n",
    "\n",
    "nums = [1, 2, 3, 4, 5, 6, 7]\n",
    "\n",
    "Example Output:\n",
    "max:  7\n",
    "min:  1\n",
    "\"\"\""
   ]
  },
  {
   "cell_type": "code",
   "execution_count": 28,
   "id": "bbc6680d-34c8-42f0-bd27-bb3adcd5f786",
   "metadata": {},
   "outputs": [
    {
     "name": "stdout",
     "output_type": "stream",
     "text": [
      "max:  7\n",
      "max:  1\n"
     ]
    }
   ],
   "source": [
    "nums = [1, 2, 3, 4, 5, 6, 7]\n",
    "\n",
    "print(\"max: \", max(nums))\n",
    "print(\"max: \", min(nums))"
   ]
  },
  {
   "cell_type": "code",
   "execution_count": null,
   "id": "55a69e3c-22a5-46d9-b132-49c675c75a18",
   "metadata": {},
   "outputs": [],
   "source": [
    "\"\"\"\n",
    "058\n",
    "Print the sum of the following list.\n",
    "\n",
    "nums = [1, 2, 3, 4, 5]\n",
    "\n",
    "Example Output:\n",
    "15\n",
    "\"\"\""
   ]
  },
  {
   "cell_type": "code",
   "execution_count": 30,
   "id": "e937bc89-f122-47d0-aa14-598b0461be70",
   "metadata": {},
   "outputs": [
    {
     "name": "stdout",
     "output_type": "stream",
     "text": [
      "15\n"
     ]
    }
   ],
   "source": [
    "nums = [1, 2, 3, 4, 5]\n",
    "print(sum(nums))"
   ]
  },
  {
   "cell_type": "code",
   "execution_count": null,
   "id": "b00c54c2-dedf-4d9e-9ac9-4f75f7270635",
   "metadata": {},
   "outputs": [],
   "source": [
    "\"\"\"\n",
    "059\n",
    "Count and display the number of items stored in the following list.\n",
    "\n",
    "cook = [\"Pizza\", \"Kimbap\", \"Dumplings\", \"Seasoned Chicken\", \"Jokbal\", \"Pizza\", \"Kimchi Dumplings\", \"Jjolmyeon\", \"Sausage\", \"Ramen\", \"Patbingsu\", \"Kimchi Pancake\"]\n",
    "\"\"\""
   ]
  },
  {
   "cell_type": "code",
   "execution_count": 32,
   "id": "923c0d43-a4fb-48ee-a263-1eefa970258c",
   "metadata": {},
   "outputs": [
    {
     "name": "stdout",
     "output_type": "stream",
     "text": [
      "12\n"
     ]
    }
   ],
   "source": [
    "cook = [\"Pizza\", \"Kimbap\", \"Dumplings\", \"Seasoned Chicken\", \"Jokbal\", \"Pizza\", \"Kimchi Dumplings\", \"Jjolmyeon\", \"Sausage\", \"Ramen\", \"Patbingsu\", \"Kimchi Pancake\"]\n",
    "\n",
    "print(len(cook))"
   ]
  },
  {
   "cell_type": "code",
   "execution_count": null,
   "id": "d0e4bf5b-ec7a-493e-9e47-f3f142bdff07",
   "metadata": {},
   "outputs": [],
   "source": [
    "\"\"\"\n",
    "060\n",
    "Print the average of the following list.\n",
    "\n",
    "nums = [1, 2, 3, 4, 5]\n",
    "\n",
    "Example Output:\n",
    "3.0\n",
    "\"\"\""
   ]
  },
  {
   "cell_type": "code",
   "execution_count": 35,
   "id": "8305eab7-4338-48b5-8dbc-1f5d360816f7",
   "metadata": {},
   "outputs": [
    {
     "name": "stdout",
     "output_type": "stream",
     "text": [
      "3.0\n"
     ]
    }
   ],
   "source": [
    "nums = [1, 2, 3, 4, 5]\n",
    "print(sum(nums)/len(nums))"
   ]
  },
  {
   "cell_type": "code",
   "execution_count": null,
   "id": "87711bd7-8df3-4f73-88ec-e12421892d25",
   "metadata": {},
   "outputs": [],
   "source": [
    "\"\"\"\n",
    "061\n",
    "The variable price contains date and closing price information. Print only the price information, excluding the date. (Hint: use slicing)\n",
    "\n",
    "price = ['20180728', 100, 130, 140, 150, 160, 170]\n",
    "\n",
    "Example Output:\n",
    "[100, 130, 140, 150, 160, 170]\n",
    "\"\"\""
   ]
  },
  {
   "cell_type": "code",
   "execution_count": 36,
   "id": "74cb6feb-55b3-47dc-afe2-9db1aabe27b2",
   "metadata": {},
   "outputs": [],
   "source": [
    "price = ['20180728', 100, 130, 140, 150, 160, 170]"
   ]
  },
  {
   "cell_type": "code",
   "execution_count": 37,
   "id": "659515dc-cbff-4b17-b20a-82fbd0907ecc",
   "metadata": {},
   "outputs": [
    {
     "name": "stdout",
     "output_type": "stream",
     "text": [
      "[100, 130, 140, 150, 160, 170]\n"
     ]
    }
   ],
   "source": [
    "print(price[1:])"
   ]
  },
  {
   "cell_type": "code",
   "execution_count": null,
   "id": "91c2715f-2da6-4eaa-b078-c51d8657fcbc",
   "metadata": {},
   "outputs": [],
   "source": [
    "\"\"\"\n",
    "062\n",
    "Use slicing to print only the odd numbers.\n",
    "\n",
    "nums = [1, 2, 3, 4, 5, 6, 7, 8, 9, 10]\n",
    "\n",
    "Example Output:\n",
    "[1, 3, 5, 7, 9]\n",
    "\"\"\""
   ]
  },
  {
   "cell_type": "code",
   "execution_count": 39,
   "id": "f0d679af-dd59-484b-a5a5-9770302da4ad",
   "metadata": {},
   "outputs": [
    {
     "name": "stdout",
     "output_type": "stream",
     "text": [
      "[1, 3, 5, 7, 9]\n"
     ]
    }
   ],
   "source": [
    "nums = [1, 2, 3, 4, 5, 6, 7, 8, 9, 10]\n",
    "\n",
    "print(nums[::2])"
   ]
  },
  {
   "cell_type": "code",
   "execution_count": null,
   "id": "54d08f93-b1d7-4b36-8286-6d40fb64d3ed",
   "metadata": {},
   "outputs": [],
   "source": [
    "\"\"\"\n",
    "063\n",
    "Use slicing to print only the even numbers.\n",
    "\n",
    "nums = [1, 2, 3, 4, 5, 6, 7, 8, 9, 10]\n",
    "\n",
    "Example Output:\n",
    "[2, 4, 6, 8, 10]\n",
    "\"\"\""
   ]
  },
  {
   "cell_type": "code",
   "execution_count": 40,
   "id": "add62249-a158-4385-aa2c-1c2c7fe3952c",
   "metadata": {},
   "outputs": [
    {
     "name": "stdout",
     "output_type": "stream",
     "text": [
      "[2, 4, 6, 8, 10]\n"
     ]
    }
   ],
   "source": [
    "nums = [1, 2, 3, 4, 5, 6, 7, 8, 9, 10]\n",
    "print(nums[1::2])"
   ]
  },
  {
   "cell_type": "code",
   "execution_count": null,
   "id": "26d61a04-fb45-45a8-93c5-5e317d3f4ce6",
   "metadata": {},
   "outputs": [],
   "source": [
    "\"\"\"\n",
    "064\n",
    "Use slicing to print the numbers in the list in reverse order.\n",
    "\n",
    "nums = [1, 2, 3, 4, 5]\n",
    "\n",
    "Example Output:\n",
    "[5, 4, 3, 2, 1]\n",
    "\"\"\""
   ]
  },
  {
   "cell_type": "code",
   "execution_count": 42,
   "id": "228cdf76-7366-4634-92f0-710e2191d63a",
   "metadata": {},
   "outputs": [
    {
     "name": "stdout",
     "output_type": "stream",
     "text": [
      "[5, 4, 3, 2, 1]\n"
     ]
    }
   ],
   "source": [
    "nums = [1, 2, 3, 4, 5]\n",
    "print(nums[::-1])"
   ]
  },
  {
   "cell_type": "code",
   "execution_count": null,
   "id": "1e54432c-8a70-4666-8a57-9090d524ad9d",
   "metadata": {},
   "outputs": [],
   "source": [
    "\"\"\"\n",
    "065\n",
    "The interest list is bound to the data below.\n",
    "\n",
    "interest = ['Samsung Electronics', 'LG Electronics', 'Naver']\n",
    "\n",
    "Using the interest list, print the following:\n",
    "\n",
    "Example Output:\n",
    "Samsung Electronics Naver\n",
    "\"\"\""
   ]
  },
  {
   "cell_type": "code",
   "execution_count": 43,
   "id": "5d850a28-2d08-4083-a864-dd238ca46c0e",
   "metadata": {},
   "outputs": [],
   "source": [
    "interest = ['Samsung Electronics', 'LG Electronics', 'Naver']"
   ]
  },
  {
   "cell_type": "code",
   "execution_count": 44,
   "id": "9e53754d-1262-4906-852d-9075edaf49c4",
   "metadata": {},
   "outputs": [
    {
     "name": "stdout",
     "output_type": "stream",
     "text": [
      "Samsung Electronics Naver\n"
     ]
    }
   ],
   "source": [
    "print(interest[0], interest[-1])"
   ]
  },
  {
   "cell_type": "code",
   "execution_count": null,
   "id": "a26c4d37-7c41-4962-8136-bcb75e0e6836",
   "metadata": {},
   "outputs": [],
   "source": [
    "\"\"\"\n",
    "066 join method\n",
    "The interest list is bound to the data below.\n",
    "\n",
    "interest = ['Samsung Electronics', 'LG Electronics', 'Naver', 'SK Hynix', 'Mirae Asset Daewoo']\n",
    "\n",
    "Using the interest list, print the following:\n",
    "\n",
    "Example Output:\n",
    "Samsung Electronics LG Electronics Naver SK Hynix Mirae Asset Daewoo\n",
    "\"\"\""
   ]
  },
  {
   "cell_type": "code",
   "execution_count": 47,
   "id": "eb9ea905-ded8-443b-98ae-15e99ff36a3a",
   "metadata": {},
   "outputs": [],
   "source": [
    "interest = ['Samsung Electronics', 'LG Electronics', 'Naver', 'SK Hynix', 'Mirae Asset Daewoo']"
   ]
  },
  {
   "cell_type": "code",
   "execution_count": 48,
   "id": "1e47cb9d-db30-4f4d-a6ae-b073fc2efc8c",
   "metadata": {},
   "outputs": [
    {
     "name": "stdout",
     "output_type": "stream",
     "text": [
      "Samsung Electronics LG Electronics Naver SK Hynix Mirae Asset Daewoo\n"
     ]
    }
   ],
   "source": [
    "print(\" \".join(interest))"
   ]
  },
  {
   "cell_type": "code",
   "execution_count": null,
   "id": "6f72e21d-2800-45d9-9f5e-40b4c5260ba8",
   "metadata": {},
   "outputs": [],
   "source": [
    "\"\"\"\n",
    "067 join method\n",
    "The interest list is bound to the data below.\n",
    "\n",
    "interest = ['Samsung Electronics', 'LG Electronics', 'Naver', 'SK Hynix', 'Mirae Asset Daewoo']\n",
    "\n",
    "Using the interest list, print the following:\n",
    "\n",
    "Example Output:\n",
    "Samsung Electronics/LG Electronics/Naver/SK Hynix/Mirae Asset Daewoo\n",
    "\"\"\""
   ]
  },
  {
   "cell_type": "code",
   "execution_count": 49,
   "id": "b4ccf31d-5918-4005-8a3f-06248bc2dccb",
   "metadata": {},
   "outputs": [
    {
     "name": "stdout",
     "output_type": "stream",
     "text": [
      "Samsung Electronics/LG Electronics/Naver/SK Hynix/Mirae Asset Daewoo\n"
     ]
    }
   ],
   "source": [
    "print(\"/\".join(interest))"
   ]
  },
  {
   "cell_type": "code",
   "execution_count": null,
   "id": "c96697bc-47c5-42d5-8a9f-7ddad3786704",
   "metadata": {},
   "outputs": [],
   "source": [
    "\"\"\"\n",
    "068 join method\n",
    "The interest list is bound to the data below.\n",
    "\n",
    "interest = ['Samsung Electronics', 'LG Electronics', 'Naver', 'SK Hynix', 'Mirae Asset Daewoo']\n",
    "\n",
    "Use the join() method to print the interest list as shown below:\n",
    "\n",
    "Example Output:\n",
    "Samsung Electronics\n",
    "LG Electronics\n",
    "Naver\n",
    "SK Hynix\n",
    "Mirae Asset Daewoo\n",
    "\"\"\""
   ]
  },
  {
   "cell_type": "code",
   "execution_count": 51,
   "id": "aa40faf5-21c0-4fe8-b2d1-fc064c273c59",
   "metadata": {},
   "outputs": [
    {
     "name": "stdout",
     "output_type": "stream",
     "text": [
      "Samsung Electronics\n",
      "LG Electronics\n",
      "Naver\n",
      "SK Hynix\n",
      "Mirae Asset Daewoo\n"
     ]
    }
   ],
   "source": [
    "print(\"\\n\".join(interest))"
   ]
  },
  {
   "cell_type": "code",
   "execution_count": null,
   "id": "ff449438-3ed2-4d13-a38b-b5760e1125c1",
   "metadata": {},
   "outputs": [],
   "source": [
    "\"\"\"\n",
    "069 split method for strings\n",
    "Company names are stored as a single string separated by slashes ('/').\n",
    "\n",
    "string = \"Samsung Electronics/LG Electronics/Naver\"\n",
    "\n",
    "Split this string and store the result in a list named interest.\n",
    "\n",
    "Example Output:\n",
    ">> print(interest)\n",
    "['Samsung Electronics', 'LG Electronics', 'Naver']\n",
    "\"\"\""
   ]
  },
  {
   "cell_type": "code",
   "execution_count": 52,
   "id": "d0cd7460-4204-4dc6-840d-b5a859b65711",
   "metadata": {},
   "outputs": [
    {
     "name": "stdout",
     "output_type": "stream",
     "text": [
      "['Samsung Electronics', 'LG Electronics', 'Naver']\n"
     ]
    }
   ],
   "source": [
    "string = \"Samsung Electronics/LG Electronics/Naver\"\n",
    "interest = string.split(\"/\")\n",
    "print(interest)"
   ]
  },
  {
   "cell_type": "code",
   "execution_count": null,
   "id": "eb9eeacf-fa99-462f-8720-3c0ba51a9f05",
   "metadata": {},
   "outputs": [],
   "source": [
    "\"\"\"\n",
    "070 List Sorting\n",
    "Sort the values in the list in ascending order.\n",
    "\n",
    "data = [2, 4, 3, 1, 5, 10, 9]\n",
    "\"\"\""
   ]
  },
  {
   "cell_type": "code",
   "execution_count": 56,
   "id": "3733b6e2-a850-416f-96c4-a7c2f788af08",
   "metadata": {},
   "outputs": [
    {
     "name": "stdout",
     "output_type": "stream",
     "text": [
      "[1, 2, 3, 4, 5, 9, 10]\n"
     ]
    }
   ],
   "source": [
    "data = [2, 4, 3, 1, 5, 10, 9]\n",
    "data.sort()\n",
    "print(data)"
   ]
  }
 ],
 "metadata": {
  "kernelspec": {
   "display_name": "Python 3 (ipykernel)",
   "language": "python",
   "name": "python3"
  },
  "language_info": {
   "codemirror_mode": {
    "name": "ipython",
    "version": 3
   },
   "file_extension": ".py",
   "mimetype": "text/x-python",
   "name": "python",
   "nbconvert_exporter": "python",
   "pygments_lexer": "ipython3",
   "version": "3.12.6"
  }
 },
 "nbformat": 4,
 "nbformat_minor": 5
}
