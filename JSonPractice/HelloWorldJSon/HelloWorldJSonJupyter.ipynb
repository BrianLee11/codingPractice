{
 "cells": [
  {
   "cell_type": "code",
   "execution_count": null,
   "id": "initial_id",
   "metadata": {
    "collapsed": true
   },
   "outputs": [],
   "source": "# practicing a simple exercise for using JSon."
  },
  {
   "metadata": {
    "ExecuteTime": {
     "end_time": "2025-04-08T20:34:21.397822Z",
     "start_time": "2025-04-08T20:34:21.393914Z"
    }
   },
   "cell_type": "code",
   "source": [
    "import json\n",
    "\n",
    "# Simulate reading JSON data (could be from a file)\n",
    "json_data = '''\n",
    "{\n",
    "  \"name\": \"Alice\",\n",
    "  \"age\": 28,\n",
    "  \"is_student\": false,\n",
    "  \"skills\": [\"Python\", \"Data Analysis\", \"Machine Learning\"],\n",
    "  \"address\": {\n",
    "    \"city\": \"New York\",\n",
    "    \"zip\": \"10001\"\n",
    "  }\n",
    "}\n",
    "'''"
   ],
   "id": "ae01440bde500c42",
   "outputs": [],
   "execution_count": 1
  },
  {
   "metadata": {
    "ExecuteTime": {
     "end_time": "2025-04-08T20:34:36.365312Z",
     "start_time": "2025-04-08T20:34:36.362117Z"
    }
   },
   "cell_type": "code",
   "source": [
    "# Load JSON string into a Python dictionary\n",
    "data = json.loads(json_data)"
   ],
   "id": "86d900d319bd98ed",
   "outputs": [],
   "execution_count": 3
  },
  {
   "metadata": {
    "ExecuteTime": {
     "end_time": "2025-04-08T20:34:42.340142Z",
     "start_time": "2025-04-08T20:34:42.335922Z"
    }
   },
   "cell_type": "code",
   "source": [
    "# Access data\n",
    "print(\"Name:\", data['name'])\n",
    "print(\"City:\", data['address']['city'])"
   ],
   "id": "6cf8ecf0a9f47f11",
   "outputs": [
    {
     "name": "stdout",
     "output_type": "stream",
     "text": [
      "Name: Alice\n",
      "City: New York\n"
     ]
    }
   ],
   "execution_count": 4
  },
  {
   "metadata": {
    "ExecuteTime": {
     "end_time": "2025-04-08T20:34:50.213570Z",
     "start_time": "2025-04-08T20:34:50.210566Z"
    }
   },
   "cell_type": "code",
   "source": [
    "# Add a new skill\n",
    "data['skills'].append(\"SQL\")"
   ],
   "id": "179875dd78450f0d",
   "outputs": [],
   "execution_count": 5
  },
  {
   "metadata": {
    "ExecuteTime": {
     "end_time": "2025-04-08T20:34:55.736627Z",
     "start_time": "2025-04-08T20:34:55.733630Z"
    }
   },
   "cell_type": "code",
   "source": [
    "# Convert back to JSON\n",
    "updated_json = json.dumps(data, indent=2)\n",
    "print(updated_json)"
   ],
   "id": "9c6385c33ba7ecb9",
   "outputs": [
    {
     "name": "stdout",
     "output_type": "stream",
     "text": [
      "{\n",
      "  \"name\": \"Alice\",\n",
      "  \"age\": 28,\n",
      "  \"is_student\": false,\n",
      "  \"skills\": [\n",
      "    \"Python\",\n",
      "    \"Data Analysis\",\n",
      "    \"Machine Learning\",\n",
      "    \"SQL\"\n",
      "  ],\n",
      "  \"address\": {\n",
      "    \"city\": \"New York\",\n",
      "    \"zip\": \"10001\"\n",
      "  }\n",
      "}\n"
     ]
    }
   ],
   "execution_count": 6
  }
 ],
 "metadata": {
  "kernelspec": {
   "display_name": "Python 3",
   "language": "python",
   "name": "python3"
  },
  "language_info": {
   "codemirror_mode": {
    "name": "ipython",
    "version": 2
   },
   "file_extension": ".py",
   "mimetype": "text/x-python",
   "name": "python",
   "nbconvert_exporter": "python",
   "pygments_lexer": "ipython2",
   "version": "2.7.6"
  }
 },
 "nbformat": 4,
 "nbformat_minor": 5
}
