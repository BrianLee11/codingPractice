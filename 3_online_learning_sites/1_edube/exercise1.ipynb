{
 "cells": [
  {
   "metadata": {},
   "cell_type": "markdown",
   "source": [
    "# concept: OOP (object-oriented programming)\n",
    "- learning site: edube.org\n",
    "\n",
    "# Exercise 1\n",
    "- url: https://edube.org/learn/python-advanced-1/classes-instances-attributes-methods-the-lab\n",
    "\n",
    "# objectives\n",
    "- creating classes, methods, and variables;\n",
    "- calling methods;\n",
    "- getting simple access to instance variables;"
   ],
   "id": "755a2c3d559e37d0"
  },
  {
   "metadata": {
    "collapsed": true,
    "ExecuteTime": {
     "end_time": "2025-05-22T21:47:52.333589Z",
     "start_time": "2025-05-22T21:47:52.330569Z"
    }
   },
   "cell_type": "code",
   "source": [
    "class mobilePhone:\n",
    "    def __init__(self, Number = \"\"):\n",
    "        self.number = Number\n",
    "\n",
    "    def turn_on(self):\n",
    "        return f'mobile phone {self.number} is turned on.'\n",
    "\n",
    "    def turn_off(self):\n",
    "        return f'mobile phone is turned off'\n",
    "\n",
    "    def call(self, Number):\n",
    "        return f'calling {Number}'"
   ],
   "id": "initial_id",
   "outputs": [],
   "execution_count": 5
  },
  {
   "metadata": {
    "ExecuteTime": {
     "end_time": "2025-05-22T21:47:54.920016Z",
     "start_time": "2025-05-22T21:47:54.916605Z"
    }
   },
   "cell_type": "code",
   "source": [
    "# test\n",
    "phone1 = mobilePhone(\"01632-960004\")\n",
    "phone2 = mobilePhone(\"01632-960012\")\n",
    "\n",
    "# turn on the phones\n",
    "print(phone1.turn_on())\n",
    "print(phone2.turn_on())\n",
    "\n",
    "# call 555-34343\n",
    "print(phone1.call(\"555-34343\"))\n",
    "\n",
    "# turn off the phones\n",
    "print(phone1.turn_off())\n",
    "print(phone2.turn_off())"
   ],
   "id": "361bf76e56cdc98f",
   "outputs": [
    {
     "name": "stdout",
     "output_type": "stream",
     "text": [
      "mobile phone 01632-960004 is turned on.\n",
      "mobile phone 01632-960012 is turned on.\n",
      "calling 555-34343\n",
      "mobile phone is turned off\n",
      "mobile phone is turned off\n"
     ]
    }
   ],
   "execution_count": 6
  }
 ],
 "metadata": {
  "kernelspec": {
   "display_name": "Python 3",
   "language": "python",
   "name": "python3"
  },
  "language_info": {
   "codemirror_mode": {
    "name": "ipython",
    "version": 2
   },
   "file_extension": ".py",
   "mimetype": "text/x-python",
   "name": "python",
   "nbconvert_exporter": "python",
   "pygments_lexer": "ipython2",
   "version": "2.7.6"
  }
 },
 "nbformat": 4,
 "nbformat_minor": 5
}
