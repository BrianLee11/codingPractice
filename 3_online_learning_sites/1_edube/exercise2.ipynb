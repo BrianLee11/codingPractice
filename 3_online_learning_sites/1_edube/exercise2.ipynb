{
 "cells": [
  {
   "metadata": {},
   "cell_type": "markdown",
   "source": [
    "# concept: OOP (object-oriented programming)\n",
    "learning site: edube.org\n",
    "\n",
    "# Exercise 2\n",
    "url: https://edube.org/learn/python-advanced-1/working-with-class-and-instance-data-the-lab-1\n",
    "\n",
    "## Objectives\n",
    "- creating classes, class and instance variables;\n",
    "- accessing class and instance variables;\n",
    "\n",
    "## Scenario\n",
    "- Imagine that you receive a task description of an application that monitors the process of apple packaging before the apples are sent to a shop.\n",
    "\n",
    "- A shop owner has asked for 1000 apples, but the total weight limitation cannot exceed 300 units.\n",
    "\n",
    "- Write a code that creates objects representing apples as long as both limitations are met. When any limitation is exceeded, than the packaging process is stopped, and your application should print the number of apple class objects created, and the total weight.\n",
    "\n",
    "Your application should keep track of two parameters:\n",
    "\n",
    "1. the number of apples processed, stored as a class variable;\n",
    "2. the total weight of the apples processed; stored as a class variable. Assume that each apple's weight is random, and can vary between 0.2 and 0.5 of an imaginary weight unit;\n",
    "\n",
    "**Hint: Use a random.uniform(lower, upper)** function to create a random number between the lower and upper float values."
   ],
   "id": "20192e4c5cb03df3"
  },
  {
   "metadata": {},
   "cell_type": "markdown",
   "source": [
    "**Summary of codes:**\n",
    "1. Creates apples with random weights between 0.2 and 0.5 kg.\n",
    "2. Adds each weight to Apple.total_weight\n",
    "3. If adding the latest apple causes total_weight > 300:\n",
    "- It subtracts the last apple's weight (i.e., \"undo\" the last addition).\n",
    "- Then breaks the loop.\n",
    "\n",
    "So this ensures the total weight stays under or equal to 300, stopping just before the limit is passed."
   ],
   "id": "a75a3757e2a56064"
  },
  {
   "metadata": {
    "collapsed": true
   },
   "cell_type": "code",
   "outputs": [],
   "execution_count": null,
   "source": [
    "\"\"\"\n",
    "url: https://edube.org/learn/python-advanced-1/working-with-class-and-instance-data-the-lab-1\n",
    "Summary of codes:\n",
    "\n",
    "1. Creates apples with random weights between 0.2 and 0.5 kg.\n",
    "2. Adds each weight to Apple.total_weight\n",
    "3. If adding the latest apple causes total_weight > 300:\n",
    "- It subtracts the last apple's weight (i.e., \"undo\" the last addition).\n",
    "- Then breaks the loop.\n",
    "\n",
    "So this ensures the total weight stays under or equal to 300, stopping just before the limit is passed.\n",
    "\"\"\""
   ],
   "id": "initial_id"
  },
  {
   "metadata": {
    "ExecuteTime": {
     "end_time": "2025-05-23T03:39:08.019383Z",
     "start_time": "2025-05-23T03:39:08.015734Z"
    }
   },
   "cell_type": "code",
   "source": [
    "import random\n",
    "\n",
    "class Apple:\n",
    "    total_weight = 0\n",
    "\n",
    "    def __init__(self):\n",
    "        lower = 0.2\n",
    "        upper = 0.5\n",
    "        self.weight = random.uniform(lower, upper)\n",
    "        Apple.total_weight += self.weight\n",
    "\n",
    "keep_going = True\n",
    "\n",
    "while keep_going:\n",
    "    apple1 = Apple()\n",
    "\n",
    "    if Apple.total_weight > 300 :\n",
    "        Apple.total_weight = Apple.total_weight - apple1.weight\n",
    "        keep_going = False\n",
    "\n",
    "print(f\"The total weight of apples: {Apple.total_weight}\")"
   ],
   "id": "cc0a9b739dae1f8a",
   "outputs": [
    {
     "name": "stdout",
     "output_type": "stream",
     "text": [
      "The total weight of apples: 299.5910660712585\n"
     ]
    }
   ],
   "execution_count": 46
  }
 ],
 "metadata": {
  "kernelspec": {
   "display_name": "Python 3",
   "language": "python",
   "name": "python3"
  },
  "language_info": {
   "codemirror_mode": {
    "name": "ipython",
    "version": 2
   },
   "file_extension": ".py",
   "mimetype": "text/x-python",
   "name": "python",
   "nbconvert_exporter": "python",
   "pygments_lexer": "ipython2",
   "version": "2.7.6"
  }
 },
 "nbformat": 4,
 "nbformat_minor": 5
}
